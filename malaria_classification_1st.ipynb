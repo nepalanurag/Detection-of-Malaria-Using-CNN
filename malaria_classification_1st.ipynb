{
  "nbformat": 4,
  "nbformat_minor": 0,
  "metadata": {
    "colab": {
      "name": "malaria_classification_1st.ipynb",
      "provenance": [],
      "collapsed_sections": []
    },
    "kernelspec": {
      "name": "python3",
      "display_name": "Python 3"
    },
    "language_info": {
      "name": "python"
    },
    "accelerator": "GPU",
    "gpuClass": "standard"
  },
  "cells": [
    {
      "cell_type": "code",
      "execution_count": null,
      "metadata": {
        "id": "w9jq4nVLRQI6"
      },
      "outputs": [],
      "source": [
        "dir = '/content/drive/MyDrive/cell_images'"
      ]
    },
    {
      "cell_type": "code",
      "execution_count": null,
      "metadata": {
        "id": "7f94a417"
      },
      "outputs": [],
      "source": [
        "import tensorflow as tf\n",
        "from tensorflow import keras"
      ]
    },
    {
      "cell_type": "code",
      "execution_count": null,
      "metadata": {
        "id": "ffebd308"
      },
      "outputs": [],
      "source": [
        "def model_build():\n",
        "    \n",
        "    model = tf.keras.Sequential([\n",
        "\n",
        "      tf.keras.layers.Conv2D(32, (3, 3), activation='relu',input_shape=(150, 150, 3)),\n",
        "      tf.keras.layers.BatchNormalization(),\n",
        "      tf.keras.layers.Conv2D(32, (3, 3), activation='relu'),\n",
        "      tf.keras.layers.BatchNormalization(),\n",
        "      tf.keras.layers.MaxPooling2D(2, 2),\n",
        "      tf.keras.layers.Dropout(0.2),\n",
        "    \n",
        "      tf.keras.layers.Conv2D(64, (3, 3), activation='relu'),\n",
        "      tf.keras.layers.BatchNormalization(),\n",
        "      tf.keras.layers.Conv2D(64, (3, 3), activation='relu'),\n",
        "      tf.keras.layers.BatchNormalization(),\n",
        "      tf.keras.layers.MaxPooling2D(2, 2),\n",
        "      tf.keras.layers.Dropout(0.2),\n",
        "    \n",
        "      tf.keras.layers.Flatten(),\n",
        "      tf.keras.layers.Dense(128, activation='relu'),\n",
        "      tf.keras.layers.BatchNormalization(),\n",
        "      tf.keras.layers.Dropout(0.4),\n",
        "      tf.keras.layers.Dense(1, activation='sigmoid')\n",
        "    ])\n",
        "\n",
        "    return model,model.summary()"
      ]
    },
    {
      "cell_type": "code",
      "execution_count": null,
      "metadata": {
        "colab": {
          "base_uri": "https://localhost:8080/"
        },
        "id": "a6f5e447",
        "outputId": "1effeade-9e5a-4733-8f85-40b88ae03945"
      },
      "outputs": [
        {
          "output_type": "stream",
          "name": "stdout",
          "text": [
            "Model: \"sequential\"\n",
            "_________________________________________________________________\n",
            " Layer (type)                Output Shape              Param #   \n",
            "=================================================================\n",
            " conv2d (Conv2D)             (None, 148, 148, 32)      896       \n",
            "                                                                 \n",
            " batch_normalization (BatchN  (None, 148, 148, 32)     128       \n",
            " ormalization)                                                   \n",
            "                                                                 \n",
            " conv2d_1 (Conv2D)           (None, 146, 146, 32)      9248      \n",
            "                                                                 \n",
            " batch_normalization_1 (Batc  (None, 146, 146, 32)     128       \n",
            " hNormalization)                                                 \n",
            "                                                                 \n",
            " max_pooling2d (MaxPooling2D  (None, 73, 73, 32)       0         \n",
            " )                                                               \n",
            "                                                                 \n",
            " dropout (Dropout)           (None, 73, 73, 32)        0         \n",
            "                                                                 \n",
            " conv2d_2 (Conv2D)           (None, 71, 71, 64)        18496     \n",
            "                                                                 \n",
            " batch_normalization_2 (Batc  (None, 71, 71, 64)       256       \n",
            " hNormalization)                                                 \n",
            "                                                                 \n",
            " conv2d_3 (Conv2D)           (None, 69, 69, 64)        36928     \n",
            "                                                                 \n",
            " batch_normalization_3 (Batc  (None, 69, 69, 64)       256       \n",
            " hNormalization)                                                 \n",
            "                                                                 \n",
            " max_pooling2d_1 (MaxPooling  (None, 34, 34, 64)       0         \n",
            " 2D)                                                             \n",
            "                                                                 \n",
            " dropout_1 (Dropout)         (None, 34, 34, 64)        0         \n",
            "                                                                 \n",
            " flatten (Flatten)           (None, 73984)             0         \n",
            "                                                                 \n",
            " dense (Dense)               (None, 128)               9470080   \n",
            "                                                                 \n",
            " batch_normalization_4 (Batc  (None, 128)              512       \n",
            " hNormalization)                                                 \n",
            "                                                                 \n",
            " dropout_2 (Dropout)         (None, 128)               0         \n",
            "                                                                 \n",
            " dense_1 (Dense)             (None, 1)                 129       \n",
            "                                                                 \n",
            "=================================================================\n",
            "Total params: 9,537,057\n",
            "Trainable params: 9,536,417\n",
            "Non-trainable params: 640\n",
            "_________________________________________________________________\n"
          ]
        }
      ],
      "source": [
        "model,summary=model_build()"
      ]
    },
    {
      "cell_type": "code",
      "execution_count": null,
      "metadata": {
        "id": "66566acc"
      },
      "outputs": [],
      "source": [
        "model.compile(loss='binary_crossentropy', optimizer='Adam', metrics=['accuracy'])"
      ]
    },
    {
      "cell_type": "code",
      "source": [
        "ACCURACY_THRESHOLD = 0.97\n",
        "class myCallback(tf.keras.callbacks.Callback): \n",
        "    def on_epoch_end(self, epoch, logs={}): \n",
        "        if(logs.get('accuracy') > ACCURACY_THRESHOLD):   \n",
        "          print(\"stopping training\")   \n",
        "          self.model.stop_training = True"
      ],
      "metadata": {
        "id": "p5HOKAOern-q"
      },
      "execution_count": null,
      "outputs": []
    },
    {
      "cell_type": "code",
      "source": [
        "from keras.preprocessing.image import ImageDataGenerator\n",
        "\n",
        "train_datagen = ImageDataGenerator(\n",
        "        rescale=1./255,\n",
        "        shear_range=0.2,\n",
        "        zoom_range=0.2,\n",
        "        horizontal_flip=True,\n",
        "        validation_split=0.2)"
      ],
      "metadata": {
        "id": "NwqY4oHprvI5"
      },
      "execution_count": null,
      "outputs": []
    },
    {
      "cell_type": "code",
      "execution_count": null,
      "metadata": {
        "colab": {
          "base_uri": "https://localhost:8080/"
        },
        "id": "f4892b9d",
        "outputId": "1273c7ec-5275-4d99-d756-2f3956eceffa"
      },
      "outputs": [
        {
          "output_type": "stream",
          "name": "stdout",
          "text": [
            "Found 22056 images belonging to 2 classes.\n",
            "Found 5512 images belonging to 2 classes.\n"
          ]
        }
      ],
      "source": [
        "val_datagen = ImageDataGenerator(rescale=1./255, validation_split=0.2)\n",
        "\n",
        "\n",
        "train_data = train_datagen.flow_from_directory(dir, \n",
        "                                               target_size=(150, 150), \n",
        "                                               color_mode='rgb',\n",
        "                                               batch_size=128, \n",
        "                                               class_mode='binary',\n",
        "                                               shuffle=True,\n",
        "                                               subset = 'training') \n",
        "\n",
        "val_data = val_datagen.flow_from_directory(dir, \n",
        "                                           target_size=(150, 150), \n",
        "                                           color_mode='rgb',\n",
        "                                           batch_size=128, \n",
        "                                           class_mode='binary',\n",
        "                                           shuffle=False,\n",
        "                                           subset = 'validation')"
      ]
    },
    {
      "cell_type": "code",
      "source": [
        "import datetime\n",
        "logdir = \"logs/fit/\" + datetime.datetime.now().strftime(\"%Y%m%d-%H%M%S\")\n",
        "tensorboard_callback = keras.callbacks.TensorBoard(log_dir=logdir,\n",
        "                                                  histogram_freq=0,\n",
        "                                                  write_graph=True,\n",
        "                                                  write_images=True,\n",
        "                                                  write_steps_per_second=True,\n",
        "                                                  update_freq='epoch',\n",
        "                                                  profile_batch=0,\n",
        "                                                  embeddings_freq=0,\n",
        "                                                  embeddings_metadata=None)"
      ],
      "metadata": {
        "id": "lkaZIKbLOLZY"
      },
      "execution_count": null,
      "outputs": []
    },
    {
      "cell_type": "code",
      "source": [
        "callbacks = myCallback()\n",
        "history=model.fit(\n",
        "    train_data,\n",
        "    callbacks=[callbacks,tensorboard_callback],\n",
        "    epochs=15,\n",
        "    validation_data=val_data,\n",
        "    verbose=1,\n",
        "    batch_size=32\n",
        "    )"
      ],
      "metadata": {
        "id": "M7SPoDaoSw1f",
        "colab": {
          "base_uri": "https://localhost:8080/"
        },
        "outputId": "ea41809b-f6d4-4b56-fefc-a7641dbefb1d"
      },
      "execution_count": null,
      "outputs": [
        {
          "output_type": "stream",
          "name": "stdout",
          "text": [
            "Epoch 1/15\n",
            "173/173 [==============================] - 219s 1s/step - loss: 0.4743 - accuracy: 0.7971 - val_loss: 3.7040 - val_accuracy: 0.5002\n",
            "Epoch 2/15\n",
            "173/173 [==============================] - 202s 1s/step - loss: 0.2371 - accuracy: 0.9166 - val_loss: 1.0173 - val_accuracy: 0.5512\n",
            "Epoch 3/15\n",
            "173/173 [==============================] - 189s 1s/step - loss: 0.2032 - accuracy: 0.9304 - val_loss: 0.6407 - val_accuracy: 0.8177\n",
            "Epoch 4/15\n",
            "173/173 [==============================] - 186s 1s/step - loss: 0.1743 - accuracy: 0.9435 - val_loss: 0.6522 - val_accuracy: 0.8487\n",
            "Epoch 5/15\n",
            "173/173 [==============================] - 187s 1s/step - loss: 0.1634 - accuracy: 0.9456 - val_loss: 0.4823 - val_accuracy: 0.8844\n",
            "Epoch 6/15\n",
            "173/173 [==============================] - 187s 1s/step - loss: 0.1564 - accuracy: 0.9496 - val_loss: 0.2622 - val_accuracy: 0.9263\n",
            "Epoch 7/15\n",
            "173/173 [==============================] - 194s 1s/step - loss: 0.1463 - accuracy: 0.9529 - val_loss: 0.2600 - val_accuracy: 0.9178\n",
            "Epoch 8/15\n",
            "173/173 [==============================] - 187s 1s/step - loss: 0.1384 - accuracy: 0.9552 - val_loss: 0.2247 - val_accuracy: 0.9370\n",
            "Epoch 9/15\n",
            "173/173 [==============================] - 186s 1s/step - loss: 0.1317 - accuracy: 0.9582 - val_loss: 0.2563 - val_accuracy: 0.9314\n",
            "Epoch 10/15\n",
            "173/173 [==============================] - 188s 1s/step - loss: 0.1335 - accuracy: 0.9568 - val_loss: 0.2896 - val_accuracy: 0.9191\n",
            "Epoch 11/15\n",
            "173/173 [==============================] - 186s 1s/step - loss: 0.1311 - accuracy: 0.9570 - val_loss: 0.7461 - val_accuracy: 0.5169\n",
            "Epoch 12/15\n",
            "173/173 [==============================] - 188s 1s/step - loss: 0.1291 - accuracy: 0.9571 - val_loss: 0.1927 - val_accuracy: 0.9381\n",
            "Epoch 13/15\n",
            "173/173 [==============================] - 187s 1s/step - loss: 0.1252 - accuracy: 0.9587 - val_loss: 0.1992 - val_accuracy: 0.9390\n",
            "Epoch 14/15\n",
            "173/173 [==============================] - 196s 1s/step - loss: 0.1237 - accuracy: 0.9611 - val_loss: 0.1715 - val_accuracy: 0.9425\n",
            "Epoch 15/15\n",
            "173/173 [==============================] - 187s 1s/step - loss: 0.1218 - accuracy: 0.9596 - val_loss: 0.1617 - val_accuracy: 0.9456\n"
          ]
        }
      ]
    },
    {
      "cell_type": "code",
      "source": [
        "import matplotlib.pyplot as plt"
      ],
      "metadata": {
        "id": "_TuTHNZzh1w4"
      },
      "execution_count": null,
      "outputs": []
    },
    {
      "cell_type": "code",
      "source": [
        "model.save('/content/drive/MyDrive/malaria_model_cnn.h5')"
      ],
      "metadata": {
        "id": "HufssDYlHTNN"
      },
      "execution_count": null,
      "outputs": []
    },
    {
      "cell_type": "code",
      "source": [
        "%load_ext tensorboard\n",
        "%tensorboard --logdir logs/fit"
      ],
      "metadata": {
        "colab": {
          "base_uri": "https://localhost:8080/",
          "height": 839
        },
        "id": "4F3aXFJNHsoT",
        "outputId": "bcc1493b-aeb6-400c-f473-ac83b0336371"
      },
      "execution_count": null,
      "outputs": []
    },
    {
      "cell_type": "code",
      "source": [
        "acc = history.history['accuracy']\n",
        "val_acc = history.history['val_accuracy']\n",
        "\n",
        "loss = history.history['loss']\n",
        "val_loss = history.history['val_loss']\n",
        "\n",
        "epochs_range = range(15)\n",
        "\n",
        "plt.figure(figsize=(30, 10))\n",
        "plt.subplot(1, 2, 1)\n",
        "plt.plot(epochs_range, acc, label='Training Accuracy')\n",
        "plt.plot(epochs_range, val_acc, label='Validation Accuracy')\n",
        "plt.legend(loc='lower right')\n",
        "plt.title('Training and Validation Accuracy')\n",
        "\n",
        "plt.subplot(1, 2, 2)\n",
        "plt.plot(epochs_range, loss, label='Training Loss')\n",
        "plt.plot(epochs_range, val_loss, label='Validation Loss')\n",
        "plt.legend(loc='upper right')\n",
        "plt.title('Training and Validation Loss')\n",
        "plt.show()"
      ],
      "metadata": {
        "colab": {
          "base_uri": "https://localhost:8080/",
          "height": 391
        },
        "id": "Z8v4typ3vlts",
        "outputId": "0284573d-ffcf-4f8c-ffc9-6c82fcc7a997"
      },
      "execution_count": null,
      "outputs": [
        {
          "output_type": "display_data",
          "data": {
            "text/plain": [
              "<Figure size 2160x720 with 2 Axes>"
            ],
            "image/png": "[encoded data removed]"
          },
          "metadata": {
            "needs_background": "light"
          }
        }
      ]
    },
    {
      "cell_type": "code",
      "source": [
        "from sklearn.metrics import confusion_matrix , classification_report , accuracy_score\n",
        "import numpy as np\n",
        "y_pred = np.argmax(y_pred, axis = -1)\n",
        "orig = np.argmax(val_data, axis=-1)\n",
        "\n",
        "conf = confusion_matrix(orig, y_pred)\n",
        "\n",
        "fig, ax = plt.subplots(figsize = (7,7))\n",
        "ax.matshow(conf, cmap='Pastel1')\n",
        "\n",
        "ax.set_ylabel('True Values')\n",
        "ax.set_xlabel('Predicted Values', labelpad = 10)\n",
        "ax.xaxis.set_label_position('top')\n",
        "plt.show()"
      ],
      "metadata": {
        "id": "lHvmB06rwL4m"
      },
      "execution_count": null,
      "outputs": []
    }
  ]
}