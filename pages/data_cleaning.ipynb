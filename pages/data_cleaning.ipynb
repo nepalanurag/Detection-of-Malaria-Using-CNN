{
 "cells": [
  {
   "cell_type": "code",
   "execution_count": 23,
   "metadata": {},
   "outputs": [],
   "source": [
    "import pandas as pd"
   ]
  },
  {
   "cell_type": "code",
   "execution_count": 24,
   "metadata": {},
   "outputs": [],
   "source": [
    "df = pd.read_csv('reported_numbers.csv')"
   ]
  },
  {
   "cell_type": "code",
   "execution_count": 26,
   "metadata": {},
   "outputs": [
    {
     "data": {
      "text/plain": [
       "Country                 Zimbabwe\n",
       "Year                        2017\n",
       "No. of cases          15330841.0\n",
       "No. of deaths            51842.0\n",
       "WHO Region       Western Pacific\n",
       "dtype: object"
      ]
     },
     "execution_count": 26,
     "metadata": {},
     "output_type": "execute_result"
    }
   ],
   "source": [
    "df.max()"
   ]
  },
  {
   "cell_type": "code",
   "execution_count": 15,
   "metadata": {},
   "outputs": [
    {
     "data": {
      "text/plain": [
       "numpy.ndarray"
      ]
     },
     "execution_count": 15,
     "metadata": {},
     "output_type": "execute_result"
    }
   ],
   "source": [
    "type(df.Country.unique())"
   ]
  },
  {
   "cell_type": "code",
   "execution_count": 4,
   "metadata": {},
   "outputs": [],
   "source": [
    "d = df['No. of deaths'].median()\n",
    "c = df['No. of cases'].median()"
   ]
  },
  {
   "cell_type": "code",
   "execution_count": 5,
   "metadata": {},
   "outputs": [
    {
     "data": {
      "text/plain": [
       "30.0"
      ]
     },
     "execution_count": 5,
     "metadata": {},
     "output_type": "execute_result"
    }
   ],
   "source": [
    "d"
   ]
  },
  {
   "cell_type": "code",
   "execution_count": 6,
   "metadata": {},
   "outputs": [],
   "source": [
    "df['No. of deaths'].fillna(value=d, inplace=True)\n",
    "df['No. of cases'].fillna(value=c, inplace=True)"
   ]
  },
  {
   "cell_type": "code",
   "execution_count": 7,
   "metadata": {},
   "outputs": [
    {
     "data": {
      "text/plain": [
       "Country          0\n",
       "Year             0\n",
       "No. of cases     0\n",
       "No. of deaths    0\n",
       "WHO Region       0\n",
       "dtype: int64"
      ]
     },
     "execution_count": 7,
     "metadata": {},
     "output_type": "execute_result"
    }
   ],
   "source": [
    "df.isnull().sum()"
   ]
  },
  {
   "cell_type": "code",
   "execution_count": 8,
   "metadata": {},
   "outputs": [
    {
     "data": {
      "text/plain": [
       "array(['Eastern Mediterranean', 'Africa', 'Americas', 'Europe',\n",
       "       'South-East Asia', 'Western Pacific'], dtype=object)"
      ]
     },
     "execution_count": 8,
     "metadata": {},
     "output_type": "execute_result"
    }
   ],
   "source": [
    "df['WHO Region'].unique()"
   ]
  },
  {
   "cell_type": "code",
   "execution_count": 10,
   "metadata": {},
   "outputs": [],
   "source": [
    "df.to_csv('data.csv')"
   ]
  },
  {
   "cell_type": "code",
   "execution_count": 12,
   "metadata": {},
   "outputs": [
    {
     "data": {
      "text/html": [
       "<div>\n",
       "<style scoped>\n",
       "    .dataframe tbody tr th:only-of-type {\n",
       "        vertical-align: middle;\n",
       "    }\n",
       "\n",
       "    .dataframe tbody tr th {\n",
       "        vertical-align: top;\n",
       "    }\n",
       "\n",
       "    .dataframe thead th {\n",
       "        text-align: right;\n",
       "    }\n",
       "</style>\n",
       "<table border=\"1\" class=\"dataframe\">\n",
       "  <thead>\n",
       "    <tr style=\"text-align: right;\">\n",
       "      <th></th>\n",
       "      <th>index</th>\n",
       "      <th>Country</th>\n",
       "      <th>Year</th>\n",
       "      <th>No. of cases</th>\n",
       "      <th>No. of deaths</th>\n",
       "      <th>WHO Region</th>\n",
       "    </tr>\n",
       "  </thead>\n",
       "  <tbody>\n",
       "    <tr>\n",
       "      <th>0</th>\n",
       "      <td>0</td>\n",
       "      <td>Afghanistan</td>\n",
       "      <td>2017</td>\n",
       "      <td>161778.0</td>\n",
       "      <td>10.0</td>\n",
       "      <td>Eastern Mediterranean</td>\n",
       "    </tr>\n",
       "    <tr>\n",
       "      <th>1</th>\n",
       "      <td>1</td>\n",
       "      <td>Algeria</td>\n",
       "      <td>2017</td>\n",
       "      <td>0.0</td>\n",
       "      <td>0.0</td>\n",
       "      <td>Africa</td>\n",
       "    </tr>\n",
       "    <tr>\n",
       "      <th>2</th>\n",
       "      <td>2</td>\n",
       "      <td>Angola</td>\n",
       "      <td>2017</td>\n",
       "      <td>3874892.0</td>\n",
       "      <td>13967.0</td>\n",
       "      <td>Africa</td>\n",
       "    </tr>\n",
       "    <tr>\n",
       "      <th>3</th>\n",
       "      <td>3</td>\n",
       "      <td>Argentina</td>\n",
       "      <td>2017</td>\n",
       "      <td>0.0</td>\n",
       "      <td>1.0</td>\n",
       "      <td>Americas</td>\n",
       "    </tr>\n",
       "    <tr>\n",
       "      <th>4</th>\n",
       "      <td>4</td>\n",
       "      <td>Armenia</td>\n",
       "      <td>2017</td>\n",
       "      <td>0.0</td>\n",
       "      <td>30.0</td>\n",
       "      <td>Europe</td>\n",
       "    </tr>\n",
       "    <tr>\n",
       "      <th>...</th>\n",
       "      <td>...</td>\n",
       "      <td>...</td>\n",
       "      <td>...</td>\n",
       "      <td>...</td>\n",
       "      <td>...</td>\n",
       "      <td>...</td>\n",
       "    </tr>\n",
       "    <tr>\n",
       "      <th>1939</th>\n",
       "      <td>1939</td>\n",
       "      <td>Venezuela (Bolivarian Republic of)</td>\n",
       "      <td>2000</td>\n",
       "      <td>29736.0</td>\n",
       "      <td>24.0</td>\n",
       "      <td>Americas</td>\n",
       "    </tr>\n",
       "    <tr>\n",
       "      <th>1940</th>\n",
       "      <td>1940</td>\n",
       "      <td>Viet Nam</td>\n",
       "      <td>2000</td>\n",
       "      <td>74316.0</td>\n",
       "      <td>142.0</td>\n",
       "      <td>Western Pacific</td>\n",
       "    </tr>\n",
       "    <tr>\n",
       "      <th>1941</th>\n",
       "      <td>1941</td>\n",
       "      <td>Yemen</td>\n",
       "      <td>2000</td>\n",
       "      <td>1394495.0</td>\n",
       "      <td>30.0</td>\n",
       "      <td>Eastern Mediterranean</td>\n",
       "    </tr>\n",
       "    <tr>\n",
       "      <th>1942</th>\n",
       "      <td>1942</td>\n",
       "      <td>Zambia</td>\n",
       "      <td>2000</td>\n",
       "      <td>14792.0</td>\n",
       "      <td>30.0</td>\n",
       "      <td>Africa</td>\n",
       "    </tr>\n",
       "    <tr>\n",
       "      <th>1943</th>\n",
       "      <td>1943</td>\n",
       "      <td>Zimbabwe</td>\n",
       "      <td>2000</td>\n",
       "      <td>14792.0</td>\n",
       "      <td>30.0</td>\n",
       "      <td>Africa</td>\n",
       "    </tr>\n",
       "  </tbody>\n",
       "</table>\n",
       "<p>1944 rows × 6 columns</p>\n",
       "</div>"
      ],
      "text/plain": [
       "      index                             Country  Year  No. of cases  \\\n",
       "0         0                         Afghanistan  2017      161778.0   \n",
       "1         1                             Algeria  2017           0.0   \n",
       "2         2                              Angola  2017     3874892.0   \n",
       "3         3                           Argentina  2017           0.0   \n",
       "4         4                             Armenia  2017           0.0   \n",
       "...     ...                                 ...   ...           ...   \n",
       "1939   1939  Venezuela (Bolivarian Republic of)  2000       29736.0   \n",
       "1940   1940                            Viet Nam  2000       74316.0   \n",
       "1941   1941                               Yemen  2000     1394495.0   \n",
       "1942   1942                              Zambia  2000       14792.0   \n",
       "1943   1943                            Zimbabwe  2000       14792.0   \n",
       "\n",
       "      No. of deaths             WHO Region  \n",
       "0              10.0  Eastern Mediterranean  \n",
       "1               0.0                 Africa  \n",
       "2           13967.0                 Africa  \n",
       "3               1.0               Americas  \n",
       "4              30.0                 Europe  \n",
       "...             ...                    ...  \n",
       "1939           24.0               Americas  \n",
       "1940          142.0        Western Pacific  \n",
       "1941           30.0  Eastern Mediterranean  \n",
       "1942           30.0                 Africa  \n",
       "1943           30.0                 Africa  \n",
       "\n",
       "[1944 rows x 6 columns]"
      ]
     },
     "execution_count": 12,
     "metadata": {},
     "output_type": "execute_result"
    }
   ],
   "source": [
    "df.reset_index()"
   ]
  },
  {
   "cell_type": "code",
   "execution_count": 88,
   "metadata": {},
   "outputs": [
    {
     "data": {
      "application/vnd.plotly.v1+json": {
       "config": {
        "plotlyServerURL": "https://plot.ly"
       },
       "data": [
        {
         "hovertemplate": "<b>%{hovertext}</b><br><br>WHO Region=Eastern Mediterranean<br>Year=2017<br>No. of cases=%{marker.size}<br>No. of deaths=%{y}<extra></extra>",
         "hovertext": [
          "Afghanistan",
          "Djibouti",
          "Egypt",
          "Iran (Islamic Republic of)",
          "Iraq",
          "Morocco",
          "Oman",
          "Pakistan",
          "Saudi Arabia",
          "Somalia",
          "Sudan",
          "Syrian Arab Republic",
          "United Arab Emirates",
          "Yemen"
         ],
         "ids": [
          "Afghanistan",
          "Djibouti",
          "Egypt",
          "Iran (Islamic Republic of)",
          "Iraq",
          "Morocco",
          "Oman",
          "Pakistan",
          "Saudi Arabia",
          "Somalia",
          "Sudan",
          "Syrian Arab Republic",
          "United Arab Emirates",
          "Yemen"
         ],
         "legendgroup": "Eastern Mediterranean",
         "marker": {
          "color": "#636efa",
          "size": [
           161778,
           14671,
           0,
           57,
           0,
           0,
           0,
           350467,
           177,
           35138,
           720879,
           0,
           0,
           114004
          ],
          "sizemode": "area",
          "sizeref": 5068.046611570248,
          "symbol": "circle"
         },
         "mode": "markers",
         "name": "Eastern Mediterranean",
         "orientation": "v",
         "showlegend": true,
         "type": "scatter",
         "x": [
          161778,
          14671,
          0,
          57,
          0,
          0,
          0,
          350467,
          177,
          35138,
          720879,
          0,
          0,
          114004
         ],
         "xaxis": "x",
         "y": [
          10,
          30,
          30,
          1,
          30,
          30,
          30,
          113,
          0,
          20,
          1446,
          30,
          30,
          37
         ],
         "yaxis": "y"
        },
        {
         "hovertemplate": "<b>%{hovertext}</b><br><br>WHO Region=Africa<br>Year=2017<br>No. of cases=%{marker.size}<br>No. of deaths=%{y}<extra></extra>",
         "hovertext": [
          "Algeria",
          "Angola",
          "Benin",
          "Botswana",
          "Burkina Faso",
          "Burundi",
          "Cabo Verde",
          "Cameroon",
          "Central African Republic",
          "Chad",
          "Comoros",
          "Côte d'Ivoire",
          "Democratic Republic of the Congo",
          "Equatorial Guinea",
          "Eritrea",
          "Eswatini",
          "Ethiopia",
          "Gabon",
          "Gambia",
          "Ghana",
          "Guinea",
          "Guinea-Bissau",
          "Kenya",
          "Liberia",
          "Madagascar",
          "Malawi",
          "Mali",
          "Mauritania",
          "Mauritius",
          "Mozambique",
          "Namibia",
          "Niger",
          "Nigeria",
          "Rwanda",
          "Sao Tome and Principe",
          "Senegal",
          "Sierra Leone",
          "South Africa",
          "South Sudan",
          "Togo",
          "Uganda",
          "United Republic of Tanzania",
          "Zambia",
          "Zimbabwe"
         ],
         "ids": [
          "Algeria",
          "Angola",
          "Benin",
          "Botswana",
          "Burkina Faso",
          "Burundi",
          "Cabo Verde",
          "Cameroon",
          "Central African Republic",
          "Chad",
          "Comoros",
          "Côte d'Ivoire",
          "Democratic Republic of the Congo",
          "Equatorial Guinea",
          "Eritrea",
          "Eswatini",
          "Ethiopia",
          "Gabon",
          "Gambia",
          "Ghana",
          "Guinea",
          "Guinea-Bissau",
          "Kenya",
          "Liberia",
          "Madagascar",
          "Malawi",
          "Mali",
          "Mauritania",
          "Mauritius",
          "Mozambique",
          "Namibia",
          "Niger",
          "Nigeria",
          "Rwanda",
          "Sao Tome and Principe",
          "Senegal",
          "Sierra Leone",
          "South Africa",
          "South Sudan",
          "Togo",
          "Uganda",
          "United Republic of Tanzania",
          "Zambia",
          "Zimbabwe"
         ],
         "legendgroup": "Africa",
         "marker": {
          "color": "#EF553B",
          "size": [
           0,
           3874892,
           1573163,
           1900,
           10225459,
           7670177,
           423,
           1191257,
           383309,
           1962372,
           2274,
           3274683,
           15176927,
           15725,
           31486,
           724,
           1530739,
           35244,
           69931,
           4348694,
           1335323,
           89784,
           3215116,
           14792,
           800661,
           4901344,
           1918376,
           20105,
           0,
           8921081,
           54268,
           2638580,
           11571958,
           1876123,
           2239,
           395706,
           1651236,
           22061,
           1488005,
           1209034,
           11667831,
           5354486,
           5505639,
           315624
          ],
          "sizemode": "area",
          "sizeref": 5068.046611570248,
          "symbol": "circle"
         },
         "mode": "markers",
         "name": "Africa",
         "orientation": "v",
         "showlegend": true,
         "type": "scatter",
         "x": [
          0,
          3874892,
          1573163,
          1900,
          10225459,
          7670177,
          423,
          1191257,
          383309,
          1962372,
          2274,
          3274683,
          15176927,
          15725,
          31486,
          724,
          1530739,
          35244,
          69931,
          4348694,
          1335323,
          89784,
          3215116,
          14792,
          800661,
          4901344,
          1918376,
          20105,
          0,
          8921081,
          54268,
          2638580,
          11571958,
          1876123,
          2239,
          395706,
          1651236,
          22061,
          1488005,
          1209034,
          11667831,
          5354486,
          5505639,
          315624
         ],
         "xaxis": "x",
         "y": [
          0,
          13967,
          2182,
          17,
          4144,
          4414,
          2,
          3195,
          3689,
          2088,
          3,
          3222,
          27458,
          30,
          8,
          20,
          356,
          218,
          54,
          599,
          1174,
          296,
          30,
          758,
          370,
          3613,
          1050,
          67,
          30,
          1114,
          104,
          2316,
          30,
          376,
          1,
          284,
          1298,
          301,
          3483,
          995,
          5111,
          3685,
          1425,
          527
         ],
         "yaxis": "y"
        },
        {
         "hovertemplate": "<b>%{hovertext}</b><br><br>WHO Region=Americas<br>Year=2017<br>No. of cases=%{marker.size}<br>No. of deaths=%{y}<extra></extra>",
         "hovertext": [
          "Argentina",
          "Belize",
          "Bolivia (Plurinational State of)",
          "Brazil",
          "Colombia",
          "Congo",
          "Costa Rica",
          "Dominican Republic",
          "Ecuador",
          "El Salvador",
          "Guatemala",
          "Guyana",
          "Haiti",
          "Honduras",
          "Mexico",
          "Nicaragua",
          "Panama",
          "Paraguay",
          "Peru",
          "Suriname",
          "Venezuela (Bolivarian Republic of)"
         ],
         "ids": [
          "Argentina",
          "Belize",
          "Bolivia (Plurinational State of)",
          "Brazil",
          "Colombia",
          "Congo",
          "Costa Rica",
          "Dominican Republic",
          "Ecuador",
          "El Salvador",
          "Guatemala",
          "Guyana",
          "Haiti",
          "Honduras",
          "Mexico",
          "Nicaragua",
          "Panama",
          "Paraguay",
          "Peru",
          "Suriname",
          "Venezuela (Bolivarian Republic of)"
         ],
         "legendgroup": "Americas",
         "marker": {
          "color": "#00cc96",
          "size": [
           0,
           7,
           4572,
           189503,
           52805,
           127939,
           12,
           341,
           1275,
           0,
           3743,
           13936,
           19135,
           1277,
           736,
           10949,
           649,
           0,
           55367,
           40,
           411586
          ],
          "sizemode": "area",
          "sizeref": 5068.046611570248,
          "symbol": "circle"
         },
         "mode": "markers",
         "name": "Americas",
         "orientation": "v",
         "showlegend": true,
         "type": "scatter",
         "x": [
          0,
          7,
          4572,
          189503,
          52805,
          127939,
          12,
          341,
          1275,
          0,
          3743,
          13936,
          19135,
          1277,
          736,
          10949,
          649,
          0,
          55367,
          40,
          411586
         ],
         "xaxis": "x",
         "y": [
          1,
          0,
          0,
          30,
          19,
          229,
          0,
          1,
          1,
          0,
          0,
          11,
          12,
          1,
          0,
          30,
          0,
          0,
          10,
          1,
          30
         ],
         "yaxis": "y"
        },
        {
         "hovertemplate": "<b>%{hovertext}</b><br><br>WHO Region=Europe<br>Year=2017<br>No. of cases=%{marker.size}<br>No. of deaths=%{y}<extra></extra>",
         "hovertext": [
          "Armenia",
          "Azerbaijan",
          "Georgia",
          "Kazakhstan",
          "Kyrgyzstan",
          "Tajikistan",
          "Turkey",
          "Turkmenistan",
          "Uzbekistan"
         ],
         "ids": [
          "Armenia",
          "Azerbaijan",
          "Georgia",
          "Kazakhstan",
          "Kyrgyzstan",
          "Tajikistan",
          "Turkey",
          "Turkmenistan",
          "Uzbekistan"
         ],
         "legendgroup": "Europe",
         "marker": {
          "color": "#ab63fa",
          "size": [
           0,
           0,
           0,
           0,
           0,
           0,
           0,
           0,
           0
          ],
          "sizemode": "area",
          "sizeref": 5068.046611570248,
          "symbol": "circle"
         },
         "mode": "markers",
         "name": "Europe",
         "orientation": "v",
         "showlegend": true,
         "type": "scatter",
         "x": [
          0,
          0,
          0,
          0,
          0,
          0,
          0,
          0,
          0
         ],
         "xaxis": "x",
         "y": [
          30,
          30,
          30,
          30,
          30,
          30,
          30,
          30,
          30
         ],
         "yaxis": "y"
        },
        {
         "hovertemplate": "<b>%{hovertext}</b><br><br>WHO Region=South-East Asia<br>Year=2017<br>No. of cases=%{marker.size}<br>No. of deaths=%{y}<extra></extra>",
         "hovertext": [
          "Bangladesh",
          "Bhutan",
          "India",
          "Indonesia",
          "Myanmar",
          "Nepal",
          "Sri Lanka",
          "Thailand",
          "Timor-Leste"
         ],
         "ids": [
          "Bangladesh",
          "Bhutan",
          "India",
          "Indonesia",
          "Myanmar",
          "Nepal",
          "Sri Lanka",
          "Thailand",
          "Timor-Leste"
         ],
         "legendgroup": "South-East Asia",
         "marker": {
          "color": "#FFA15A",
          "size": [
           4893,
           24,
           844558,
           261617,
           19619,
           623,
           0,
           11440,
           16
          ],
          "sizemode": "area",
          "sizeref": 5068.046611570248,
          "symbol": "circle"
         },
         "mode": "markers",
         "name": "South-East Asia",
         "orientation": "v",
         "showlegend": true,
         "type": "scatter",
         "x": [
          4893,
          24,
          844558,
          261617,
          19619,
          623,
          0,
          11440,
          16
         ],
         "xaxis": "x",
         "y": [
          13,
          1,
          194,
          47,
          30,
          3,
          0,
          11,
          0
         ],
         "yaxis": "y"
        },
        {
         "hovertemplate": "<b>%{hovertext}</b><br><br>WHO Region=Western Pacific<br>Year=2017<br>No. of cases=%{marker.size}<br>No. of deaths=%{y}<extra></extra>",
         "hovertext": [
          "Cambodia",
          "China",
          "Democratic People's Republic of Korea",
          "Lao People's Democratic Republic",
          "Malaysia",
          "Papua New Guinea",
          "Philippines",
          "Republic of Korea",
          "Solomon Islands",
          "Vanuatu",
          "Viet Nam"
         ],
         "ids": [
          "Cambodia",
          "China",
          "Democratic People's Republic of Korea",
          "Lao People's Democratic Republic",
          "Malaysia",
          "Papua New Guinea",
          "Philippines",
          "Republic of Korea",
          "Solomon Islands",
          "Vanuatu",
          "Viet Nam"
         ],
         "legendgroup": "Western Pacific",
         "marker": {
          "color": "#19d3f3",
          "size": [
           36932,
           0,
           4575,
           9333,
           85,
           478340,
           3950,
           436,
           52463,
           1071,
           4548
          ],
          "sizemode": "area",
          "sizeref": 5068.046611570248,
          "symbol": "circle"
         },
         "mode": "markers",
         "name": "Western Pacific",
         "orientation": "v",
         "showlegend": true,
         "type": "scatter",
         "x": [
          36932,
          0,
          4575,
          9333,
          85,
          478340,
          3950,
          436,
          52463,
          1071,
          4548
         ],
         "xaxis": "x",
         "y": [
          1,
          7,
          0,
          2,
          12,
          273,
          4,
          3,
          27,
          0,
          6
         ],
         "yaxis": "y"
        }
       ],
       "frames": [
        {
         "data": [
          {
           "hovertemplate": "<b>%{hovertext}</b><br><br>WHO Region=Eastern Mediterranean<br>Year=2017<br>No. of cases=%{marker.size}<br>No. of deaths=%{y}<extra></extra>",
           "hovertext": [
            "Afghanistan",
            "Djibouti",
            "Egypt",
            "Iran (Islamic Republic of)",
            "Iraq",
            "Morocco",
            "Oman",
            "Pakistan",
            "Saudi Arabia",
            "Somalia",
            "Sudan",
            "Syrian Arab Republic",
            "United Arab Emirates",
            "Yemen"
           ],
           "ids": [
            "Afghanistan",
            "Djibouti",
            "Egypt",
            "Iran (Islamic Republic of)",
            "Iraq",
            "Morocco",
            "Oman",
            "Pakistan",
            "Saudi Arabia",
            "Somalia",
            "Sudan",
            "Syrian Arab Republic",
            "United Arab Emirates",
            "Yemen"
           ],
           "legendgroup": "Eastern Mediterranean",
           "marker": {
            "color": "#636efa",
            "size": [
             161778,
             14671,
             0,
             57,
             0,
             0,
             0,
             350467,
             177,
             35138,
             720879,
             0,
             0,
             114004
            ],
            "sizemode": "area",
            "sizeref": 5068.046611570248,
            "symbol": "circle"
           },
           "mode": "markers",
           "name": "Eastern Mediterranean",
           "orientation": "v",
           "showlegend": true,
           "type": "scatter",
           "x": [
            161778,
            14671,
            0,
            57,
            0,
            0,
            0,
            350467,
            177,
            35138,
            720879,
            0,
            0,
            114004
           ],
           "xaxis": "x",
           "y": [
            10,
            30,
            30,
            1,
            30,
            30,
            30,
            113,
            0,
            20,
            1446,
            30,
            30,
            37
           ],
           "yaxis": "y"
          },
          {
           "hovertemplate": "<b>%{hovertext}</b><br><br>WHO Region=Africa<br>Year=2017<br>No. of cases=%{marker.size}<br>No. of deaths=%{y}<extra></extra>",
           "hovertext": [
            "Algeria",
            "Angola",
            "Benin",
            "Botswana",
            "Burkina Faso",
            "Burundi",
            "Cabo Verde",
            "Cameroon",
            "Central African Republic",
            "Chad",
            "Comoros",
            "Côte d'Ivoire",
            "Democratic Republic of the Congo",
            "Equatorial Guinea",
            "Eritrea",
            "Eswatini",
            "Ethiopia",
            "Gabon",
            "Gambia",
            "Ghana",
            "Guinea",
            "Guinea-Bissau",
            "Kenya",
            "Liberia",
            "Madagascar",
            "Malawi",
            "Mali",
            "Mauritania",
            "Mauritius",
            "Mozambique",
            "Namibia",
            "Niger",
            "Nigeria",
            "Rwanda",
            "Sao Tome and Principe",
            "Senegal",
            "Sierra Leone",
            "South Africa",
            "South Sudan",
            "Togo",
            "Uganda",
            "United Republic of Tanzania",
            "Zambia",
            "Zimbabwe"
           ],
           "ids": [
            "Algeria",
            "Angola",
            "Benin",
            "Botswana",
            "Burkina Faso",
            "Burundi",
            "Cabo Verde",
            "Cameroon",
            "Central African Republic",
            "Chad",
            "Comoros",
            "Côte d'Ivoire",
            "Democratic Republic of the Congo",
            "Equatorial Guinea",
            "Eritrea",
            "Eswatini",
            "Ethiopia",
            "Gabon",
            "Gambia",
            "Ghana",
            "Guinea",
            "Guinea-Bissau",
            "Kenya",
            "Liberia",
            "Madagascar",
            "Malawi",
            "Mali",
            "Mauritania",
            "Mauritius",
            "Mozambique",
            "Namibia",
            "Niger",
            "Nigeria",
            "Rwanda",
            "Sao Tome and Principe",
            "Senegal",
            "Sierra Leone",
            "South Africa",
            "South Sudan",
            "Togo",
            "Uganda",
            "United Republic of Tanzania",
            "Zambia",
            "Zimbabwe"
           ],
           "legendgroup": "Africa",
           "marker": {
            "color": "#EF553B",
            "size": [
             0,
             3874892,
             1573163,
             1900,
             10225459,
             7670177,
             423,
             1191257,
             383309,
             1962372,
             2274,
             3274683,
             15176927,
             15725,
             31486,
             724,
             1530739,
             35244,
             69931,
             4348694,
             1335323,
             89784,
             3215116,
             14792,
             800661,
             4901344,
             1918376,
             20105,
             0,
             8921081,
             54268,
             2638580,
             11571958,
             1876123,
             2239,
             395706,
             1651236,
             22061,
             1488005,
             1209034,
             11667831,
             5354486,
             5505639,
             315624
            ],
            "sizemode": "area",
            "sizeref": 5068.046611570248,
            "symbol": "circle"
           },
           "mode": "markers",
           "name": "Africa",
           "orientation": "v",
           "showlegend": true,
           "type": "scatter",
           "x": [
            0,
            3874892,
            1573163,
            1900,
            10225459,
            7670177,
            423,
            1191257,
            383309,
            1962372,
            2274,
            3274683,
            15176927,
            15725,
            31486,
            724,
            1530739,
            35244,
            69931,
            4348694,
            1335323,
            89784,
            3215116,
            14792,
            800661,
            4901344,
            1918376,
            20105,
            0,
            8921081,
            54268,
            2638580,
            11571958,
            1876123,
            2239,
            395706,
            1651236,
            22061,
            1488005,
            1209034,
            11667831,
            5354486,
            5505639,
            315624
           ],
           "xaxis": "x",
           "y": [
            0,
            13967,
            2182,
            17,
            4144,
            4414,
            2,
            3195,
            3689,
            2088,
            3,
            3222,
            27458,
            30,
            8,
            20,
            356,
            218,
            54,
            599,
            1174,
            296,
            30,
            758,
            370,
            3613,
            1050,
            67,
            30,
            1114,
            104,
            2316,
            30,
            376,
            1,
            284,
            1298,
            301,
            3483,
            995,
            5111,
            3685,
            1425,
            527
           ],
           "yaxis": "y"
          },
          {
           "hovertemplate": "<b>%{hovertext}</b><br><br>WHO Region=Americas<br>Year=2017<br>No. of cases=%{marker.size}<br>No. of deaths=%{y}<extra></extra>",
           "hovertext": [
            "Argentina",
            "Belize",
            "Bolivia (Plurinational State of)",
            "Brazil",
            "Colombia",
            "Congo",
            "Costa Rica",
            "Dominican Republic",
            "Ecuador",
            "El Salvador",
            "Guatemala",
            "Guyana",
            "Haiti",
            "Honduras",
            "Mexico",
            "Nicaragua",
            "Panama",
            "Paraguay",
            "Peru",
            "Suriname",
            "Venezuela (Bolivarian Republic of)"
           ],
           "ids": [
            "Argentina",
            "Belize",
            "Bolivia (Plurinational State of)",
            "Brazil",
            "Colombia",
            "Congo",
            "Costa Rica",
            "Dominican Republic",
            "Ecuador",
            "El Salvador",
            "Guatemala",
            "Guyana",
            "Haiti",
            "Honduras",
            "Mexico",
            "Nicaragua",
            "Panama",
            "Paraguay",
            "Peru",
            "Suriname",
            "Venezuela (Bolivarian Republic of)"
           ],
           "legendgroup": "Americas",
           "marker": {
            "color": "#00cc96",
            "size": [
             0,
             7,
             4572,
             189503,
             52805,
             127939,
             12,
             341,
             1275,
             0,
             3743,
             13936,
             19135,
             1277,
             736,
             10949,
             649,
             0,
             55367,
             40,
             411586
            ],
            "sizemode": "area",
            "sizeref": 5068.046611570248,
            "symbol": "circle"
           },
           "mode": "markers",
           "name": "Americas",
           "orientation": "v",
           "showlegend": true,
           "type": "scatter",
           "x": [
            0,
            7,
            4572,
            189503,
            52805,
            127939,
            12,
            341,
            1275,
            0,
            3743,
            13936,
            19135,
            1277,
            736,
            10949,
            649,
            0,
            55367,
            40,
            411586
           ],
           "xaxis": "x",
           "y": [
            1,
            0,
            0,
            30,
            19,
            229,
            0,
            1,
            1,
            0,
            0,
            11,
            12,
            1,
            0,
            30,
            0,
            0,
            10,
            1,
            30
           ],
           "yaxis": "y"
          },
          {
           "hovertemplate": "<b>%{hovertext}</b><br><br>WHO Region=Europe<br>Year=2017<br>No. of cases=%{marker.size}<br>No. of deaths=%{y}<extra></extra>",
           "hovertext": [
            "Armenia",
            "Azerbaijan",
            "Georgia",
            "Kazakhstan",
            "Kyrgyzstan",
            "Tajikistan",
            "Turkey",
            "Turkmenistan",
            "Uzbekistan"
           ],
           "ids": [
            "Armenia",
            "Azerbaijan",
            "Georgia",
            "Kazakhstan",
            "Kyrgyzstan",
            "Tajikistan",
            "Turkey",
            "Turkmenistan",
            "Uzbekistan"
           ],
           "legendgroup": "Europe",
           "marker": {
            "color": "#ab63fa",
            "size": [
             0,
             0,
             0,
             0,
             0,
             0,
             0,
             0,
             0
            ],
            "sizemode": "area",
            "sizeref": 5068.046611570248,
            "symbol": "circle"
           },
           "mode": "markers",
           "name": "Europe",
           "orientation": "v",
           "showlegend": true,
           "type": "scatter",
           "x": [
            0,
            0,
            0,
            0,
            0,
            0,
            0,
            0,
            0
           ],
           "xaxis": "x",
           "y": [
            30,
            30,
            30,
            30,
            30,
            30,
            30,
            30,
            30
           ],
           "yaxis": "y"
          },
          {
           "hovertemplate": "<b>%{hovertext}</b><br><br>WHO Region=South-East Asia<br>Year=2017<br>No. of cases=%{marker.size}<br>No. of deaths=%{y}<extra></extra>",
           "hovertext": [
            "Bangladesh",
            "Bhutan",
            "India",
            "Indonesia",
            "Myanmar",
            "Nepal",
            "Sri Lanka",
            "Thailand",
            "Timor-Leste"
           ],
           "ids": [
            "Bangladesh",
            "Bhutan",
            "India",
            "Indonesia",
            "Myanmar",
            "Nepal",
            "Sri Lanka",
            "Thailand",
            "Timor-Leste"
           ],
           "legendgroup": "South-East Asia",
           "marker": {
            "color": "#FFA15A",
            "size": [
             4893,
             24,
             844558,
             261617,
             19619,
             623,
             0,
             11440,
             16
            ],
            "sizemode": "area",
            "sizeref": 5068.046611570248,
            "symbol": "circle"
           },
           "mode": "markers",
           "name": "South-East Asia",
           "orientation": "v",
           "showlegend": true,
           "type": "scatter",
           "x": [
            4893,
            24,
            844558,
            261617,
            19619,
            623,
            0,
            11440,
            16
           ],
           "xaxis": "x",
           "y": [
            13,
            1,
            194,
            47,
            30,
            3,
            0,
            11,
            0
           ],
           "yaxis": "y"
          },
          {
           "hovertemplate": "<b>%{hovertext}</b><br><br>WHO Region=Western Pacific<br>Year=2017<br>No. of cases=%{marker.size}<br>No. of deaths=%{y}<extra></extra>",
           "hovertext": [
            "Cambodia",
            "China",
            "Democratic People's Republic of Korea",
            "Lao People's Democratic Republic",
            "Malaysia",
            "Papua New Guinea",
            "Philippines",
            "Republic of Korea",
            "Solomon Islands",
            "Vanuatu",
            "Viet Nam"
           ],
           "ids": [
            "Cambodia",
            "China",
            "Democratic People's Republic of Korea",
            "Lao People's Democratic Republic",
            "Malaysia",
            "Papua New Guinea",
            "Philippines",
            "Republic of Korea",
            "Solomon Islands",
            "Vanuatu",
            "Viet Nam"
           ],
           "legendgroup": "Western Pacific",
           "marker": {
            "color": "#19d3f3",
            "size": [
             36932,
             0,
             4575,
             9333,
             85,
             478340,
             3950,
             436,
             52463,
             1071,
             4548
            ],
            "sizemode": "area",
            "sizeref": 5068.046611570248,
            "symbol": "circle"
           },
           "mode": "markers",
           "name": "Western Pacific",
           "orientation": "v",
           "showlegend": true,
           "type": "scatter",
           "x": [
            36932,
            0,
            4575,
            9333,
            85,
            478340,
            3950,
            436,
            52463,
            1071,
            4548
           ],
           "xaxis": "x",
           "y": [
            1,
            7,
            0,
            2,
            12,
            273,
            4,
            3,
            27,
            0,
            6
           ],
           "yaxis": "y"
          }
         ],
         "name": "2017"
        },
        {
         "data": [
          {
           "hovertemplate": "<b>%{hovertext}</b><br><br>WHO Region=Eastern Mediterranean<br>Year=2016<br>No. of cases=%{marker.size}<br>No. of deaths=%{y}<extra></extra>",
           "hovertext": [
            "Afghanistan",
            "Djibouti",
            "Egypt",
            "Iran (Islamic Republic of)",
            "Iraq",
            "Morocco",
            "Oman",
            "Pakistan",
            "Saudi Arabia",
            "Somalia",
            "Sudan",
            "Syrian Arab Republic",
            "United Arab Emirates",
            "Yemen"
           ],
           "ids": [
            "Afghanistan",
            "Djibouti",
            "Egypt",
            "Iran (Islamic Republic of)",
            "Iraq",
            "Morocco",
            "Oman",
            "Pakistan",
            "Saudi Arabia",
            "Somalia",
            "Sudan",
            "Syrian Arab Republic",
            "United Arab Emirates",
            "Yemen"
           ],
           "legendgroup": "Eastern Mediterranean",
           "marker": {
            "color": "#636efa",
            "size": [
             139087,
             13804,
             0,
             81,
             0,
             0,
             0,
             318449,
             272,
             35628,
             575015,
             0,
             0,
             98701
            ],
            "sizemode": "area",
            "sizeref": 5068.046611570248,
            "symbol": "circle"
           },
           "mode": "markers",
           "name": "Eastern Mediterranean",
           "orientation": "v",
           "showlegend": true,
           "type": "scatter",
           "x": [
            139087,
            13804,
            0,
            81,
            0,
            0,
            0,
            318449,
            272,
            35628,
            575015,
            0,
            0,
            98701
           ],
           "xaxis": "x",
           "y": [
            47,
            5,
            30,
            0,
            30,
            30,
            30,
            33,
            0,
            13,
            984,
            30,
            30,
            65
           ],
           "yaxis": "y"
          },
          {
           "hovertemplate": "<b>%{hovertext}</b><br><br>WHO Region=Africa<br>Year=2016<br>No. of cases=%{marker.size}<br>No. of deaths=%{y}<extra></extra>",
           "hovertext": [
            "Algeria",
            "Angola",
            "Benin",
            "Botswana",
            "Burkina Faso",
            "Burundi",
            "Cabo Verde",
            "Cameroon",
            "Central African Republic",
            "Chad",
            "Comoros",
            "Côte d'Ivoire",
            "Democratic Republic of the Congo",
            "Equatorial Guinea",
            "Eritrea",
            "Eswatini",
            "Ethiopia",
            "Gabon",
            "Gambia",
            "Ghana",
            "Guinea",
            "Guinea-Bissau",
            "Kenya",
            "Liberia",
            "Madagascar",
            "Malawi",
            "Mali",
            "Mauritania",
            "Mauritius",
            "Mozambique",
            "Namibia",
            "Niger",
            "Nigeria",
            "Rwanda",
            "Sao Tome and Principe",
            "Senegal",
            "Sierra Leone",
            "South Africa",
            "South Sudan",
            "Togo",
            "Uganda",
            "United Republic of Tanzania",
            "Zambia",
            "Zimbabwe"
           ],
           "ids": [
            "Algeria",
            "Angola",
            "Benin",
            "Botswana",
            "Burkina Faso",
            "Burundi",
            "Cabo Verde",
            "Cameroon",
            "Central African Republic",
            "Chad",
            "Comoros",
            "Côte d'Ivoire",
            "Democratic Republic of the Congo",
            "Equatorial Guinea",
            "Eritrea",
            "Eswatini",
            "Ethiopia",
            "Gabon",
            "Gambia",
            "Ghana",
            "Guinea",
            "Guinea-Bissau",
            "Kenya",
            "Liberia",
            "Madagascar",
            "Malawi",
            "Mali",
            "Mauritania",
            "Mauritius",
            "Mozambique",
            "Namibia",
            "Niger",
            "Nigeria",
            "Rwanda",
            "Sao Tome and Principe",
            "Senegal",
            "Sierra Leone",
            "South Africa",
            "South Sudan",
            "Togo",
            "Uganda",
            "United Republic of Tanzania",
            "Zambia",
            "Zimbabwe"
           ],
           "legendgroup": "Africa",
           "marker": {
            "color": "#EF553B",
            "size": [
             0,
             3794253,
             1324576,
             716,
             9779154,
             8274062,
             48,
             1675264,
             1032764,
             1294768,
             1066,
             3471024,
             15330841,
             147714,
             24251,
             350,
             1718504,
             23915,
             153774,
             4535167,
             992146,
             150903,
             2783846,
             1191137,
             475333,
             4827373,
             2156282,
             23042,
             14792,
             8520376,
             25198,
             4148167,
             9234387,
             3380568,
             2238,
             349540,
             1775306,
             4323,
             0,
             1183265,
             9385132,
             5193520,
             4851319,
             279988
            ],
            "sizemode": "area",
            "sizeref": 5068.046611570248,
            "symbol": "circle"
           },
           "mode": "markers",
           "name": "Africa",
           "orientation": "v",
           "showlegend": true,
           "type": "scatter",
           "x": [
            0,
            3794253,
            1324576,
            716,
            9779154,
            8274062,
            48,
            1675264,
            1032764,
            1294768,
            1066,
            3471024,
            15330841,
            147714,
            24251,
            350,
            1718504,
            23915,
            153774,
            4535167,
            992146,
            150903,
            2783846,
            1191137,
            475333,
            4827373,
            2156282,
            23042,
            14792,
            8520376,
            25198,
            4148167,
            9234387,
            3380568,
            2238,
            349540,
            1775306,
            4323,
            0,
            1183265,
            9385132,
            5193520,
            4851319,
            279988
           ],
           "xaxis": "x",
           "y": [
            0,
            15997,
            1646,
            3,
            3974,
            5853,
            1,
            2639,
            2668,
            1686,
            0,
            3340,
            33997,
            109,
            21,
            3,
            510,
            101,
            79,
            1264,
            867,
            191,
            603,
            1259,
            443,
            4000,
            1344,
            315,
            30,
            1685,
            65,
            2226,
            30,
            715,
            0,
            325,
            1345,
            34,
            30,
            847,
            5635,
            5046,
            1827,
            351
           ],
           "yaxis": "y"
          },
          {
           "hovertemplate": "<b>%{hovertext}</b><br><br>WHO Region=Americas<br>Year=2016<br>No. of cases=%{marker.size}<br>No. of deaths=%{y}<extra></extra>",
           "hovertext": [
            "Argentina",
            "Belize",
            "Bolivia (Plurinational State of)",
            "Brazil",
            "Colombia",
            "Congo",
            "Costa Rica",
            "Dominican Republic",
            "Ecuador",
            "El Salvador",
            "Guatemala",
            "Guyana",
            "Haiti",
            "Honduras",
            "Mexico",
            "Nicaragua",
            "Panama",
            "Paraguay",
            "Peru",
            "Suriname",
            "Venezuela (Bolivarian Republic of)"
           ],
           "ids": [
            "Argentina",
            "Belize",
            "Bolivia (Plurinational State of)",
            "Brazil",
            "Colombia",
            "Congo",
            "Costa Rica",
            "Dominican Republic",
            "Ecuador",
            "El Salvador",
            "Guatemala",
            "Guyana",
            "Haiti",
            "Honduras",
            "Mexico",
            "Nicaragua",
            "Panama",
            "Paraguay",
            "Peru",
            "Suriname",
            "Venezuela (Bolivarian Republic of)"
           ],
           "legendgroup": "Americas",
           "marker": {
            "color": "#00cc96",
            "size": [
             0,
             4,
             5542,
             124178,
             82609,
             171847,
             4,
             690,
             1191,
             12,
             4853,
             12367,
             21430,
             4094,
             551,
             6272,
             769,
             0,
             56623,
             76,
             240613
            ],
            "sizemode": "area",
            "sizeref": 5068.046611570248,
            "symbol": "circle"
           },
           "mode": "markers",
           "name": "Americas",
           "orientation": "v",
           "showlegend": true,
           "type": "scatter",
           "x": [
            0,
            4,
            5542,
            124178,
            82609,
            171847,
            4,
            690,
            1191,
            12,
            4853,
            12367,
            21430,
            4094,
            551,
            6272,
            769,
            0,
            56623,
            76,
            240613
           ],
           "xaxis": "x",
           "y": [
            0,
            0,
            0,
            35,
            36,
            733,
            0,
            2,
            0,
            0,
            0,
            13,
            13,
            0,
            1,
            2,
            0,
            1,
            7,
            0,
            1
           ],
           "yaxis": "y"
          },
          {
           "hovertemplate": "<b>%{hovertext}</b><br><br>WHO Region=Europe<br>Year=2016<br>No. of cases=%{marker.size}<br>No. of deaths=%{y}<extra></extra>",
           "hovertext": [
            "Armenia",
            "Azerbaijan",
            "Georgia",
            "Kazakhstan",
            "Kyrgyzstan",
            "Tajikistan",
            "Turkey",
            "Turkmenistan",
            "Uzbekistan"
           ],
           "ids": [
            "Armenia",
            "Azerbaijan",
            "Georgia",
            "Kazakhstan",
            "Kyrgyzstan",
            "Tajikistan",
            "Turkey",
            "Turkmenistan",
            "Uzbekistan"
           ],
           "legendgroup": "Europe",
           "marker": {
            "color": "#ab63fa",
            "size": [
             0,
             0,
             0,
             0,
             0,
             0,
             0,
             0,
             0
            ],
            "sizemode": "area",
            "sizeref": 5068.046611570248,
            "symbol": "circle"
           },
           "mode": "markers",
           "name": "Europe",
           "orientation": "v",
           "showlegend": true,
           "type": "scatter",
           "x": [
            0,
            0,
            0,
            0,
            0,
            0,
            0,
            0,
            0
           ],
           "xaxis": "x",
           "y": [
            0,
            0,
            0,
            30,
            0,
            0,
            6,
            0,
            0
           ],
           "yaxis": "y"
          },
          {
           "hovertemplate": "<b>%{hovertext}</b><br><br>WHO Region=South-East Asia<br>Year=2016<br>No. of cases=%{marker.size}<br>No. of deaths=%{y}<extra></extra>",
           "hovertext": [
            "Bangladesh",
            "Bhutan",
            "India",
            "Indonesia",
            "Myanmar",
            "Nepal",
            "Sri Lanka",
            "Thailand",
            "Timor-Leste"
           ],
           "ids": [
            "Bangladesh",
            "Bhutan",
            "India",
            "Indonesia",
            "Myanmar",
            "Nepal",
            "Sri Lanka",
            "Thailand",
            "Timor-Leste"
           ],
           "legendgroup": "South-East Asia",
           "marker": {
            "color": "#FFA15A",
            "size": [
             4787,
             15,
             1087285,
             218450,
             110146,
             507,
             0,
             11522,
             94
            ],
            "sizemode": "area",
            "sizeref": 5068.046611570248,
            "symbol": "circle"
           },
           "mode": "markers",
           "name": "South-East Asia",
           "orientation": "v",
           "showlegend": true,
           "type": "scatter",
           "x": [
            4787,
            15,
            1087285,
            218450,
            110146,
            507,
            0,
            11522,
            94
           ],
           "xaxis": "x",
           "y": [
            17,
            0,
            331,
            161,
            21,
            3,
            0,
            27,
            0
           ],
           "yaxis": "y"
          },
          {
           "hovertemplate": "<b>%{hovertext}</b><br><br>WHO Region=Western Pacific<br>Year=2016<br>No. of cases=%{marker.size}<br>No. of deaths=%{y}<extra></extra>",
           "hovertext": [
            "Cambodia",
            "China",
            "Democratic People's Republic of Korea",
            "Lao People's Democratic Republic",
            "Malaysia",
            "Papua New Guinea",
            "Philippines",
            "Republic of Korea",
            "Solomon Islands",
            "Vanuatu",
            "Viet Nam"
           ],
           "ids": [
            "Cambodia",
            "China",
            "Democratic People's Republic of Korea",
            "Lao People's Democratic Republic",
            "Malaysia",
            "Papua New Guinea",
            "Philippines",
            "Republic of Korea",
            "Solomon Islands",
            "Vanuatu",
            "Viet Nam"
           ],
           "legendgroup": "Western Pacific",
           "marker": {
            "color": "#19d3f3",
            "size": [
             23492,
             3,
             2719,
             11223,
             266,
             478497,
             6680,
             602,
             54431,
             1868,
             4161
            ],
            "sizemode": "area",
            "sizeref": 5068.046611570248,
            "symbol": "circle"
           },
           "mode": "markers",
           "name": "Western Pacific",
           "orientation": "v",
           "showlegend": true,
           "type": "scatter",
           "x": [
            23492,
            3,
            2719,
            11223,
            266,
            478497,
            6680,
            602,
            54431,
            1868,
            4161
           ],
           "xaxis": "x",
           "y": [
            3,
            15,
            0,
            1,
            2,
            306,
            7,
            1,
            20,
            0,
            3
           ],
           "yaxis": "y"
          }
         ],
         "name": "2016"
        },
        {
         "data": [
          {
           "hovertemplate": "<b>%{hovertext}</b><br><br>WHO Region=Eastern Mediterranean<br>Year=2015<br>No. of cases=%{marker.size}<br>No. of deaths=%{y}<extra></extra>",
           "hovertext": [
            "Afghanistan",
            "Djibouti",
            "Egypt",
            "Iran (Islamic Republic of)",
            "Iraq",
            "Morocco",
            "Oman",
            "Pakistan",
            "Saudi Arabia",
            "Somalia",
            "Sudan",
            "Syrian Arab Republic",
            "United Arab Emirates",
            "Yemen"
           ],
           "ids": [
            "Afghanistan",
            "Djibouti",
            "Egypt",
            "Iran (Islamic Republic of)",
            "Iraq",
            "Morocco",
            "Oman",
            "Pakistan",
            "Saudi Arabia",
            "Somalia",
            "Sudan",
            "Syrian Arab Republic",
            "United Arab Emirates",
            "Yemen"
           ],
           "legendgroup": "Eastern Mediterranean",
           "marker": {
            "color": "#636efa",
            "size": [
             86895,
             9473,
             0,
             167,
             0,
             0,
             0,
             202013,
             83,
             20953,
             586827,
             0,
             0,
             76259
            ],
            "sizemode": "area",
            "sizeref": 5068.046611570248,
            "symbol": "circle"
           },
           "mode": "markers",
           "name": "Eastern Mediterranean",
           "orientation": "v",
           "showlegend": true,
           "type": "scatter",
           "x": [
            86895,
            9473,
            0,
            167,
            0,
            0,
            0,
            202013,
            83,
            20953,
            586827,
            0,
            0,
            76259
           ],
           "xaxis": "x",
           "y": [
            49,
            23,
            30,
            1,
            30,
            30,
            30,
            34,
            0,
            27,
            868,
            30,
            30,
            14
           ],
           "yaxis": "y"
          },
          {
           "hovertemplate": "<b>%{hovertext}</b><br><br>WHO Region=Africa<br>Year=2015<br>No. of cases=%{marker.size}<br>No. of deaths=%{y}<extra></extra>",
           "hovertext": [
            "Algeria",
            "Angola",
            "Benin",
            "Botswana",
            "Burkina Faso",
            "Burundi",
            "Cabo Verde",
            "Cameroon",
            "Central African Republic",
            "Chad",
            "Comoros",
            "Côte d'Ivoire",
            "Democratic Republic of the Congo",
            "Equatorial Guinea",
            "Eritrea",
            "Eswatini",
            "Ethiopia",
            "Gabon",
            "Gambia",
            "Ghana",
            "Guinea",
            "Guinea-Bissau",
            "Kenya",
            "Liberia",
            "Madagascar",
            "Malawi",
            "Mali",
            "Mauritania",
            "Mauritius",
            "Mozambique",
            "Namibia",
            "Niger",
            "Nigeria",
            "Rwanda",
            "Sao Tome and Principe",
            "Senegal",
            "Sierra Leone",
            "South Africa",
            "South Sudan",
            "Togo",
            "Uganda",
            "United Republic of Tanzania",
            "Zambia",
            "Zimbabwe"
           ],
           "ids": [
            "Algeria",
            "Angola",
            "Benin",
            "Botswana",
            "Burkina Faso",
            "Burundi",
            "Cabo Verde",
            "Cameroon",
            "Central African Republic",
            "Chad",
            "Comoros",
            "Côte d'Ivoire",
            "Democratic Republic of the Congo",
            "Equatorial Guinea",
            "Eritrea",
            "Eswatini",
            "Ethiopia",
            "Gabon",
            "Gambia",
            "Ghana",
            "Guinea",
            "Guinea-Bissau",
            "Kenya",
            "Liberia",
            "Madagascar",
            "Malawi",
            "Mali",
            "Mauritania",
            "Mauritius",
            "Mozambique",
            "Namibia",
            "Niger",
            "Nigeria",
            "Rwanda",
            "Sao Tome and Principe",
            "Senegal",
            "Sierra Leone",
            "South Africa",
            "South Sudan",
            "Togo",
            "Uganda",
            "United Republic of Tanzania",
            "Zambia",
            "Zimbabwe"
           ],
           "legendgroup": "Africa",
           "marker": {
            "color": "#EF553B",
            "size": [
             0,
             2769305,
             1268347,
             326,
             7015446,
             5159706,
             7,
             1162784,
             598833,
             787046,
             1300,
             3375904,
             11627473,
             15142,
             19372,
             157,
             1867059,
             23867,
             240382,
             4319919,
             810979,
             142309,
             1499027,
             931086,
             744103,
             3661238,
             2295611,
             22631,
             14792,
             7718782,
             12168,
             2272000,
             6850782,
             2505794,
             2058,
             492253,
             1483376,
             555,
             0,
             1113927,
             7137662,
             4241364,
             4184661,
             391651
            ],
            "sizemode": "area",
            "sizeref": 5068.046611570248,
            "symbol": "circle"
           },
           "mode": "markers",
           "name": "Africa",
           "orientation": "v",
           "showlegend": true,
           "type": "scatter",
           "x": [
            0,
            2769305,
            1268347,
            326,
            7015446,
            5159706,
            7,
            1162784,
            598833,
            787046,
            1300,
            3375904,
            11627473,
            15142,
            19372,
            157,
            1867059,
            23867,
            240382,
            4319919,
            810979,
            142309,
            1499027,
            931086,
            744103,
            3661238,
            2295611,
            22631,
            14792,
            7718782,
            12168,
            2272000,
            6850782,
            2505794,
            2058,
            492253,
            1483376,
            555,
            0,
            1113927,
            7137662,
            4241364,
            4184661,
            391651
           ],
           "xaxis": "x",
           "y": [
            0,
            7832,
            1416,
            5,
            5379,
            3799,
            0,
            3440,
            1763,
            1572,
            1,
            2604,
            39054,
            28,
            12,
            5,
            662,
            309,
            167,
            2137,
            846,
            477,
            15061,
            1379,
            841,
            3799,
            1544,
            39,
            30,
            2467,
            45,
            2778,
            30,
            516,
            0,
            526,
            1107,
            110,
            30,
            1205,
            6100,
            6313,
            2389,
            200
           ],
           "yaxis": "y"
          },
          {
           "hovertemplate": "<b>%{hovertext}</b><br><br>WHO Region=Americas<br>Year=2015<br>No. of cases=%{marker.size}<br>No. of deaths=%{y}<extra></extra>",
           "hovertext": [
            "Argentina",
            "Belize",
            "Bolivia (Plurinational State of)",
            "Brazil",
            "Colombia",
            "Congo",
            "Costa Rica",
            "Dominican Republic",
            "Ecuador",
            "El Salvador",
            "Guatemala",
            "Guyana",
            "Haiti",
            "Honduras",
            "Mexico",
            "Nicaragua",
            "Panama",
            "Paraguay",
            "Peru",
            "Suriname",
            "Venezuela (Bolivarian Republic of)"
           ],
           "ids": [
            "Argentina",
            "Belize",
            "Bolivia (Plurinational State of)",
            "Brazil",
            "Colombia",
            "Congo",
            "Costa Rica",
            "Dominican Republic",
            "Ecuador",
            "El Salvador",
            "Guatemala",
            "Guyana",
            "Haiti",
            "Honduras",
            "Mexico",
            "Nicaragua",
            "Panama",
            "Paraguay",
            "Peru",
            "Suriname",
            "Venezuela (Bolivarian Republic of)"
           ],
           "legendgroup": "Americas",
           "marker": {
            "color": "#00cc96",
            "size": [
             0,
             9,
             6874,
             138229,
             47616,
             51529,
             0,
             631,
             618,
             2,
             6836,
             9984,
             17583,
             3575,
             517,
             2279,
             546,
             0,
             61865,
             81,
             136402
            ],
            "sizemode": "area",
            "sizeref": 5068.046611570248,
            "symbol": "circle"
           },
           "mode": "markers",
           "name": "Americas",
           "orientation": "v",
           "showlegend": true,
           "type": "scatter",
           "x": [
            0,
            9,
            6874,
            138229,
            47616,
            51529,
            0,
            631,
            618,
            2,
            6836,
            9984,
            17583,
            3575,
            517,
            2279,
            546,
            0,
            61865,
            81,
            136402
           ],
           "xaxis": "x",
           "y": [
            0,
            0,
            0,
            35,
            18,
            435,
            0,
            3,
            0,
            0,
            1,
            12,
            15,
            0,
            0,
            1,
            0,
            0,
            5,
            0,
            8
           ],
           "yaxis": "y"
          },
          {
           "hovertemplate": "<b>%{hovertext}</b><br><br>WHO Region=Europe<br>Year=2015<br>No. of cases=%{marker.size}<br>No. of deaths=%{y}<extra></extra>",
           "hovertext": [
            "Armenia",
            "Azerbaijan",
            "Georgia",
            "Kazakhstan",
            "Kyrgyzstan",
            "Tajikistan",
            "Turkey",
            "Turkmenistan",
            "Uzbekistan"
           ],
           "ids": [
            "Armenia",
            "Azerbaijan",
            "Georgia",
            "Kazakhstan",
            "Kyrgyzstan",
            "Tajikistan",
            "Turkey",
            "Turkmenistan",
            "Uzbekistan"
           ],
           "legendgroup": "Europe",
           "marker": {
            "color": "#ab63fa",
            "size": [
             0,
             0,
             0,
             0,
             0,
             0,
             0,
             0,
             0
            ],
            "sizemode": "area",
            "sizeref": 5068.046611570248,
            "symbol": "circle"
           },
           "mode": "markers",
           "name": "Europe",
           "orientation": "v",
           "showlegend": true,
           "type": "scatter",
           "x": [
            0,
            0,
            0,
            0,
            0,
            0,
            0,
            0,
            0
           ],
           "xaxis": "x",
           "y": [
            0,
            0,
            1,
            30,
            0,
            0,
            3,
            0,
            0
           ],
           "yaxis": "y"
          },
          {
           "hovertemplate": "<b>%{hovertext}</b><br><br>WHO Region=South-East Asia<br>Year=2015<br>No. of cases=%{marker.size}<br>No. of deaths=%{y}<extra></extra>",
           "hovertext": [
            "Bangladesh",
            "Bhutan",
            "India",
            "Indonesia",
            "Myanmar",
            "Nepal",
            "Sri Lanka",
            "Thailand",
            "Timor-Leste"
           ],
           "ids": [
            "Bangladesh",
            "Bhutan",
            "India",
            "Indonesia",
            "Myanmar",
            "Nepal",
            "Sri Lanka",
            "Thailand",
            "Timor-Leste"
           ],
           "legendgroup": "South-East Asia",
           "marker": {
            "color": "#FFA15A",
            "size": [
             6608,
             34,
             1169261,
             217025,
             182768,
             591,
             0,
             8022,
             80
            ],
            "sizemode": "area",
            "sizeref": 5068.046611570248,
            "symbol": "circle"
           },
           "mode": "markers",
           "name": "South-East Asia",
           "orientation": "v",
           "showlegend": true,
           "type": "scatter",
           "x": [
            6608,
            34,
            1169261,
            217025,
            182768,
            591,
            0,
            8022,
            80
           ],
           "xaxis": "x",
           "y": [
            9,
            0,
            384,
            157,
            37,
            0,
            0,
            33,
            0
           ],
           "yaxis": "y"
          },
          {
           "hovertemplate": "<b>%{hovertext}</b><br><br>WHO Region=Western Pacific<br>Year=2015<br>No. of cases=%{marker.size}<br>No. of deaths=%{y}<extra></extra>",
           "hovertext": [
            "Cambodia",
            "China",
            "Democratic People's Republic of Korea",
            "Lao People's Democratic Republic",
            "Malaysia",
            "Papua New Guinea",
            "Philippines",
            "Republic of Korea",
            "Solomon Islands",
            "Vanuatu",
            "Viet Nam"
           ],
           "ids": [
            "Cambodia",
            "China",
            "Democratic People's Republic of Korea",
            "Lao People's Democratic Republic",
            "Malaysia",
            "Papua New Guinea",
            "Philippines",
            "Republic of Korea",
            "Solomon Islands",
            "Vanuatu",
            "Viet Nam"
           ],
           "legendgroup": "Western Pacific",
           "marker": {
            "color": "#19d3f3",
            "size": [
             33930,
             39,
             773,
             36056,
             242,
             297787,
             8266,
             627,
             23998,
             423,
             9331
            ],
            "sizemode": "area",
            "sizeref": 5068.046611570248,
            "symbol": "circle"
           },
           "mode": "markers",
           "name": "Western Pacific",
           "orientation": "v",
           "showlegend": true,
           "type": "scatter",
           "x": [
            33930,
            39,
            773,
            36056,
            242,
            297787,
            8266,
            627,
            23998,
            423,
            9331
           ],
           "xaxis": "x",
           "y": [
            10,
            20,
            0,
            2,
            4,
            163,
            20,
            0,
            13,
            0,
            3
           ],
           "yaxis": "y"
          }
         ],
         "name": "2015"
        },
        {
         "data": [
          {
           "hovertemplate": "<b>%{hovertext}</b><br><br>WHO Region=Eastern Mediterranean<br>Year=2014<br>No. of cases=%{marker.size}<br>No. of deaths=%{y}<extra></extra>",
           "hovertext": [
            "Afghanistan",
            "Djibouti",
            "Egypt",
            "Iran (Islamic Republic of)",
            "Iraq",
            "Morocco",
            "Oman",
            "Pakistan",
            "Saudi Arabia",
            "Somalia",
            "Sudan",
            "Syrian Arab Republic",
            "United Arab Emirates",
            "Yemen"
           ],
           "ids": [
            "Afghanistan",
            "Djibouti",
            "Egypt",
            "Iran (Islamic Republic of)",
            "Iraq",
            "Morocco",
            "Oman",
            "Pakistan",
            "Saudi Arabia",
            "Somalia",
            "Sudan",
            "Syrian Arab Republic",
            "United Arab Emirates",
            "Yemen"
           ],
           "legendgroup": "Eastern Mediterranean",
           "marker": {
            "color": "#636efa",
            "size": [
             61362,
             9439,
             22,
             358,
             0,
             0,
             0,
             275149,
             30,
             11001,
             1068506,
             0,
             0,
             86707
            ],
            "sizemode": "area",
            "sizeref": 5068.046611570248,
            "symbol": "circle"
           },
           "mode": "markers",
           "name": "Eastern Mediterranean",
           "orientation": "v",
           "showlegend": true,
           "type": "scatter",
           "x": [
            61362,
            9439,
            22,
            358,
            0,
            0,
            0,
            275149,
            30,
            11001,
            1068506,
            0,
            0,
            86707
           ],
           "xaxis": "x",
           "y": [
            32,
            28,
            30,
            0,
            0,
            30,
            0,
            56,
            0,
            14,
            823,
            4,
            30,
            23
           ],
           "yaxis": "y"
          },
          {
           "hovertemplate": "<b>%{hovertext}</b><br><br>WHO Region=Africa<br>Year=2014<br>No. of cases=%{marker.size}<br>No. of deaths=%{y}<extra></extra>",
           "hovertext": [
            "Algeria",
            "Angola",
            "Benin",
            "Botswana",
            "Burkina Faso",
            "Burundi",
            "Cabo Verde",
            "Cameroon",
            "Central African Republic",
            "Chad",
            "Comoros",
            "Côte d'Ivoire",
            "Democratic Republic of the Congo",
            "Equatorial Guinea",
            "Eritrea",
            "Eswatini",
            "Ethiopia",
            "Gabon",
            "Gambia",
            "Ghana",
            "Guinea",
            "Guinea-Bissau",
            "Kenya",
            "Liberia",
            "Madagascar",
            "Malawi",
            "Mali",
            "Mauritania",
            "Mauritius",
            "Mozambique",
            "Namibia",
            "Niger",
            "Nigeria",
            "Rwanda",
            "Sao Tome and Principe",
            "Senegal",
            "Sierra Leone",
            "South Africa",
            "South Sudan",
            "Togo",
            "Uganda",
            "United Republic of Tanzania",
            "Zambia",
            "Zimbabwe"
           ],
           "ids": [
            "Algeria",
            "Angola",
            "Benin",
            "Botswana",
            "Burkina Faso",
            "Burundi",
            "Cabo Verde",
            "Cameroon",
            "Central African Republic",
            "Chad",
            "Comoros",
            "Côte d'Ivoire",
            "Democratic Republic of the Congo",
            "Equatorial Guinea",
            "Eritrea",
            "Eswatini",
            "Ethiopia",
            "Gabon",
            "Gambia",
            "Ghana",
            "Guinea",
            "Guinea-Bissau",
            "Kenya",
            "Liberia",
            "Madagascar",
            "Malawi",
            "Mali",
            "Mauritania",
            "Mauritius",
            "Mozambique",
            "Namibia",
            "Niger",
            "Nigeria",
            "Rwanda",
            "Sao Tome and Principe",
            "Senegal",
            "Sierra Leone",
            "South Africa",
            "South Sudan",
            "Togo",
            "Uganda",
            "United Republic of Tanzania",
            "Zambia",
            "Zimbabwe"
           ],
           "legendgroup": "Africa",
           "marker": {
            "color": "#EF553B",
            "size": [
             0,
             2298979,
             1044235,
             1346,
             5428655,
             4585273,
             26,
             14792,
             295088,
             914032,
             2203,
             3712831,
             9968983,
             20417,
             30768,
             711,
             2118815,
             31900,
             166229,
             3415912,
             660207,
             93431,
             2808931,
             864204,
             377963,
             2905310,
             2039853,
             15835,
             14792,
             7117648,
             15914,
             1953309,
             7826954,
             1610812,
             1754,
             268912,
             1374476,
             11705,
             71377,
             1130251,
             3631939,
             680442,
             4077547,
             535931
            ],
            "sizemode": "area",
            "sizeref": 5068.046611570248,
            "symbol": "circle"
           },
           "mode": "markers",
           "name": "Africa",
           "orientation": "v",
           "showlegend": true,
           "type": "scatter",
           "x": [
            0,
            2298979,
            1044235,
            1346,
            5428655,
            4585273,
            26,
            14792,
            295088,
            914032,
            2203,
            3712831,
            9968983,
            20417,
            30768,
            711,
            2118815,
            31900,
            166229,
            3415912,
            660207,
            93431,
            2808931,
            864204,
            377963,
            2905310,
            2039853,
            15835,
            14792,
            7117648,
            15914,
            1953309,
            7826954,
            1610812,
            1754,
            268912,
            1374476,
            11705,
            71377,
            1130251,
            3631939,
            680442,
            4077547,
            535931
           ],
           "xaxis": "x",
           "y": [
            0,
            5714,
            1869,
            22,
            5632,
            2974,
            1,
            4398,
            635,
            1720,
            0,
            4069,
            25502,
            30,
            15,
            30,
            213,
            159,
            170,
            2200,
            1067,
            357,
            472,
            2288,
            551,
            4490,
            2309,
            19,
            30,
            3245,
            61,
            2691,
            6082,
            496,
            0,
            500,
            2848,
            174,
            30,
            1205,
            5921,
            5373,
            3257,
            406
           ],
           "yaxis": "y"
          },
          {
           "hovertemplate": "<b>%{hovertext}</b><br><br>WHO Region=Americas<br>Year=2014<br>No. of cases=%{marker.size}<br>No. of deaths=%{y}<extra></extra>",
           "hovertext": [
            "Argentina",
            "Belize",
            "Bolivia (Plurinational State of)",
            "Brazil",
            "Colombia",
            "Congo",
            "Costa Rica",
            "Dominican Republic",
            "Ecuador",
            "El Salvador",
            "Guatemala",
            "Guyana",
            "Haiti",
            "Honduras",
            "Mexico",
            "Nicaragua",
            "Panama",
            "Paraguay",
            "Peru",
            "Suriname",
            "Venezuela (Bolivarian Republic of)"
           ],
           "ids": [
            "Argentina",
            "Belize",
            "Bolivia (Plurinational State of)",
            "Brazil",
            "Colombia",
            "Congo",
            "Costa Rica",
            "Dominican Republic",
            "Ecuador",
            "El Salvador",
            "Guatemala",
            "Guyana",
            "Haiti",
            "Honduras",
            "Mexico",
            "Nicaragua",
            "Panama",
            "Paraguay",
            "Peru",
            "Suriname",
            "Venezuela (Bolivarian Republic of)"
           ],
           "legendgroup": "Americas",
           "marker": {
            "color": "#00cc96",
            "size": [
             0,
             19,
             7401,
             139272,
             40768,
             66323,
             0,
             459,
             242,
             6,
             5685,
             12354,
             17696,
             3378,
             656,
             1142,
             864,
             0,
             65252,
             401,
             90708
            ],
            "sizemode": "area",
            "sizeref": 5068.046611570248,
            "symbol": "circle"
           },
           "mode": "markers",
           "name": "Americas",
           "orientation": "v",
           "showlegend": true,
           "type": "scatter",
           "x": [
            0,
            19,
            7401,
            139272,
            40768,
            66323,
            0,
            459,
            242,
            6,
            5685,
            12354,
            17696,
            3378,
            656,
            1142,
            864,
            0,
            65252,
            401,
            90708
           ],
           "xaxis": "x",
           "y": [
            0,
            0,
            1,
            36,
            17,
            271,
            0,
            4,
            0,
            0,
            1,
            11,
            9,
            2,
            0,
            0,
            0,
            0,
            4,
            1,
            5
           ],
           "yaxis": "y"
          },
          {
           "hovertemplate": "<b>%{hovertext}</b><br><br>WHO Region=Europe<br>Year=2014<br>No. of cases=%{marker.size}<br>No. of deaths=%{y}<extra></extra>",
           "hovertext": [
            "Armenia",
            "Azerbaijan",
            "Georgia",
            "Kazakhstan",
            "Kyrgyzstan",
            "Tajikistan",
            "Turkey",
            "Turkmenistan",
            "Uzbekistan"
           ],
           "ids": [
            "Armenia",
            "Azerbaijan",
            "Georgia",
            "Kazakhstan",
            "Kyrgyzstan",
            "Tajikistan",
            "Turkey",
            "Turkmenistan",
            "Uzbekistan"
           ],
           "legendgroup": "Europe",
           "marker": {
            "color": "#ab63fa",
            "size": [
             0,
             0,
             0,
             14792,
             0,
             2,
             0,
             0,
             0
            ],
            "sizemode": "area",
            "sizeref": 5068.046611570248,
            "symbol": "circle"
           },
           "mode": "markers",
           "name": "Europe",
           "orientation": "v",
           "showlegend": true,
           "type": "scatter",
           "x": [
            0,
            0,
            0,
            14792,
            0,
            2,
            0,
            0,
            0
           ],
           "xaxis": "x",
           "y": [
            0,
            0,
            0,
            30,
            0,
            0,
            1,
            0,
            0
           ],
           "yaxis": "y"
          },
          {
           "hovertemplate": "<b>%{hovertext}</b><br><br>WHO Region=South-East Asia<br>Year=2014<br>No. of cases=%{marker.size}<br>No. of deaths=%{y}<extra></extra>",
           "hovertext": [
            "Bangladesh",
            "Bhutan",
            "India",
            "Indonesia",
            "Myanmar",
            "Nepal",
            "Sri Lanka",
            "Thailand",
            "Timor-Leste"
           ],
           "ids": [
            "Bangladesh",
            "Bhutan",
            "India",
            "Indonesia",
            "Myanmar",
            "Nepal",
            "Sri Lanka",
            "Thailand",
            "Timor-Leste"
           ],
           "legendgroup": "South-East Asia",
           "marker": {
            "color": "#FFA15A",
            "size": [
             10216,
             19,
             1102205,
             252027,
             205658,
             832,
             0,
             37921,
             342
            ],
            "sizemode": "area",
            "sizeref": 5068.046611570248,
            "symbol": "circle"
           },
           "mode": "markers",
           "name": "South-East Asia",
           "orientation": "v",
           "showlegend": true,
           "type": "scatter",
           "x": [
            10216,
            19,
            1102205,
            252027,
            205658,
            832,
            0,
            37921,
            342
           ],
           "xaxis": "x",
           "y": [
            45,
            0,
            562,
            217,
            92,
            0,
            0,
            38,
            1
           ],
           "yaxis": "y"
          },
          {
           "hovertemplate": "<b>%{hovertext}</b><br><br>WHO Region=Western Pacific<br>Year=2014<br>No. of cases=%{marker.size}<br>No. of deaths=%{y}<extra></extra>",
           "hovertext": [
            "Cambodia",
            "China",
            "Democratic People's Republic of Korea",
            "Lao People's Democratic Republic",
            "Malaysia",
            "Papua New Guinea",
            "Philippines",
            "Republic of Korea",
            "Solomon Islands",
            "Vanuatu",
            "Viet Nam"
           ],
           "ids": [
            "Cambodia",
            "China",
            "Democratic People's Republic of Korea",
            "Lao People's Democratic Republic",
            "Malaysia",
            "Papua New Guinea",
            "Philippines",
            "Republic of Korea",
            "Solomon Islands",
            "Vanuatu",
            "Viet Nam"
           ],
           "legendgroup": "Western Pacific",
           "marker": {
            "color": "#19d3f3",
            "size": [
             25152,
             56,
             10535,
             48071,
             3147,
             281182,
             4903,
             557,
             18404,
             982,
             15752
            ],
            "sizemode": "area",
            "sizeref": 5068.046611570248,
            "symbol": "circle"
           },
           "mode": "markers",
           "name": "Western Pacific",
           "orientation": "v",
           "showlegend": true,
           "type": "scatter",
           "x": [
            25152,
            56,
            10535,
            48071,
            3147,
            281182,
            4903,
            557,
            18404,
            982,
            15752
           ],
           "xaxis": "x",
           "y": [
            18,
            0,
            0,
            4,
            4,
            203,
            10,
            0,
            23,
            0,
            6
           ],
           "yaxis": "y"
          }
         ],
         "name": "2014"
        },
        {
         "data": [
          {
           "hovertemplate": "<b>%{hovertext}</b><br><br>WHO Region=Eastern Mediterranean<br>Year=2013<br>No. of cases=%{marker.size}<br>No. of deaths=%{y}<extra></extra>",
           "hovertext": [
            "Afghanistan",
            "Djibouti",
            "Egypt",
            "Iran (Islamic Republic of)",
            "Iraq",
            "Morocco",
            "Oman",
            "Pakistan",
            "Saudi Arabia",
            "Somalia",
            "Sudan",
            "Syrian Arab Republic",
            "United Arab Emirates",
            "Yemen"
           ],
           "ids": [
            "Afghanistan",
            "Djibouti",
            "Egypt",
            "Iran (Islamic Republic of)",
            "Iraq",
            "Morocco",
            "Oman",
            "Pakistan",
            "Saudi Arabia",
            "Somalia",
            "Sudan",
            "Syrian Arab Republic",
            "United Arab Emirates",
            "Yemen"
           ],
           "legendgroup": "Eastern Mediterranean",
           "marker": {
            "color": "#636efa",
            "size": [
             39263,
             1684,
             0,
             479,
             0,
             0,
             0,
             281755,
             34,
             8944,
             592383,
             0,
             0,
             102778
            ],
            "sizemode": "area",
            "sizeref": 5068.046611570248,
            "symbol": "circle"
           },
           "mode": "markers",
           "name": "Eastern Mediterranean",
           "orientation": "v",
           "showlegend": true,
           "type": "scatter",
           "x": [
            39263,
            1684,
            0,
            479,
            0,
            0,
            0,
            281755,
            34,
            8944,
            592383,
            0,
            0,
            102778
           ],
           "xaxis": "x",
           "y": [
            24,
            17,
            30,
            0,
            0,
            0,
            0,
            244,
            0,
            23,
            685,
            1,
            30,
            55
           ],
           "yaxis": "y"
          },
          {
           "hovertemplate": "<b>%{hovertext}</b><br><br>WHO Region=Africa<br>Year=2013<br>No. of cases=%{marker.size}<br>No. of deaths=%{y}<extra></extra>",
           "hovertext": [
            "Algeria",
            "Angola",
            "Benin",
            "Botswana",
            "Burkina Faso",
            "Burundi",
            "Cabo Verde",
            "Cameroon",
            "Central African Republic",
            "Chad",
            "Comoros",
            "Côte d'Ivoire",
            "Democratic Republic of the Congo",
            "Equatorial Guinea",
            "Eritrea",
            "Eswatini",
            "Ethiopia",
            "Gabon",
            "Gambia",
            "Ghana",
            "Guinea",
            "Guinea-Bissau",
            "Kenya",
            "Liberia",
            "Madagascar",
            "Malawi",
            "Mali",
            "Mauritania",
            "Mauritius",
            "Mozambique",
            "Namibia",
            "Niger",
            "Nigeria",
            "Rwanda",
            "Sao Tome and Principe",
            "Senegal",
            "Sierra Leone",
            "South Africa",
            "South Sudan",
            "Togo",
            "Uganda",
            "United Republic of Tanzania",
            "Zambia",
            "Zimbabwe"
           ],
           "ids": [
            "Algeria",
            "Angola",
            "Benin",
            "Botswana",
            "Burkina Faso",
            "Burundi",
            "Cabo Verde",
            "Cameroon",
            "Central African Republic",
            "Chad",
            "Comoros",
            "Côte d'Ivoire",
            "Democratic Republic of the Congo",
            "Equatorial Guinea",
            "Eritrea",
            "Eswatini",
            "Ethiopia",
            "Gabon",
            "Gambia",
            "Ghana",
            "Guinea",
            "Guinea-Bissau",
            "Kenya",
            "Liberia",
            "Madagascar",
            "Malawi",
            "Mali",
            "Mauritania",
            "Mauritius",
            "Mozambique",
            "Namibia",
            "Niger",
            "Nigeria",
            "Rwanda",
            "Sao Tome and Principe",
            "Senegal",
            "Sierra Leone",
            "South Africa",
            "South Sudan",
            "Togo",
            "Uganda",
            "United Republic of Tanzania",
            "Zambia",
            "Zimbabwe"
           ],
           "legendgroup": "Africa",
           "marker": {
            "color": "#EF553B",
            "size": [
             8,
             1999868,
             1078834,
             456,
             3769051,
             4141387,
             22,
             26651,
             116300,
             754565,
             53156,
             2506953,
             6715223,
             13129,
             21317,
             962,
             2645454,
             28982,
             240792,
             1639451,
             211257,
             54584,
             2335286,
             1244220,
             385598,
             1280892,
             1367218,
             13085,
             14792,
             2998874,
             4911,
             2353422,
             14792,
             962618,
             9243,
             366687,
             1701958,
             8645,
             262520,
             882430,
             1502362,
             1551923,
             14792,
             422633
            ],
            "sizemode": "area",
            "sizeref": 5068.046611570248,
            "symbol": "circle"
           },
           "mode": "markers",
           "name": "Africa",
           "orientation": "v",
           "showlegend": true,
           "type": "scatter",
           "x": [
            8,
            1999868,
            1078834,
            456,
            3769051,
            4141387,
            22,
            26651,
            116300,
            754565,
            53156,
            2506953,
            6715223,
            13129,
            21317,
            962,
            2645454,
            28982,
            240792,
            1639451,
            211257,
            54584,
            2335286,
            1244220,
            385598,
            1280892,
            1367218,
            13085,
            14792,
            2998874,
            4911,
            2353422,
            14792,
            962618,
            9243,
            366687,
            1701958,
            8645,
            262520,
            882430,
            1502362,
            1551923,
            14792,
            422633
           ],
           "xaxis": "x",
           "y": [
            0,
            7300,
            2288,
            7,
            6294,
            3411,
            0,
            4349,
            1026,
            1881,
            15,
            3261,
            30918,
            66,
            6,
            4,
            358,
            273,
            262,
            2506,
            108,
            418,
            360,
            1191,
            641,
            3723,
            1680,
            46,
            30,
            2941,
            21,
            2209,
            7878,
            409,
            11,
            815,
            4326,
            105,
            1311,
            1361,
            7277,
            8528,
            3548,
            352
           ],
           "yaxis": "y"
          },
          {
           "hovertemplate": "<b>%{hovertext}</b><br><br>WHO Region=Americas<br>Year=2013<br>No. of cases=%{marker.size}<br>No. of deaths=%{y}<extra></extra>",
           "hovertext": [
            "Argentina",
            "Belize",
            "Bolivia (Plurinational State of)",
            "Brazil",
            "Colombia",
            "Congo",
            "Costa Rica",
            "Dominican Republic",
            "Ecuador",
            "El Salvador",
            "Guatemala",
            "Guyana",
            "Haiti",
            "Honduras",
            "Mexico",
            "Nicaragua",
            "Panama",
            "Paraguay",
            "Peru",
            "Suriname",
            "Venezuela (Bolivarian Republic of)"
           ],
           "ids": [
            "Argentina",
            "Belize",
            "Bolivia (Plurinational State of)",
            "Brazil",
            "Colombia",
            "Congo",
            "Costa Rica",
            "Dominican Republic",
            "Ecuador",
            "El Salvador",
            "Guatemala",
            "Guyana",
            "Haiti",
            "Honduras",
            "Mexico",
            "Nicaragua",
            "Panama",
            "Paraguay",
            "Peru",
            "Suriname",
            "Venezuela (Bolivarian Republic of)"
           ],
           "legendgroup": "Americas",
           "marker": {
            "color": "#00cc96",
            "size": [
             0,
             20,
             7301,
             168862,
             51696,
             43232,
             0,
             579,
             368,
             6,
             6214,
             31479,
             20957,
             5428,
             495,
             1162,
             705,
             0,
             48719,
             729,
             78643
            ],
            "sizemode": "area",
            "sizeref": 5068.046611570248,
            "symbol": "circle"
           },
           "mode": "markers",
           "name": "Americas",
           "orientation": "v",
           "showlegend": true,
           "type": "scatter",
           "x": [
            0,
            20,
            7301,
            168862,
            51696,
            43232,
            0,
            579,
            368,
            6,
            6214,
            31479,
            20957,
            5428,
            495,
            1162,
            705,
            0,
            48719,
            729,
            78643
           ],
           "xaxis": "x",
           "y": [
            0,
            0,
            0,
            40,
            10,
            2870,
            0,
            5,
            0,
            0,
            1,
            14,
            10,
            1,
            0,
            0,
            0,
            0,
            4,
            1,
            6
           ],
           "yaxis": "y"
          },
          {
           "hovertemplate": "<b>%{hovertext}</b><br><br>WHO Region=Europe<br>Year=2013<br>No. of cases=%{marker.size}<br>No. of deaths=%{y}<extra></extra>",
           "hovertext": [
            "Armenia",
            "Azerbaijan",
            "Georgia",
            "Kazakhstan",
            "Kyrgyzstan",
            "Tajikistan",
            "Turkey",
            "Turkmenistan",
            "Uzbekistan"
           ],
           "ids": [
            "Armenia",
            "Azerbaijan",
            "Georgia",
            "Kazakhstan",
            "Kyrgyzstan",
            "Tajikistan",
            "Turkey",
            "Turkmenistan",
            "Uzbekistan"
           ],
           "legendgroup": "Europe",
           "marker": {
            "color": "#ab63fa",
            "size": [
             0,
             0,
             0,
             14792,
             0,
             3,
             0,
             14792,
             0
            ],
            "sizemode": "area",
            "sizeref": 5068.046611570248,
            "symbol": "circle"
           },
           "mode": "markers",
           "name": "Europe",
           "orientation": "v",
           "showlegend": true,
           "type": "scatter",
           "x": [
            0,
            0,
            0,
            14792,
            0,
            3,
            0,
            14792,
            0
           ],
           "xaxis": "x",
           "y": [
            0,
            0,
            0,
            30,
            0,
            0,
            3,
            0,
            0
           ],
           "yaxis": "y"
          },
          {
           "hovertemplate": "<b>%{hovertext}</b><br><br>WHO Region=South-East Asia<br>Year=2013<br>No. of cases=%{marker.size}<br>No. of deaths=%{y}<extra></extra>",
           "hovertext": [
            "Bangladesh",
            "Bhutan",
            "India",
            "Indonesia",
            "Myanmar",
            "Nepal",
            "Sri Lanka",
            "Thailand",
            "Timor-Leste"
           ],
           "ids": [
            "Bangladesh",
            "Bhutan",
            "India",
            "Indonesia",
            "Myanmar",
            "Nepal",
            "Sri Lanka",
            "Thailand",
            "Timor-Leste"
           ],
           "legendgroup": "South-East Asia",
           "marker": {
            "color": "#FFA15A",
            "size": [
             3864,
             15,
             881730,
             343527,
             333871,
             1974,
             0,
             33302,
             1025
            ],
            "sizemode": "area",
            "sizeref": 5068.046611570248,
            "symbol": "circle"
           },
           "mode": "markers",
           "name": "South-East Asia",
           "orientation": "v",
           "showlegend": true,
           "type": "scatter",
           "x": [
            3864,
            15,
            881730,
            343527,
            333871,
            1974,
            0,
            33302,
            1025
           ],
           "xaxis": "x",
           "y": [
            15,
            0,
            440,
            385,
            236,
            0,
            0,
            47,
            3
           ],
           "yaxis": "y"
          },
          {
           "hovertemplate": "<b>%{hovertext}</b><br><br>WHO Region=Western Pacific<br>Year=2013<br>No. of cases=%{marker.size}<br>No. of deaths=%{y}<extra></extra>",
           "hovertext": [
            "Cambodia",
            "China",
            "Democratic People's Republic of Korea",
            "Lao People's Democratic Republic",
            "Malaysia",
            "Papua New Guinea",
            "Philippines",
            "Republic of Korea",
            "Solomon Islands",
            "Vanuatu",
            "Viet Nam"
           ],
           "ids": [
            "Cambodia",
            "China",
            "Democratic People's Republic of Korea",
            "Lao People's Democratic Republic",
            "Malaysia",
            "Papua New Guinea",
            "Philippines",
            "Republic of Korea",
            "Solomon Islands",
            "Vanuatu",
            "Viet Nam"
           ],
           "legendgroup": "Western Pacific",
           "marker": {
            "color": "#19d3f3",
            "size": [
             21309,
             86,
             14407,
             38131,
             2921,
             279994,
             6514,
             383,
             25609,
             2381,
             17128
            ],
            "sizemode": "area",
            "sizeref": 5068.046611570248,
            "symbol": "circle"
           },
           "mode": "markers",
           "name": "Western Pacific",
           "orientation": "v",
           "showlegend": true,
           "type": "scatter",
           "x": [
            21309,
            86,
            14407,
            38131,
            2921,
            279994,
            6514,
            383,
            25609,
            2381,
            17128
           ],
           "xaxis": "x",
           "y": [
            12,
            0,
            0,
            28,
            10,
            307,
            12,
            0,
            18,
            0,
            6
           ],
           "yaxis": "y"
          }
         ],
         "name": "2013"
        },
        {
         "data": [
          {
           "hovertemplate": "<b>%{hovertext}</b><br><br>WHO Region=Eastern Mediterranean<br>Year=2012<br>No. of cases=%{marker.size}<br>No. of deaths=%{y}<extra></extra>",
           "hovertext": [
            "Afghanistan",
            "Djibouti",
            "Egypt",
            "Iran (Islamic Republic of)",
            "Iraq",
            "Morocco",
            "Oman",
            "Pakistan",
            "Saudi Arabia",
            "Somalia",
            "Sudan",
            "Syrian Arab Republic",
            "United Arab Emirates",
            "Yemen"
           ],
           "ids": [
            "Afghanistan",
            "Djibouti",
            "Egypt",
            "Iran (Islamic Republic of)",
            "Iraq",
            "Morocco",
            "Oman",
            "Pakistan",
            "Saudi Arabia",
            "Somalia",
            "Sudan",
            "Syrian Arab Republic",
            "United Arab Emirates",
            "Yemen"
           ],
           "legendgroup": "Eastern Mediterranean",
           "marker": {
            "color": "#636efa",
            "size": [
             54840,
             25,
             0,
             756,
             0,
             0,
             0,
             290781,
             82,
             35712,
             526931,
             0,
             14792,
             109908
            ],
            "sizemode": "area",
            "sizeref": 5068.046611570248,
            "symbol": "circle"
           },
           "mode": "markers",
           "name": "Eastern Mediterranean",
           "orientation": "v",
           "showlegend": true,
           "type": "scatter",
           "x": [
            54840,
            25,
            0,
            756,
            0,
            0,
            0,
            290781,
            82,
            35712,
            526931,
            0,
            14792,
            109908
           ],
           "xaxis": "x",
           "y": [
            36,
            0,
            30,
            0,
            0,
            30,
            0,
            260,
            0,
            10,
            618,
            1,
            30,
            72
           ],
           "yaxis": "y"
          },
          {
           "hovertemplate": "<b>%{hovertext}</b><br><br>WHO Region=Africa<br>Year=2012<br>No. of cases=%{marker.size}<br>No. of deaths=%{y}<extra></extra>",
           "hovertext": [
            "Algeria",
            "Angola",
            "Benin",
            "Botswana",
            "Burkina Faso",
            "Burundi",
            "Cabo Verde",
            "Cameroon",
            "Central African Republic",
            "Chad",
            "Comoros",
            "Côte d'Ivoire",
            "Democratic Republic of the Congo",
            "Equatorial Guinea",
            "Eritrea",
            "Eswatini",
            "Ethiopia",
            "Gabon",
            "Gambia",
            "Ghana",
            "Guinea",
            "Guinea-Bissau",
            "Kenya",
            "Liberia",
            "Madagascar",
            "Malawi",
            "Mali",
            "Mauritania",
            "Mauritius",
            "Mozambique",
            "Namibia",
            "Niger",
            "Nigeria",
            "Rwanda",
            "Sao Tome and Principe",
            "Senegal",
            "Sierra Leone",
            "South Africa",
            "South Sudan",
            "Togo",
            "Uganda",
            "United Republic of Tanzania",
            "Zambia",
            "Zimbabwe"
           ],
           "ids": [
            "Algeria",
            "Angola",
            "Benin",
            "Botswana",
            "Burkina Faso",
            "Burundi",
            "Cabo Verde",
            "Cameroon",
            "Central African Republic",
            "Chad",
            "Comoros",
            "Côte d'Ivoire",
            "Democratic Republic of the Congo",
            "Equatorial Guinea",
            "Eritrea",
            "Eswatini",
            "Ethiopia",
            "Gabon",
            "Gambia",
            "Ghana",
            "Guinea",
            "Guinea-Bissau",
            "Kenya",
            "Liberia",
            "Madagascar",
            "Malawi",
            "Mali",
            "Mauritania",
            "Mauritius",
            "Mozambique",
            "Namibia",
            "Niger",
            "Nigeria",
            "Rwanda",
            "Sao Tome and Principe",
            "Senegal",
            "Sierra Leone",
            "South Africa",
            "South Sudan",
            "Togo",
            "Uganda",
            "United Republic of Tanzania",
            "Zambia",
            "Zimbabwe"
           ],
           "legendgroup": "Africa",
           "marker": {
            "color": "#EF553B",
            "size": [
             55,
             1496834,
             705839,
             193,
             3858046,
             2151076,
             1,
             14792,
             46759,
             7710,
             49840,
             1140627,
             4791598,
             15169,
             21815,
             562,
             1692578,
             19753,
             300363,
             3755166,
             317200,
             50381,
             1453471,
             1407455,
             359420,
             1564984,
             886482,
             9037,
             14792,
             1813984,
             194,
             2239858,
             14792,
             483470,
             12550,
             280241,
             1537322,
             5629,
             225371,
             697374,
             2662258,
             1986955,
             14792,
             276963
            ],
            "sizemode": "area",
            "sizeref": 5068.046611570248,
            "symbol": "circle"
           },
           "mode": "markers",
           "name": "Africa",
           "orientation": "v",
           "showlegend": true,
           "type": "scatter",
           "x": [
            55,
            1496834,
            705839,
            193,
            3858046,
            2151076,
            1,
            14792,
            46759,
            7710,
            49840,
            1140627,
            4791598,
            15169,
            21815,
            562,
            1692578,
            19753,
            300363,
            3755166,
            317200,
            50381,
            1453471,
            1407455,
            359420,
            1564984,
            886482,
            9037,
            14792,
            1813984,
            194,
            2239858,
            14792,
            483470,
            12550,
            280241,
            1537322,
            5629,
            225371,
            697374,
            2662258,
            1986955,
            14792,
            276963
           ],
           "xaxis": "x",
           "y": [
            0,
            5736,
            2261,
            3,
            7963,
            2263,
            0,
            3209,
            1442,
            1359,
            17,
            1534,
            21601,
            77,
            30,
            3,
            1621,
            134,
            289,
            2855,
            979,
            370,
            785,
            1725,
            552,
            5516,
            1894,
            106,
            30,
            2818,
            4,
            2825,
            7734,
            459,
            7,
            649,
            3611,
            72,
            1321,
            1197,
            6585,
            7820,
            3705,
            351
           ],
           "yaxis": "y"
          },
          {
           "hovertemplate": "<b>%{hovertext}</b><br><br>WHO Region=Americas<br>Year=2012<br>No. of cases=%{marker.size}<br>No. of deaths=%{y}<extra></extra>",
           "hovertext": [
            "Argentina",
            "Belize",
            "Bolivia (Plurinational State of)",
            "Brazil",
            "Colombia",
            "Congo",
            "Costa Rica",
            "Dominican Republic",
            "Ecuador",
            "El Salvador",
            "Guatemala",
            "Guyana",
            "Haiti",
            "Honduras",
            "Mexico",
            "Nicaragua",
            "Panama",
            "Paraguay",
            "Peru",
            "Suriname",
            "Venezuela (Bolivarian Republic of)"
           ],
           "ids": [
            "Argentina",
            "Belize",
            "Bolivia (Plurinational State of)",
            "Brazil",
            "Colombia",
            "Congo",
            "Costa Rica",
            "Dominican Republic",
            "Ecuador",
            "El Salvador",
            "Guatemala",
            "Guyana",
            "Haiti",
            "Honduras",
            "Mexico",
            "Nicaragua",
            "Panama",
            "Paraguay",
            "Peru",
            "Suriname",
            "Venezuela (Bolivarian Republic of)"
           ],
           "legendgroup": "Americas",
           "marker": {
            "color": "#00cc96",
            "size": [
             0,
             33,
             7415,
             242758,
             60179,
             120319,
             6,
             952,
             544,
             13,
             5346,
             31656,
             25423,
             6437,
             833,
             1235,
             844,
             0,
             31436,
             356,
             52803
            ],
            "sizemode": "area",
            "sizeref": 5068.046611570248,
            "symbol": "circle"
           },
           "mode": "markers",
           "name": "Americas",
           "orientation": "v",
           "showlegend": true,
           "type": "scatter",
           "x": [
            0,
            33,
            7415,
            242758,
            60179,
            120319,
            6,
            952,
            544,
            13,
            5346,
            31656,
            25423,
            6437,
            833,
            1235,
            844,
            0,
            31436,
            356,
            52803
           ],
           "xaxis": "x",
           "y": [
            0,
            0,
            0,
            60,
            24,
            623,
            0,
            8,
            0,
            0,
            0,
            35,
            6,
            1,
            0,
            2,
            1,
            0,
            7,
            0,
            10
           ],
           "yaxis": "y"
          },
          {
           "hovertemplate": "<b>%{hovertext}</b><br><br>WHO Region=Europe<br>Year=2012<br>No. of cases=%{marker.size}<br>No. of deaths=%{y}<extra></extra>",
           "hovertext": [
            "Armenia",
            "Azerbaijan",
            "Georgia",
            "Kazakhstan",
            "Kyrgyzstan",
            "Tajikistan",
            "Turkey",
            "Turkmenistan",
            "Uzbekistan"
           ],
           "ids": [
            "Armenia",
            "Azerbaijan",
            "Georgia",
            "Kazakhstan",
            "Kyrgyzstan",
            "Tajikistan",
            "Turkey",
            "Turkmenistan",
            "Uzbekistan"
           ],
           "legendgroup": "Europe",
           "marker": {
            "color": "#ab63fa",
            "size": [
             0,
             3,
             0,
             14792,
             0,
             18,
             0,
             14792,
             0
            ],
            "sizemode": "area",
            "sizeref": 5068.046611570248,
            "symbol": "circle"
           },
           "mode": "markers",
           "name": "Europe",
           "orientation": "v",
           "showlegend": true,
           "type": "scatter",
           "x": [
            0,
            3,
            0,
            14792,
            0,
            18,
            0,
            14792,
            0
           ],
           "xaxis": "x",
           "y": [
            0,
            0,
            0,
            30,
            0,
            0,
            0,
            0,
            0
           ],
           "yaxis": "y"
          },
          {
           "hovertemplate": "<b>%{hovertext}</b><br><br>WHO Region=South-East Asia<br>Year=2012<br>No. of cases=%{marker.size}<br>No. of deaths=%{y}<extra></extra>",
           "hovertext": [
            "Bangladesh",
            "Bhutan",
            "India",
            "Indonesia",
            "Myanmar",
            "Nepal",
            "Sri Lanka",
            "Thailand",
            "Timor-Leste"
           ],
           "ids": [
            "Bangladesh",
            "Bhutan",
            "India",
            "Indonesia",
            "Myanmar",
            "Nepal",
            "Sri Lanka",
            "Thailand",
            "Timor-Leste"
           ],
           "legendgroup": "South-East Asia",
           "marker": {
            "color": "#FFA15A",
            "size": [
             9901,
             14792,
             1067824,
             417819,
             480586,
             2092,
             23,
             32569,
             5211
            ],
            "sizemode": "area",
            "sizeref": 5068.046611570248,
            "symbol": "circle"
           },
           "mode": "markers",
           "name": "South-East Asia",
           "orientation": "v",
           "showlegend": true,
           "type": "scatter",
           "x": [
            9901,
            14792,
            1067824,
            417819,
            480586,
            2092,
            23,
            32569,
            5211
           ],
           "xaxis": "x",
           "y": [
            11,
            1,
            519,
            252,
            403,
            0,
            0,
            37,
            3
           ],
           "yaxis": "y"
          },
          {
           "hovertemplate": "<b>%{hovertext}</b><br><br>WHO Region=Western Pacific<br>Year=2012<br>No. of cases=%{marker.size}<br>No. of deaths=%{y}<extra></extra>",
           "hovertext": [
            "Cambodia",
            "China",
            "Democratic People's Republic of Korea",
            "Lao People's Democratic Republic",
            "Malaysia",
            "Papua New Guinea",
            "Philippines",
            "Republic of Korea",
            "Solomon Islands",
            "Vanuatu",
            "Viet Nam"
           ],
           "ids": [
            "Cambodia",
            "China",
            "Democratic People's Republic of Korea",
            "Lao People's Democratic Republic",
            "Malaysia",
            "Papua New Guinea",
            "Philippines",
            "Republic of Korea",
            "Solomon Islands",
            "Vanuatu",
            "Viet Nam"
           ],
           "legendgroup": "Western Pacific",
           "marker": {
            "color": "#19d3f3",
            "size": [
             40476,
             244,
             21850,
             46202,
             3662,
             150195,
             7133,
             394,
             24383,
             3435,
             19638
            ],
            "sizemode": "area",
            "sizeref": 5068.046611570248,
            "symbol": "circle"
           },
           "mode": "markers",
           "name": "Western Pacific",
           "orientation": "v",
           "showlegend": true,
           "type": "scatter",
           "x": [
            40476,
            244,
            21850,
            46202,
            3662,
            150195,
            7133,
            394,
            24383,
            3435,
            19638
           ],
           "xaxis": "x",
           "y": [
            45,
            0,
            0,
            44,
            12,
            381,
            16,
            0,
            18,
            0,
            8
           ],
           "yaxis": "y"
          }
         ],
         "name": "2012"
        },
        {
         "data": [
          {
           "hovertemplate": "<b>%{hovertext}</b><br><br>WHO Region=Eastern Mediterranean<br>Year=2011<br>No. of cases=%{marker.size}<br>No. of deaths=%{y}<extra></extra>",
           "hovertext": [
            "Afghanistan",
            "Djibouti",
            "Egypt",
            "Iran (Islamic Republic of)",
            "Iraq",
            "Morocco",
            "Oman",
            "Pakistan",
            "Saudi Arabia",
            "Somalia",
            "Sudan",
            "Syrian Arab Republic",
            "United Arab Emirates",
            "Yemen"
           ],
           "ids": [
            "Afghanistan",
            "Djibouti",
            "Egypt",
            "Iran (Islamic Republic of)",
            "Iraq",
            "Morocco",
            "Oman",
            "Pakistan",
            "Saudi Arabia",
            "Somalia",
            "Sudan",
            "Syrian Arab Republic",
            "United Arab Emirates",
            "Yemen"
           ],
           "legendgroup": "Eastern Mediterranean",
           "marker": {
            "color": "#636efa",
            "size": [
             77549,
             14792,
             0,
             1632,
             0,
             0,
             0,
             334589,
             69,
             3351,
             506806,
             0,
             14792,
             90410
            ],
            "sizemode": "area",
            "sizeref": 5068.046611570248,
            "symbol": "circle"
           },
           "mode": "markers",
           "name": "Eastern Mediterranean",
           "orientation": "v",
           "showlegend": true,
           "type": "scatter",
           "x": [
            77549,
            14792,
            0,
            1632,
            0,
            0,
            0,
            334589,
            69,
            3351,
            506806,
            0,
            14792,
            90410
           ],
           "xaxis": "x",
           "y": [
            40,
            0,
            4,
            0,
            0,
            30,
            0,
            4,
            0,
            5,
            612,
            0,
            30,
            75
           ],
           "yaxis": "y"
          },
          {
           "hovertemplate": "<b>%{hovertext}</b><br><br>WHO Region=Africa<br>Year=2011<br>No. of cases=%{marker.size}<br>No. of deaths=%{y}<extra></extra>",
           "hovertext": [
            "Algeria",
            "Angola",
            "Benin",
            "Botswana",
            "Burkina Faso",
            "Burundi",
            "Cabo Verde",
            "Cameroon",
            "Central African Republic",
            "Chad",
            "Comoros",
            "Côte d'Ivoire",
            "Democratic Republic of the Congo",
            "Equatorial Guinea",
            "Eritrea",
            "Eswatini",
            "Ethiopia",
            "Gabon",
            "Gambia",
            "Ghana",
            "Guinea",
            "Guinea-Bissau",
            "Kenya",
            "Liberia",
            "Madagascar",
            "Malawi",
            "Mali",
            "Mauritania",
            "Mauritius",
            "Mozambique",
            "Namibia",
            "Niger",
            "Nigeria",
            "Rwanda",
            "Sao Tome and Principe",
            "Senegal",
            "Sierra Leone",
            "South Africa",
            "South Sudan",
            "Togo",
            "Uganda",
            "United Republic of Tanzania",
            "Zambia",
            "Zimbabwe"
           ],
           "ids": [
            "Algeria",
            "Angola",
            "Benin",
            "Botswana",
            "Burkina Faso",
            "Burundi",
            "Cabo Verde",
            "Cameroon",
            "Central African Republic",
            "Chad",
            "Comoros",
            "Côte d'Ivoire",
            "Democratic Republic of the Congo",
            "Equatorial Guinea",
            "Eritrea",
            "Eswatini",
            "Ethiopia",
            "Gabon",
            "Gambia",
            "Ghana",
            "Guinea",
            "Guinea-Bissau",
            "Kenya",
            "Liberia",
            "Madagascar",
            "Malawi",
            "Mali",
            "Mauritania",
            "Mauritius",
            "Mozambique",
            "Namibia",
            "Niger",
            "Nigeria",
            "Rwanda",
            "Sao Tome and Principe",
            "Senegal",
            "Sierra Leone",
            "South Africa",
            "South Sudan",
            "Togo",
            "Uganda",
            "United Republic of Tanzania",
            "Zambia",
            "Zimbabwe"
           ],
           "legendgroup": "Africa",
           "marker": {
            "color": "#EF553B",
            "size": [
             1,
             1632282,
             422968,
             432,
             428113,
             1571874,
             7,
             15212,
             14792,
             181126,
             24856,
             29976,
             4561981,
             22466,
             34848,
             549,
             1480306,
             14792,
             261967,
             1041260,
             95574,
             71982,
             1002805,
             1915762,
             224498,
             304499,
             307035,
             5991,
             14792,
             1756874,
             1860,
             780876,
             14792,
             208858,
             8442,
             274119,
             638859,
             9866,
             112024,
             519450,
             231873,
             2150761,
             14792,
             319935
            ],
            "sizemode": "area",
            "sizeref": 5068.046611570248,
            "symbol": "circle"
           },
           "mode": "markers",
           "name": "Africa",
           "orientation": "v",
           "showlegend": true,
           "type": "scatter",
           "x": [
            1,
            1632282,
            422968,
            432,
            428113,
            1571874,
            7,
            15212,
            14792,
            181126,
            24856,
            29976,
            4561981,
            22466,
            34848,
            549,
            1480306,
            14792,
            261967,
            1041260,
            95574,
            71982,
            1002805,
            1915762,
            224498,
            304499,
            307035,
            5991,
            14792,
            1756874,
            1860,
            780876,
            14792,
            208858,
            8442,
            274119,
            638859,
            9866,
            112024,
            519450,
            231873,
            2150761,
            14792,
            319935
           ],
           "xaxis": "x",
           "y": [
            0,
            6909,
            1753,
            8,
            7001,
            2233,
            1,
            3808,
            858,
            1220,
            19,
            1389,
            23748,
            52,
            12,
            1,
            936,
            74,
            440,
            3259,
            743,
            472,
            713,
            30,
            398,
            6674,
            2128,
            66,
            30,
            3086,
            36,
            2802,
            3353,
            380,
            19,
            472,
            3573,
            54,
            406,
            1314,
            5958,
            11806,
            4540,
            451
           ],
           "yaxis": "y"
          },
          {
           "hovertemplate": "<b>%{hovertext}</b><br><br>WHO Region=Americas<br>Year=2011<br>No. of cases=%{marker.size}<br>No. of deaths=%{y}<extra></extra>",
           "hovertext": [
            "Argentina",
            "Belize",
            "Bolivia (Plurinational State of)",
            "Brazil",
            "Colombia",
            "Congo",
            "Costa Rica",
            "Dominican Republic",
            "Ecuador",
            "El Salvador",
            "Guatemala",
            "Guyana",
            "Haiti",
            "Honduras",
            "Mexico",
            "Nicaragua",
            "Panama",
            "Paraguay",
            "Peru",
            "Suriname",
            "Venezuela (Bolivarian Republic of)"
           ],
           "ids": [
            "Argentina",
            "Belize",
            "Bolivia (Plurinational State of)",
            "Brazil",
            "Colombia",
            "Congo",
            "Costa Rica",
            "Dominican Republic",
            "Ecuador",
            "El Salvador",
            "Guatemala",
            "Guyana",
            "Haiti",
            "Honduras",
            "Mexico",
            "Nicaragua",
            "Panama",
            "Paraguay",
            "Peru",
            "Suriname",
            "Venezuela (Bolivarian Republic of)"
           ],
           "legendgroup": "Americas",
           "marker": {
            "color": "#00cc96",
            "size": [
             0,
             72,
             7143,
             267146,
             60105,
             37744,
             10,
             1616,
             1219,
             9,
             6817,
             29506,
             34350,
             7510,
             1124,
             925,
             354,
             1,
             25039,
             771,
             45824
            ],
            "sizemode": "area",
            "sizeref": 5068.046611570248,
            "symbol": "circle"
           },
           "mode": "markers",
           "name": "Americas",
           "orientation": "v",
           "showlegend": true,
           "type": "scatter",
           "x": [
            0,
            72,
            7143,
            267146,
            60105,
            37744,
            10,
            1616,
            1219,
            9,
            6817,
            29506,
            34350,
            7510,
            1124,
            925,
            354,
            1,
            25039,
            771,
            45824
           ],
           "xaxis": "x",
           "y": [
            0,
            0,
            0,
            70,
            23,
            892,
            0,
            10,
            0,
            0,
            0,
            36,
            5,
            2,
            0,
            1,
            0,
            0,
            1,
            1,
            16
           ],
           "yaxis": "y"
          },
          {
           "hovertemplate": "<b>%{hovertext}</b><br><br>WHO Region=Europe<br>Year=2011<br>No. of cases=%{marker.size}<br>No. of deaths=%{y}<extra></extra>",
           "hovertext": [
            "Armenia",
            "Azerbaijan",
            "Georgia",
            "Kazakhstan",
            "Kyrgyzstan",
            "Tajikistan",
            "Turkey",
            "Turkmenistan",
            "Uzbekistan"
           ],
           "ids": [
            "Armenia",
            "Azerbaijan",
            "Georgia",
            "Kazakhstan",
            "Kyrgyzstan",
            "Tajikistan",
            "Turkey",
            "Turkmenistan",
            "Uzbekistan"
           ],
           "legendgroup": "Europe",
           "marker": {
            "color": "#ab63fa",
            "size": [
             0,
             4,
             0,
             14792,
             0,
             65,
             0,
             14792,
             0
            ],
            "sizemode": "area",
            "sizeref": 5068.046611570248,
            "symbol": "circle"
           },
           "mode": "markers",
           "name": "Europe",
           "orientation": "v",
           "showlegend": true,
           "type": "scatter",
           "x": [
            0,
            4,
            0,
            14792,
            0,
            65,
            0,
            14792,
            0
           ],
           "xaxis": "x",
           "y": [
            0,
            0,
            0,
            30,
            1,
            0,
            4,
            0,
            0
           ],
           "yaxis": "y"
          },
          {
           "hovertemplate": "<b>%{hovertext}</b><br><br>WHO Region=South-East Asia<br>Year=2011<br>No. of cases=%{marker.size}<br>No. of deaths=%{y}<extra></extra>",
           "hovertext": [
            "Bangladesh",
            "Bhutan",
            "India",
            "Indonesia",
            "Myanmar",
            "Nepal",
            "Sri Lanka",
            "Thailand",
            "Timor-Leste"
           ],
           "ids": [
            "Bangladesh",
            "Bhutan",
            "India",
            "Indonesia",
            "Myanmar",
            "Nepal",
            "Sri Lanka",
            "Thailand",
            "Timor-Leste"
           ],
           "legendgroup": "South-East Asia",
           "marker": {
            "color": "#FFA15A",
            "size": [
             51773,
             194,
             1310656,
             422447,
             465294,
             3414,
             124,
             24897,
             19739
            ],
            "sizemode": "area",
            "sizeref": 5068.046611570248,
            "symbol": "circle"
           },
           "mode": "markers",
           "name": "South-East Asia",
           "orientation": "v",
           "showlegend": true,
           "type": "scatter",
           "x": [
            51773,
            194,
            1310656,
            422447,
            465294,
            3414,
            124,
            24897,
            19739
           ],
           "xaxis": "x",
           "y": [
            36,
            1,
            754,
            388,
            581,
            2,
            0,
            43,
            16
           ],
           "yaxis": "y"
          },
          {
           "hovertemplate": "<b>%{hovertext}</b><br><br>WHO Region=Western Pacific<br>Year=2011<br>No. of cases=%{marker.size}<br>No. of deaths=%{y}<extra></extra>",
           "hovertext": [
            "Cambodia",
            "China",
            "Democratic People's Republic of Korea",
            "Lao People's Democratic Republic",
            "Malaysia",
            "Papua New Guinea",
            "Philippines",
            "Republic of Korea",
            "Solomon Islands",
            "Vanuatu",
            "Viet Nam"
           ],
           "ids": [
            "Cambodia",
            "China",
            "Democratic People's Republic of Korea",
            "Lao People's Democratic Republic",
            "Malaysia",
            "Papua New Guinea",
            "Philippines",
            "Republic of Korea",
            "Solomon Islands",
            "Vanuatu",
            "Viet Nam"
           ],
           "legendgroup": "Western Pacific",
           "marker": {
            "color": "#19d3f3",
            "size": [
             57423,
             3367,
             16760,
             17532,
             3954,
             84060,
             9552,
             505,
             26657,
             4820,
             16612
            ],
            "sizemode": "area",
            "sizeref": 5068.046611570248,
            "symbol": "circle"
           },
           "mode": "markers",
           "name": "Western Pacific",
           "orientation": "v",
           "showlegend": true,
           "type": "scatter",
           "x": [
            57423,
            3367,
            16760,
            17532,
            3954,
            84060,
            9552,
            505,
            26657,
            4820,
            16612
           ],
           "xaxis": "x",
           "y": [
            94,
            33,
            0,
            17,
            12,
            523,
            12,
            2,
            19,
            1,
            14
           ],
           "yaxis": "y"
          }
         ],
         "name": "2011"
        },
        {
         "data": [
          {
           "hovertemplate": "<b>%{hovertext}</b><br><br>WHO Region=Eastern Mediterranean<br>Year=2010<br>No. of cases=%{marker.size}<br>No. of deaths=%{y}<extra></extra>",
           "hovertext": [
            "Afghanistan",
            "Djibouti",
            "Egypt",
            "Iran (Islamic Republic of)",
            "Iraq",
            "Morocco",
            "Oman",
            "Pakistan",
            "Saudi Arabia",
            "Somalia",
            "Sudan",
            "Syrian Arab Republic",
            "United Arab Emirates",
            "Yemen"
           ],
           "ids": [
            "Afghanistan",
            "Djibouti",
            "Egypt",
            "Iran (Islamic Republic of)",
            "Iraq",
            "Morocco",
            "Oman",
            "Pakistan",
            "Saudi Arabia",
            "Somalia",
            "Sudan",
            "Syrian Arab Republic",
            "United Arab Emirates",
            "Yemen"
           ],
           "legendgroup": "Eastern Mediterranean",
           "marker": {
            "color": "#636efa",
            "size": [
             69397,
             1010,
             0,
             1847,
             0,
             3,
             7,
             240591,
             29,
             24553,
             720557,
             0,
             14792,
             106697
            ],
            "sizemode": "area",
            "sizeref": 5068.046611570248,
            "symbol": "circle"
           },
           "mode": "markers",
           "name": "Eastern Mediterranean",
           "orientation": "v",
           "showlegend": true,
           "type": "scatter",
           "x": [
            69397,
            1010,
            0,
            1847,
            0,
            3,
            7,
            240591,
            29,
            24553,
            720557,
            0,
            14792,
            106697
           ],
           "xaxis": "x",
           "y": [
            22,
            0,
            2,
            0,
            0,
            2,
            0,
            30,
            0,
            6,
            1023,
            0,
            30,
            92
           ],
           "yaxis": "y"
          },
          {
           "hovertemplate": "<b>%{hovertext}</b><br><br>WHO Region=Africa<br>Year=2010<br>No. of cases=%{marker.size}<br>No. of deaths=%{y}<extra></extra>",
           "hovertext": [
            "Algeria",
            "Angola",
            "Benin",
            "Botswana",
            "Burkina Faso",
            "Burundi",
            "Cabo Verde",
            "Cameroon",
            "Central African Republic",
            "Chad",
            "Comoros",
            "Côte d'Ivoire",
            "Democratic Republic of the Congo",
            "Equatorial Guinea",
            "Eritrea",
            "Eswatini",
            "Ethiopia",
            "Gabon",
            "Gambia",
            "Ghana",
            "Guinea",
            "Guinea-Bissau",
            "Kenya",
            "Liberia",
            "Madagascar",
            "Malawi",
            "Mali",
            "Mauritania",
            "Mauritius",
            "Mozambique",
            "Namibia",
            "Niger",
            "Nigeria",
            "Rwanda",
            "Sao Tome and Principe",
            "Senegal",
            "Sierra Leone",
            "South Africa",
            "South Sudan",
            "Togo",
            "Uganda",
            "United Republic of Tanzania",
            "Zambia",
            "Zimbabwe"
           ],
           "ids": [
            "Algeria",
            "Angola",
            "Benin",
            "Botswana",
            "Burkina Faso",
            "Burundi",
            "Cabo Verde",
            "Cameroon",
            "Central African Republic",
            "Chad",
            "Comoros",
            "Côte d'Ivoire",
            "Democratic Republic of the Congo",
            "Equatorial Guinea",
            "Eritrea",
            "Eswatini",
            "Ethiopia",
            "Gabon",
            "Gambia",
            "Ghana",
            "Guinea",
            "Guinea-Bissau",
            "Kenya",
            "Liberia",
            "Madagascar",
            "Malawi",
            "Mali",
            "Mauritania",
            "Mauritius",
            "Mozambique",
            "Namibia",
            "Niger",
            "Nigeria",
            "Rwanda",
            "Sao Tome and Principe",
            "Senegal",
            "Sierra Leone",
            "South Africa",
            "South Sudan",
            "Togo",
            "Uganda",
            "United Republic of Tanzania",
            "Zambia",
            "Zimbabwe"
           ],
           "legendgroup": "Africa",
           "marker": {
            "color": "#EF553B",
            "size": [
             1,
             1682870,
             14792,
             1046,
             804539,
             1763447,
             47,
             14792,
             14792,
             200448,
             36538,
             62726,
             2417780,
             53813,
             35982,
             268,
             1158197,
             13936,
             116353,
             1071637,
             20936,
             50391,
             898531,
             922173,
             202450,
             14792,
             227482,
             6367,
             14792,
             1522577,
             556,
             620058,
             551187,
             638669,
             2740,
             330331,
             934028,
             8060,
             900283,
             617101,
             1581160,
             1278998,
             14792,
             249379
            ],
            "sizemode": "area",
            "sizeref": 5068.046611570248,
            "symbol": "circle"
           },
           "mode": "markers",
           "name": "Africa",
           "orientation": "v",
           "showlegend": true,
           "type": "scatter",
           "x": [
            1,
            1682870,
            14792,
            1046,
            804539,
            1763447,
            47,
            14792,
            14792,
            200448,
            36538,
            62726,
            2417780,
            53813,
            35982,
            268,
            1158197,
            13936,
            116353,
            1071637,
            20936,
            50391,
            898531,
            922173,
            202450,
            14792,
            227482,
            6367,
            14792,
            1522577,
            556,
            620058,
            551187,
            638669,
            2740,
            330331,
            934028,
            8060,
            900283,
            617101,
            1581160,
            1278998,
            14792,
            249379
           ],
           "xaxis": "x",
           "y": [
            1,
            8114,
            964,
            8,
            9024,
            2677,
            1,
            4536,
            526,
            886,
            53,
            1023,
            23476,
            30,
            27,
            8,
            1581,
            182,
            151,
            3859,
            735,
            296,
            26017,
            1422,
            427,
            8206,
            3006,
            60,
            30,
            3354,
            63,
            3929,
            4238,
            670,
            14,
            553,
            8188,
            83,
            1053,
            1507,
            8431,
            15867,
            4834,
            255
           ],
           "yaxis": "y"
          },
          {
           "hovertemplate": "<b>%{hovertext}</b><br><br>WHO Region=Americas<br>Year=2010<br>No. of cases=%{marker.size}<br>No. of deaths=%{y}<extra></extra>",
           "hovertext": [
            "Argentina",
            "Belize",
            "Bolivia (Plurinational State of)",
            "Brazil",
            "Colombia",
            "Congo",
            "Costa Rica",
            "Dominican Republic",
            "Ecuador",
            "El Salvador",
            "Guatemala",
            "Guyana",
            "Haiti",
            "Honduras",
            "Mexico",
            "Nicaragua",
            "Panama",
            "Paraguay",
            "Peru",
            "Suriname",
            "Venezuela (Bolivarian Republic of)"
           ],
           "ids": [
            "Argentina",
            "Belize",
            "Bolivia (Plurinational State of)",
            "Brazil",
            "Colombia",
            "Congo",
            "Costa Rica",
            "Dominican Republic",
            "Ecuador",
            "El Salvador",
            "Guatemala",
            "Guyana",
            "Haiti",
            "Honduras",
            "Mexico",
            "Nicaragua",
            "Panama",
            "Paraguay",
            "Peru",
            "Suriname",
            "Venezuela (Bolivarian Republic of)"
           ],
           "legendgroup": "Americas",
           "marker": {
            "color": "#00cc96",
            "size": [
             14,
             150,
             13769,
             334483,
             117589,
             14792,
             110,
             3414,
             1888,
             19,
             7384,
             22935,
             84153,
             9744,
             1226,
             692,
             418,
             18,
             31546,
             1712,
             45155
            ],
            "sizemode": "area",
            "sizeref": 5068.046611570248,
            "symbol": "circle"
           },
           "mode": "markers",
           "name": "Americas",
           "orientation": "v",
           "showlegend": true,
           "type": "scatter",
           "x": [
            14,
            150,
            13769,
            334483,
            117589,
            14792,
            110,
            3414,
            1888,
            19,
            7384,
            22935,
            84153,
            9744,
            1226,
            692,
            418,
            18,
            31546,
            1712,
            45155
           ],
           "xaxis": "x",
           "y": [
            0,
            0,
            0,
            76,
            42,
            30,
            0,
            15,
            0,
            0,
            0,
            24,
            8,
            3,
            0,
            1,
            1,
            0,
            0,
            1,
            18
           ],
           "yaxis": "y"
          },
          {
           "hovertemplate": "<b>%{hovertext}</b><br><br>WHO Region=Europe<br>Year=2010<br>No. of cases=%{marker.size}<br>No. of deaths=%{y}<extra></extra>",
           "hovertext": [
            "Armenia",
            "Azerbaijan",
            "Georgia",
            "Kazakhstan",
            "Kyrgyzstan",
            "Tajikistan",
            "Turkey",
            "Turkmenistan",
            "Uzbekistan"
           ],
           "ids": [
            "Armenia",
            "Azerbaijan",
            "Georgia",
            "Kazakhstan",
            "Kyrgyzstan",
            "Tajikistan",
            "Turkey",
            "Turkmenistan",
            "Uzbekistan"
           ],
           "legendgroup": "Europe",
           "marker": {
            "color": "#ab63fa",
            "size": [
             0,
             50,
             0,
             14792,
             3,
             111,
             0,
             0,
             3
            ],
            "sizemode": "area",
            "sizeref": 5068.046611570248,
            "symbol": "circle"
           },
           "mode": "markers",
           "name": "Europe",
           "orientation": "v",
           "showlegend": true,
           "type": "scatter",
           "x": [
            0,
            50,
            0,
            14792,
            3,
            111,
            0,
            0,
            3
           ],
           "xaxis": "x",
           "y": [
            0,
            0,
            0,
            30,
            0,
            0,
            0,
            0,
            0
           ],
           "yaxis": "y"
          },
          {
           "hovertemplate": "<b>%{hovertext}</b><br><br>WHO Region=South-East Asia<br>Year=2010<br>No. of cases=%{marker.size}<br>No. of deaths=%{y}<extra></extra>",
           "hovertext": [
            "Bangladesh",
            "Bhutan",
            "India",
            "Indonesia",
            "Myanmar",
            "Nepal",
            "Sri Lanka",
            "Thailand",
            "Timor-Leste"
           ],
           "ids": [
            "Bangladesh",
            "Bhutan",
            "India",
            "Indonesia",
            "Myanmar",
            "Nepal",
            "Sri Lanka",
            "Thailand",
            "Timor-Leste"
           ],
           "legendgroup": "South-East Asia",
           "marker": {
            "color": "#FFA15A",
            "size": [
             55873,
             436,
             1599986,
             465764,
             420808,
             3894,
             684,
             32480,
             48137
            ],
            "sizemode": "area",
            "sizeref": 5068.046611570248,
            "symbol": "circle"
           },
           "mode": "markers",
           "name": "South-East Asia",
           "orientation": "v",
           "showlegend": true,
           "type": "scatter",
           "x": [
            55873,
            436,
            1599986,
            465764,
            420808,
            3894,
            684,
            32480,
            48137
           ],
           "xaxis": "x",
           "y": [
            37,
            2,
            1018,
            432,
            788,
            6,
            0,
            80,
            58
           ],
           "yaxis": "y"
          },
          {
           "hovertemplate": "<b>%{hovertext}</b><br><br>WHO Region=Western Pacific<br>Year=2010<br>No. of cases=%{marker.size}<br>No. of deaths=%{y}<extra></extra>",
           "hovertext": [
            "Cambodia",
            "China",
            "Democratic People's Republic of Korea",
            "Lao People's Democratic Republic",
            "Malaysia",
            "Papua New Guinea",
            "Philippines",
            "Republic of Korea",
            "Solomon Islands",
            "Vanuatu",
            "Viet Nam"
           ],
           "ids": [
            "Cambodia",
            "China",
            "Democratic People's Republic of Korea",
            "Lao People's Democratic Republic",
            "Malaysia",
            "Papua New Guinea",
            "Philippines",
            "Republic of Korea",
            "Solomon Islands",
            "Vanuatu",
            "Viet Nam"
           ],
           "legendgroup": "Western Pacific",
           "marker": {
            "color": "#19d3f3",
            "size": [
             49356,
             4990,
             13520,
             20800,
             5194,
             93956,
             18560,
             1267,
             39704,
             8169,
             17515
            ],
            "sizemode": "area",
            "sizeref": 5068.046611570248,
            "symbol": "circle"
           },
           "mode": "markers",
           "name": "Western Pacific",
           "orientation": "v",
           "showlegend": true,
           "type": "scatter",
           "x": [
            49356,
            4990,
            13520,
            20800,
            5194,
            93956,
            18560,
            1267,
            39704,
            8169,
            17515
           ],
           "xaxis": "x",
           "y": [
            151,
            19,
            0,
            24,
            13,
            616,
            30,
            1,
            34,
            1,
            21
           ],
           "yaxis": "y"
          }
         ],
         "name": "2010"
        },
        {
         "data": [
          {
           "hovertemplate": "<b>%{hovertext}</b><br><br>WHO Region=Eastern Mediterranean<br>Year=2009<br>No. of cases=%{marker.size}<br>No. of deaths=%{y}<extra></extra>",
           "hovertext": [
            "Afghanistan",
            "Djibouti",
            "Egypt",
            "Iran (Islamic Republic of)",
            "Iraq",
            "Morocco",
            "Oman",
            "Pakistan",
            "Saudi Arabia",
            "Somalia",
            "Sudan",
            "Syrian Arab Republic",
            "United Arab Emirates",
            "Yemen"
           ],
           "ids": [
            "Afghanistan",
            "Djibouti",
            "Egypt",
            "Iran (Islamic Republic of)",
            "Iraq",
            "Morocco",
            "Oman",
            "Pakistan",
            "Saudi Arabia",
            "Somalia",
            "Sudan",
            "Syrian Arab Republic",
            "United Arab Emirates",
            "Yemen"
           ],
           "legendgroup": "Eastern Mediterranean",
           "marker": {
            "color": "#636efa",
            "size": [
             64880,
             2686,
             0,
             4345,
             0,
             0,
             0,
             167579,
             58,
             25202,
             711462,
             0,
             14792,
             55446
            ],
            "sizemode": "area",
            "sizeref": 5068.046611570248,
            "symbol": "circle"
           },
           "mode": "markers",
           "name": "Eastern Mediterranean",
           "orientation": "v",
           "showlegend": true,
           "type": "scatter",
           "x": [
            64880,
            2686,
            0,
            4345,
            0,
            0,
            0,
            167579,
            58,
            25202,
            711462,
            0,
            14792,
            55446
           ],
           "xaxis": "x",
           "y": [
            32,
            0,
            2,
            30,
            0,
            1,
            2,
            30,
            0,
            45,
            1142,
            1,
            30,
            38
           ],
           "yaxis": "y"
          },
          {
           "hovertemplate": "<b>%{hovertext}</b><br><br>WHO Region=Africa<br>Year=2009<br>No. of cases=%{marker.size}<br>No. of deaths=%{y}<extra></extra>",
           "hovertext": [
            "Algeria",
            "Angola",
            "Benin",
            "Botswana",
            "Burkina Faso",
            "Burundi",
            "Cabo Verde",
            "Cameroon",
            "Central African Republic",
            "Chad",
            "Comoros",
            "Côte d'Ivoire",
            "Democratic Republic of the Congo",
            "Equatorial Guinea",
            "Eritrea",
            "Eswatini",
            "Ethiopia",
            "Gabon",
            "Gambia",
            "Ghana",
            "Guinea",
            "Guinea-Bissau",
            "Kenya",
            "Liberia",
            "Madagascar",
            "Malawi",
            "Mali",
            "Mauritania",
            "Mauritius",
            "Mozambique",
            "Namibia",
            "Niger",
            "Nigeria",
            "Rwanda",
            "Sao Tome and Principe",
            "Senegal",
            "Sierra Leone",
            "South Africa",
            "South Sudan",
            "Togo",
            "Uganda",
            "United Republic of Tanzania",
            "Zambia",
            "Zimbabwe"
           ],
           "ids": [
            "Algeria",
            "Angola",
            "Benin",
            "Botswana",
            "Burkina Faso",
            "Burundi",
            "Cabo Verde",
            "Cameroon",
            "Central African Republic",
            "Chad",
            "Comoros",
            "Côte d'Ivoire",
            "Democratic Republic of the Congo",
            "Equatorial Guinea",
            "Eritrea",
            "Eswatini",
            "Ethiopia",
            "Gabon",
            "Gambia",
            "Ghana",
            "Guinea",
            "Guinea-Bissau",
            "Kenya",
            "Liberia",
            "Madagascar",
            "Malawi",
            "Mali",
            "Mauritania",
            "Mauritius",
            "Mozambique",
            "Namibia",
            "Niger",
            "Nigeria",
            "Rwanda",
            "Sao Tome and Principe",
            "Senegal",
            "Sierra Leone",
            "South Africa",
            "South Sudan",
            "Togo",
            "Uganda",
            "United Republic of Tanzania",
            "Zambia",
            "Zimbabwe"
           ],
           "legendgroup": "Africa",
           "marker": {
            "color": "#EF553B",
            "size": [
             0,
             1573422,
             889597,
             1024,
             182527,
             1185622,
             65,
             14792,
             14792,
             14792,
             5982,
             7388,
             1878705,
             14184,
             11759,
             106,
             1036316,
             660,
             50378,
             1104370,
             35841,
             11757,
             14792,
             839581,
             215110,
             14792,
             14792,
             940,
             14792,
             93874,
             505,
             309675,
             479845,
             698745,
             6182,
             165933,
             646808,
             6072,
             14792,
             391338,
             1301337,
             211,
             14792,
             114028
            ],
            "sizemode": "area",
            "sizeref": 5068.046611570248,
            "symbol": "circle"
           },
           "mode": "markers",
           "name": "Africa",
           "orientation": "v",
           "showlegend": true,
           "type": "scatter",
           "x": [
            0,
            1573422,
            889597,
            1024,
            182527,
            1185622,
            65,
            14792,
            14792,
            14792,
            5982,
            7388,
            1878705,
            14184,
            11759,
            106,
            1036316,
            660,
            50378,
            1104370,
            35841,
            11757,
            14792,
            839581,
            215110,
            14792,
            14792,
            940,
            14792,
            93874,
            505,
            309675,
            479845,
            698745,
            6182,
            165933,
            646808,
            6072,
            14792,
            391338,
            1301337,
            211,
            14792,
            114028
           ],
           "xaxis": "x",
           "y": [
            0,
            10530,
            1375,
            6,
            7982,
            1183,
            2,
            4943,
            667,
            221,
            30,
            18156,
            21168,
            23,
            23,
            13,
            1121,
            197,
            240,
            3378,
            586,
            369,
            30,
            1706,
            348,
            8915,
            2331,
            91,
            30,
            3747,
            68,
            2159,
            7522,
            809,
            23,
            574,
            1734,
            45,
            254,
            1556,
            6296,
            16776,
            3862,
            108
           ],
           "yaxis": "y"
          },
          {
           "hovertemplate": "<b>%{hovertext}</b><br><br>WHO Region=Americas<br>Year=2009<br>No. of cases=%{marker.size}<br>No. of deaths=%{y}<extra></extra>",
           "hovertext": [
            "Argentina",
            "Belize",
            "Bolivia (Plurinational State of)",
            "Brazil",
            "Colombia",
            "Congo",
            "Costa Rica",
            "Dominican Republic",
            "Ecuador",
            "El Salvador",
            "Guatemala",
            "Guyana",
            "Haiti",
            "Honduras",
            "Mexico",
            "Nicaragua",
            "Panama",
            "Paraguay",
            "Peru",
            "Suriname",
            "Venezuela (Bolivarian Republic of)"
           ],
           "ids": [
            "Argentina",
            "Belize",
            "Bolivia (Plurinational State of)",
            "Brazil",
            "Colombia",
            "Congo",
            "Costa Rica",
            "Dominican Republic",
            "Ecuador",
            "El Salvador",
            "Guatemala",
            "Guyana",
            "Haiti",
            "Honduras",
            "Mexico",
            "Nicaragua",
            "Panama",
            "Paraguay",
            "Peru",
            "Suriname",
            "Venezuela (Bolivarian Republic of)"
           ],
           "legendgroup": "Americas",
           "marker": {
            "color": "#00cc96",
            "size": [
             86,
             256,
             9743,
             309316,
             79347,
             92855,
             262,
             1643,
             4120,
             20,
             7080,
             13673,
             49535,
             9313,
             2703,
             610,
             778,
             91,
             42645,
             2380,
             35828
            ],
            "sizemode": "area",
            "sizeref": 5068.046611570248,
            "symbol": "circle"
           },
           "mode": "markers",
           "name": "Americas",
           "orientation": "v",
           "showlegend": true,
           "type": "scatter",
           "x": [
            86,
            256,
            9743,
            309316,
            79347,
            92855,
            262,
            1643,
            4120,
            20,
            7080,
            13673,
            49535,
            9313,
            2703,
            610,
            778,
            91,
            42645,
            2380,
            35828
           ],
           "xaxis": "x",
           "y": [
            0,
            0,
            0,
            85,
            28,
            116,
            1,
            14,
            6,
            0,
            0,
            20,
            7,
            1,
            0,
            0,
            0,
            0,
            2,
            0,
            11
           ],
           "yaxis": "y"
          },
          {
           "hovertemplate": "<b>%{hovertext}</b><br><br>WHO Region=Europe<br>Year=2009<br>No. of cases=%{marker.size}<br>No. of deaths=%{y}<extra></extra>",
           "hovertext": [
            "Armenia",
            "Azerbaijan",
            "Georgia",
            "Kazakhstan",
            "Kyrgyzstan",
            "Tajikistan",
            "Turkey",
            "Turkmenistan",
            "Uzbekistan"
           ],
           "ids": [
            "Armenia",
            "Azerbaijan",
            "Georgia",
            "Kazakhstan",
            "Kyrgyzstan",
            "Tajikistan",
            "Turkey",
            "Turkmenistan",
            "Uzbekistan"
           ],
           "legendgroup": "Europe",
           "marker": {
            "color": "#ab63fa",
            "size": [
             0,
             78,
             1,
             14792,
             4,
             164,
             38,
             0,
             0
            ],
            "sizemode": "area",
            "sizeref": 5068.046611570248,
            "symbol": "circle"
           },
           "mode": "markers",
           "name": "Europe",
           "orientation": "v",
           "showlegend": true,
           "type": "scatter",
           "x": [
            0,
            78,
            1,
            14792,
            4,
            164,
            38,
            0,
            0
           ],
           "xaxis": "x",
           "y": [
            0,
            0,
            0,
            30,
            0,
            0,
            1,
            0,
            0
           ],
           "yaxis": "y"
          },
          {
           "hovertemplate": "<b>%{hovertext}</b><br><br>WHO Region=South-East Asia<br>Year=2009<br>No. of cases=%{marker.size}<br>No. of deaths=%{y}<extra></extra>",
           "hovertext": [
            "Bangladesh",
            "Bhutan",
            "India",
            "Indonesia",
            "Myanmar",
            "Nepal",
            "Sri Lanka",
            "Thailand",
            "Timor-Leste"
           ],
           "ids": [
            "Bangladesh",
            "Bhutan",
            "India",
            "Indonesia",
            "Myanmar",
            "Nepal",
            "Sri Lanka",
            "Thailand",
            "Timor-Leste"
           ],
           "legendgroup": "South-East Asia",
           "marker": {
            "color": "#FFA15A",
            "size": [
             63873,
             972,
             1563574,
             272491,
             436068,
             3335,
             531,
             29462,
             47527
            ],
            "sizemode": "area",
            "sizeref": 5068.046611570248,
            "symbol": "circle"
           },
           "mode": "markers",
           "name": "South-East Asia",
           "orientation": "v",
           "showlegend": true,
           "type": "scatter",
           "x": [
            63873,
            972,
            1563574,
            272491,
            436068,
            3335,
            531,
            29462,
            47527
           ],
           "xaxis": "x",
           "y": [
            47,
            4,
            1144,
            900,
            972,
            8,
            0,
            70,
            53
           ],
           "yaxis": "y"
          },
          {
           "hovertemplate": "<b>%{hovertext}</b><br><br>WHO Region=Western Pacific<br>Year=2009<br>No. of cases=%{marker.size}<br>No. of deaths=%{y}<extra></extra>",
           "hovertext": [
            "Cambodia",
            "China",
            "Democratic People's Republic of Korea",
            "Lao People's Democratic Republic",
            "Malaysia",
            "Papua New Guinea",
            "Philippines",
            "Republic of Korea",
            "Solomon Islands",
            "Vanuatu",
            "Viet Nam"
           ],
           "ids": [
            "Cambodia",
            "China",
            "Democratic People's Republic of Korea",
            "Lao People's Democratic Republic",
            "Malaysia",
            "Papua New Guinea",
            "Philippines",
            "Republic of Korea",
            "Solomon Islands",
            "Vanuatu",
            "Viet Nam"
           ],
           "legendgroup": "Western Pacific",
           "marker": {
            "color": "#19d3f3",
            "size": [
             64595,
             9287,
             14632,
             14674,
             5955,
             77758,
             19316,
             898,
             33002,
             4189,
             16130
            ],
            "sizemode": "area",
            "sizeref": 5068.046611570248,
            "symbol": "circle"
           },
           "mode": "markers",
           "name": "Western Pacific",
           "orientation": "v",
           "showlegend": true,
           "type": "scatter",
           "x": [
            64595,
            9287,
            14632,
            14674,
            5955,
            77758,
            19316,
            898,
            33002,
            4189,
            16130
           ],
           "xaxis": "x",
           "y": [
            279,
            10,
            0,
            5,
            23,
            604,
            24,
            1,
            53,
            2,
            26
           ],
           "yaxis": "y"
          }
         ],
         "name": "2009"
        },
        {
         "data": [
          {
           "hovertemplate": "<b>%{hovertext}</b><br><br>WHO Region=Eastern Mediterranean<br>Year=2008<br>No. of cases=%{marker.size}<br>No. of deaths=%{y}<extra></extra>",
           "hovertext": [
            "Afghanistan",
            "Djibouti",
            "Egypt",
            "Iran (Islamic Republic of)",
            "Iraq",
            "Morocco",
            "Oman",
            "Pakistan",
            "Saudi Arabia",
            "Somalia",
            "Sudan",
            "Syrian Arab Republic",
            "United Arab Emirates",
            "Yemen"
           ],
           "ids": [
            "Afghanistan",
            "Djibouti",
            "Egypt",
            "Iran (Islamic Republic of)",
            "Iraq",
            "Morocco",
            "Oman",
            "Pakistan",
            "Saudi Arabia",
            "Somalia",
            "Sudan",
            "Syrian Arab Republic",
            "United Arab Emirates",
            "Yemen"
           ],
           "legendgroup": "Eastern Mediterranean",
           "marker": {
            "color": "#636efa",
            "size": [
             81574,
             119,
             0,
             8349,
             2,
             0,
             8,
             104454,
             61,
             36905,
             569296,
             0,
             14792,
             44206
            ],
            "sizemode": "area",
            "sizeref": 5068.046611570248,
            "symbol": "circle"
           },
           "mode": "markers",
           "name": "Eastern Mediterranean",
           "orientation": "v",
           "showlegend": true,
           "type": "scatter",
           "x": [
            81574,
            119,
            0,
            8349,
            2,
            0,
            8,
            104454,
            61,
            36905,
            569296,
            0,
            14792,
            44206
           ],
           "xaxis": "x",
           "y": [
            46,
            30,
            2,
            3,
            0,
            1,
            2,
            30,
            0,
            49,
            1125,
            1,
            30,
            30
           ],
           "yaxis": "y"
          },
          {
           "hovertemplate": "<b>%{hovertext}</b><br><br>WHO Region=Africa<br>Year=2008<br>No. of cases=%{marker.size}<br>No. of deaths=%{y}<extra></extra>",
           "hovertext": [
            "Algeria",
            "Angola",
            "Benin",
            "Botswana",
            "Burkina Faso",
            "Burundi",
            "Cabo Verde",
            "Cameroon",
            "Central African Republic",
            "Chad",
            "Comoros",
            "Côte d'Ivoire",
            "Democratic Republic of the Congo",
            "Equatorial Guinea",
            "Eritrea",
            "Eswatini",
            "Ethiopia",
            "Gabon",
            "Gambia",
            "Ghana",
            "Guinea",
            "Guinea-Bissau",
            "Kenya",
            "Liberia",
            "Madagascar",
            "Malawi",
            "Mali",
            "Mauritania",
            "Mauritius",
            "Mozambique",
            "Namibia",
            "Niger",
            "Nigeria",
            "Rwanda",
            "Sao Tome and Principe",
            "Senegal",
            "Sierra Leone",
            "South Africa",
            "South Sudan",
            "Togo",
            "Uganda",
            "United Republic of Tanzania",
            "Zambia",
            "Zimbabwe"
           ],
           "ids": [
            "Algeria",
            "Angola",
            "Benin",
            "Botswana",
            "Burkina Faso",
            "Burundi",
            "Cabo Verde",
            "Cameroon",
            "Central African Republic",
            "Chad",
            "Comoros",
            "Côte d'Ivoire",
            "Democratic Republic of the Congo",
            "Equatorial Guinea",
            "Eritrea",
            "Eswatini",
            "Ethiopia",
            "Gabon",
            "Gambia",
            "Ghana",
            "Guinea",
            "Guinea-Bissau",
            "Kenya",
            "Liberia",
            "Madagascar",
            "Malawi",
            "Mali",
            "Mauritania",
            "Mauritius",
            "Mozambique",
            "Namibia",
            "Niger",
            "Nigeria",
            "Rwanda",
            "Sao Tome and Principe",
            "Senegal",
            "Sierra Leone",
            "South Africa",
            "South Sudan",
            "Togo",
            "Uganda",
            "United Republic of Tanzania",
            "Zambia",
            "Zimbabwe"
           ],
           "legendgroup": "Africa",
           "marker": {
            "color": "#EF553B",
            "size": [
             3,
             1377992,
             14792,
             927,
             36514,
             876741,
             35,
             14792,
             14792,
             47757,
             14792,
             3527,
             1618218,
             9503,
             8764,
             58,
             458561,
             40701,
             39164,
             1094483,
             33405,
             11299,
             839903,
             606952,
             93234,
             14792,
             14792,
             302,
             14792,
             120259,
             1092,
             496858,
             143079,
             316242,
             6258,
             241926,
             154459,
             7796,
             52011,
             344862,
             979298,
             4508,
             14792,
             32788
            ],
            "sizemode": "area",
            "sizeref": 5068.046611570248,
            "symbol": "circle"
           },
           "mode": "markers",
           "name": "Africa",
           "orientation": "v",
           "showlegend": true,
           "type": "scatter",
           "x": [
            3,
            1377992,
            14792,
            927,
            36514,
            876741,
            35,
            14792,
            14792,
            47757,
            14792,
            3527,
            1618218,
            9503,
            8764,
            58,
            458561,
            40701,
            39164,
            1094483,
            33405,
            11299,
            839903,
            606952,
            93234,
            14792,
            14792,
            302,
            14792,
            120259,
            1092,
            496858,
            143079,
            316242,
            6258,
            241926,
            154459,
            7796,
            52011,
            344862,
            979298,
            4508,
            14792,
            32788
           ],
           "xaxis": "x",
           "y": [
            0,
            9465,
            918,
            12,
            7834,
            595,
            2,
            7673,
            456,
            1018,
            47,
            1249,
            17940,
            4,
            19,
            10,
            1169,
            156,
            403,
            3889,
            441,
            487,
            30,
            345,
            355,
            8048,
            1227,
            30,
            30,
            4424,
            152,
            2461,
            8677,
            566,
            16,
            741,
            871,
            43,
            263,
            2663,
            2372,
            12497,
            3781,
            232
           ],
           "yaxis": "y"
          },
          {
           "hovertemplate": "<b>%{hovertext}</b><br><br>WHO Region=Americas<br>Year=2008<br>No. of cases=%{marker.size}<br>No. of deaths=%{y}<extra></extra>",
           "hovertext": [
            "Argentina",
            "Belize",
            "Bolivia (Plurinational State of)",
            "Brazil",
            "Colombia",
            "Congo",
            "Costa Rica",
            "Dominican Republic",
            "Ecuador",
            "El Salvador",
            "Guatemala",
            "Guyana",
            "Haiti",
            "Honduras",
            "Mexico",
            "Nicaragua",
            "Panama",
            "Paraguay",
            "Peru",
            "Suriname",
            "Venezuela (Bolivarian Republic of)"
           ],
           "ids": [
            "Argentina",
            "Belize",
            "Bolivia (Plurinational State of)",
            "Brazil",
            "Colombia",
            "Congo",
            "Costa Rica",
            "Dominican Republic",
            "Ecuador",
            "El Salvador",
            "Guatemala",
            "Guyana",
            "Haiti",
            "Honduras",
            "Mexico",
            "Nicaragua",
            "Panama",
            "Paraguay",
            "Peru",
            "Suriname",
            "Venezuela (Bolivarian Republic of)"
           ],
           "legendgroup": "Americas",
           "marker": {
            "color": "#00cc96",
            "size": [
             130,
             540,
             9748,
             315746,
             80559,
             117291,
             966,
             1840,
             4891,
             33,
             7198,
             11815,
             36774,
             8368,
             2357,
             762,
             744,
             348,
             44522,
             2709,
             32037
            ],
            "sizemode": "area",
            "sizeref": 5068.046611570248,
            "symbol": "circle"
           },
           "mode": "markers",
           "name": "Americas",
           "orientation": "v",
           "showlegend": true,
           "type": "scatter",
           "x": [
            130,
            540,
            9748,
            315746,
            80559,
            117291,
            966,
            1840,
            4891,
            33,
            7198,
            11815,
            36774,
            8368,
            2357,
            762,
            744,
            348,
            44522,
            2709,
            32037
           ],
           "xaxis": "x",
           "y": [
            0,
            0,
            0,
            68,
            54,
            143,
            0,
            11,
            5,
            0,
            0,
            11,
            17,
            2,
            0,
            0,
            1,
            0,
            2,
            0,
            9
           ],
           "yaxis": "y"
          },
          {
           "hovertemplate": "<b>%{hovertext}</b><br><br>WHO Region=Europe<br>Year=2008<br>No. of cases=%{marker.size}<br>No. of deaths=%{y}<extra></extra>",
           "hovertext": [
            "Armenia",
            "Azerbaijan",
            "Georgia",
            "Kazakhstan",
            "Kyrgyzstan",
            "Tajikistan",
            "Turkey",
            "Turkmenistan",
            "Uzbekistan"
           ],
           "ids": [
            "Armenia",
            "Azerbaijan",
            "Georgia",
            "Kazakhstan",
            "Kyrgyzstan",
            "Tajikistan",
            "Turkey",
            "Turkmenistan",
            "Uzbekistan"
           ],
           "legendgroup": "Europe",
           "marker": {
            "color": "#ab63fa",
            "size": [
             0,
             72,
             6,
             14792,
             18,
             318,
             166,
             0,
             7
            ],
            "sizemode": "area",
            "sizeref": 5068.046611570248,
            "symbol": "circle"
           },
           "mode": "markers",
           "name": "Europe",
           "orientation": "v",
           "showlegend": true,
           "type": "scatter",
           "x": [
            0,
            72,
            6,
            14792,
            18,
            318,
            166,
            0,
            7
           ],
           "xaxis": "x",
           "y": [
            0,
            0,
            0,
            30,
            0,
            0,
            3,
            0,
            0
           ],
           "yaxis": "y"
          },
          {
           "hovertemplate": "<b>%{hovertext}</b><br><br>WHO Region=South-East Asia<br>Year=2008<br>No. of cases=%{marker.size}<br>No. of deaths=%{y}<extra></extra>",
           "hovertext": [
            "Bangladesh",
            "Bhutan",
            "India",
            "Indonesia",
            "Myanmar",
            "Nepal",
            "Sri Lanka",
            "Thailand",
            "Timor-Leste"
           ],
           "ids": [
            "Bangladesh",
            "Bhutan",
            "India",
            "Indonesia",
            "Myanmar",
            "Nepal",
            "Sri Lanka",
            "Thailand",
            "Timor-Leste"
           ],
           "legendgroup": "South-East Asia",
           "marker": {
            "color": "#FFA15A",
            "size": [
             84690,
             329,
             1532497,
             349231,
             447073,
             3888,
             649,
             28569,
             51260
            ],
            "sizemode": "area",
            "sizeref": 5068.046611570248,
            "symbol": "circle"
           },
           "mode": "markers",
           "name": "South-East Asia",
           "orientation": "v",
           "showlegend": true,
           "type": "scatter",
           "x": [
            84690,
            329,
            1532497,
            349231,
            447073,
            3888,
            649,
            28569,
            51260
           ],
           "xaxis": "x",
           "y": [
            154,
            2,
            1055,
            669,
            1087,
            30,
            0,
            101,
            33
           ],
           "yaxis": "y"
          },
          {
           "hovertemplate": "<b>%{hovertext}</b><br><br>WHO Region=Western Pacific<br>Year=2008<br>No. of cases=%{marker.size}<br>No. of deaths=%{y}<extra></extra>",
           "hovertext": [
            "Cambodia",
            "China",
            "Democratic People's Republic of Korea",
            "Lao People's Democratic Republic",
            "Malaysia",
            "Papua New Guinea",
            "Philippines",
            "Republic of Korea",
            "Solomon Islands",
            "Vanuatu",
            "Viet Nam"
           ],
           "ids": [
            "Cambodia",
            "China",
            "Democratic People's Republic of Korea",
            "Lao People's Democratic Republic",
            "Malaysia",
            "Papua New Guinea",
            "Philippines",
            "Republic of Korea",
            "Solomon Islands",
            "Vanuatu",
            "Viet Nam"
           ],
           "legendgroup": "Western Pacific",
           "marker": {
            "color": "#19d3f3",
            "size": [
             42124,
             16650,
             16611,
             19347,
             6071,
             84452,
             23655,
             1052,
             40535,
             3765,
             11355
            ],
            "sizemode": "area",
            "sizeref": 5068.046611570248,
            "symbol": "circle"
           },
           "mode": "markers",
           "name": "Western Pacific",
           "orientation": "v",
           "showlegend": true,
           "type": "scatter",
           "x": [
            42124,
            16650,
            16611,
            19347,
            6071,
            84452,
            23655,
            1052,
            40535,
            3765,
            11355
           ],
           "xaxis": "x",
           "y": [
            209,
            23,
            0,
            11,
            20,
            628,
            56,
            0,
            21,
            4,
            25
           ],
           "yaxis": "y"
          }
         ],
         "name": "2008"
        },
        {
         "data": [
          {
           "hovertemplate": "<b>%{hovertext}</b><br><br>WHO Region=Eastern Mediterranean<br>Year=2007<br>No. of cases=%{marker.size}<br>No. of deaths=%{y}<extra></extra>",
           "hovertext": [
            "Afghanistan",
            "Djibouti",
            "Egypt",
            "Iran (Islamic Republic of)",
            "Iraq",
            "Morocco",
            "Oman",
            "Pakistan",
            "Saudi Arabia",
            "Somalia",
            "Sudan",
            "Syrian Arab Republic",
            "United Arab Emirates",
            "Yemen"
           ],
           "ids": [
            "Afghanistan",
            "Djibouti",
            "Egypt",
            "Iran (Islamic Republic of)",
            "Iraq",
            "Morocco",
            "Oman",
            "Pakistan",
            "Saudi Arabia",
            "Somalia",
            "Sudan",
            "Syrian Arab Republic",
            "United Arab Emirates",
            "Yemen"
           ],
           "legendgroup": "Eastern Mediterranean",
           "marker": {
            "color": "#636efa",
            "size": [
             92202,
             210,
             0,
             15712,
             3,
             0,
             4,
             128570,
             467,
             16675,
             686908,
             0,
             14792,
             67677
            ],
            "sizemode": "area",
            "sizeref": 5068.046611570248,
            "symbol": "circle"
           },
           "mode": "markers",
           "name": "Eastern Mediterranean",
           "orientation": "v",
           "showlegend": true,
           "type": "scatter",
           "x": [
            92202,
            210,
            0,
            15712,
            3,
            0,
            4,
            128570,
            467,
            16675,
            686908,
            0,
            14792,
            67677
           ],
           "xaxis": "x",
           "y": [
            25,
            1,
            0,
            3,
            0,
            2,
            0,
            24,
            0,
            45,
            1254,
            1,
            30,
            30
           ],
           "yaxis": "y"
          },
          {
           "hovertemplate": "<b>%{hovertext}</b><br><br>WHO Region=Africa<br>Year=2007<br>No. of cases=%{marker.size}<br>No. of deaths=%{y}<extra></extra>",
           "hovertext": [
            "Algeria",
            "Angola",
            "Benin",
            "Botswana",
            "Burkina Faso",
            "Burundi",
            "Cabo Verde",
            "Cameroon",
            "Central African Republic",
            "Chad",
            "Comoros",
            "Côte d'Ivoire",
            "Democratic Republic of the Congo",
            "Equatorial Guinea",
            "Eritrea",
            "Eswatini",
            "Ethiopia",
            "Gabon",
            "Gambia",
            "Ghana",
            "Guinea",
            "Guinea-Bissau",
            "Kenya",
            "Liberia",
            "Madagascar",
            "Malawi",
            "Mali",
            "Mauritania",
            "Mauritius",
            "Mozambique",
            "Namibia",
            "Niger",
            "Nigeria",
            "Rwanda",
            "Sao Tome and Principe",
            "Senegal",
            "Sierra Leone",
            "South Africa",
            "South Sudan",
            "Togo",
            "Uganda",
            "United Republic of Tanzania",
            "Zambia",
            "Zimbabwe"
           ],
           "ids": [
            "Algeria",
            "Angola",
            "Benin",
            "Botswana",
            "Burkina Faso",
            "Burundi",
            "Cabo Verde",
            "Cameroon",
            "Central African Republic",
            "Chad",
            "Comoros",
            "Côte d'Ivoire",
            "Democratic Republic of the Congo",
            "Equatorial Guinea",
            "Eritrea",
            "Eswatini",
            "Ethiopia",
            "Gabon",
            "Gambia",
            "Ghana",
            "Guinea",
            "Guinea-Bissau",
            "Kenya",
            "Liberia",
            "Madagascar",
            "Malawi",
            "Mali",
            "Mauritania",
            "Mauritius",
            "Mozambique",
            "Namibia",
            "Niger",
            "Nigeria",
            "Rwanda",
            "Sao Tome and Principe",
            "Senegal",
            "Sierra Leone",
            "South Africa",
            "South Sudan",
            "Togo",
            "Uganda",
            "United Republic of Tanzania",
            "Zambia",
            "Zimbabwe"
           ],
           "legendgroup": "Africa",
           "marker": {
            "color": "#EF553B",
            "size": [
             288,
             1533485,
             14792,
             390,
             44246,
             1101644,
             18,
             14792,
             14792,
             48288,
             14792,
             14792,
             740858,
             6287,
             15565,
             84,
             451816,
             45186,
             14792,
             476484,
             44518,
             14284,
             14792,
             492272,
             48497,
             14792,
             14792,
             14792,
             14792,
             141663,
             4242,
             249027,
             14792,
             382686,
             2421,
             118332,
             14792,
             6327,
             14792,
             221110,
             1045378,
             1845917,
             14792,
             116518
            ],
            "sizemode": "area",
            "sizeref": 5068.046611570248,
            "symbol": "circle"
           },
           "mode": "markers",
           "name": "Africa",
           "orientation": "v",
           "showlegend": true,
           "type": "scatter",
           "x": [
            288,
            1533485,
            14792,
            390,
            44246,
            1101644,
            18,
            14792,
            14792,
            48288,
            14792,
            14792,
            740858,
            6287,
            15565,
            84,
            451816,
            45186,
            14792,
            476484,
            44518,
            14284,
            14792,
            492272,
            48497,
            14792,
            14792,
            14792,
            14792,
            141663,
            4242,
            249027,
            14792,
            382686,
            2421,
            118332,
            14792,
            6327,
            14792,
            221110,
            1045378,
            1845917,
            14792,
            116518
           ],
           "xaxis": "x",
           "y": [
            30,
            9812,
            1290,
            6,
            6472,
            167,
            2,
            1811,
            578,
            617,
            20,
            797,
            14372,
            30,
            42,
            17,
            991,
            216,
            424,
            4622,
            472,
            370,
            30,
            310,
            428,
            7486,
            1782,
            142,
            30,
            5816,
            181,
            1358,
            10289,
            1772,
            3,
            1935,
            324,
            37,
            30,
            1236,
            7003,
            12593,
            6183,
            401
           ],
           "yaxis": "y"
          },
          {
           "hovertemplate": "<b>%{hovertext}</b><br><br>WHO Region=Americas<br>Year=2007<br>No. of cases=%{marker.size}<br>No. of deaths=%{y}<extra></extra>",
           "hovertext": [
            "Argentina",
            "Belize",
            "Bolivia (Plurinational State of)",
            "Brazil",
            "Colombia",
            "Congo",
            "Costa Rica",
            "Dominican Republic",
            "Ecuador",
            "El Salvador",
            "Guatemala",
            "Guyana",
            "Haiti",
            "Honduras",
            "Mexico",
            "Nicaragua",
            "Panama",
            "Paraguay",
            "Peru",
            "Suriname",
            "Venezuela (Bolivarian Republic of)"
           ],
           "ids": [
            "Argentina",
            "Belize",
            "Bolivia (Plurinational State of)",
            "Brazil",
            "Colombia",
            "Congo",
            "Costa Rica",
            "Dominican Republic",
            "Ecuador",
            "El Salvador",
            "Guatemala",
            "Guyana",
            "Haiti",
            "Honduras",
            "Mexico",
            "Nicaragua",
            "Panama",
            "Paraguay",
            "Peru",
            "Suriname",
            "Venezuela (Bolivarian Republic of)"
           ],
           "legendgroup": "Americas",
           "marker": {
            "color": "#00cc96",
            "size": [
             387,
             845,
             14610,
             458652,
             128462,
             103213,
             1223,
             2711,
             8464,
             40,
             15382,
             11656,
             29825,
             10512,
             2361,
             1356,
             1281,
             1341,
             50797,
             1741,
             41749
            ],
            "sizemode": "area",
            "sizeref": 5068.046611570248,
            "symbol": "circle"
           },
           "mode": "markers",
           "name": "Americas",
           "orientation": "v",
           "showlegend": true,
           "type": "scatter",
           "x": [
            387,
            845,
            14610,
            458652,
            128462,
            103213,
            1223,
            2711,
            8464,
            40,
            15382,
            11656,
            29825,
            10512,
            2361,
            1356,
            1281,
            1341,
            50797,
            1741,
            41749
           ],
           "xaxis": "x",
           "y": [
            0,
            0,
            0,
            93,
            68,
            113,
            0,
            17,
            8,
            0,
            3,
            20,
            28,
            2,
            0,
            0,
            1,
            0,
            2,
            1,
            16
           ],
           "yaxis": "y"
          },
          {
           "hovertemplate": "<b>%{hovertext}</b><br><br>WHO Region=Europe<br>Year=2007<br>No. of cases=%{marker.size}<br>No. of deaths=%{y}<extra></extra>",
           "hovertext": [
            "Armenia",
            "Azerbaijan",
            "Georgia",
            "Kazakhstan",
            "Kyrgyzstan",
            "Tajikistan",
            "Turkey",
            "Turkmenistan",
            "Uzbekistan"
           ],
           "ids": [
            "Armenia",
            "Azerbaijan",
            "Georgia",
            "Kazakhstan",
            "Kyrgyzstan",
            "Tajikistan",
            "Turkey",
            "Turkmenistan",
            "Uzbekistan"
           ],
           "legendgroup": "Europe",
           "marker": {
            "color": "#ab63fa",
            "size": [
             0,
             108,
             24,
             14792,
             96,
             635,
             313,
             0,
             30
            ],
            "sizemode": "area",
            "sizeref": 5068.046611570248,
            "symbol": "circle"
           },
           "mode": "markers",
           "name": "Europe",
           "orientation": "v",
           "showlegend": true,
           "type": "scatter",
           "x": [
            0,
            108,
            24,
            14792,
            96,
            635,
            313,
            0,
            30
           ],
           "xaxis": "x",
           "y": [
            0,
            0,
            0,
            30,
            0,
            0,
            1,
            0,
            1
           ],
           "yaxis": "y"
          },
          {
           "hovertemplate": "<b>%{hovertext}</b><br><br>WHO Region=South-East Asia<br>Year=2007<br>No. of cases=%{marker.size}<br>No. of deaths=%{y}<extra></extra>",
           "hovertext": [
            "Bangladesh",
            "Bhutan",
            "India",
            "Indonesia",
            "Myanmar",
            "Nepal",
            "Sri Lanka",
            "Thailand",
            "Timor-Leste"
           ],
           "ids": [
            "Bangladesh",
            "Bhutan",
            "India",
            "Indonesia",
            "Myanmar",
            "Nepal",
            "Sri Lanka",
            "Thailand",
            "Timor-Leste"
           ],
           "legendgroup": "South-East Asia",
           "marker": {
            "color": "#FFA15A",
            "size": [
             59866,
             793,
             1508927,
             311789,
             373958,
             5621,
             198,
             33178,
             52813
            ],
            "sizemode": "area",
            "sizeref": 5068.046611570248,
            "symbol": "circle"
           },
           "mode": "markers",
           "name": "South-East Asia",
           "orientation": "v",
           "showlegend": true,
           "type": "scatter",
           "x": [
            59866,
            793,
            1508927,
            311789,
            373958,
            5621,
            198,
            33178,
            52813
           ],
           "xaxis": "x",
           "y": [
            228,
            2,
            1311,
            30,
            1261,
            3,
            1,
            97,
            60
           ],
           "yaxis": "y"
          },
          {
           "hovertemplate": "<b>%{hovertext}</b><br><br>WHO Region=Western Pacific<br>Year=2007<br>No. of cases=%{marker.size}<br>No. of deaths=%{y}<extra></extra>",
           "hovertext": [
            "Cambodia",
            "China",
            "Democratic People's Republic of Korea",
            "Lao People's Democratic Republic",
            "Malaysia",
            "Papua New Guinea",
            "Philippines",
            "Republic of Korea",
            "Solomon Islands",
            "Vanuatu",
            "Viet Nam"
           ],
           "ids": [
            "Cambodia",
            "China",
            "Democratic People's Republic of Korea",
            "Lao People's Democratic Republic",
            "Malaysia",
            "Papua New Guinea",
            "Philippines",
            "Republic of Korea",
            "Solomon Islands",
            "Vanuatu",
            "Viet Nam"
           ],
           "legendgroup": "Western Pacific",
           "marker": {
            "color": "#19d3f3",
            "size": [
             42518,
             29304,
             4345,
             17458,
             4048,
             86955,
             36235,
             2227,
             65404,
             5471,
             16389
            ],
            "sizemode": "area",
            "sizeref": 5068.046611570248,
            "symbol": "circle"
           },
           "mode": "markers",
           "name": "Western Pacific",
           "orientation": "v",
           "showlegend": true,
           "type": "scatter",
           "x": [
            42518,
            29304,
            4345,
            17458,
            4048,
            86955,
            36235,
            2227,
            65404,
            5471,
            16389
           ],
           "xaxis": "x",
           "y": [
            241,
            18,
            0,
            14,
            15,
            559,
            73,
            1,
            15,
            5,
            20
           ],
           "yaxis": "y"
          }
         ],
         "name": "2007"
        },
        {
         "data": [
          {
           "hovertemplate": "<b>%{hovertext}</b><br><br>WHO Region=Eastern Mediterranean<br>Year=2006<br>No. of cases=%{marker.size}<br>No. of deaths=%{y}<extra></extra>",
           "hovertext": [
            "Afghanistan",
            "Djibouti",
            "Egypt",
            "Iran (Islamic Republic of)",
            "Iraq",
            "Morocco",
            "Oman",
            "Pakistan",
            "Saudi Arabia",
            "Somalia",
            "Sudan",
            "Syrian Arab Republic",
            "United Arab Emirates",
            "Yemen"
           ],
           "ids": [
            "Afghanistan",
            "Djibouti",
            "Egypt",
            "Iran (Islamic Republic of)",
            "Iraq",
            "Morocco",
            "Oman",
            "Pakistan",
            "Saudi Arabia",
            "Somalia",
            "Sudan",
            "Syrian Arab Republic",
            "United Arab Emirates",
            "Yemen"
           ],
           "legendgroup": "Eastern Mediterranean",
           "marker": {
            "color": "#636efa",
            "size": [
             86129,
             1796,
             0,
             15909,
             24,
             0,
             0,
             124910,
             1278,
             16430,
             721233,
             0,
             14792,
             55000
            ],
            "sizemode": "area",
            "sizeref": 5068.046611570248,
            "symbol": "circle"
           },
           "mode": "markers",
           "name": "Eastern Mediterranean",
           "orientation": "v",
           "showlegend": true,
           "type": "scatter",
           "x": [
            86129,
            1796,
            0,
            15909,
            24,
            0,
            0,
            124910,
            1278,
            16430,
            721233,
            0,
            14792,
            55000
           ],
           "xaxis": "x",
           "y": [
            30,
            29,
            0,
            1,
            0,
            2,
            0,
            9,
            0,
            58,
            1193,
            2,
            30,
            73
           ],
           "yaxis": "y"
          },
          {
           "hovertemplate": "<b>%{hovertext}</b><br><br>WHO Region=Africa<br>Year=2006<br>No. of cases=%{marker.size}<br>No. of deaths=%{y}<extra></extra>",
           "hovertext": [
            "Algeria",
            "Angola",
            "Benin",
            "Botswana",
            "Burkina Faso",
            "Burundi",
            "Cabo Verde",
            "Cameroon",
            "Central African Republic",
            "Chad",
            "Comoros",
            "Côte d'Ivoire",
            "Democratic Republic of the Congo",
            "Equatorial Guinea",
            "Eritrea",
            "Eswatini",
            "Ethiopia",
            "Gabon",
            "Gambia",
            "Ghana",
            "Guinea",
            "Guinea-Bissau",
            "Kenya",
            "Liberia",
            "Madagascar",
            "Malawi",
            "Mali",
            "Mauritania",
            "Mauritius",
            "Mozambique",
            "Namibia",
            "Niger",
            "Nigeria",
            "Rwanda",
            "Sao Tome and Principe",
            "Senegal",
            "Sierra Leone",
            "South Africa",
            "South Sudan",
            "Togo",
            "Uganda",
            "United Republic of Tanzania",
            "Zambia",
            "Zimbabwe"
           ],
           "ids": [
            "Algeria",
            "Angola",
            "Benin",
            "Botswana",
            "Burkina Faso",
            "Burundi",
            "Cabo Verde",
            "Cameroon",
            "Central African Republic",
            "Chad",
            "Comoros",
            "Côte d'Ivoire",
            "Democratic Republic of the Congo",
            "Equatorial Guinea",
            "Eritrea",
            "Eswatini",
            "Ethiopia",
            "Gabon",
            "Gambia",
            "Ghana",
            "Guinea",
            "Guinea-Bissau",
            "Kenya",
            "Liberia",
            "Madagascar",
            "Malawi",
            "Mali",
            "Mauritania",
            "Mauritius",
            "Mozambique",
            "Namibia",
            "Niger",
            "Nigeria",
            "Rwanda",
            "Sao Tome and Principe",
            "Senegal",
            "Sierra Leone",
            "South Africa",
            "South Sudan",
            "Togo",
            "Uganda",
            "United Republic of Tanzania",
            "Zambia",
            "Zimbabwe"
           ],
           "legendgroup": "Africa",
           "marker": {
            "color": "#EF553B",
            "size": [
             117,
             1082398,
             14792,
             2548,
             44265,
             791731,
             80,
             14792,
             14792,
             45155,
             20559,
             14792,
             2050,
             14792,
             6541,
             155,
             447780,
             33458,
             14792,
             472255,
             54227,
             15120,
             14792,
             761415,
             5689,
             14792,
             14792,
             1061,
             14792,
             14792,
             27690,
             3956,
             14792,
             573686,
             5146,
             48070,
             4932,
             12098,
             14792,
             14792,
             867398,
             1928296,
             14792,
             19702
            ],
            "sizemode": "area",
            "sizeref": 5068.046611570248,
            "symbol": "circle"
           },
           "mode": "markers",
           "name": "Africa",
           "orientation": "v",
           "showlegend": true,
           "type": "scatter",
           "x": [
            117,
            1082398,
            14792,
            2548,
            44265,
            791731,
            80,
            14792,
            14792,
            45155,
            20559,
            14792,
            2050,
            14792,
            6541,
            155,
            447780,
            33458,
            14792,
            472255,
            54227,
            15120,
            14792,
            761415,
            5689,
            14792,
            14792,
            1061,
            14792,
            14792,
            27690,
            3956,
            14792,
            573686,
            5146,
            48070,
            4932,
            12098,
            14792,
            14792,
            867398,
            1928296,
            14792,
            19702
           ],
           "xaxis": "x",
           "y": [
            30,
            10220,
            1226,
            40,
            8083,
            434,
            8,
            930,
            865,
            837,
            56,
            30,
            12970,
            30,
            47,
            27,
            1357,
            238,
            150,
            3125,
            30,
            507,
            40079,
            877,
            441,
            6464,
            1914,
            67,
            30,
            30,
            571,
            1150,
            6586,
            2486,
            26,
            1678,
            90,
            87,
            30,
            819,
            4252,
            20962,
            6484,
            802
           ],
           "yaxis": "y"
          },
          {
           "hovertemplate": "<b>%{hovertext}</b><br><br>WHO Region=Americas<br>Year=2006<br>No. of cases=%{marker.size}<br>No. of deaths=%{y}<extra></extra>",
           "hovertext": [
            "Argentina",
            "Belize",
            "Bolivia (Plurinational State of)",
            "Brazil",
            "Colombia",
            "Congo",
            "Costa Rica",
            "Dominican Republic",
            "Ecuador",
            "El Salvador",
            "Guatemala",
            "Guyana",
            "Haiti",
            "Honduras",
            "Mexico",
            "Nicaragua",
            "Panama",
            "Paraguay",
            "Peru",
            "Suriname",
            "Venezuela (Bolivarian Republic of)"
           ],
           "ids": [
            "Argentina",
            "Belize",
            "Bolivia (Plurinational State of)",
            "Brazil",
            "Colombia",
            "Congo",
            "Costa Rica",
            "Dominican Republic",
            "Ecuador",
            "El Salvador",
            "Guatemala",
            "Guyana",
            "Haiti",
            "Honduras",
            "Mexico",
            "Nicaragua",
            "Panama",
            "Paraguay",
            "Peru",
            "Suriname",
            "Venezuela (Bolivarian Republic of)"
           ],
           "legendgroup": "Americas",
           "marker": {
            "color": "#00cc96",
            "size": [
             212,
             844,
             19725,
             549469,
             120096,
             14792,
             2903,
             3525,
             9863,
             49,
             31093,
             21064,
             32739,
             11947,
             2514,
             3114,
             1663,
             823,
             64925,
             3289,
             37062
            ],
            "sizemode": "area",
            "sizeref": 5068.046611570248,
            "symbol": "circle"
           },
           "mode": "markers",
           "name": "Americas",
           "orientation": "v",
           "showlegend": true,
           "type": "scatter",
           "x": [
            212,
            844,
            19725,
            549469,
            120096,
            14792,
            2903,
            3525,
            9863,
            49,
            31093,
            21064,
            32739,
            11947,
            2514,
            3114,
            1663,
            823,
            64925,
            3289,
            37062
           ],
           "xaxis": "x",
           "y": [
            0,
            1,
            0,
            110,
            77,
            30,
            0,
            10,
            9,
            0,
            2,
            20,
            32,
            0,
            0,
            1,
            1,
            0,
            6,
            1,
            11
           ],
           "yaxis": "y"
          },
          {
           "hovertemplate": "<b>%{hovertext}</b><br><br>WHO Region=Europe<br>Year=2006<br>No. of cases=%{marker.size}<br>No. of deaths=%{y}<extra></extra>",
           "hovertext": [
            "Armenia",
            "Azerbaijan",
            "Georgia",
            "Kazakhstan",
            "Kyrgyzstan",
            "Tajikistan",
            "Turkey",
            "Turkmenistan",
            "Uzbekistan"
           ],
           "ids": [
            "Armenia",
            "Azerbaijan",
            "Georgia",
            "Kazakhstan",
            "Kyrgyzstan",
            "Tajikistan",
            "Turkey",
            "Turkmenistan",
            "Uzbekistan"
           ],
           "legendgroup": "Europe",
           "marker": {
            "color": "#ab63fa",
            "size": [
             0,
             143,
             59,
             14792,
             317,
             1344,
             796,
             1,
             73
            ],
            "sizemode": "area",
            "sizeref": 5068.046611570248,
            "symbol": "circle"
           },
           "mode": "markers",
           "name": "Europe",
           "orientation": "v",
           "showlegend": true,
           "type": "scatter",
           "x": [
            0,
            143,
            59,
            14792,
            317,
            1344,
            796,
            1,
            73
           ],
           "xaxis": "x",
           "y": [
            0,
            0,
            0,
            30,
            0,
            0,
            0,
            0,
            0
           ],
           "yaxis": "y"
          },
          {
           "hovertemplate": "<b>%{hovertext}</b><br><br>WHO Region=South-East Asia<br>Year=2006<br>No. of cases=%{marker.size}<br>No. of deaths=%{y}<extra></extra>",
           "hovertext": [
            "Bangladesh",
            "Bhutan",
            "India",
            "Indonesia",
            "Myanmar",
            "Nepal",
            "Sri Lanka",
            "Thailand",
            "Timor-Leste"
           ],
           "ids": [
            "Bangladesh",
            "Bhutan",
            "India",
            "Indonesia",
            "Myanmar",
            "Nepal",
            "Sri Lanka",
            "Thailand",
            "Timor-Leste"
           ],
           "legendgroup": "South-East Asia",
           "marker": {
            "color": "#FFA15A",
            "size": [
             32857,
             1868,
             1785109,
             347597,
             203071,
             4969,
             591,
             30294,
             37896
            ],
            "sizemode": "area",
            "sizeref": 5068.046611570248,
            "symbol": "circle"
           },
           "mode": "markers",
           "name": "South-East Asia",
           "orientation": "v",
           "showlegend": true,
           "type": "scatter",
           "x": [
            32857,
            1868,
            1785109,
            347597,
            203071,
            4969,
            591,
            30294,
            37896
           ],
           "xaxis": "x",
           "y": [
            508,
            7,
            1708,
            494,
            1647,
            42,
            1,
            113,
            68
           ],
           "yaxis": "y"
          },
          {
           "hovertemplate": "<b>%{hovertext}</b><br><br>WHO Region=Western Pacific<br>Year=2006<br>No. of cases=%{marker.size}<br>No. of deaths=%{y}<extra></extra>",
           "hovertext": [
            "Cambodia",
            "China",
            "Democratic People's Republic of Korea",
            "Lao People's Democratic Republic",
            "Malaysia",
            "Papua New Guinea",
            "Philippines",
            "Republic of Korea",
            "Solomon Islands",
            "Vanuatu",
            "Viet Nam"
           ],
           "ids": [
            "Cambodia",
            "China",
            "Democratic People's Republic of Korea",
            "Lao People's Democratic Republic",
            "Malaysia",
            "Papua New Guinea",
            "Philippines",
            "Republic of Korea",
            "Solomon Islands",
            "Vanuatu",
            "Viet Nam"
           ],
           "legendgroup": "Western Pacific",
           "marker": {
            "color": "#19d3f3",
            "size": [
             78696,
             35383,
             12983,
             18382,
             5294,
             93938,
             35405,
             2051,
             75337,
             8055,
             22637
            ],
            "sizemode": "area",
            "sizeref": 5068.046611570248,
            "symbol": "circle"
           },
           "mode": "markers",
           "name": "Western Pacific",
           "orientation": "v",
           "showlegend": true,
           "type": "scatter",
           "x": [
            78696,
            35383,
            12983,
            18382,
            5294,
            93938,
            35405,
            2051,
            75337,
            8055,
            22637
           ],
           "xaxis": "x",
           "y": [
            396,
            37,
            30,
            21,
            21,
            668,
            124,
            0,
            12,
            1,
            41
           ],
           "yaxis": "y"
          }
         ],
         "name": "2006"
        },
        {
         "data": [
          {
           "hovertemplate": "<b>%{hovertext}</b><br><br>WHO Region=Eastern Mediterranean<br>Year=2005<br>No. of cases=%{marker.size}<br>No. of deaths=%{y}<extra></extra>",
           "hovertext": [
            "Afghanistan",
            "Djibouti",
            "Egypt",
            "Iran (Islamic Republic of)",
            "Iraq",
            "Morocco",
            "Oman",
            "Pakistan",
            "Saudi Arabia",
            "Somalia",
            "Sudan",
            "Syrian Arab Republic",
            "United Arab Emirates",
            "Yemen"
           ],
           "ids": [
            "Afghanistan",
            "Djibouti",
            "Egypt",
            "Iran (Islamic Republic of)",
            "Iraq",
            "Morocco",
            "Oman",
            "Pakistan",
            "Saudi Arabia",
            "Somalia",
            "Sudan",
            "Syrian Arab Republic",
            "United Arab Emirates",
            "Yemen"
           ],
           "legendgroup": "Eastern Mediterranean",
           "marker": {
            "color": "#636efa",
            "size": [
             116444,
             413,
             0,
             18966,
             47,
             0,
             0,
             127826,
             1059,
             12516,
             628417,
             0,
             14792,
             44150
            ],
            "sizemode": "area",
            "sizeref": 5068.046611570248,
            "symbol": "circle"
           },
           "mode": "markers",
           "name": "Eastern Mediterranean",
           "orientation": "v",
           "showlegend": true,
           "type": "scatter",
           "x": [
            116444,
            413,
            0,
            18966,
            47,
            0,
            0,
            127826,
            1059,
            12516,
            628417,
            0,
            14792,
            44150
           ],
           "xaxis": "x",
           "y": [
            0,
            30,
            30,
            1,
            0,
            1,
            0,
            52,
            0,
            15,
            1789,
            2,
            30,
            30
           ],
           "yaxis": "y"
          },
          {
           "hovertemplate": "<b>%{hovertext}</b><br><br>WHO Region=Africa<br>Year=2005<br>No. of cases=%{marker.size}<br>No. of deaths=%{y}<extra></extra>",
           "hovertext": [
            "Algeria",
            "Angola",
            "Benin",
            "Botswana",
            "Burkina Faso",
            "Burundi",
            "Cabo Verde",
            "Cameroon",
            "Central African Republic",
            "Chad",
            "Comoros",
            "Côte d'Ivoire",
            "Democratic Republic of the Congo",
            "Equatorial Guinea",
            "Eritrea",
            "Eswatini",
            "Ethiopia",
            "Gabon",
            "Gambia",
            "Ghana",
            "Guinea",
            "Guinea-Bissau",
            "Kenya",
            "Liberia",
            "Madagascar",
            "Malawi",
            "Mali",
            "Mauritania",
            "Mauritius",
            "Mozambique",
            "Namibia",
            "Niger",
            "Nigeria",
            "Rwanda",
            "Sao Tome and Principe",
            "Senegal",
            "Sierra Leone",
            "South Africa",
            "South Sudan",
            "Togo",
            "Uganda",
            "United Republic of Tanzania",
            "Zambia",
            "Zimbabwe"
           ],
           "ids": [
            "Algeria",
            "Angola",
            "Benin",
            "Botswana",
            "Burkina Faso",
            "Burundi",
            "Cabo Verde",
            "Cameroon",
            "Central African Republic",
            "Chad",
            "Comoros",
            "Côte d'Ivoire",
            "Democratic Republic of the Congo",
            "Equatorial Guinea",
            "Eritrea",
            "Eswatini",
            "Ethiopia",
            "Gabon",
            "Gambia",
            "Ghana",
            "Guinea",
            "Guinea-Bissau",
            "Kenya",
            "Liberia",
            "Madagascar",
            "Malawi",
            "Mali",
            "Mauritania",
            "Mauritius",
            "Mozambique",
            "Namibia",
            "Niger",
            "Nigeria",
            "Rwanda",
            "Sao Tome and Principe",
            "Senegal",
            "Sierra Leone",
            "South Africa",
            "South Sudan",
            "Togo",
            "Uganda",
            "United Republic of Tanzania",
            "Zambia",
            "Zimbabwe"
           ],
           "legendgroup": "Africa",
           "marker": {
            "color": "#EF553B",
            "size": [
             299,
             889572,
             14792,
             670,
             21335,
             327464,
             68,
             14792,
             45973,
             31668,
             6086,
             67,
             2971,
             14792,
             9073,
             279,
             538942,
             70644,
             14792,
             655093,
             50452,
             14659,
             14792,
             44875,
             6753,
             14792,
             14792,
             14792,
             14792,
             14792,
             23339,
             56043,
             14792,
             683769,
             18139,
             33160,
             4808,
             7755,
             14792,
             14792,
             1104310,
             2764049,
             14792,
             18954
            ],
            "sizemode": "area",
            "sizeref": 5068.046611570248,
            "symbol": "circle"
           },
           "mode": "markers",
           "name": "Africa",
           "orientation": "v",
           "showlegend": true,
           "type": "scatter",
           "x": [
            299,
            889572,
            14792,
            670,
            21335,
            327464,
            68,
            14792,
            45973,
            31668,
            6086,
            67,
            2971,
            14792,
            9073,
            279,
            538942,
            70644,
            14792,
            655093,
            50452,
            14659,
            14792,
            44875,
            6753,
            14792,
            14792,
            14792,
            14792,
            14792,
            23339,
            56043,
            14792,
            683769,
            18139,
            33160,
            4808,
            7755,
            14792,
            14792,
            1104310,
            2764049,
            14792,
            18954
           ],
           "xaxis": "x",
           "y": [
            30,
            13768,
            322,
            11,
            5224,
            776,
            2,
            836,
            668,
            558,
            92,
            30,
            15322,
            30,
            49,
            17,
            1086,
            353,
            426,
            2037,
            490,
            565,
            44328,
            41,
            699,
            5070,
            1285,
            30,
            30,
            30,
            1325,
            2060,
            6494,
            2581,
            85,
            1587,
            50,
            63,
            30,
            1024,
            30,
            18322,
            7737,
            1916
           ],
           "yaxis": "y"
          },
          {
           "hovertemplate": "<b>%{hovertext}</b><br><br>WHO Region=Americas<br>Year=2005<br>No. of cases=%{marker.size}<br>No. of deaths=%{y}<extra></extra>",
           "hovertext": [
            "Argentina",
            "Belize",
            "Bolivia (Plurinational State of)",
            "Brazil",
            "Colombia",
            "Congo",
            "Costa Rica",
            "Dominican Republic",
            "Ecuador",
            "El Salvador",
            "Guatemala",
            "Guyana",
            "Haiti",
            "Honduras",
            "Mexico",
            "Nicaragua",
            "Panama",
            "Paraguay",
            "Peru",
            "Suriname",
            "Venezuela (Bolivarian Republic of)"
           ],
           "ids": [
            "Argentina",
            "Belize",
            "Bolivia (Plurinational State of)",
            "Brazil",
            "Colombia",
            "Congo",
            "Costa Rica",
            "Dominican Republic",
            "Ecuador",
            "El Salvador",
            "Guatemala",
            "Guyana",
            "Haiti",
            "Honduras",
            "Mexico",
            "Nicaragua",
            "Panama",
            "Paraguay",
            "Peru",
            "Suriname",
            "Venezuela (Bolivarian Republic of)"
           ],
           "legendgroup": "Americas",
           "marker": {
            "color": "#00cc96",
            "size": [
             252,
             1549,
             21442,
             606067,
             121629,
             67,
             3541,
             3837,
             17050,
             67,
             39571,
             38984,
             21778,
             15943,
             2967,
             6642,
             3667,
             376,
             87699,
             9131,
             45049
            ],
            "sizemode": "area",
            "sizeref": 5068.046611570248,
            "symbol": "circle"
           },
           "mode": "markers",
           "name": "Americas",
           "orientation": "v",
           "showlegend": true,
           "type": "scatter",
           "x": [
            252,
            1549,
            21442,
            606067,
            121629,
            67,
            3541,
            3837,
            17050,
            67,
            39571,
            38984,
            21778,
            15943,
            2967,
            6642,
            3667,
            376,
            87699,
            9131,
            45049
           ],
           "xaxis": "x",
           "y": [
            0,
            0,
            0,
            123,
            87,
            30,
            0,
            16,
            22,
            0,
            4,
            33,
            29,
            1,
            0,
            6,
            1,
            0,
            4,
            1,
            17
           ],
           "yaxis": "y"
          },
          {
           "hovertemplate": "<b>%{hovertext}</b><br><br>WHO Region=Europe<br>Year=2005<br>No. of cases=%{marker.size}<br>No. of deaths=%{y}<extra></extra>",
           "hovertext": [
            "Armenia",
            "Azerbaijan",
            "Georgia",
            "Kazakhstan",
            "Kyrgyzstan",
            "Tajikistan",
            "Turkey",
            "Turkmenistan",
            "Uzbekistan"
           ],
           "ids": [
            "Armenia",
            "Azerbaijan",
            "Georgia",
            "Kazakhstan",
            "Kyrgyzstan",
            "Tajikistan",
            "Turkey",
            "Turkmenistan",
            "Uzbekistan"
           ],
           "legendgroup": "Europe",
           "marker": {
            "color": "#ab63fa",
            "size": [
             7,
             242,
             155,
             14792,
             226,
             2309,
             2084,
             1,
             102
            ],
            "sizemode": "area",
            "sizeref": 5068.046611570248,
            "symbol": "circle"
           },
           "mode": "markers",
           "name": "Europe",
           "orientation": "v",
           "showlegend": true,
           "type": "scatter",
           "x": [
            7,
            242,
            155,
            14792,
            226,
            2309,
            2084,
            1,
            102
           ],
           "xaxis": "x",
           "y": [
            0,
            0,
            0,
            30,
            0,
            0,
            0,
            0,
            0
           ],
           "yaxis": "y"
          },
          {
           "hovertemplate": "<b>%{hovertext}</b><br><br>WHO Region=South-East Asia<br>Year=2005<br>No. of cases=%{marker.size}<br>No. of deaths=%{y}<extra></extra>",
           "hovertext": [
            "Bangladesh",
            "Bhutan",
            "India",
            "Indonesia",
            "Myanmar",
            "Nepal",
            "Sri Lanka",
            "Thailand",
            "Timor-Leste"
           ],
           "ids": [
            "Bangladesh",
            "Bhutan",
            "India",
            "Indonesia",
            "Myanmar",
            "Nepal",
            "Sri Lanka",
            "Thailand",
            "Timor-Leste"
           ],
           "legendgroup": "South-East Asia",
           "marker": {
            "color": "#FFA15A",
            "size": [
             48121,
             1825,
             1816569,
             437323,
             165737,
             5050,
             1640,
             29782,
             43093
            ],
            "sizemode": "area",
            "sizeref": 5068.046611570248,
            "symbol": "circle"
           },
           "mode": "markers",
           "name": "South-East Asia",
           "orientation": "v",
           "showlegend": true,
           "type": "scatter",
           "x": [
            48121,
            1825,
            1816569,
            437323,
            165737,
            5050,
            1640,
            29782,
            43093
           ],
           "xaxis": "x",
           "y": [
            501,
            5,
            963,
            88,
            1707,
            10,
            0,
            161,
            71
           ],
           "yaxis": "y"
          },
          {
           "hovertemplate": "<b>%{hovertext}</b><br><br>WHO Region=Western Pacific<br>Year=2005<br>No. of cases=%{marker.size}<br>No. of deaths=%{y}<extra></extra>",
           "hovertext": [
            "Cambodia",
            "China",
            "Democratic People's Republic of Korea",
            "Lao People's Democratic Republic",
            "Malaysia",
            "Papua New Guinea",
            "Philippines",
            "Republic of Korea",
            "Solomon Islands",
            "Vanuatu",
            "Viet Nam"
           ],
           "ids": [
            "Cambodia",
            "China",
            "Democratic People's Republic of Korea",
            "Lao People's Democratic Republic",
            "Malaysia",
            "Papua New Guinea",
            "Philippines",
            "Republic of Korea",
            "Solomon Islands",
            "Vanuatu",
            "Viet Nam"
           ],
           "legendgroup": "Western Pacific",
           "marker": {
            "color": "#19d3f3",
            "size": [
             49436,
             21936,
             11315,
             13615,
             5569,
             92957,
             46342,
             1369,
             76390,
             9834,
             19496
            ],
            "sizemode": "area",
            "sizeref": 5068.046611570248,
            "symbol": "circle"
           },
           "mode": "markers",
           "name": "Western Pacific",
           "orientation": "v",
           "showlegend": true,
           "type": "scatter",
           "x": [
            49436,
            21936,
            11315,
            13615,
            5569,
            92957,
            46342,
            1369,
            76390,
            9834,
            19496
           ],
           "xaxis": "x",
           "y": [
            296,
            48,
            30,
            77,
            33,
            725,
            145,
            0,
            38,
            5,
            18
           ],
           "yaxis": "y"
          }
         ],
         "name": "2005"
        },
        {
         "data": [
          {
           "hovertemplate": "<b>%{hovertext}</b><br><br>WHO Region=Eastern Mediterranean<br>Year=2004<br>No. of cases=%{marker.size}<br>No. of deaths=%{y}<extra></extra>",
           "hovertext": [
            "Afghanistan",
            "Djibouti",
            "Egypt",
            "Iran (Islamic Republic of)",
            "Iraq",
            "Morocco",
            "Oman",
            "Pakistan",
            "Saudi Arabia",
            "Somalia",
            "Sudan",
            "Syrian Arab Republic",
            "United Arab Emirates",
            "Yemen"
           ],
           "ids": [
            "Afghanistan",
            "Djibouti",
            "Egypt",
            "Iran (Islamic Republic of)",
            "Iraq",
            "Morocco",
            "Oman",
            "Pakistan",
            "Saudi Arabia",
            "Somalia",
            "Sudan",
            "Syrian Arab Republic",
            "United Arab Emirates",
            "Yemen"
           ],
           "legendgroup": "Eastern Mediterranean",
           "marker": {
            "color": "#636efa",
            "size": [
             242022,
             122,
             0,
             13821,
             155,
             1,
             0,
             126719,
             1232,
             11436,
             537899,
             1,
             14792,
             48756
            ],
            "sizemode": "area",
            "sizeref": 5068.046611570248,
            "symbol": "circle"
           },
           "mode": "markers",
           "name": "Eastern Mediterranean",
           "orientation": "v",
           "showlegend": true,
           "type": "scatter",
           "x": [
            242022,
            122,
            0,
            13821,
            155,
            1,
            0,
            126719,
            1232,
            11436,
            537899,
            1,
            14792,
            48756
           ],
           "xaxis": "x",
           "y": [
            30,
            30,
            30,
            1,
            30,
            30,
            30,
            30,
            0,
            79,
            1814,
            30,
            30,
            30
           ],
           "yaxis": "y"
          },
          {
           "hovertemplate": "<b>%{hovertext}</b><br><br>WHO Region=Africa<br>Year=2004<br>No. of cases=%{marker.size}<br>No. of deaths=%{y}<extra></extra>",
           "hovertext": [
            "Algeria",
            "Angola",
            "Benin",
            "Botswana",
            "Burkina Faso",
            "Burundi",
            "Cabo Verde",
            "Cameroon",
            "Central African Republic",
            "Chad",
            "Comoros",
            "Côte d'Ivoire",
            "Democratic Republic of the Congo",
            "Equatorial Guinea",
            "Eritrea",
            "Eswatini",
            "Ethiopia",
            "Gabon",
            "Gambia",
            "Ghana",
            "Guinea",
            "Guinea-Bissau",
            "Kenya",
            "Liberia",
            "Madagascar",
            "Malawi",
            "Mali",
            "Mauritania",
            "Mauritius",
            "Mozambique",
            "Namibia",
            "Niger",
            "Nigeria",
            "Rwanda",
            "Sao Tome and Principe",
            "Senegal",
            "Sierra Leone",
            "South Africa",
            "South Sudan",
            "Togo",
            "Uganda",
            "United Republic of Tanzania",
            "Zambia",
            "Zimbabwe"
           ],
           "ids": [
            "Algeria",
            "Angola",
            "Benin",
            "Botswana",
            "Burkina Faso",
            "Burundi",
            "Cabo Verde",
            "Cameroon",
            "Central African Republic",
            "Chad",
            "Comoros",
            "Côte d'Ivoire",
            "Democratic Republic of the Congo",
            "Equatorial Guinea",
            "Eritrea",
            "Eswatini",
            "Ethiopia",
            "Gabon",
            "Gambia",
            "Ghana",
            "Guinea",
            "Guinea-Bissau",
            "Kenya",
            "Liberia",
            "Madagascar",
            "Malawi",
            "Mali",
            "Mauritania",
            "Mauritius",
            "Mozambique",
            "Namibia",
            "Niger",
            "Nigeria",
            "Rwanda",
            "Sao Tome and Principe",
            "Senegal",
            "Sierra Leone",
            "South Africa",
            "South Sudan",
            "Togo",
            "Uganda",
            "United Republic of Tanzania",
            "Zambia",
            "Zimbabwe"
           ],
           "legendgroup": "Africa",
           "marker": {
            "color": "#EF553B",
            "size": [
             163,
             14792,
             14792,
             198,
             18256,
             363395,
             45,
             14792,
             46869,
             1360,
             12874,
             293,
             2684,
             14792,
             4119,
             574,
             578904,
             70075,
             14792,
             475441,
             103069,
             14792,
             28328,
             14792,
             7638,
             14792,
             14792,
             14792,
             14792,
             14792,
             36043,
             76030,
             14792,
             589315,
             46486,
             22234,
             2206,
             13399,
             14792,
             14792,
             879032,
             2502382,
             14792,
             16990
            ],
            "sizemode": "area",
            "sizeref": 5068.046611570248,
            "symbol": "circle"
           },
           "mode": "markers",
           "name": "Africa",
           "orientation": "v",
           "showlegend": true,
           "type": "scatter",
           "x": [
            163,
            14792,
            14792,
            198,
            18256,
            363395,
            45,
            14792,
            46869,
            1360,
            12874,
            293,
            2684,
            14792,
            4119,
            574,
            578904,
            70075,
            14792,
            475441,
            103069,
            14792,
            28328,
            14792,
            7638,
            14792,
            14792,
            14792,
            14792,
            14792,
            36043,
            76030,
            14792,
            589315,
            46486,
            22234,
            2206,
            13399,
            14792,
            14792,
            879032,
            2502382,
            14792,
            16990
           ],
           "xaxis": "x",
           "y": [
            30,
            12459,
            944,
            19,
            4205,
            689,
            4,
            30,
            859,
            13,
            28,
            30,
            13613,
            30,
            24,
            28,
            3327,
            466,
            153,
            1575,
            528,
            565,
            25403,
            30,
            715,
            3457,
            1012,
            30,
            30,
            30,
            1185,
            1333,
            6032,
            2362,
            169,
            1524,
            126,
            88,
            30,
            1183,
            30,
            19859,
            8289,
            1809
           ],
           "yaxis": "y"
          },
          {
           "hovertemplate": "<b>%{hovertext}</b><br><br>WHO Region=Americas<br>Year=2004<br>No. of cases=%{marker.size}<br>No. of deaths=%{y}<extra></extra>",
           "hovertext": [
            "Argentina",
            "Belize",
            "Bolivia (Plurinational State of)",
            "Brazil",
            "Colombia",
            "Congo",
            "Costa Rica",
            "Dominican Republic",
            "Ecuador",
            "El Salvador",
            "Guatemala",
            "Guyana",
            "Haiti",
            "Honduras",
            "Mexico",
            "Nicaragua",
            "Panama",
            "Paraguay",
            "Peru",
            "Suriname",
            "Venezuela (Bolivarian Republic of)"
           ],
           "ids": [
            "Argentina",
            "Belize",
            "Bolivia (Plurinational State of)",
            "Brazil",
            "Colombia",
            "Congo",
            "Costa Rica",
            "Dominican Republic",
            "Ecuador",
            "El Salvador",
            "Guatemala",
            "Guyana",
            "Haiti",
            "Honduras",
            "Mexico",
            "Nicaragua",
            "Panama",
            "Paraguay",
            "Peru",
            "Suriname",
            "Venezuela (Bolivarian Republic of)"
           ],
           "legendgroup": "Americas",
           "marker": {
            "color": "#00cc96",
            "size": [
             115,
             1066,
             14910,
             465004,
             142241,
             293,
             1289,
             2355,
             28730,
             112,
             28955,
             28866,
             10802,
             17134,
             3406,
             6897,
             5095,
             694,
             93581,
             8378,
             46655
            ],
            "sizemode": "area",
            "sizeref": 5068.046611570248,
            "symbol": "circle"
           },
           "mode": "markers",
           "name": "Americas",
           "orientation": "v",
           "showlegend": true,
           "type": "scatter",
           "x": [
            115,
            1066,
            14910,
            465004,
            142241,
            293,
            1289,
            2355,
            28730,
            112,
            28955,
            28866,
            10802,
            17134,
            3406,
            6897,
            5095,
            694,
            93581,
            8378,
            46655
           ],
           "xaxis": "x",
           "y": [
            0,
            1,
            3,
            102,
            126,
            30,
            0,
            16,
            37,
            0,
            2,
            38,
            24,
            0,
            0,
            1,
            2,
            0,
            6,
            7,
            35
           ],
           "yaxis": "y"
          },
          {
           "hovertemplate": "<b>%{hovertext}</b><br><br>WHO Region=Europe<br>Year=2004<br>No. of cases=%{marker.size}<br>No. of deaths=%{y}<extra></extra>",
           "hovertext": [
            "Armenia",
            "Azerbaijan",
            "Georgia",
            "Kazakhstan",
            "Kyrgyzstan",
            "Tajikistan",
            "Turkey",
            "Turkmenistan",
            "Uzbekistan"
           ],
           "ids": [
            "Armenia",
            "Azerbaijan",
            "Georgia",
            "Kazakhstan",
            "Kyrgyzstan",
            "Tajikistan",
            "Turkey",
            "Turkmenistan",
            "Uzbekistan"
           ],
           "legendgroup": "Europe",
           "marker": {
            "color": "#ab63fa",
            "size": [
             47,
             386,
             257,
             14792,
             93,
             3588,
             5302,
             3,
             66
            ],
            "sizemode": "area",
            "sizeref": 5068.046611570248,
            "symbol": "circle"
           },
           "mode": "markers",
           "name": "Europe",
           "orientation": "v",
           "showlegend": true,
           "type": "scatter",
           "x": [
            47,
            386,
            257,
            14792,
            93,
            3588,
            5302,
            3,
            66
           ],
           "xaxis": "x",
           "y": [
            0,
            0,
            0,
            30,
            0,
            0,
            0,
            0,
            0
           ],
           "yaxis": "y"
          },
          {
           "hovertemplate": "<b>%{hovertext}</b><br><br>WHO Region=South-East Asia<br>Year=2004<br>No. of cases=%{marker.size}<br>No. of deaths=%{y}<extra></extra>",
           "hovertext": [
            "Bangladesh",
            "Bhutan",
            "India",
            "Indonesia",
            "Myanmar",
            "Nepal",
            "Sri Lanka",
            "Thailand",
            "Timor-Leste"
           ],
           "ids": [
            "Bangladesh",
            "Bhutan",
            "India",
            "Indonesia",
            "Myanmar",
            "Nepal",
            "Sri Lanka",
            "Thailand",
            "Timor-Leste"
           ],
           "legendgroup": "South-East Asia",
           "marker": {
            "color": "#FFA15A",
            "size": [
             58894,
             2670,
             1915363,
             304936,
             152070,
             4895,
             3720,
             26690,
             39164
            ],
            "sizemode": "area",
            "sizeref": 5068.046611570248,
            "symbol": "circle"
           },
           "mode": "markers",
           "name": "South-East Asia",
           "orientation": "v",
           "showlegend": true,
           "type": "scatter",
           "x": [
            58894,
            2670,
            1915363,
            304936,
            152070,
            4895,
            3720,
            26690,
            39164
           ],
           "xaxis": "x",
           "y": [
            505,
            7,
            949,
            508,
            1982,
            7,
            1,
            230,
            65
           ],
           "yaxis": "y"
          },
          {
           "hovertemplate": "<b>%{hovertext}</b><br><br>WHO Region=Western Pacific<br>Year=2004<br>No. of cases=%{marker.size}<br>No. of deaths=%{y}<extra></extra>",
           "hovertext": [
            "Cambodia",
            "China",
            "Democratic People's Republic of Korea",
            "Lao People's Democratic Republic",
            "Malaysia",
            "Papua New Guinea",
            "Philippines",
            "Republic of Korea",
            "Solomon Islands",
            "Vanuatu",
            "Viet Nam"
           ],
           "ids": [
            "Cambodia",
            "China",
            "Democratic People's Republic of Korea",
            "Lao People's Democratic Republic",
            "Malaysia",
            "Papua New Guinea",
            "Philippines",
            "Republic of Korea",
            "Solomon Islands",
            "Vanuatu",
            "Viet Nam"
           ],
           "legendgroup": "Western Pacific",
           "marker": {
            "color": "#19d3f3",
            "size": [
             59745,
             27197,
             27090,
             16183,
             6154,
             91055,
             50850,
             864,
             90297,
             14653,
             24909
            ],
            "sizemode": "area",
            "sizeref": 5068.046611570248,
            "symbol": "circle"
           },
           "mode": "markers",
           "name": "Western Pacific",
           "orientation": "v",
           "showlegend": true,
           "type": "scatter",
           "x": [
            59745,
            27197,
            27090,
            16183,
            6154,
            91055,
            50850,
            864,
            90297,
            14653,
            24909
           ],
           "xaxis": "x",
           "y": [
            382,
            31,
            30,
            105,
            35,
            619,
            167,
            0,
            51,
            3,
            34
           ],
           "yaxis": "y"
          }
         ],
         "name": "2004"
        },
        {
         "data": [
          {
           "hovertemplate": "<b>%{hovertext}</b><br><br>WHO Region=Eastern Mediterranean<br>Year=2003<br>No. of cases=%{marker.size}<br>No. of deaths=%{y}<extra></extra>",
           "hovertext": [
            "Afghanistan",
            "Djibouti",
            "Egypt",
            "Iran (Islamic Republic of)",
            "Iraq",
            "Morocco",
            "Oman",
            "Pakistan",
            "Saudi Arabia",
            "Somalia",
            "Sudan",
            "Syrian Arab Republic",
            "United Arab Emirates",
            "Yemen"
           ],
           "ids": [
            "Afghanistan",
            "Djibouti",
            "Egypt",
            "Iran (Islamic Republic of)",
            "Iraq",
            "Morocco",
            "Oman",
            "Pakistan",
            "Saudi Arabia",
            "Somalia",
            "Sudan",
            "Syrian Arab Republic",
            "United Arab Emirates",
            "Yemen"
           ],
           "legendgroup": "Eastern Mediterranean",
           "marker": {
            "color": "#636efa",
            "size": [
             360940,
             5036,
             0,
             23562,
             347,
             4,
             6,
             125152,
             1724,
             7571,
             933267,
             2,
             14792,
             50811
            ],
            "sizemode": "area",
            "sizeref": 5068.046611570248,
            "symbol": "circle"
           },
           "mode": "markers",
           "name": "Eastern Mediterranean",
           "orientation": "v",
           "showlegend": true,
           "type": "scatter",
           "x": [
            360940,
            5036,
            0,
            23562,
            347,
            4,
            6,
            125152,
            1724,
            7571,
            933267,
            2,
            14792,
            50811
           ],
           "xaxis": "x",
           "y": [
            30,
            30,
            30,
            5,
            30,
            30,
            30,
            30,
            0,
            54,
            2479,
            30,
            30,
            30
           ],
           "yaxis": "y"
          },
          {
           "hovertemplate": "<b>%{hovertext}</b><br><br>WHO Region=Africa<br>Year=2003<br>No. of cases=%{marker.size}<br>No. of deaths=%{y}<extra></extra>",
           "hovertext": [
            "Algeria",
            "Angola",
            "Benin",
            "Botswana",
            "Burkina Faso",
            "Burundi",
            "Cabo Verde",
            "Cameroon",
            "Central African Republic",
            "Chad",
            "Comoros",
            "Côte d'Ivoire",
            "Democratic Republic of the Congo",
            "Equatorial Guinea",
            "Eritrea",
            "Eswatini",
            "Ethiopia",
            "Gabon",
            "Gambia",
            "Ghana",
            "Guinea",
            "Guinea-Bissau",
            "Kenya",
            "Liberia",
            "Madagascar",
            "Malawi",
            "Mali",
            "Mauritania",
            "Mauritius",
            "Mozambique",
            "Namibia",
            "Niger",
            "Nigeria",
            "Rwanda",
            "Sao Tome and Principe",
            "Senegal",
            "Sierra Leone",
            "South Africa",
            "South Sudan",
            "Togo",
            "Uganda",
            "United Republic of Tanzania",
            "Zambia",
            "Zimbabwe"
           ],
           "ids": [
            "Algeria",
            "Angola",
            "Benin",
            "Botswana",
            "Burkina Faso",
            "Burundi",
            "Cabo Verde",
            "Cameroon",
            "Central African Republic",
            "Chad",
            "Comoros",
            "Côte d'Ivoire",
            "Democratic Republic of the Congo",
            "Equatorial Guinea",
            "Eritrea",
            "Eswatini",
            "Ethiopia",
            "Gabon",
            "Gambia",
            "Ghana",
            "Guinea",
            "Guinea-Bissau",
            "Kenya",
            "Liberia",
            "Madagascar",
            "Malawi",
            "Mali",
            "Mauritania",
            "Mauritius",
            "Mozambique",
            "Namibia",
            "Niger",
            "Nigeria",
            "Rwanda",
            "Sao Tome and Principe",
            "Senegal",
            "Sierra Leone",
            "South Africa",
            "South Sudan",
            "Togo",
            "Uganda",
            "United Republic of Tanzania",
            "Zambia",
            "Zimbabwe"
           ],
           "legendgroup": "Africa",
           "marker": {
            "color": "#EF553B",
            "size": [
             427,
             14792,
             14792,
             591,
             14792,
             353459,
             68,
             14792,
             37896,
             45195,
             867398,
             1585,
             2438,
             14792,
             10346,
             342,
             463797,
             58212,
             14792,
             14792,
             107925,
             14792,
             39383,
             14792,
             6909,
             14792,
             14792,
             14792,
             14792,
             14792,
             20295,
             56460,
             14792,
             553150,
             42656,
             26865,
             3945,
             13459,
             14792,
             14792,
             801784,
             1976614,
             14792,
             14792
            ],
            "sizemode": "area",
            "sizeref": 5068.046611570248,
            "symbol": "circle"
           },
           "mode": "markers",
           "name": "Africa",
           "orientation": "v",
           "showlegend": true,
           "type": "scatter",
           "x": [
            427,
            14792,
            14792,
            591,
            14792,
            353459,
            68,
            14792,
            37896,
            45195,
            867398,
            1585,
            2438,
            14792,
            10346,
            342,
            463797,
            58212,
            14792,
            14792,
            107925,
            14792,
            39383,
            14792,
            6909,
            14792,
            14792,
            14792,
            14792,
            14792,
            20295,
            56460,
            14792,
            553150,
            42656,
            26865,
            3945,
            13459,
            14792,
            14792,
            801784,
            1976614,
            14792,
            14792
           ],
           "xaxis": "x",
           "y": [
            30,
            38598,
            560,
            18,
            4860,
            425,
            4,
            30,
            417,
            1021,
            30,
            30,
            989,
            30,
            79,
            30,
            2138,
            692,
            192,
            2103,
            586,
            1137,
            51842,
            30,
            817,
            4767,
            1309,
            30,
            30,
            30,
            1106,
            2248,
            5343,
            2679,
            193,
            1602,
            157,
            142,
            30,
            1130,
            30,
            15251,
            9178,
            1044
           ],
           "yaxis": "y"
          },
          {
           "hovertemplate": "<b>%{hovertext}</b><br><br>WHO Region=Americas<br>Year=2003<br>No. of cases=%{marker.size}<br>No. of deaths=%{y}<extra></extra>",
           "hovertext": [
            "Argentina",
            "Belize",
            "Bolivia (Plurinational State of)",
            "Brazil",
            "Colombia",
            "Congo",
            "Costa Rica",
            "Dominican Republic",
            "Ecuador",
            "El Salvador",
            "Guatemala",
            "Guyana",
            "Haiti",
            "Honduras",
            "Mexico",
            "Nicaragua",
            "Panama",
            "Paraguay",
            "Peru",
            "Suriname",
            "Venezuela (Bolivarian Republic of)"
           ],
           "ids": [
            "Argentina",
            "Belize",
            "Bolivia (Plurinational State of)",
            "Brazil",
            "Colombia",
            "Congo",
            "Costa Rica",
            "Dominican Republic",
            "Ecuador",
            "El Salvador",
            "Guatemala",
            "Guyana",
            "Haiti",
            "Honduras",
            "Mexico",
            "Nicaragua",
            "Panama",
            "Paraguay",
            "Peru",
            "Suriname",
            "Venezuela (Bolivarian Republic of)"
           ],
           "legendgroup": "Americas",
           "marker": {
            "color": "#00cc96",
            "size": [
             122,
             1084,
             20343,
             408886,
             180956,
             1633,
             718,
             1529,
             52065,
             85,
             31127,
             27627,
             14792,
             14063,
             3819,
             6717,
             4500,
             1392,
             88408,
             10982,
             31719
            ],
            "sizemode": "area",
            "sizeref": 5068.046611570248,
            "symbol": "circle"
           },
           "mode": "markers",
           "name": "Americas",
           "orientation": "v",
           "showlegend": true,
           "type": "scatter",
           "x": [
            122,
            1084,
            20343,
            408886,
            180956,
            1633,
            718,
            1529,
            52065,
            85,
            31127,
            27627,
            14792,
            14063,
            3819,
            6717,
            4500,
            1392,
            88408,
            10982,
            31719
           ],
           "xaxis": "x",
           "y": [
            1,
            30,
            1,
            104,
            118,
            30,
            0,
            12,
            46,
            0,
            0,
            44,
            109,
            0,
            0,
            7,
            4,
            0,
            9,
            18,
            40
           ],
           "yaxis": "y"
          },
          {
           "hovertemplate": "<b>%{hovertext}</b><br><br>WHO Region=Europe<br>Year=2003<br>No. of cases=%{marker.size}<br>No. of deaths=%{y}<extra></extra>",
           "hovertext": [
            "Armenia",
            "Azerbaijan",
            "Georgia",
            "Kazakhstan",
            "Kyrgyzstan",
            "Tajikistan",
            "Turkey",
            "Turkmenistan",
            "Uzbekistan"
           ],
           "ids": [
            "Armenia",
            "Azerbaijan",
            "Georgia",
            "Kazakhstan",
            "Kyrgyzstan",
            "Tajikistan",
            "Turkey",
            "Turkmenistan",
            "Uzbekistan"
           ],
           "legendgroup": "Europe",
           "marker": {
            "color": "#ab63fa",
            "size": [
             29,
             482,
             316,
             14792,
             468,
             5428,
             9222,
             7,
             74
            ],
            "sizemode": "area",
            "sizeref": 5068.046611570248,
            "symbol": "circle"
           },
           "mode": "markers",
           "name": "Europe",
           "orientation": "v",
           "showlegend": true,
           "type": "scatter",
           "x": [
            29,
            482,
            316,
            14792,
            468,
            5428,
            9222,
            7,
            74
           ],
           "xaxis": "x",
           "y": [
            0,
            0,
            0,
            30,
            0,
            0,
            0,
            0,
            0
           ],
           "yaxis": "y"
          },
          {
           "hovertemplate": "<b>%{hovertext}</b><br><br>WHO Region=South-East Asia<br>Year=2003<br>No. of cases=%{marker.size}<br>No. of deaths=%{y}<extra></extra>",
           "hovertext": [
            "Bangladesh",
            "Bhutan",
            "India",
            "Indonesia",
            "Myanmar",
            "Nepal",
            "Sri Lanka",
            "Thailand",
            "Timor-Leste"
           ],
           "ids": [
            "Bangladesh",
            "Bhutan",
            "India",
            "Indonesia",
            "Myanmar",
            "Nepal",
            "Sri Lanka",
            "Thailand",
            "Timor-Leste"
           ],
           "legendgroup": "South-East Asia",
           "marker": {
            "color": "#FFA15A",
            "size": [
             54654,
             3806,
             1869403,
             223074,
             177530,
             9506,
             10510,
             37355,
             33411
            ],
            "sizemode": "area",
            "sizeref": 5068.046611570248,
            "symbol": "circle"
           },
           "mode": "markers",
           "name": "South-East Asia",
           "orientation": "v",
           "showlegend": true,
           "type": "scatter",
           "x": [
            54654,
            3806,
            1869403,
            223074,
            177530,
            9506,
            10510,
            37355,
            33411
           ],
           "xaxis": "x",
           "y": [
            574,
            14,
            1006,
            30,
            2476,
            5,
            4,
            204,
            30
           ],
           "yaxis": "y"
          },
          {
           "hovertemplate": "<b>%{hovertext}</b><br><br>WHO Region=Western Pacific<br>Year=2003<br>No. of cases=%{marker.size}<br>No. of deaths=%{y}<extra></extra>",
           "hovertext": [
            "Cambodia",
            "China",
            "Democratic People's Republic of Korea",
            "Lao People's Democratic Republic",
            "Malaysia",
            "Papua New Guinea",
            "Philippines",
            "Republic of Korea",
            "Solomon Islands",
            "Vanuatu",
            "Viet Nam"
           ],
           "ids": [
            "Cambodia",
            "China",
            "Democratic People's Republic of Korea",
            "Lao People's Democratic Republic",
            "Malaysia",
            "Papua New Guinea",
            "Philippines",
            "Republic of Korea",
            "Solomon Islands",
            "Vanuatu",
            "Viet Nam"
           ],
           "legendgroup": "Western Pacific",
           "marker": {
            "color": "#19d3f3",
            "size": [
             71265,
             28491,
             16538,
             18894,
             6338,
             72620,
             48441,
             1171,
             92227,
             15240,
             38790
            ],
            "sizemode": "area",
            "sizeref": 5068.046611570248,
            "symbol": "circle"
           },
           "mode": "markers",
           "name": "Western Pacific",
           "orientation": "v",
           "showlegend": true,
           "type": "scatter",
           "x": [
            71265,
            28491,
            16538,
            18894,
            6338,
            72620,
            48441,
            1171,
            92227,
            15240,
            38790
           ],
           "xaxis": "x",
           "y": [
            492,
            52,
            30,
            187,
            21,
            537,
            162,
            0,
            71,
            14,
            50
           ],
           "yaxis": "y"
          }
         ],
         "name": "2003"
        },
        {
         "data": [
          {
           "hovertemplate": "<b>%{hovertext}</b><br><br>WHO Region=Eastern Mediterranean<br>Year=2002<br>No. of cases=%{marker.size}<br>No. of deaths=%{y}<extra></extra>",
           "hovertext": [
            "Afghanistan",
            "Djibouti",
            "Egypt",
            "Iran (Islamic Republic of)",
            "Iraq",
            "Morocco",
            "Oman",
            "Pakistan",
            "Saudi Arabia",
            "Somalia",
            "Sudan",
            "Syrian Arab Republic",
            "United Arab Emirates",
            "Yemen"
           ],
           "ids": [
            "Afghanistan",
            "Djibouti",
            "Egypt",
            "Iran (Islamic Republic of)",
            "Iraq",
            "Morocco",
            "Oman",
            "Pakistan",
            "Saudi Arabia",
            "Somalia",
            "Sudan",
            "Syrian Arab Republic",
            "United Arab Emirates",
            "Yemen"
           ],
           "legendgroup": "Eastern Mediterranean",
           "marker": {
            "color": "#636efa",
            "size": [
             415356,
             14792,
             0,
             15558,
             952,
             19,
             6,
             107666,
             2612,
             15732,
             280550,
             15,
             14792,
             75508
            ],
            "sizemode": "area",
            "sizeref": 5068.046611570248,
            "symbol": "circle"
           },
           "mode": "markers",
           "name": "Eastern Mediterranean",
           "orientation": "v",
           "showlegend": true,
           "type": "scatter",
           "x": [
            415356,
            14792,
            0,
            15558,
            952,
            19,
            6,
            107666,
            2612,
            15732,
            280550,
            15,
            14792,
            75508
           ],
           "xaxis": "x",
           "y": [
            30,
            30,
            30,
            2,
            30,
            30,
            30,
            30,
            0,
            8,
            2125,
            30,
            30,
            30
           ],
           "yaxis": "y"
          },
          {
           "hovertemplate": "<b>%{hovertext}</b><br><br>WHO Region=Africa<br>Year=2002<br>No. of cases=%{marker.size}<br>No. of deaths=%{y}<extra></extra>",
           "hovertext": [
            "Algeria",
            "Angola",
            "Benin",
            "Botswana",
            "Burkina Faso",
            "Burundi",
            "Cabo Verde",
            "Cameroon",
            "Central African Republic",
            "Chad",
            "Comoros",
            "Côte d'Ivoire",
            "Democratic Republic of the Congo",
            "Equatorial Guinea",
            "Eritrea",
            "Eswatini",
            "Ethiopia",
            "Gabon",
            "Gambia",
            "Ghana",
            "Guinea",
            "Guinea-Bissau",
            "Kenya",
            "Liberia",
            "Madagascar",
            "Malawi",
            "Mali",
            "Mauritania",
            "Mauritius",
            "Mozambique",
            "Namibia",
            "Niger",
            "Nigeria",
            "Rwanda",
            "Sao Tome and Principe",
            "Senegal",
            "Sierra Leone",
            "South Africa",
            "South Sudan",
            "Togo",
            "Uganda",
            "United Republic of Tanzania",
            "Zambia",
            "Zimbabwe"
           ],
           "ids": [
            "Algeria",
            "Angola",
            "Benin",
            "Botswana",
            "Burkina Faso",
            "Burundi",
            "Cabo Verde",
            "Cameroon",
            "Central African Republic",
            "Chad",
            "Comoros",
            "Côte d'Ivoire",
            "Democratic Republic of the Congo",
            "Equatorial Guinea",
            "Eritrea",
            "Eswatini",
            "Ethiopia",
            "Gabon",
            "Gambia",
            "Ghana",
            "Guinea",
            "Guinea-Bissau",
            "Kenya",
            "Liberia",
            "Madagascar",
            "Malawi",
            "Mali",
            "Mauritania",
            "Mauritius",
            "Mozambique",
            "Namibia",
            "Niger",
            "Nigeria",
            "Rwanda",
            "Sao Tome and Principe",
            "Senegal",
            "Sierra Leone",
            "South Africa",
            "South Sudan",
            "Togo",
            "Uganda",
            "United Republic of Tanzania",
            "Zambia",
            "Zimbabwe"
           ],
           "legendgroup": "Africa",
           "marker": {
            "color": "#EF553B",
            "size": [
             307,
             14792,
             14792,
             1640,
             14792,
             327138,
             76,
             14792,
             43093,
             43933,
             1104310,
             7628,
             1735,
             14792,
             6078,
             670,
             427795,
             62976,
             14792,
             14792,
             16561,
             14792,
             20049,
             14792,
             5272,
             14792,
             14792,
             14792,
             14792,
             14792,
             23984,
             14792,
             14792,
             506028,
             50586,
             14425,
             3702,
             15649,
             14792,
             14792,
             557159,
             42468,
             14792,
             14792
            ],
            "sizemode": "area",
            "sizeref": 5068.046611570248,
            "symbol": "circle"
           },
           "mode": "markers",
           "name": "Africa",
           "orientation": "v",
           "showlegend": true,
           "type": "scatter",
           "x": [
            307,
            14792,
            14792,
            1640,
            14792,
            327138,
            76,
            14792,
            43093,
            43933,
            1104310,
            7628,
            1735,
            14792,
            6078,
            670,
            427795,
            62976,
            14792,
            14792,
            16561,
            14792,
            20049,
            14792,
            5272,
            14792,
            14792,
            14792,
            14792,
            14792,
            23984,
            14792,
            14792,
            506028,
            50586,
            14425,
            3702,
            15649,
            14792,
            14792,
            557159,
            42468,
            14792,
            14792
           ],
           "xaxis": "x",
           "y": [
            30,
            14434,
            707,
            23,
            4032,
            483,
            2,
            30,
            30,
            98,
            30,
            30,
            2152,
            30,
            86,
            46,
            1607,
            1141,
            259,
            2376,
            440,
            780,
            47697,
            30,
            575,
            5775,
            826,
            30,
            30,
            30,
            1504,
            2769,
            4092,
            3167,
            321,
            1226,
            461,
            96,
            30,
            1661,
            30,
            815,
            9021,
            1844
           ],
           "yaxis": "y"
          },
          {
           "hovertemplate": "<b>%{hovertext}</b><br><br>WHO Region=Americas<br>Year=2002<br>No. of cases=%{marker.size}<br>No. of deaths=%{y}<extra></extra>",
           "hovertext": [
            "Argentina",
            "Belize",
            "Bolivia (Plurinational State of)",
            "Brazil",
            "Colombia",
            "Congo",
            "Costa Rica",
            "Dominican Republic",
            "Ecuador",
            "El Salvador",
            "Guatemala",
            "Guyana",
            "Haiti",
            "Honduras",
            "Mexico",
            "Nicaragua",
            "Panama",
            "Paraguay",
            "Peru",
            "Suriname",
            "Venezuela (Bolivarian Republic of)"
           ],
           "ids": [
            "Argentina",
            "Belize",
            "Bolivia (Plurinational State of)",
            "Brazil",
            "Colombia",
            "Congo",
            "Costa Rica",
            "Dominican Republic",
            "Ecuador",
            "El Salvador",
            "Guatemala",
            "Guyana",
            "Haiti",
            "Honduras",
            "Mexico",
            "Nicaragua",
            "Panama",
            "Paraguay",
            "Peru",
            "Suriname",
            "Venezuela (Bolivarian Republic of)"
           ],
           "legendgroup": "Americas",
           "marker": {
            "color": "#00cc96",
            "size": [
             125,
             1134,
             14276,
             348259,
             204916,
             7677,
             1021,
             1296,
             86757,
             117,
             35540,
             21895,
             14792,
             17223,
             4624,
             7695,
             2244,
             2778,
             99237,
             12837,
             29491
            ],
            "sizemode": "area",
            "sizeref": 5068.046611570248,
            "symbol": "circle"
           },
           "mode": "markers",
           "name": "Americas",
           "orientation": "v",
           "showlegend": true,
           "type": "scatter",
           "x": [
            125,
            1134,
            14276,
            348259,
            204916,
            7677,
            1021,
            1296,
            86757,
            117,
            35540,
            21895,
            14792,
            17223,
            4624,
            7695,
            2244,
            2778,
            99237,
            12837,
            29491
           ],
           "xaxis": "x",
           "y": [
            0,
            0,
            4,
            95,
            162,
            30,
            0,
            11,
            64,
            0,
            0,
            28,
            77,
            0,
            0,
            8,
            2,
            0,
            12,
            15,
            23
           ],
           "yaxis": "y"
          },
          {
           "hovertemplate": "<b>%{hovertext}</b><br><br>WHO Region=Europe<br>Year=2002<br>No. of cases=%{marker.size}<br>No. of deaths=%{y}<extra></extra>",
           "hovertext": [
            "Armenia",
            "Azerbaijan",
            "Georgia",
            "Kazakhstan",
            "Kyrgyzstan",
            "Tajikistan",
            "Turkey",
            "Turkmenistan",
            "Uzbekistan"
           ],
           "ids": [
            "Armenia",
            "Azerbaijan",
            "Georgia",
            "Kazakhstan",
            "Kyrgyzstan",
            "Tajikistan",
            "Turkey",
            "Turkmenistan",
            "Uzbekistan"
           ],
           "legendgroup": "Europe",
           "marker": {
            "color": "#ab63fa",
            "size": [
             52,
             506,
             474,
             14792,
             2743,
             6160,
             10224,
             18,
             74
            ],
            "sizemode": "area",
            "sizeref": 5068.046611570248,
            "symbol": "circle"
           },
           "mode": "markers",
           "name": "Europe",
           "orientation": "v",
           "showlegend": true,
           "type": "scatter",
           "x": [
            52,
            506,
            474,
            14792,
            2743,
            6160,
            10224,
            18,
            74
           ],
           "xaxis": "x",
           "y": [
            0,
            0,
            0,
            30,
            0,
            0,
            0,
            0,
            0
           ],
           "yaxis": "y"
          },
          {
           "hovertemplate": "<b>%{hovertext}</b><br><br>WHO Region=South-East Asia<br>Year=2002<br>No. of cases=%{marker.size}<br>No. of deaths=%{y}<extra></extra>",
           "hovertext": [
            "Bangladesh",
            "Bhutan",
            "India",
            "Indonesia",
            "Myanmar",
            "Nepal",
            "Sri Lanka",
            "Thailand",
            "Timor-Leste"
           ],
           "ids": [
            "Bangladesh",
            "Bhutan",
            "India",
            "Indonesia",
            "Myanmar",
            "Nepal",
            "Sri Lanka",
            "Thailand",
            "Timor-Leste"
           ],
           "legendgroup": "South-East Asia",
           "marker": {
            "color": "#FFA15A",
            "size": [
             62269,
             6511,
             1841227,
             273793,
             173096,
             12750,
             41411,
             44555,
             26651
            ],
            "sizemode": "area",
            "sizeref": 5068.046611570248,
            "symbol": "circle"
           },
           "mode": "markers",
           "name": "South-East Asia",
           "orientation": "v",
           "showlegend": true,
           "type": "scatter",
           "x": [
            62269,
            6511,
            1841227,
            273793,
            173096,
            12750,
            41411,
            44555,
            26651
           ],
           "xaxis": "x",
           "y": [
            598,
            11,
            973,
            30,
            2634,
            3,
            30,
            361,
            30
           ],
           "yaxis": "y"
          },
          {
           "hovertemplate": "<b>%{hovertext}</b><br><br>WHO Region=Western Pacific<br>Year=2002<br>No. of cases=%{marker.size}<br>No. of deaths=%{y}<extra></extra>",
           "hovertext": [
            "Cambodia",
            "China",
            "Democratic People's Republic of Korea",
            "Lao People's Democratic Republic",
            "Malaysia",
            "Papua New Guinea",
            "Philippines",
            "Republic of Korea",
            "Solomon Islands",
            "Vanuatu",
            "Viet Nam"
           ],
           "ids": [
            "Cambodia",
            "China",
            "Democratic People's Republic of Korea",
            "Lao People's Democratic Republic",
            "Malaysia",
            "Papua New Guinea",
            "Philippines",
            "Republic of Korea",
            "Solomon Islands",
            "Vanuatu",
            "Viet Nam"
           ],
           "legendgroup": "Western Pacific",
           "marker": {
            "color": "#19d3f3",
            "size": [
             46902,
             25520,
             16578,
             21420,
             11019,
             75748,
             37005,
             1799,
             74936,
             14339,
             47807
            ],
            "sizemode": "area",
            "sizeref": 5068.046611570248,
            "symbol": "circle"
           },
           "mode": "markers",
           "name": "Western Pacific",
           "orientation": "v",
           "showlegend": true,
           "type": "scatter",
           "x": [
            46902,
            25520,
            16578,
            21420,
            11019,
            75748,
            37005,
            1799,
            74936,
            14339,
            47807
           ],
           "xaxis": "x",
           "y": [
            457,
            42,
            30,
            195,
            38,
            647,
            71,
            0,
            61,
            13,
            50
           ],
           "yaxis": "y"
          }
         ],
         "name": "2002"
        },
        {
         "data": [
          {
           "hovertemplate": "<b>%{hovertext}</b><br><br>WHO Region=Eastern Mediterranean<br>Year=2001<br>No. of cases=%{marker.size}<br>No. of deaths=%{y}<extra></extra>",
           "hovertext": [
            "Afghanistan",
            "Djibouti",
            "Egypt",
            "Iran (Islamic Republic of)",
            "Iraq",
            "Morocco",
            "Oman",
            "Pakistan",
            "Saudi Arabia",
            "Somalia",
            "Sudan",
            "Syrian Arab Republic",
            "United Arab Emirates",
            "Yemen"
           ],
           "ids": [
            "Afghanistan",
            "Djibouti",
            "Egypt",
            "Iran (Islamic Republic of)",
            "Iraq",
            "Morocco",
            "Oman",
            "Pakistan",
            "Saudi Arabia",
            "Somalia",
            "Sudan",
            "Syrian Arab Republic",
            "United Arab Emirates",
            "Yemen"
           ],
           "legendgroup": "Eastern Mediterranean",
           "marker": {
            "color": "#636efa",
            "size": [
             50850,
             14792,
             0,
             19303,
             1265,
             0,
             2,
             125292,
             3074,
             14792,
             203491,
             63,
             14792,
             14792
            ],
            "sizemode": "area",
            "sizeref": 5068.046611570248,
            "symbol": "circle"
           },
           "mode": "markers",
           "name": "Eastern Mediterranean",
           "orientation": "v",
           "showlegend": true,
           "type": "scatter",
           "x": [
            50850,
            14792,
            0,
            19303,
            1265,
            0,
            2,
            125292,
            3074,
            14792,
            203491,
            63,
            14792,
            14792
           ],
           "xaxis": "x",
           "y": [
            30,
            30,
            30,
            2,
            30,
            30,
            30,
            30,
            0,
            30,
            2252,
            30,
            30,
            30
           ],
           "yaxis": "y"
          },
          {
           "hovertemplate": "<b>%{hovertext}</b><br><br>WHO Region=Africa<br>Year=2001<br>No. of cases=%{marker.size}<br>No. of deaths=%{y}<extra></extra>",
           "hovertext": [
            "Algeria",
            "Angola",
            "Benin",
            "Botswana",
            "Burkina Faso",
            "Burundi",
            "Cabo Verde",
            "Cameroon",
            "Central African Republic",
            "Chad",
            "Comoros",
            "Côte d'Ivoire",
            "Democratic Republic of the Congo",
            "Equatorial Guinea",
            "Eritrea",
            "Eswatini",
            "Ethiopia",
            "Gabon",
            "Gambia",
            "Ghana",
            "Guinea",
            "Guinea-Bissau",
            "Kenya",
            "Liberia",
            "Madagascar",
            "Malawi",
            "Mali",
            "Mauritania",
            "Mauritius",
            "Mozambique",
            "Namibia",
            "Niger",
            "Nigeria",
            "Rwanda",
            "Sao Tome and Principe",
            "Senegal",
            "Sierra Leone",
            "South Africa",
            "South Sudan",
            "Togo",
            "Uganda",
            "United Republic of Tanzania",
            "Zambia",
            "Zimbabwe"
           ],
           "ids": [
            "Algeria",
            "Angola",
            "Benin",
            "Botswana",
            "Burkina Faso",
            "Burundi",
            "Cabo Verde",
            "Cameroon",
            "Central African Republic",
            "Chad",
            "Comoros",
            "Côte d'Ivoire",
            "Democratic Republic of the Congo",
            "Equatorial Guinea",
            "Eritrea",
            "Eswatini",
            "Ethiopia",
            "Gabon",
            "Gambia",
            "Ghana",
            "Guinea",
            "Guinea-Bissau",
            "Kenya",
            "Liberia",
            "Madagascar",
            "Malawi",
            "Mali",
            "Mauritania",
            "Mauritius",
            "Mozambique",
            "Namibia",
            "Niger",
            "Nigeria",
            "Rwanda",
            "Sao Tome and Principe",
            "Senegal",
            "Sierra Leone",
            "South Africa",
            "South Sudan",
            "Togo",
            "Uganda",
            "United Republic of Tanzania",
            "Zambia",
            "Zimbabwe"
           ],
           "legendgroup": "Africa",
           "marker": {
            "color": "#EF553B",
            "size": [
             435,
             14792,
             14792,
             3720,
             14792,
             312015,
             107,
             14792,
             39164,
             38287,
             879032,
             11936,
             1531,
             14792,
             9716,
             1395,
             392377,
             53167,
             14792,
             14792,
             6238,
             14792,
             14792,
             14792,
             8538,
             14792,
             14792,
             14792,
             14792,
             14792,
             41636,
             14792,
             14792,
             423493,
             42086,
             12920,
             2206,
             26506,
             14792,
             14792,
             14792,
             38537,
             14792,
             14792
            ],
            "sizemode": "area",
            "sizeref": 5068.046611570248,
            "symbol": "circle"
           },
           "mode": "markers",
           "name": "Africa",
           "orientation": "v",
           "showlegend": true,
           "type": "scatter",
           "x": [
            435,
            14792,
            14792,
            3720,
            14792,
            312015,
            107,
            14792,
            39164,
            38287,
            879032,
            11936,
            1531,
            14792,
            9716,
            1395,
            392377,
            53167,
            14792,
            14792,
            6238,
            14792,
            14792,
            14792,
            8538,
            14792,
            14792,
            14792,
            14792,
            14792,
            41636,
            14792,
            14792,
            423493,
            42086,
            12920,
            2206,
            26506,
            14792,
            14792,
            14792,
            38537,
            14792,
            14792
           ],
           "xaxis": "x",
           "y": [
            1,
            9473,
            468,
            29,
            4233,
            417,
            0,
            30,
            535,
            957,
            30,
            30,
            416,
            30,
            133,
            62,
            1681,
            1693,
            275,
            1717,
            517,
            635,
            48286,
            30,
            742,
            3355,
            562,
            30,
            30,
            30,
            1728,
            2366,
            4317,
            4275,
            248,
            1515,
            328,
            81,
            30,
            1394,
            30,
            1228,
            9369,
            30
           ],
           "yaxis": "y"
          },
          {
           "hovertemplate": "<b>%{hovertext}</b><br><br>WHO Region=Americas<br>Year=2001<br>No. of cases=%{marker.size}<br>No. of deaths=%{y}<extra></extra>",
           "hovertext": [
            "Argentina",
            "Belize",
            "Bolivia (Plurinational State of)",
            "Brazil",
            "Colombia",
            "Congo",
            "Costa Rica",
            "Dominican Republic",
            "Ecuador",
            "El Salvador",
            "Guatemala",
            "Guyana",
            "Haiti",
            "Honduras",
            "Mexico",
            "Nicaragua",
            "Panama",
            "Paraguay",
            "Peru",
            "Suriname",
            "Venezuela (Bolivarian Republic of)"
           ],
           "ids": [
            "Argentina",
            "Belize",
            "Bolivia (Plurinational State of)",
            "Brazil",
            "Colombia",
            "Congo",
            "Costa Rica",
            "Dominican Republic",
            "Ecuador",
            "El Salvador",
            "Guatemala",
            "Guyana",
            "Haiti",
            "Honduras",
            "Mexico",
            "Nicaragua",
            "Panama",
            "Paraguay",
            "Peru",
            "Suriname",
            "Venezuela (Bolivarian Republic of)"
           ],
           "legendgroup": "Americas",
           "marker": {
            "color": "#00cc96",
            "size": [
             215,
             1162,
             15765,
             388303,
             231233,
             11981,
             1363,
             1038,
             108903,
             362,
             35824,
             27122,
             9837,
             24149,
             4996,
             10482,
             928,
             2710,
             78544,
             16003,
             20006
            ],
            "sizemode": "area",
            "sizeref": 5068.046611570248,
            "symbol": "circle"
           },
           "mode": "markers",
           "name": "Americas",
           "orientation": "v",
           "showlegend": true,
           "type": "scatter",
           "x": [
            215,
            1162,
            15765,
            388303,
            231233,
            11981,
            1363,
            1038,
            108903,
            362,
            35824,
            27122,
            9837,
            24149,
            4996,
            10482,
            928,
            2710,
            78544,
            16003,
            20006
           ],
           "xaxis": "x",
           "y": [
            0,
            0,
            0,
            142,
            168,
            30,
            0,
            17,
            84,
            0,
            0,
            30,
            70,
            0,
            0,
            2,
            1,
            0,
            25,
            23,
            28
           ],
           "yaxis": "y"
          },
          {
           "hovertemplate": "<b>%{hovertext}</b><br><br>WHO Region=Europe<br>Year=2001<br>No. of cases=%{marker.size}<br>No. of deaths=%{y}<extra></extra>",
           "hovertext": [
            "Armenia",
            "Azerbaijan",
            "Georgia",
            "Kazakhstan",
            "Kyrgyzstan",
            "Tajikistan",
            "Turkey",
            "Turkmenistan",
            "Uzbekistan"
           ],
           "ids": [
            "Armenia",
            "Azerbaijan",
            "Georgia",
            "Kazakhstan",
            "Kyrgyzstan",
            "Tajikistan",
            "Turkey",
            "Turkmenistan",
            "Uzbekistan"
           ],
           "legendgroup": "Europe",
           "marker": {
            "color": "#ab63fa",
            "size": [
             79,
             1058,
             438,
             14792,
             28,
             11387,
             10812,
             8,
             77
            ],
            "sizemode": "area",
            "sizeref": 5068.046611570248,
            "symbol": "circle"
           },
           "mode": "markers",
           "name": "Europe",
           "orientation": "v",
           "showlegend": true,
           "type": "scatter",
           "x": [
            79,
            1058,
            438,
            14792,
            28,
            11387,
            10812,
            8,
            77
           ],
           "xaxis": "x",
           "y": [
            0,
            0,
            0,
            30,
            0,
            0,
            0,
            0,
            0
           ],
           "yaxis": "y"
          },
          {
           "hovertemplate": "<b>%{hovertext}</b><br><br>WHO Region=South-East Asia<br>Year=2001<br>No. of cases=%{marker.size}<br>No. of deaths=%{y}<extra></extra>",
           "hovertext": [
            "Bangladesh",
            "Bhutan",
            "India",
            "Indonesia",
            "Myanmar",
            "Nepal",
            "Sri Lanka",
            "Thailand",
            "Timor-Leste"
           ],
           "ids": [
            "Bangladesh",
            "Bhutan",
            "India",
            "Indonesia",
            "Myanmar",
            "Nepal",
            "Sri Lanka",
            "Thailand",
            "Timor-Leste"
           ],
           "legendgroup": "South-East Asia",
           "marker": {
            "color": "#FFA15A",
            "size": [
             54216,
             5982,
             2085484,
             267592,
             170502,
             6396,
             66522,
             63528,
             14792
            ],
            "sizemode": "area",
            "sizeref": 5068.046611570248,
            "symbol": "circle"
           },
           "mode": "markers",
           "name": "South-East Asia",
           "orientation": "v",
           "showlegend": true,
           "type": "scatter",
           "x": [
            54216,
            5982,
            2085484,
            267592,
            170502,
            6396,
            66522,
            63528,
            14792
           ],
           "xaxis": "x",
           "y": [
            470,
            14,
            1015,
            30,
            2814,
            1,
            52,
            424,
            30
           ],
           "yaxis": "y"
          },
          {
           "hovertemplate": "<b>%{hovertext}</b><br><br>WHO Region=Western Pacific<br>Year=2001<br>No. of cases=%{marker.size}<br>No. of deaths=%{y}<extra></extra>",
           "hovertext": [
            "Cambodia",
            "China",
            "Democratic People's Republic of Korea",
            "Lao People's Democratic Republic",
            "Malaysia",
            "Papua New Guinea",
            "Philippines",
            "Republic of Korea",
            "Solomon Islands",
            "Vanuatu",
            "Viet Nam"
           ],
           "ids": [
            "Cambodia",
            "China",
            "Democratic People's Republic of Korea",
            "Lao People's Democratic Republic",
            "Malaysia",
            "Papua New Guinea",
            "Philippines",
            "Republic of Korea",
            "Solomon Islands",
            "Vanuatu",
            "Viet Nam"
           ],
           "legendgroup": "Western Pacific",
           "marker": {
            "color": "#19d3f3",
            "size": [
             53601,
             21237,
             143674,
             27076,
             12780,
             94484,
             34787,
             2556,
             76493,
             7647,
             68699
            ],
            "sizemode": "area",
            "sizeref": 5068.046611570248,
            "symbol": "circle"
           },
           "mode": "markers",
           "name": "Western Pacific",
           "orientation": "v",
           "showlegend": true,
           "type": "scatter",
           "x": [
            53601,
            21237,
            143674,
            27076,
            12780,
            94484,
            34787,
            2556,
            76493,
            7647,
            68699
           ],
           "xaxis": "x",
           "y": [
            476,
            27,
            30,
            242,
            46,
            562,
            439,
            0,
            55,
            4,
            91
           ],
           "yaxis": "y"
          }
         ],
         "name": "2001"
        },
        {
         "data": [
          {
           "hovertemplate": "<b>%{hovertext}</b><br><br>WHO Region=Eastern Mediterranean<br>Year=2000<br>No. of cases=%{marker.size}<br>No. of deaths=%{y}<extra></extra>",
           "hovertext": [
            "Afghanistan",
            "Djibouti",
            "Egypt",
            "Iran (Islamic Republic of)",
            "Iraq",
            "Morocco",
            "Oman",
            "Pakistan",
            "Saudi Arabia",
            "Somalia",
            "Sudan",
            "Syrian Arab Republic",
            "United Arab Emirates",
            "Yemen"
           ],
           "ids": [
            "Afghanistan",
            "Djibouti",
            "Egypt",
            "Iran (Islamic Republic of)",
            "Iraq",
            "Morocco",
            "Oman",
            "Pakistan",
            "Saudi Arabia",
            "Somalia",
            "Sudan",
            "Syrian Arab Republic",
            "United Arab Emirates",
            "Yemen"
           ],
           "legendgroup": "Eastern Mediterranean",
           "marker": {
            "color": "#636efa",
            "size": [
             94475,
             14792,
             0,
             19716,
             1860,
             3,
             6,
             82526,
             6608,
             14792,
             368557,
             6,
             14792,
             1394495
            ],
            "sizemode": "area",
            "sizeref": 5068.046611570248,
            "symbol": "circle"
           },
           "mode": "markers",
           "name": "Eastern Mediterranean",
           "orientation": "v",
           "showlegend": true,
           "type": "scatter",
           "x": [
            94475,
            14792,
            0,
            19716,
            1860,
            3,
            6,
            82526,
            6608,
            14792,
            368557,
            6,
            14792,
            1394495
           ],
           "xaxis": "x",
           "y": [
            30,
            30,
            30,
            4,
            30,
            30,
            30,
            30,
            30,
            30,
            2162,
            30,
            30,
            30
           ],
           "yaxis": "y"
          },
          {
           "hovertemplate": "<b>%{hovertext}</b><br><br>WHO Region=Africa<br>Year=2000<br>No. of cases=%{marker.size}<br>No. of deaths=%{y}<extra></extra>",
           "hovertext": [
            "Algeria",
            "Angola",
            "Benin",
            "Botswana",
            "Burkina Faso",
            "Burundi",
            "Cabo Verde",
            "Cameroon",
            "Central African Republic",
            "Chad",
            "Comoros",
            "Côte d'Ivoire",
            "Democratic Republic of the Congo",
            "Equatorial Guinea",
            "Eritrea",
            "Eswatini",
            "Ethiopia",
            "Gabon",
            "Gambia",
            "Ghana",
            "Guinea",
            "Guinea-Bissau",
            "Kenya",
            "Liberia",
            "Madagascar",
            "Malawi",
            "Mali",
            "Mauritania",
            "Mauritius",
            "Mozambique",
            "Namibia",
            "Niger",
            "Nigeria",
            "Rwanda",
            "Sao Tome and Principe",
            "Senegal",
            "Sierra Leone",
            "South Africa",
            "South Sudan",
            "Togo",
            "Uganda",
            "United Republic of Tanzania",
            "Zambia",
            "Zimbabwe"
           ],
           "ids": [
            "Algeria",
            "Angola",
            "Benin",
            "Botswana",
            "Burkina Faso",
            "Burundi",
            "Cabo Verde",
            "Cameroon",
            "Central African Republic",
            "Chad",
            "Comoros",
            "Côte d'Ivoire",
            "Democratic Republic of the Congo",
            "Equatorial Guinea",
            "Eritrea",
            "Eswatini",
            "Ethiopia",
            "Gabon",
            "Gambia",
            "Ghana",
            "Guinea",
            "Guinea-Bissau",
            "Kenya",
            "Liberia",
            "Madagascar",
            "Malawi",
            "Mali",
            "Mauritania",
            "Mauritius",
            "Mozambique",
            "Namibia",
            "Niger",
            "Nigeria",
            "Rwanda",
            "Sao Tome and Principe",
            "Senegal",
            "Sierra Leone",
            "South Africa",
            "South Sudan",
            "Togo",
            "Uganda",
            "United Republic of Tanzania",
            "Zambia",
            "Zimbabwe"
           ],
           "legendgroup": "Africa",
           "marker": {
            "color": "#EF553B",
            "size": [
             541,
             14792,
             14792,
             10510,
             14792,
             308095,
             144,
             14792,
             33411,
             40078,
             801784,
             15705,
             897,
             14792,
             14792,
             14792,
             14792,
             50810,
             14792,
             14792,
             4800,
             14792,
             14792,
             14792,
             6946,
             14792,
             14792,
             14792,
             14792,
             14792,
             14792,
             14792,
             14792,
             14792,
             31975,
             44959,
             14792,
             14792,
             14792,
             14792,
             14792,
             17734,
             14792,
             14792
            ],
            "sizemode": "area",
            "sizeref": 5068.046611570248,
            "symbol": "circle"
           },
           "mode": "markers",
           "name": "Africa",
           "orientation": "v",
           "showlegend": true,
           "type": "scatter",
           "x": [
            541,
            14792,
            14792,
            10510,
            14792,
            308095,
            144,
            14792,
            33411,
            40078,
            801784,
            15705,
            897,
            14792,
            14792,
            14792,
            14792,
            50810,
            14792,
            14792,
            4800,
            14792,
            14792,
            14792,
            6946,
            14792,
            14792,
            14792,
            14792,
            14792,
            14792,
            14792,
            14792,
            14792,
            31975,
            44959,
            14792,
            14792,
            14792,
            14792,
            14792,
            17734,
            14792,
            14792
           ],
           "xaxis": "x",
           "y": [
            2,
            9510,
            30,
            30,
            30,
            691,
            30,
            30,
            439,
            712,
            30,
            30,
            3856,
            30,
            30,
            30,
            30,
            2016,
            30,
            6108,
            626,
            30,
            48767,
            30,
            591,
            30,
            748,
            30,
            30,
            30,
            30,
            1244,
            30,
            30,
            254,
            1275,
            30,
            424,
            30,
            30,
            30,
            379,
            30,
            30
           ],
           "yaxis": "y"
          },
          {
           "hovertemplate": "<b>%{hovertext}</b><br><br>WHO Region=Americas<br>Year=2000<br>No. of cases=%{marker.size}<br>No. of deaths=%{y}<extra></extra>",
           "hovertext": [
            "Argentina",
            "Belize",
            "Bolivia (Plurinational State of)",
            "Brazil",
            "Colombia",
            "Congo",
            "Costa Rica",
            "Dominican Republic",
            "Ecuador",
            "El Salvador",
            "Guatemala",
            "Guyana",
            "Haiti",
            "Honduras",
            "Mexico",
            "Nicaragua",
            "Panama",
            "Paraguay",
            "Peru",
            "Suriname",
            "Venezuela (Bolivarian Republic of)"
           ],
           "ids": [
            "Argentina",
            "Belize",
            "Bolivia (Plurinational State of)",
            "Brazil",
            "Colombia",
            "Congo",
            "Costa Rica",
            "Dominican Republic",
            "Ecuador",
            "El Salvador",
            "Guatemala",
            "Guyana",
            "Haiti",
            "Honduras",
            "Mexico",
            "Nicaragua",
            "Panama",
            "Paraguay",
            "Peru",
            "Suriname",
            "Venezuela (Bolivarian Republic of)"
           ],
           "legendgroup": "Americas",
           "marker": {
            "color": "#00cc96",
            "size": [
             440,
             1486,
             31469,
             613241,
             144432,
             15751,
             1879,
             1233,
             104528,
             753,
             53311,
             24018,
             16897,
             35125,
             7390,
             23878,
             1036,
             6853,
             68321,
             11361,
             29736
            ],
            "sizemode": "area",
            "sizeref": 5068.046611570248,
            "symbol": "circle"
           },
           "mode": "markers",
           "name": "Americas",
           "orientation": "v",
           "showlegend": true,
           "type": "scatter",
           "x": [
            440,
            1486,
            31469,
            613241,
            144432,
            15751,
            1879,
            1233,
            104528,
            753,
            53311,
            24018,
            16897,
            35125,
            7390,
            23878,
            1036,
            6853,
            68321,
            11361,
            29736
           ],
           "xaxis": "x",
           "y": [
            0,
            0,
            11,
            245,
            124,
            30,
            0,
            6,
            66,
            0,
            0,
            29,
            16,
            0,
            0,
            4,
            1,
            0,
            20,
            24,
            24
           ],
           "yaxis": "y"
          },
          {
           "hovertemplate": "<b>%{hovertext}</b><br><br>WHO Region=Europe<br>Year=2000<br>No. of cases=%{marker.size}<br>No. of deaths=%{y}<extra></extra>",
           "hovertext": [
            "Armenia",
            "Azerbaijan",
            "Georgia",
            "Kazakhstan",
            "Kyrgyzstan",
            "Tajikistan",
            "Turkey",
            "Turkmenistan",
            "Uzbekistan"
           ],
           "ids": [
            "Armenia",
            "Azerbaijan",
            "Georgia",
            "Kazakhstan",
            "Kyrgyzstan",
            "Tajikistan",
            "Turkey",
            "Turkmenistan",
            "Uzbekistan"
           ],
           "legendgroup": "Europe",
           "marker": {
            "color": "#ab63fa",
            "size": [
             141,
             1526,
             245,
             14792,
             12,
             19064,
             11432,
             24,
             126
            ],
            "sizemode": "area",
            "sizeref": 5068.046611570248,
            "symbol": "circle"
           },
           "mode": "markers",
           "name": "Europe",
           "orientation": "v",
           "showlegend": true,
           "type": "scatter",
           "x": [
            141,
            1526,
            245,
            14792,
            12,
            19064,
            11432,
            24,
            126
           ],
           "xaxis": "x",
           "y": [
            0,
            0,
            0,
            30,
            0,
            0,
            0,
            0,
            0
           ],
           "yaxis": "y"
          },
          {
           "hovertemplate": "<b>%{hovertext}</b><br><br>WHO Region=South-East Asia<br>Year=2000<br>No. of cases=%{marker.size}<br>No. of deaths=%{y}<extra></extra>",
           "hovertext": [
            "Bangladesh",
            "Bhutan",
            "India",
            "Indonesia",
            "Myanmar",
            "Nepal",
            "Sri Lanka",
            "Thailand",
            "Timor-Leste"
           ],
           "ids": [
            "Bangladesh",
            "Bhutan",
            "India",
            "Indonesia",
            "Myanmar",
            "Nepal",
            "Sri Lanka",
            "Thailand",
            "Timor-Leste"
           ],
           "legendgroup": "South-East Asia",
           "marker": {
            "color": "#FFA15A",
            "size": [
             55599,
             5935,
             2031790,
             245612,
             120083,
             7981,
             210039,
             78561,
             15212
            ],
            "sizemode": "area",
            "sizeref": 5068.046611570248,
            "symbol": "circle"
           },
           "mode": "markers",
           "name": "South-East Asia",
           "orientation": "v",
           "showlegend": true,
           "type": "scatter",
           "x": [
            55599,
            5935,
            2031790,
            245612,
            120083,
            7981,
            210039,
            78561,
            15212
           ],
           "xaxis": "x",
           "y": [
            484,
            15,
            892,
            833,
            2556,
            30,
            77,
            625,
            30
           ],
           "yaxis": "y"
          },
          {
           "hovertemplate": "<b>%{hovertext}</b><br><br>WHO Region=Western Pacific<br>Year=2000<br>No. of cases=%{marker.size}<br>No. of deaths=%{y}<extra></extra>",
           "hovertext": [
            "Cambodia",
            "China",
            "Democratic People's Republic of Korea",
            "Lao People's Democratic Republic",
            "Malaysia",
            "Papua New Guinea",
            "Philippines",
            "Republic of Korea",
            "Solomon Islands",
            "Vanuatu",
            "Viet Nam"
           ],
           "ids": [
            "Cambodia",
            "China",
            "Democratic People's Republic of Korea",
            "Lao People's Democratic Republic",
            "Malaysia",
            "Papua New Guinea",
            "Philippines",
            "Republic of Korea",
            "Solomon Islands",
            "Vanuatu",
            "Viet Nam"
           ],
           "legendgroup": "Western Pacific",
           "marker": {
            "color": "#19d3f3",
            "size": [
             62442,
             8025,
             90582,
             40106,
             12705,
             79839,
             36596,
             4183,
             68107,
             6768,
             74316
            ],
            "sizemode": "area",
            "sizeref": 5068.046611570248,
            "symbol": "circle"
           },
           "mode": "markers",
           "name": "Western Pacific",
           "orientation": "v",
           "showlegend": true,
           "type": "scatter",
           "x": [
            62442,
            8025,
            90582,
            40106,
            12705,
            79839,
            36596,
            4183,
            68107,
            6768,
            74316
           ],
           "xaxis": "x",
           "y": [
            608,
            31,
            30,
            350,
            35,
            617,
            536,
            0,
            38,
            3,
            142
           ],
           "yaxis": "y"
          }
         ],
         "name": "2000"
        }
       ],
       "layout": {
        "legend": {
         "itemsizing": "constant",
         "title": {
          "text": "WHO Region"
         },
         "tracegroupgap": 0
        },
        "margin": {
         "t": 60
        },
        "sliders": [
         {
          "active": 0,
          "currentvalue": {
           "prefix": "Year="
          },
          "len": 0.9,
          "pad": {
           "b": 10,
           "t": 60
          },
          "steps": [
           {
            "args": [
             [
              "2017"
             ],
             {
              "frame": {
               "duration": 0,
               "redraw": false
              },
              "fromcurrent": true,
              "mode": "immediate",
              "transition": {
               "duration": 0,
               "easing": "linear"
              }
             }
            ],
            "label": "2017",
            "method": "animate"
           },
           {
            "args": [
             [
              "2016"
             ],
             {
              "frame": {
               "duration": 0,
               "redraw": false
              },
              "fromcurrent": true,
              "mode": "immediate",
              "transition": {
               "duration": 0,
               "easing": "linear"
              }
             }
            ],
            "label": "2016",
            "method": "animate"
           },
           {
            "args": [
             [
              "2015"
             ],
             {
              "frame": {
               "duration": 0,
               "redraw": false
              },
              "fromcurrent": true,
              "mode": "immediate",
              "transition": {
               "duration": 0,
               "easing": "linear"
              }
             }
            ],
            "label": "2015",
            "method": "animate"
           },
           {
            "args": [
             [
              "2014"
             ],
             {
              "frame": {
               "duration": 0,
               "redraw": false
              },
              "fromcurrent": true,
              "mode": "immediate",
              "transition": {
               "duration": 0,
               "easing": "linear"
              }
             }
            ],
            "label": "2014",
            "method": "animate"
           },
           {
            "args": [
             [
              "2013"
             ],
             {
              "frame": {
               "duration": 0,
               "redraw": false
              },
              "fromcurrent": true,
              "mode": "immediate",
              "transition": {
               "duration": 0,
               "easing": "linear"
              }
             }
            ],
            "label": "2013",
            "method": "animate"
           },
           {
            "args": [
             [
              "2012"
             ],
             {
              "frame": {
               "duration": 0,
               "redraw": false
              },
              "fromcurrent": true,
              "mode": "immediate",
              "transition": {
               "duration": 0,
               "easing": "linear"
              }
             }
            ],
            "label": "2012",
            "method": "animate"
           },
           {
            "args": [
             [
              "2011"
             ],
             {
              "frame": {
               "duration": 0,
               "redraw": false
              },
              "fromcurrent": true,
              "mode": "immediate",
              "transition": {
               "duration": 0,
               "easing": "linear"
              }
             }
            ],
            "label": "2011",
            "method": "animate"
           },
           {
            "args": [
             [
              "2010"
             ],
             {
              "frame": {
               "duration": 0,
               "redraw": false
              },
              "fromcurrent": true,
              "mode": "immediate",
              "transition": {
               "duration": 0,
               "easing": "linear"
              }
             }
            ],
            "label": "2010",
            "method": "animate"
           },
           {
            "args": [
             [
              "2009"
             ],
             {
              "frame": {
               "duration": 0,
               "redraw": false
              },
              "fromcurrent": true,
              "mode": "immediate",
              "transition": {
               "duration": 0,
               "easing": "linear"
              }
             }
            ],
            "label": "2009",
            "method": "animate"
           },
           {
            "args": [
             [
              "2008"
             ],
             {
              "frame": {
               "duration": 0,
               "redraw": false
              },
              "fromcurrent": true,
              "mode": "immediate",
              "transition": {
               "duration": 0,
               "easing": "linear"
              }
             }
            ],
            "label": "2008",
            "method": "animate"
           },
           {
            "args": [
             [
              "2007"
             ],
             {
              "frame": {
               "duration": 0,
               "redraw": false
              },
              "fromcurrent": true,
              "mode": "immediate",
              "transition": {
               "duration": 0,
               "easing": "linear"
              }
             }
            ],
            "label": "2007",
            "method": "animate"
           },
           {
            "args": [
             [
              "2006"
             ],
             {
              "frame": {
               "duration": 0,
               "redraw": false
              },
              "fromcurrent": true,
              "mode": "immediate",
              "transition": {
               "duration": 0,
               "easing": "linear"
              }
             }
            ],
            "label": "2006",
            "method": "animate"
           },
           {
            "args": [
             [
              "2005"
             ],
             {
              "frame": {
               "duration": 0,
               "redraw": false
              },
              "fromcurrent": true,
              "mode": "immediate",
              "transition": {
               "duration": 0,
               "easing": "linear"
              }
             }
            ],
            "label": "2005",
            "method": "animate"
           },
           {
            "args": [
             [
              "2004"
             ],
             {
              "frame": {
               "duration": 0,
               "redraw": false
              },
              "fromcurrent": true,
              "mode": "immediate",
              "transition": {
               "duration": 0,
               "easing": "linear"
              }
             }
            ],
            "label": "2004",
            "method": "animate"
           },
           {
            "args": [
             [
              "2003"
             ],
             {
              "frame": {
               "duration": 0,
               "redraw": false
              },
              "fromcurrent": true,
              "mode": "immediate",
              "transition": {
               "duration": 0,
               "easing": "linear"
              }
             }
            ],
            "label": "2003",
            "method": "animate"
           },
           {
            "args": [
             [
              "2002"
             ],
             {
              "frame": {
               "duration": 0,
               "redraw": false
              },
              "fromcurrent": true,
              "mode": "immediate",
              "transition": {
               "duration": 0,
               "easing": "linear"
              }
             }
            ],
            "label": "2002",
            "method": "animate"
           },
           {
            "args": [
             [
              "2001"
             ],
             {
              "frame": {
               "duration": 0,
               "redraw": false
              },
              "fromcurrent": true,
              "mode": "immediate",
              "transition": {
               "duration": 0,
               "easing": "linear"
              }
             }
            ],
            "label": "2001",
            "method": "animate"
           },
           {
            "args": [
             [
              "2000"
             ],
             {
              "frame": {
               "duration": 0,
               "redraw": false
              },
              "fromcurrent": true,
              "mode": "immediate",
              "transition": {
               "duration": 0,
               "easing": "linear"
              }
             }
            ],
            "label": "2000",
            "method": "animate"
           }
          ],
          "x": 0.1,
          "xanchor": "left",
          "y": 0,
          "yanchor": "top"
         }
        ],
        "template": {
         "data": {
          "bar": [
           {
            "error_x": {
             "color": "#2a3f5f"
            },
            "error_y": {
             "color": "#2a3f5f"
            },
            "marker": {
             "line": {
              "color": "#E5ECF6",
              "width": 0.5
             },
             "pattern": {
              "fillmode": "overlay",
              "size": 10,
              "solidity": 0.2
             }
            },
            "type": "bar"
           }
          ],
          "barpolar": [
           {
            "marker": {
             "line": {
              "color": "#E5ECF6",
              "width": 0.5
             },
             "pattern": {
              "fillmode": "overlay",
              "size": 10,
              "solidity": 0.2
             }
            },
            "type": "barpolar"
           }
          ],
          "carpet": [
           {
            "aaxis": {
             "endlinecolor": "#2a3f5f",
             "gridcolor": "white",
             "linecolor": "white",
             "minorgridcolor": "white",
             "startlinecolor": "#2a3f5f"
            },
            "baxis": {
             "endlinecolor": "#2a3f5f",
             "gridcolor": "white",
             "linecolor": "white",
             "minorgridcolor": "white",
             "startlinecolor": "#2a3f5f"
            },
            "type": "carpet"
           }
          ],
          "choropleth": [
           {
            "colorbar": {
             "outlinewidth": 0,
             "ticks": ""
            },
            "type": "choropleth"
           }
          ],
          "contour": [
           {
            "colorbar": {
             "outlinewidth": 0,
             "ticks": ""
            },
            "colorscale": [
             [
              0,
              "#0d0887"
             ],
             [
              0.1111111111111111,
              "#46039f"
             ],
             [
              0.2222222222222222,
              "#7201a8"
             ],
             [
              0.3333333333333333,
              "#9c179e"
             ],
             [
              0.4444444444444444,
              "#bd3786"
             ],
             [
              0.5555555555555556,
              "#d8576b"
             ],
             [
              0.6666666666666666,
              "#ed7953"
             ],
             [
              0.7777777777777778,
              "#fb9f3a"
             ],
             [
              0.8888888888888888,
              "#fdca26"
             ],
             [
              1,
              "#f0f921"
             ]
            ],
            "type": "contour"
           }
          ],
          "contourcarpet": [
           {
            "colorbar": {
             "outlinewidth": 0,
             "ticks": ""
            },
            "type": "contourcarpet"
           }
          ],
          "heatmap": [
           {
            "colorbar": {
             "outlinewidth": 0,
             "ticks": ""
            },
            "colorscale": [
             [
              0,
              "#0d0887"
             ],
             [
              0.1111111111111111,
              "#46039f"
             ],
             [
              0.2222222222222222,
              "#7201a8"
             ],
             [
              0.3333333333333333,
              "#9c179e"
             ],
             [
              0.4444444444444444,
              "#bd3786"
             ],
             [
              0.5555555555555556,
              "#d8576b"
             ],
             [
              0.6666666666666666,
              "#ed7953"
             ],
             [
              0.7777777777777778,
              "#fb9f3a"
             ],
             [
              0.8888888888888888,
              "#fdca26"
             ],
             [
              1,
              "#f0f921"
             ]
            ],
            "type": "heatmap"
           }
          ],
          "heatmapgl": [
           {
            "colorbar": {
             "outlinewidth": 0,
             "ticks": ""
            },
            "colorscale": [
             [
              0,
              "#0d0887"
             ],
             [
              0.1111111111111111,
              "#46039f"
             ],
             [
              0.2222222222222222,
              "#7201a8"
             ],
             [
              0.3333333333333333,
              "#9c179e"
             ],
             [
              0.4444444444444444,
              "#bd3786"
             ],
             [
              0.5555555555555556,
              "#d8576b"
             ],
             [
              0.6666666666666666,
              "#ed7953"
             ],
             [
              0.7777777777777778,
              "#fb9f3a"
             ],
             [
              0.8888888888888888,
              "#fdca26"
             ],
             [
              1,
              "#f0f921"
             ]
            ],
            "type": "heatmapgl"
           }
          ],
          "histogram": [
           {
            "marker": {
             "pattern": {
              "fillmode": "overlay",
              "size": 10,
              "solidity": 0.2
             }
            },
            "type": "histogram"
           }
          ],
          "histogram2d": [
           {
            "colorbar": {
             "outlinewidth": 0,
             "ticks": ""
            },
            "colorscale": [
             [
              0,
              "#0d0887"
             ],
             [
              0.1111111111111111,
              "#46039f"
             ],
             [
              0.2222222222222222,
              "#7201a8"
             ],
             [
              0.3333333333333333,
              "#9c179e"
             ],
             [
              0.4444444444444444,
              "#bd3786"
             ],
             [
              0.5555555555555556,
              "#d8576b"
             ],
             [
              0.6666666666666666,
              "#ed7953"
             ],
             [
              0.7777777777777778,
              "#fb9f3a"
             ],
             [
              0.8888888888888888,
              "#fdca26"
             ],
             [
              1,
              "#f0f921"
             ]
            ],
            "type": "histogram2d"
           }
          ],
          "histogram2dcontour": [
           {
            "colorbar": {
             "outlinewidth": 0,
             "ticks": ""
            },
            "colorscale": [
             [
              0,
              "#0d0887"
             ],
             [
              0.1111111111111111,
              "#46039f"
             ],
             [
              0.2222222222222222,
              "#7201a8"
             ],
             [
              0.3333333333333333,
              "#9c179e"
             ],
             [
              0.4444444444444444,
              "#bd3786"
             ],
             [
              0.5555555555555556,
              "#d8576b"
             ],
             [
              0.6666666666666666,
              "#ed7953"
             ],
             [
              0.7777777777777778,
              "#fb9f3a"
             ],
             [
              0.8888888888888888,
              "#fdca26"
             ],
             [
              1,
              "#f0f921"
             ]
            ],
            "type": "histogram2dcontour"
           }
          ],
          "mesh3d": [
           {
            "colorbar": {
             "outlinewidth": 0,
             "ticks": ""
            },
            "type": "mesh3d"
           }
          ],
          "parcoords": [
           {
            "line": {
             "colorbar": {
              "outlinewidth": 0,
              "ticks": ""
             }
            },
            "type": "parcoords"
           }
          ],
          "pie": [
           {
            "automargin": true,
            "type": "pie"
           }
          ],
          "scatter": [
           {
            "fillpattern": {
             "fillmode": "overlay",
             "size": 10,
             "solidity": 0.2
            },
            "type": "scatter"
           }
          ],
          "scatter3d": [
           {
            "line": {
             "colorbar": {
              "outlinewidth": 0,
              "ticks": ""
             }
            },
            "marker": {
             "colorbar": {
              "outlinewidth": 0,
              "ticks": ""
             }
            },
            "type": "scatter3d"
           }
          ],
          "scattercarpet": [
           {
            "marker": {
             "colorbar": {
              "outlinewidth": 0,
              "ticks": ""
             }
            },
            "type": "scattercarpet"
           }
          ],
          "scattergeo": [
           {
            "marker": {
             "colorbar": {
              "outlinewidth": 0,
              "ticks": ""
             }
            },
            "type": "scattergeo"
           }
          ],
          "scattergl": [
           {
            "marker": {
             "colorbar": {
              "outlinewidth": 0,
              "ticks": ""
             }
            },
            "type": "scattergl"
           }
          ],
          "scattermapbox": [
           {
            "marker": {
             "colorbar": {
              "outlinewidth": 0,
              "ticks": ""
             }
            },
            "type": "scattermapbox"
           }
          ],
          "scatterpolar": [
           {
            "marker": {
             "colorbar": {
              "outlinewidth": 0,
              "ticks": ""
             }
            },
            "type": "scatterpolar"
           }
          ],
          "scatterpolargl": [
           {
            "marker": {
             "colorbar": {
              "outlinewidth": 0,
              "ticks": ""
             }
            },
            "type": "scatterpolargl"
           }
          ],
          "scatterternary": [
           {
            "marker": {
             "colorbar": {
              "outlinewidth": 0,
              "ticks": ""
             }
            },
            "type": "scatterternary"
           }
          ],
          "surface": [
           {
            "colorbar": {
             "outlinewidth": 0,
             "ticks": ""
            },
            "colorscale": [
             [
              0,
              "#0d0887"
             ],
             [
              0.1111111111111111,
              "#46039f"
             ],
             [
              0.2222222222222222,
              "#7201a8"
             ],
             [
              0.3333333333333333,
              "#9c179e"
             ],
             [
              0.4444444444444444,
              "#bd3786"
             ],
             [
              0.5555555555555556,
              "#d8576b"
             ],
             [
              0.6666666666666666,
              "#ed7953"
             ],
             [
              0.7777777777777778,
              "#fb9f3a"
             ],
             [
              0.8888888888888888,
              "#fdca26"
             ],
             [
              1,
              "#f0f921"
             ]
            ],
            "type": "surface"
           }
          ],
          "table": [
           {
            "cells": {
             "fill": {
              "color": "#EBF0F8"
             },
             "line": {
              "color": "white"
             }
            },
            "header": {
             "fill": {
              "color": "#C8D4E3"
             },
             "line": {
              "color": "white"
             }
            },
            "type": "table"
           }
          ]
         },
         "layout": {
          "annotationdefaults": {
           "arrowcolor": "#2a3f5f",
           "arrowhead": 0,
           "arrowwidth": 1
          },
          "autotypenumbers": "strict",
          "coloraxis": {
           "colorbar": {
            "outlinewidth": 0,
            "ticks": ""
           }
          },
          "colorscale": {
           "diverging": [
            [
             0,
             "#8e0152"
            ],
            [
             0.1,
             "#c51b7d"
            ],
            [
             0.2,
             "#de77ae"
            ],
            [
             0.3,
             "#f1b6da"
            ],
            [
             0.4,
             "#fde0ef"
            ],
            [
             0.5,
             "#f7f7f7"
            ],
            [
             0.6,
             "#e6f5d0"
            ],
            [
             0.7,
             "#b8e186"
            ],
            [
             0.8,
             "#7fbc41"
            ],
            [
             0.9,
             "#4d9221"
            ],
            [
             1,
             "#276419"
            ]
           ],
           "sequential": [
            [
             0,
             "#0d0887"
            ],
            [
             0.1111111111111111,
             "#46039f"
            ],
            [
             0.2222222222222222,
             "#7201a8"
            ],
            [
             0.3333333333333333,
             "#9c179e"
            ],
            [
             0.4444444444444444,
             "#bd3786"
            ],
            [
             0.5555555555555556,
             "#d8576b"
            ],
            [
             0.6666666666666666,
             "#ed7953"
            ],
            [
             0.7777777777777778,
             "#fb9f3a"
            ],
            [
             0.8888888888888888,
             "#fdca26"
            ],
            [
             1,
             "#f0f921"
            ]
           ],
           "sequentialminus": [
            [
             0,
             "#0d0887"
            ],
            [
             0.1111111111111111,
             "#46039f"
            ],
            [
             0.2222222222222222,
             "#7201a8"
            ],
            [
             0.3333333333333333,
             "#9c179e"
            ],
            [
             0.4444444444444444,
             "#bd3786"
            ],
            [
             0.5555555555555556,
             "#d8576b"
            ],
            [
             0.6666666666666666,
             "#ed7953"
            ],
            [
             0.7777777777777778,
             "#fb9f3a"
            ],
            [
             0.8888888888888888,
             "#fdca26"
            ],
            [
             1,
             "#f0f921"
            ]
           ]
          },
          "colorway": [
           "#636efa",
           "#EF553B",
           "#00cc96",
           "#ab63fa",
           "#FFA15A",
           "#19d3f3",
           "#FF6692",
           "#B6E880",
           "#FF97FF",
           "#FECB52"
          ],
          "font": {
           "color": "#2a3f5f"
          },
          "geo": {
           "bgcolor": "white",
           "lakecolor": "white",
           "landcolor": "#E5ECF6",
           "showlakes": true,
           "showland": true,
           "subunitcolor": "white"
          },
          "hoverlabel": {
           "align": "left"
          },
          "hovermode": "closest",
          "mapbox": {
           "style": "light"
          },
          "paper_bgcolor": "white",
          "plot_bgcolor": "#E5ECF6",
          "polar": {
           "angularaxis": {
            "gridcolor": "white",
            "linecolor": "white",
            "ticks": ""
           },
           "bgcolor": "#E5ECF6",
           "radialaxis": {
            "gridcolor": "white",
            "linecolor": "white",
            "ticks": ""
           }
          },
          "scene": {
           "xaxis": {
            "backgroundcolor": "#E5ECF6",
            "gridcolor": "white",
            "gridwidth": 2,
            "linecolor": "white",
            "showbackground": true,
            "ticks": "",
            "zerolinecolor": "white"
           },
           "yaxis": {
            "backgroundcolor": "#E5ECF6",
            "gridcolor": "white",
            "gridwidth": 2,
            "linecolor": "white",
            "showbackground": true,
            "ticks": "",
            "zerolinecolor": "white"
           },
           "zaxis": {
            "backgroundcolor": "#E5ECF6",
            "gridcolor": "white",
            "gridwidth": 2,
            "linecolor": "white",
            "showbackground": true,
            "ticks": "",
            "zerolinecolor": "white"
           }
          },
          "shapedefaults": {
           "line": {
            "color": "#2a3f5f"
           }
          },
          "ternary": {
           "aaxis": {
            "gridcolor": "white",
            "linecolor": "white",
            "ticks": ""
           },
           "baxis": {
            "gridcolor": "white",
            "linecolor": "white",
            "ticks": ""
           },
           "bgcolor": "#E5ECF6",
           "caxis": {
            "gridcolor": "white",
            "linecolor": "white",
            "ticks": ""
           }
          },
          "title": {
           "x": 0.05
          },
          "xaxis": {
           "automargin": true,
           "gridcolor": "white",
           "linecolor": "white",
           "ticks": "",
           "title": {
            "standoff": 15
           },
           "zerolinecolor": "white",
           "zerolinewidth": 2
          },
          "yaxis": {
           "automargin": true,
           "gridcolor": "white",
           "linecolor": "white",
           "ticks": "",
           "title": {
            "standoff": 15
           },
           "zerolinecolor": "white",
           "zerolinewidth": 2
          }
         }
        },
        "updatemenus": [
         {
          "buttons": [
           {
            "args": [
             null,
             {
              "frame": {
               "duration": 500,
               "redraw": false
              },
              "fromcurrent": true,
              "mode": "immediate",
              "transition": {
               "duration": 500,
               "easing": "linear"
              }
             }
            ],
            "label": "&#9654;",
            "method": "animate"
           },
           {
            "args": [
             [
              null
             ],
             {
              "frame": {
               "duration": 0,
               "redraw": false
              },
              "fromcurrent": true,
              "mode": "immediate",
              "transition": {
               "duration": 0,
               "easing": "linear"
              }
             }
            ],
            "label": "&#9724;",
            "method": "animate"
           }
          ],
          "direction": "left",
          "pad": {
           "r": 10,
           "t": 70
          },
          "showactive": false,
          "type": "buttons",
          "x": 0.1,
          "xanchor": "right",
          "y": 0,
          "yanchor": "top"
         }
        ],
        "xaxis": {
         "anchor": "y",
         "domain": [
          0,
          1
         ],
         "range": [
          2,
          2.9999999999999996
         ],
         "title": {
          "text": "No. of cases"
         },
         "type": "log"
        },
        "yaxis": {
         "anchor": "x",
         "domain": [
          0,
          1
         ],
         "range": [
          25,
          90
         ],
         "title": {
          "text": "No. of deaths"
         }
        }
       }
      }
     },
     "metadata": {},
     "output_type": "display_data"
    }
   ],
   "source": [
    "import plotly.express as px\n",
    "\n",
    "px.scatter(df, x=\"No. of cases\", y=\"No. of deaths\", animation_frame=\"Year\", animation_group=\"Country\",\n",
    "           size=\"No. of cases\", color=\"WHO Region\", hover_name=\"Country\",\n",
    "           log_x=True, size_max=55, range_x=[100,1000], range_y=[25,90])"
   ]
  },
  {
   "cell_type": "code",
   "execution_count": 68,
   "metadata": {},
   "outputs": [],
   "source": [
    "df1=df[df['WHO Region']=='South-East Asia']"
   ]
  },
  {
   "cell_type": "code",
   "execution_count": 69,
   "metadata": {},
   "outputs": [],
   "source": [
    "df1=df1.reset_index(inplace=False)"
   ]
  },
  {
   "cell_type": "code",
   "execution_count": 70,
   "metadata": {},
   "outputs": [
    {
     "data": {
      "text/html": [
       "<div>\n",
       "<style scoped>\n",
       "    .dataframe tbody tr th:only-of-type {\n",
       "        vertical-align: middle;\n",
       "    }\n",
       "\n",
       "    .dataframe tbody tr th {\n",
       "        vertical-align: top;\n",
       "    }\n",
       "\n",
       "    .dataframe thead th {\n",
       "        text-align: right;\n",
       "    }\n",
       "</style>\n",
       "<table border=\"1\" class=\"dataframe\">\n",
       "  <thead>\n",
       "    <tr style=\"text-align: right;\">\n",
       "      <th></th>\n",
       "      <th>index</th>\n",
       "      <th>Country</th>\n",
       "      <th>Year</th>\n",
       "      <th>No. of cases</th>\n",
       "      <th>No. of deaths</th>\n",
       "      <th>WHO Region</th>\n",
       "    </tr>\n",
       "  </thead>\n",
       "  <tbody>\n",
       "    <tr>\n",
       "      <th>0</th>\n",
       "      <td>6</td>\n",
       "      <td>Bangladesh</td>\n",
       "      <td>2017</td>\n",
       "      <td>4893.0</td>\n",
       "      <td>13.0</td>\n",
       "      <td>South-East Asia</td>\n",
       "    </tr>\n",
       "    <tr>\n",
       "      <th>1</th>\n",
       "      <td>9</td>\n",
       "      <td>Bhutan</td>\n",
       "      <td>2017</td>\n",
       "      <td>24.0</td>\n",
       "      <td>1.0</td>\n",
       "      <td>South-East Asia</td>\n",
       "    </tr>\n",
       "    <tr>\n",
       "      <th>2</th>\n",
       "      <td>47</td>\n",
       "      <td>India</td>\n",
       "      <td>2017</td>\n",
       "      <td>844558.0</td>\n",
       "      <td>194.0</td>\n",
       "      <td>South-East Asia</td>\n",
       "    </tr>\n",
       "    <tr>\n",
       "      <th>3</th>\n",
       "      <td>48</td>\n",
       "      <td>Indonesia</td>\n",
       "      <td>2017</td>\n",
       "      <td>261617.0</td>\n",
       "      <td>47.0</td>\n",
       "      <td>South-East Asia</td>\n",
       "    </tr>\n",
       "    <tr>\n",
       "      <th>4</th>\n",
       "      <td>65</td>\n",
       "      <td>Myanmar</td>\n",
       "      <td>2017</td>\n",
       "      <td>19619.0</td>\n",
       "      <td>30.0</td>\n",
       "      <td>South-East Asia</td>\n",
       "    </tr>\n",
       "    <tr>\n",
       "      <th>...</th>\n",
       "      <td>...</td>\n",
       "      <td>...</td>\n",
       "      <td>...</td>\n",
       "      <td>...</td>\n",
       "      <td>...</td>\n",
       "      <td>...</td>\n",
       "    </tr>\n",
       "    <tr>\n",
       "      <th>157</th>\n",
       "      <td>1901</td>\n",
       "      <td>Myanmar</td>\n",
       "      <td>2000</td>\n",
       "      <td>120083.0</td>\n",
       "      <td>2556.0</td>\n",
       "      <td>South-East Asia</td>\n",
       "    </tr>\n",
       "    <tr>\n",
       "      <th>158</th>\n",
       "      <td>1903</td>\n",
       "      <td>Nepal</td>\n",
       "      <td>2000</td>\n",
       "      <td>7981.0</td>\n",
       "      <td>30.0</td>\n",
       "      <td>South-East Asia</td>\n",
       "    </tr>\n",
       "    <tr>\n",
       "      <th>159</th>\n",
       "      <td>1924</td>\n",
       "      <td>Sri Lanka</td>\n",
       "      <td>2000</td>\n",
       "      <td>210039.0</td>\n",
       "      <td>77.0</td>\n",
       "      <td>South-East Asia</td>\n",
       "    </tr>\n",
       "    <tr>\n",
       "      <th>160</th>\n",
       "      <td>1929</td>\n",
       "      <td>Thailand</td>\n",
       "      <td>2000</td>\n",
       "      <td>78561.0</td>\n",
       "      <td>625.0</td>\n",
       "      <td>South-East Asia</td>\n",
       "    </tr>\n",
       "    <tr>\n",
       "      <th>161</th>\n",
       "      <td>1930</td>\n",
       "      <td>Timor-Leste</td>\n",
       "      <td>2000</td>\n",
       "      <td>15212.0</td>\n",
       "      <td>30.0</td>\n",
       "      <td>South-East Asia</td>\n",
       "    </tr>\n",
       "  </tbody>\n",
       "</table>\n",
       "<p>162 rows × 6 columns</p>\n",
       "</div>"
      ],
      "text/plain": [
       "     index      Country  Year  No. of cases  No. of deaths       WHO Region\n",
       "0        6   Bangladesh  2017        4893.0           13.0  South-East Asia\n",
       "1        9       Bhutan  2017          24.0            1.0  South-East Asia\n",
       "2       47        India  2017      844558.0          194.0  South-East Asia\n",
       "3       48    Indonesia  2017      261617.0           47.0  South-East Asia\n",
       "4       65      Myanmar  2017       19619.0           30.0  South-East Asia\n",
       "..     ...          ...   ...           ...            ...              ...\n",
       "157   1901      Myanmar  2000      120083.0         2556.0  South-East Asia\n",
       "158   1903        Nepal  2000        7981.0           30.0  South-East Asia\n",
       "159   1924    Sri Lanka  2000      210039.0           77.0  South-East Asia\n",
       "160   1929     Thailand  2000       78561.0          625.0  South-East Asia\n",
       "161   1930  Timor-Leste  2000       15212.0           30.0  South-East Asia\n",
       "\n",
       "[162 rows x 6 columns]"
      ]
     },
     "execution_count": 70,
     "metadata": {},
     "output_type": "execute_result"
    }
   ],
   "source": [
    "df1"
   ]
  },
  {
   "cell_type": "code",
   "execution_count": 71,
   "metadata": {},
   "outputs": [],
   "source": [
    "df1=df1.drop(['index','WHO Region'], axis=1)\n"
   ]
  },
  {
   "cell_type": "code",
   "execution_count": 72,
   "metadata": {},
   "outputs": [
    {
     "data": {
      "text/html": [
       "<div>\n",
       "<style scoped>\n",
       "    .dataframe tbody tr th:only-of-type {\n",
       "        vertical-align: middle;\n",
       "    }\n",
       "\n",
       "    .dataframe tbody tr th {\n",
       "        vertical-align: top;\n",
       "    }\n",
       "\n",
       "    .dataframe thead th {\n",
       "        text-align: right;\n",
       "    }\n",
       "</style>\n",
       "<table border=\"1\" class=\"dataframe\">\n",
       "  <thead>\n",
       "    <tr style=\"text-align: right;\">\n",
       "      <th></th>\n",
       "      <th>Country</th>\n",
       "      <th>Year</th>\n",
       "      <th>No. of cases</th>\n",
       "      <th>No. of deaths</th>\n",
       "    </tr>\n",
       "  </thead>\n",
       "  <tbody>\n",
       "    <tr>\n",
       "      <th>0</th>\n",
       "      <td>Bangladesh</td>\n",
       "      <td>2017</td>\n",
       "      <td>4893.0</td>\n",
       "      <td>13.0</td>\n",
       "    </tr>\n",
       "    <tr>\n",
       "      <th>1</th>\n",
       "      <td>Bhutan</td>\n",
       "      <td>2017</td>\n",
       "      <td>24.0</td>\n",
       "      <td>1.0</td>\n",
       "    </tr>\n",
       "    <tr>\n",
       "      <th>2</th>\n",
       "      <td>India</td>\n",
       "      <td>2017</td>\n",
       "      <td>844558.0</td>\n",
       "      <td>194.0</td>\n",
       "    </tr>\n",
       "    <tr>\n",
       "      <th>3</th>\n",
       "      <td>Indonesia</td>\n",
       "      <td>2017</td>\n",
       "      <td>261617.0</td>\n",
       "      <td>47.0</td>\n",
       "    </tr>\n",
       "    <tr>\n",
       "      <th>4</th>\n",
       "      <td>Myanmar</td>\n",
       "      <td>2017</td>\n",
       "      <td>19619.0</td>\n",
       "      <td>30.0</td>\n",
       "    </tr>\n",
       "    <tr>\n",
       "      <th>...</th>\n",
       "      <td>...</td>\n",
       "      <td>...</td>\n",
       "      <td>...</td>\n",
       "      <td>...</td>\n",
       "    </tr>\n",
       "    <tr>\n",
       "      <th>157</th>\n",
       "      <td>Myanmar</td>\n",
       "      <td>2000</td>\n",
       "      <td>120083.0</td>\n",
       "      <td>2556.0</td>\n",
       "    </tr>\n",
       "    <tr>\n",
       "      <th>158</th>\n",
       "      <td>Nepal</td>\n",
       "      <td>2000</td>\n",
       "      <td>7981.0</td>\n",
       "      <td>30.0</td>\n",
       "    </tr>\n",
       "    <tr>\n",
       "      <th>159</th>\n",
       "      <td>Sri Lanka</td>\n",
       "      <td>2000</td>\n",
       "      <td>210039.0</td>\n",
       "      <td>77.0</td>\n",
       "    </tr>\n",
       "    <tr>\n",
       "      <th>160</th>\n",
       "      <td>Thailand</td>\n",
       "      <td>2000</td>\n",
       "      <td>78561.0</td>\n",
       "      <td>625.0</td>\n",
       "    </tr>\n",
       "    <tr>\n",
       "      <th>161</th>\n",
       "      <td>Timor-Leste</td>\n",
       "      <td>2000</td>\n",
       "      <td>15212.0</td>\n",
       "      <td>30.0</td>\n",
       "    </tr>\n",
       "  </tbody>\n",
       "</table>\n",
       "<p>162 rows × 4 columns</p>\n",
       "</div>"
      ],
      "text/plain": [
       "         Country  Year  No. of cases  No. of deaths\n",
       "0     Bangladesh  2017        4893.0           13.0\n",
       "1         Bhutan  2017          24.0            1.0\n",
       "2          India  2017      844558.0          194.0\n",
       "3      Indonesia  2017      261617.0           47.0\n",
       "4        Myanmar  2017       19619.0           30.0\n",
       "..           ...   ...           ...            ...\n",
       "157      Myanmar  2000      120083.0         2556.0\n",
       "158        Nepal  2000        7981.0           30.0\n",
       "159    Sri Lanka  2000      210039.0           77.0\n",
       "160     Thailand  2000       78561.0          625.0\n",
       "161  Timor-Leste  2000       15212.0           30.0\n",
       "\n",
       "[162 rows x 4 columns]"
      ]
     },
     "execution_count": 72,
     "metadata": {},
     "output_type": "execute_result"
    }
   ],
   "source": [
    "df1"
   ]
  },
  {
   "cell_type": "code",
   "execution_count": 73,
   "metadata": {},
   "outputs": [],
   "source": [
    "df1=df1.sort_values('Country',ascending=True)"
   ]
  },
  {
   "cell_type": "code",
   "execution_count": 78,
   "metadata": {},
   "outputs": [
    {
     "data": {
      "text/plain": [
       "Country          0\n",
       "Year             0\n",
       "No. of cases     0\n",
       "No. of deaths    0\n",
       "WHO Region       0\n",
       "dtype: int64"
      ]
     },
     "execution_count": 78,
     "metadata": {},
     "output_type": "execute_result"
    }
   ],
   "source": [
    "df.isnull().sum()"
   ]
  },
  {
   "cell_type": "code",
   "execution_count": 75,
   "metadata": {},
   "outputs": [],
   "source": [
    "df1.to_csv('exported_data.csv')"
   ]
  },
  {
   "cell_type": "code",
   "execution_count": 50,
   "metadata": {},
   "outputs": [
    {
     "data": {
      "text/html": [
       "<div>\n",
       "<style scoped>\n",
       "    .dataframe tbody tr th:only-of-type {\n",
       "        vertical-align: middle;\n",
       "    }\n",
       "\n",
       "    .dataframe tbody tr th {\n",
       "        vertical-align: top;\n",
       "    }\n",
       "\n",
       "    .dataframe thead th {\n",
       "        text-align: right;\n",
       "    }\n",
       "</style>\n",
       "<table border=\"1\" class=\"dataframe\">\n",
       "  <thead>\n",
       "    <tr style=\"text-align: right;\">\n",
       "      <th></th>\n",
       "      <th>Country</th>\n",
       "      <th>Year</th>\n",
       "      <th>No. of cases</th>\n",
       "    </tr>\n",
       "  </thead>\n",
       "  <tbody>\n",
       "    <tr>\n",
       "      <th>0</th>\n",
       "      <td>Bangladesh</td>\n",
       "      <td>2017</td>\n",
       "      <td>4893.0</td>\n",
       "    </tr>\n",
       "    <tr>\n",
       "      <th>1</th>\n",
       "      <td>Bhutan</td>\n",
       "      <td>2017</td>\n",
       "      <td>24.0</td>\n",
       "    </tr>\n",
       "    <tr>\n",
       "      <th>2</th>\n",
       "      <td>India</td>\n",
       "      <td>2017</td>\n",
       "      <td>844558.0</td>\n",
       "    </tr>\n",
       "    <tr>\n",
       "      <th>3</th>\n",
       "      <td>Indonesia</td>\n",
       "      <td>2017</td>\n",
       "      <td>261617.0</td>\n",
       "    </tr>\n",
       "    <tr>\n",
       "      <th>4</th>\n",
       "      <td>Myanmar</td>\n",
       "      <td>2017</td>\n",
       "      <td>19619.0</td>\n",
       "    </tr>\n",
       "    <tr>\n",
       "      <th>...</th>\n",
       "      <td>...</td>\n",
       "      <td>...</td>\n",
       "      <td>...</td>\n",
       "    </tr>\n",
       "    <tr>\n",
       "      <th>157</th>\n",
       "      <td>Myanmar</td>\n",
       "      <td>2000</td>\n",
       "      <td>120083.0</td>\n",
       "    </tr>\n",
       "    <tr>\n",
       "      <th>158</th>\n",
       "      <td>Nepal</td>\n",
       "      <td>2000</td>\n",
       "      <td>7981.0</td>\n",
       "    </tr>\n",
       "    <tr>\n",
       "      <th>159</th>\n",
       "      <td>Sri Lanka</td>\n",
       "      <td>2000</td>\n",
       "      <td>210039.0</td>\n",
       "    </tr>\n",
       "    <tr>\n",
       "      <th>160</th>\n",
       "      <td>Thailand</td>\n",
       "      <td>2000</td>\n",
       "      <td>78561.0</td>\n",
       "    </tr>\n",
       "    <tr>\n",
       "      <th>161</th>\n",
       "      <td>Timor-Leste</td>\n",
       "      <td>2000</td>\n",
       "      <td>15212.0</td>\n",
       "    </tr>\n",
       "  </tbody>\n",
       "</table>\n",
       "<p>162 rows × 3 columns</p>\n",
       "</div>"
      ],
      "text/plain": [
       "         Country  Year  No. of cases\n",
       "0     Bangladesh  2017        4893.0\n",
       "1         Bhutan  2017          24.0\n",
       "2          India  2017      844558.0\n",
       "3      Indonesia  2017      261617.0\n",
       "4        Myanmar  2017       19619.0\n",
       "..           ...   ...           ...\n",
       "157      Myanmar  2000      120083.0\n",
       "158        Nepal  2000        7981.0\n",
       "159    Sri Lanka  2000      210039.0\n",
       "160     Thailand  2000       78561.0\n",
       "161  Timor-Leste  2000       15212.0\n",
       "\n",
       "[162 rows x 3 columns]"
      ]
     },
     "execution_count": 50,
     "metadata": {},
     "output_type": "execute_result"
    }
   ],
   "source": [
    "df1"
   ]
  },
  {
   "cell_type": "code",
   "execution_count": 76,
   "metadata": {},
   "outputs": [
    {
     "data": {
      "text/html": [
       "<div>\n",
       "<style scoped>\n",
       "    .dataframe tbody tr th:only-of-type {\n",
       "        vertical-align: middle;\n",
       "    }\n",
       "\n",
       "    .dataframe tbody tr th {\n",
       "        vertical-align: top;\n",
       "    }\n",
       "\n",
       "    .dataframe thead th {\n",
       "        text-align: right;\n",
       "    }\n",
       "</style>\n",
       "<table border=\"1\" class=\"dataframe\">\n",
       "  <thead>\n",
       "    <tr style=\"text-align: right;\">\n",
       "      <th></th>\n",
       "      <th>Country</th>\n",
       "      <th>Year</th>\n",
       "      <th>No. of cases</th>\n",
       "      <th>No. of deaths</th>\n",
       "    </tr>\n",
       "  </thead>\n",
       "  <tbody>\n",
       "    <tr>\n",
       "      <th>0</th>\n",
       "      <td>Bangladesh</td>\n",
       "      <td>2017</td>\n",
       "      <td>4893.0</td>\n",
       "      <td>13.0</td>\n",
       "    </tr>\n",
       "    <tr>\n",
       "      <th>135</th>\n",
       "      <td>Bangladesh</td>\n",
       "      <td>2002</td>\n",
       "      <td>62269.0</td>\n",
       "      <td>598.0</td>\n",
       "    </tr>\n",
       "    <tr>\n",
       "      <th>126</th>\n",
       "      <td>Bangladesh</td>\n",
       "      <td>2003</td>\n",
       "      <td>54654.0</td>\n",
       "      <td>574.0</td>\n",
       "    </tr>\n",
       "    <tr>\n",
       "      <th>117</th>\n",
       "      <td>Bangladesh</td>\n",
       "      <td>2004</td>\n",
       "      <td>58894.0</td>\n",
       "      <td>505.0</td>\n",
       "    </tr>\n",
       "    <tr>\n",
       "      <th>108</th>\n",
       "      <td>Bangladesh</td>\n",
       "      <td>2005</td>\n",
       "      <td>48121.0</td>\n",
       "      <td>501.0</td>\n",
       "    </tr>\n",
       "    <tr>\n",
       "      <th>...</th>\n",
       "      <td>...</td>\n",
       "      <td>...</td>\n",
       "      <td>...</td>\n",
       "      <td>...</td>\n",
       "    </tr>\n",
       "    <tr>\n",
       "      <th>26</th>\n",
       "      <td>Timor-Leste</td>\n",
       "      <td>2015</td>\n",
       "      <td>80.0</td>\n",
       "      <td>0.0</td>\n",
       "    </tr>\n",
       "    <tr>\n",
       "      <th>17</th>\n",
       "      <td>Timor-Leste</td>\n",
       "      <td>2016</td>\n",
       "      <td>94.0</td>\n",
       "      <td>0.0</td>\n",
       "    </tr>\n",
       "    <tr>\n",
       "      <th>8</th>\n",
       "      <td>Timor-Leste</td>\n",
       "      <td>2017</td>\n",
       "      <td>16.0</td>\n",
       "      <td>0.0</td>\n",
       "    </tr>\n",
       "    <tr>\n",
       "      <th>143</th>\n",
       "      <td>Timor-Leste</td>\n",
       "      <td>2002</td>\n",
       "      <td>26651.0</td>\n",
       "      <td>30.0</td>\n",
       "    </tr>\n",
       "    <tr>\n",
       "      <th>161</th>\n",
       "      <td>Timor-Leste</td>\n",
       "      <td>2000</td>\n",
       "      <td>15212.0</td>\n",
       "      <td>30.0</td>\n",
       "    </tr>\n",
       "  </tbody>\n",
       "</table>\n",
       "<p>162 rows × 4 columns</p>\n",
       "</div>"
      ],
      "text/plain": [
       "         Country  Year  No. of cases  No. of deaths\n",
       "0     Bangladesh  2017        4893.0           13.0\n",
       "135   Bangladesh  2002       62269.0          598.0\n",
       "126   Bangladesh  2003       54654.0          574.0\n",
       "117   Bangladesh  2004       58894.0          505.0\n",
       "108   Bangladesh  2005       48121.0          501.0\n",
       "..           ...   ...           ...            ...\n",
       "26   Timor-Leste  2015          80.0            0.0\n",
       "17   Timor-Leste  2016          94.0            0.0\n",
       "8    Timor-Leste  2017          16.0            0.0\n",
       "143  Timor-Leste  2002       26651.0           30.0\n",
       "161  Timor-Leste  2000       15212.0           30.0\n",
       "\n",
       "[162 rows x 4 columns]"
      ]
     },
     "execution_count": 76,
     "metadata": {},
     "output_type": "execute_result"
    }
   ],
   "source": [
    "df1"
   ]
  },
  {
   "cell_type": "code",
   "execution_count": 77,
   "metadata": {},
   "outputs": [
    {
     "data": {
      "application/vnd.plotly.v1+json": {
       "config": {
        "plotlyServerURL": "https://plot.ly"
       },
       "data": [
        {
         "hovertemplate": "<b>%{hovertext}</b><br><br>Country=Bangladesh<br>Year=2017<br>No. of cases=%{marker.size}<br>No. of deaths=%{y}<extra></extra>",
         "hovertext": [
          "Bangladesh"
         ],
         "ids": [
          "Bangladesh"
         ],
         "legendgroup": "Bangladesh",
         "marker": {
          "color": "#636efa",
          "size": [
           4893
          ],
          "sizemode": "area",
          "sizeref": 689.4161983471074,
          "symbol": "circle"
         },
         "mode": "markers",
         "name": "Bangladesh",
         "orientation": "v",
         "showlegend": true,
         "type": "scatter",
         "x": [
          4893
         ],
         "xaxis": "x",
         "y": [
          13
         ],
         "yaxis": "y"
        },
        {
         "hovertemplate": "<b>%{hovertext}</b><br><br>Country=Bhutan<br>Year=2017<br>No. of cases=%{marker.size}<br>No. of deaths=%{y}<extra></extra>",
         "hovertext": [
          "Bhutan"
         ],
         "ids": [
          "Bhutan"
         ],
         "legendgroup": "Bhutan",
         "marker": {
          "color": "#EF553B",
          "size": [
           24
          ],
          "sizemode": "area",
          "sizeref": 689.4161983471074,
          "symbol": "circle"
         },
         "mode": "markers",
         "name": "Bhutan",
         "orientation": "v",
         "showlegend": true,
         "type": "scatter",
         "x": [
          24
         ],
         "xaxis": "x",
         "y": [
          1
         ],
         "yaxis": "y"
        },
        {
         "hovertemplate": "<b>%{hovertext}</b><br><br>Country=India<br>Year=2017<br>No. of cases=%{marker.size}<br>No. of deaths=%{y}<extra></extra>",
         "hovertext": [
          "India"
         ],
         "ids": [
          "India"
         ],
         "legendgroup": "India",
         "marker": {
          "color": "#00cc96",
          "size": [
           844558
          ],
          "sizemode": "area",
          "sizeref": 689.4161983471074,
          "symbol": "circle"
         },
         "mode": "markers",
         "name": "India",
         "orientation": "v",
         "showlegend": true,
         "type": "scatter",
         "x": [
          844558
         ],
         "xaxis": "x",
         "y": [
          194
         ],
         "yaxis": "y"
        },
        {
         "hovertemplate": "<b>%{hovertext}</b><br><br>Country=Indonesia<br>Year=2017<br>No. of cases=%{marker.size}<br>No. of deaths=%{y}<extra></extra>",
         "hovertext": [
          "Indonesia"
         ],
         "ids": [
          "Indonesia"
         ],
         "legendgroup": "Indonesia",
         "marker": {
          "color": "#ab63fa",
          "size": [
           261617
          ],
          "sizemode": "area",
          "sizeref": 689.4161983471074,
          "symbol": "circle"
         },
         "mode": "markers",
         "name": "Indonesia",
         "orientation": "v",
         "showlegend": true,
         "type": "scatter",
         "x": [
          261617
         ],
         "xaxis": "x",
         "y": [
          47
         ],
         "yaxis": "y"
        },
        {
         "hovertemplate": "<b>%{hovertext}</b><br><br>Country=Myanmar<br>Year=2017<br>No. of cases=%{marker.size}<br>No. of deaths=%{y}<extra></extra>",
         "hovertext": [
          "Myanmar"
         ],
         "ids": [
          "Myanmar"
         ],
         "legendgroup": "Myanmar",
         "marker": {
          "color": "#FFA15A",
          "size": [
           19619
          ],
          "sizemode": "area",
          "sizeref": 689.4161983471074,
          "symbol": "circle"
         },
         "mode": "markers",
         "name": "Myanmar",
         "orientation": "v",
         "showlegend": true,
         "type": "scatter",
         "x": [
          19619
         ],
         "xaxis": "x",
         "y": [
          30
         ],
         "yaxis": "y"
        },
        {
         "hovertemplate": "<b>%{hovertext}</b><br><br>Country=Nepal<br>Year=2017<br>No. of cases=%{marker.size}<br>No. of deaths=%{y}<extra></extra>",
         "hovertext": [
          "Nepal"
         ],
         "ids": [
          "Nepal"
         ],
         "legendgroup": "Nepal",
         "marker": {
          "color": "#19d3f3",
          "size": [
           623
          ],
          "sizemode": "area",
          "sizeref": 689.4161983471074,
          "symbol": "circle"
         },
         "mode": "markers",
         "name": "Nepal",
         "orientation": "v",
         "showlegend": true,
         "type": "scatter",
         "x": [
          623
         ],
         "xaxis": "x",
         "y": [
          3
         ],
         "yaxis": "y"
        },
        {
         "hovertemplate": "<b>%{hovertext}</b><br><br>Country=Sri Lanka<br>Year=2017<br>No. of cases=%{marker.size}<br>No. of deaths=%{y}<extra></extra>",
         "hovertext": [
          "Sri Lanka"
         ],
         "ids": [
          "Sri Lanka"
         ],
         "legendgroup": "Sri Lanka",
         "marker": {
          "color": "#FF6692",
          "size": [
           0
          ],
          "sizemode": "area",
          "sizeref": 689.4161983471074,
          "symbol": "circle"
         },
         "mode": "markers",
         "name": "Sri Lanka",
         "orientation": "v",
         "showlegend": true,
         "type": "scatter",
         "x": [
          0
         ],
         "xaxis": "x",
         "y": [
          0
         ],
         "yaxis": "y"
        },
        {
         "hovertemplate": "<b>%{hovertext}</b><br><br>Country=Thailand<br>Year=2017<br>No. of cases=%{marker.size}<br>No. of deaths=%{y}<extra></extra>",
         "hovertext": [
          "Thailand"
         ],
         "ids": [
          "Thailand"
         ],
         "legendgroup": "Thailand",
         "marker": {
          "color": "#B6E880",
          "size": [
           11440
          ],
          "sizemode": "area",
          "sizeref": 689.4161983471074,
          "symbol": "circle"
         },
         "mode": "markers",
         "name": "Thailand",
         "orientation": "v",
         "showlegend": true,
         "type": "scatter",
         "x": [
          11440
         ],
         "xaxis": "x",
         "y": [
          11
         ],
         "yaxis": "y"
        },
        {
         "hovertemplate": "<b>%{hovertext}</b><br><br>Country=Timor-Leste<br>Year=2017<br>No. of cases=%{marker.size}<br>No. of deaths=%{y}<extra></extra>",
         "hovertext": [
          "Timor-Leste"
         ],
         "ids": [
          "Timor-Leste"
         ],
         "legendgroup": "Timor-Leste",
         "marker": {
          "color": "#FF97FF",
          "size": [
           16
          ],
          "sizemode": "area",
          "sizeref": 689.4161983471074,
          "symbol": "circle"
         },
         "mode": "markers",
         "name": "Timor-Leste",
         "orientation": "v",
         "showlegend": true,
         "type": "scatter",
         "x": [
          16
         ],
         "xaxis": "x",
         "y": [
          0
         ],
         "yaxis": "y"
        }
       ],
       "frames": [
        {
         "data": [
          {
           "hovertemplate": "<b>%{hovertext}</b><br><br>Country=Bangladesh<br>Year=2017<br>No. of cases=%{marker.size}<br>No. of deaths=%{y}<extra></extra>",
           "hovertext": [
            "Bangladesh"
           ],
           "ids": [
            "Bangladesh"
           ],
           "legendgroup": "Bangladesh",
           "marker": {
            "color": "#636efa",
            "size": [
             4893
            ],
            "sizemode": "area",
            "sizeref": 689.4161983471074,
            "symbol": "circle"
           },
           "mode": "markers",
           "name": "Bangladesh",
           "orientation": "v",
           "showlegend": true,
           "type": "scatter",
           "x": [
            4893
           ],
           "xaxis": "x",
           "y": [
            13
           ],
           "yaxis": "y"
          },
          {
           "hovertemplate": "<b>%{hovertext}</b><br><br>Country=Bhutan<br>Year=2017<br>No. of cases=%{marker.size}<br>No. of deaths=%{y}<extra></extra>",
           "hovertext": [
            "Bhutan"
           ],
           "ids": [
            "Bhutan"
           ],
           "legendgroup": "Bhutan",
           "marker": {
            "color": "#EF553B",
            "size": [
             24
            ],
            "sizemode": "area",
            "sizeref": 689.4161983471074,
            "symbol": "circle"
           },
           "mode": "markers",
           "name": "Bhutan",
           "orientation": "v",
           "showlegend": true,
           "type": "scatter",
           "x": [
            24
           ],
           "xaxis": "x",
           "y": [
            1
           ],
           "yaxis": "y"
          },
          {
           "hovertemplate": "<b>%{hovertext}</b><br><br>Country=India<br>Year=2017<br>No. of cases=%{marker.size}<br>No. of deaths=%{y}<extra></extra>",
           "hovertext": [
            "India"
           ],
           "ids": [
            "India"
           ],
           "legendgroup": "India",
           "marker": {
            "color": "#00cc96",
            "size": [
             844558
            ],
            "sizemode": "area",
            "sizeref": 689.4161983471074,
            "symbol": "circle"
           },
           "mode": "markers",
           "name": "India",
           "orientation": "v",
           "showlegend": true,
           "type": "scatter",
           "x": [
            844558
           ],
           "xaxis": "x",
           "y": [
            194
           ],
           "yaxis": "y"
          },
          {
           "hovertemplate": "<b>%{hovertext}</b><br><br>Country=Indonesia<br>Year=2017<br>No. of cases=%{marker.size}<br>No. of deaths=%{y}<extra></extra>",
           "hovertext": [
            "Indonesia"
           ],
           "ids": [
            "Indonesia"
           ],
           "legendgroup": "Indonesia",
           "marker": {
            "color": "#ab63fa",
            "size": [
             261617
            ],
            "sizemode": "area",
            "sizeref": 689.4161983471074,
            "symbol": "circle"
           },
           "mode": "markers",
           "name": "Indonesia",
           "orientation": "v",
           "showlegend": true,
           "type": "scatter",
           "x": [
            261617
           ],
           "xaxis": "x",
           "y": [
            47
           ],
           "yaxis": "y"
          },
          {
           "hovertemplate": "<b>%{hovertext}</b><br><br>Country=Myanmar<br>Year=2017<br>No. of cases=%{marker.size}<br>No. of deaths=%{y}<extra></extra>",
           "hovertext": [
            "Myanmar"
           ],
           "ids": [
            "Myanmar"
           ],
           "legendgroup": "Myanmar",
           "marker": {
            "color": "#FFA15A",
            "size": [
             19619
            ],
            "sizemode": "area",
            "sizeref": 689.4161983471074,
            "symbol": "circle"
           },
           "mode": "markers",
           "name": "Myanmar",
           "orientation": "v",
           "showlegend": true,
           "type": "scatter",
           "x": [
            19619
           ],
           "xaxis": "x",
           "y": [
            30
           ],
           "yaxis": "y"
          },
          {
           "hovertemplate": "<b>%{hovertext}</b><br><br>Country=Nepal<br>Year=2017<br>No. of cases=%{marker.size}<br>No. of deaths=%{y}<extra></extra>",
           "hovertext": [
            "Nepal"
           ],
           "ids": [
            "Nepal"
           ],
           "legendgroup": "Nepal",
           "marker": {
            "color": "#19d3f3",
            "size": [
             623
            ],
            "sizemode": "area",
            "sizeref": 689.4161983471074,
            "symbol": "circle"
           },
           "mode": "markers",
           "name": "Nepal",
           "orientation": "v",
           "showlegend": true,
           "type": "scatter",
           "x": [
            623
           ],
           "xaxis": "x",
           "y": [
            3
           ],
           "yaxis": "y"
          },
          {
           "hovertemplate": "<b>%{hovertext}</b><br><br>Country=Sri Lanka<br>Year=2017<br>No. of cases=%{marker.size}<br>No. of deaths=%{y}<extra></extra>",
           "hovertext": [
            "Sri Lanka"
           ],
           "ids": [
            "Sri Lanka"
           ],
           "legendgroup": "Sri Lanka",
           "marker": {
            "color": "#FF6692",
            "size": [
             0
            ],
            "sizemode": "area",
            "sizeref": 689.4161983471074,
            "symbol": "circle"
           },
           "mode": "markers",
           "name": "Sri Lanka",
           "orientation": "v",
           "showlegend": true,
           "type": "scatter",
           "x": [
            0
           ],
           "xaxis": "x",
           "y": [
            0
           ],
           "yaxis": "y"
          },
          {
           "hovertemplate": "<b>%{hovertext}</b><br><br>Country=Thailand<br>Year=2017<br>No. of cases=%{marker.size}<br>No. of deaths=%{y}<extra></extra>",
           "hovertext": [
            "Thailand"
           ],
           "ids": [
            "Thailand"
           ],
           "legendgroup": "Thailand",
           "marker": {
            "color": "#B6E880",
            "size": [
             11440
            ],
            "sizemode": "area",
            "sizeref": 689.4161983471074,
            "symbol": "circle"
           },
           "mode": "markers",
           "name": "Thailand",
           "orientation": "v",
           "showlegend": true,
           "type": "scatter",
           "x": [
            11440
           ],
           "xaxis": "x",
           "y": [
            11
           ],
           "yaxis": "y"
          },
          {
           "hovertemplate": "<b>%{hovertext}</b><br><br>Country=Timor-Leste<br>Year=2017<br>No. of cases=%{marker.size}<br>No. of deaths=%{y}<extra></extra>",
           "hovertext": [
            "Timor-Leste"
           ],
           "ids": [
            "Timor-Leste"
           ],
           "legendgroup": "Timor-Leste",
           "marker": {
            "color": "#FF97FF",
            "size": [
             16
            ],
            "sizemode": "area",
            "sizeref": 689.4161983471074,
            "symbol": "circle"
           },
           "mode": "markers",
           "name": "Timor-Leste",
           "orientation": "v",
           "showlegend": true,
           "type": "scatter",
           "x": [
            16
           ],
           "xaxis": "x",
           "y": [
            0
           ],
           "yaxis": "y"
          }
         ],
         "name": "2017"
        },
        {
         "data": [
          {
           "hovertemplate": "<b>%{hovertext}</b><br><br>Country=Bangladesh<br>Year=2002<br>No. of cases=%{marker.size}<br>No. of deaths=%{y}<extra></extra>",
           "hovertext": [
            "Bangladesh"
           ],
           "ids": [
            "Bangladesh"
           ],
           "legendgroup": "Bangladesh",
           "marker": {
            "color": "#636efa",
            "size": [
             62269
            ],
            "sizemode": "area",
            "sizeref": 689.4161983471074,
            "symbol": "circle"
           },
           "mode": "markers",
           "name": "Bangladesh",
           "orientation": "v",
           "showlegend": true,
           "type": "scatter",
           "x": [
            62269
           ],
           "xaxis": "x",
           "y": [
            598
           ],
           "yaxis": "y"
          },
          {
           "hovertemplate": "<b>%{hovertext}</b><br><br>Country=Bhutan<br>Year=2002<br>No. of cases=%{marker.size}<br>No. of deaths=%{y}<extra></extra>",
           "hovertext": [
            "Bhutan"
           ],
           "ids": [
            "Bhutan"
           ],
           "legendgroup": "Bhutan",
           "marker": {
            "color": "#EF553B",
            "size": [
             6511
            ],
            "sizemode": "area",
            "sizeref": 689.4161983471074,
            "symbol": "circle"
           },
           "mode": "markers",
           "name": "Bhutan",
           "orientation": "v",
           "showlegend": true,
           "type": "scatter",
           "x": [
            6511
           ],
           "xaxis": "x",
           "y": [
            11
           ],
           "yaxis": "y"
          },
          {
           "hovertemplate": "<b>%{hovertext}</b><br><br>Country=India<br>Year=2002<br>No. of cases=%{marker.size}<br>No. of deaths=%{y}<extra></extra>",
           "hovertext": [
            "India"
           ],
           "ids": [
            "India"
           ],
           "legendgroup": "India",
           "marker": {
            "color": "#00cc96",
            "size": [
             1841227
            ],
            "sizemode": "area",
            "sizeref": 689.4161983471074,
            "symbol": "circle"
           },
           "mode": "markers",
           "name": "India",
           "orientation": "v",
           "showlegend": true,
           "type": "scatter",
           "x": [
            1841227
           ],
           "xaxis": "x",
           "y": [
            973
           ],
           "yaxis": "y"
          },
          {
           "hovertemplate": "<b>%{hovertext}</b><br><br>Country=Indonesia<br>Year=2002<br>No. of cases=%{marker.size}<br>No. of deaths=%{y}<extra></extra>",
           "hovertext": [
            "Indonesia"
           ],
           "ids": [
            "Indonesia"
           ],
           "legendgroup": "Indonesia",
           "marker": {
            "color": "#ab63fa",
            "size": [
             273793
            ],
            "sizemode": "area",
            "sizeref": 689.4161983471074,
            "symbol": "circle"
           },
           "mode": "markers",
           "name": "Indonesia",
           "orientation": "v",
           "showlegend": true,
           "type": "scatter",
           "x": [
            273793
           ],
           "xaxis": "x",
           "y": [
            30
           ],
           "yaxis": "y"
          },
          {
           "hovertemplate": "<b>%{hovertext}</b><br><br>Country=Myanmar<br>Year=2002<br>No. of cases=%{marker.size}<br>No. of deaths=%{y}<extra></extra>",
           "hovertext": [
            "Myanmar"
           ],
           "ids": [
            "Myanmar"
           ],
           "legendgroup": "Myanmar",
           "marker": {
            "color": "#FFA15A",
            "size": [
             173096
            ],
            "sizemode": "area",
            "sizeref": 689.4161983471074,
            "symbol": "circle"
           },
           "mode": "markers",
           "name": "Myanmar",
           "orientation": "v",
           "showlegend": true,
           "type": "scatter",
           "x": [
            173096
           ],
           "xaxis": "x",
           "y": [
            2634
           ],
           "yaxis": "y"
          },
          {
           "hovertemplate": "<b>%{hovertext}</b><br><br>Country=Nepal<br>Year=2002<br>No. of cases=%{marker.size}<br>No. of deaths=%{y}<extra></extra>",
           "hovertext": [
            "Nepal"
           ],
           "ids": [
            "Nepal"
           ],
           "legendgroup": "Nepal",
           "marker": {
            "color": "#19d3f3",
            "size": [
             12750
            ],
            "sizemode": "area",
            "sizeref": 689.4161983471074,
            "symbol": "circle"
           },
           "mode": "markers",
           "name": "Nepal",
           "orientation": "v",
           "showlegend": true,
           "type": "scatter",
           "x": [
            12750
           ],
           "xaxis": "x",
           "y": [
            3
           ],
           "yaxis": "y"
          },
          {
           "hovertemplate": "<b>%{hovertext}</b><br><br>Country=Sri Lanka<br>Year=2002<br>No. of cases=%{marker.size}<br>No. of deaths=%{y}<extra></extra>",
           "hovertext": [
            "Sri Lanka"
           ],
           "ids": [
            "Sri Lanka"
           ],
           "legendgroup": "Sri Lanka",
           "marker": {
            "color": "#FF6692",
            "size": [
             41411
            ],
            "sizemode": "area",
            "sizeref": 689.4161983471074,
            "symbol": "circle"
           },
           "mode": "markers",
           "name": "Sri Lanka",
           "orientation": "v",
           "showlegend": true,
           "type": "scatter",
           "x": [
            41411
           ],
           "xaxis": "x",
           "y": [
            30
           ],
           "yaxis": "y"
          },
          {
           "hovertemplate": "<b>%{hovertext}</b><br><br>Country=Thailand<br>Year=2002<br>No. of cases=%{marker.size}<br>No. of deaths=%{y}<extra></extra>",
           "hovertext": [
            "Thailand"
           ],
           "ids": [
            "Thailand"
           ],
           "legendgroup": "Thailand",
           "marker": {
            "color": "#B6E880",
            "size": [
             44555
            ],
            "sizemode": "area",
            "sizeref": 689.4161983471074,
            "symbol": "circle"
           },
           "mode": "markers",
           "name": "Thailand",
           "orientation": "v",
           "showlegend": true,
           "type": "scatter",
           "x": [
            44555
           ],
           "xaxis": "x",
           "y": [
            361
           ],
           "yaxis": "y"
          },
          {
           "hovertemplate": "<b>%{hovertext}</b><br><br>Country=Timor-Leste<br>Year=2002<br>No. of cases=%{marker.size}<br>No. of deaths=%{y}<extra></extra>",
           "hovertext": [
            "Timor-Leste"
           ],
           "ids": [
            "Timor-Leste"
           ],
           "legendgroup": "Timor-Leste",
           "marker": {
            "color": "#FF97FF",
            "size": [
             26651
            ],
            "sizemode": "area",
            "sizeref": 689.4161983471074,
            "symbol": "circle"
           },
           "mode": "markers",
           "name": "Timor-Leste",
           "orientation": "v",
           "showlegend": true,
           "type": "scatter",
           "x": [
            26651
           ],
           "xaxis": "x",
           "y": [
            30
           ],
           "yaxis": "y"
          }
         ],
         "name": "2002"
        },
        {
         "data": [
          {
           "hovertemplate": "<b>%{hovertext}</b><br><br>Country=Bangladesh<br>Year=2003<br>No. of cases=%{marker.size}<br>No. of deaths=%{y}<extra></extra>",
           "hovertext": [
            "Bangladesh"
           ],
           "ids": [
            "Bangladesh"
           ],
           "legendgroup": "Bangladesh",
           "marker": {
            "color": "#636efa",
            "size": [
             54654
            ],
            "sizemode": "area",
            "sizeref": 689.4161983471074,
            "symbol": "circle"
           },
           "mode": "markers",
           "name": "Bangladesh",
           "orientation": "v",
           "showlegend": true,
           "type": "scatter",
           "x": [
            54654
           ],
           "xaxis": "x",
           "y": [
            574
           ],
           "yaxis": "y"
          },
          {
           "hovertemplate": "<b>%{hovertext}</b><br><br>Country=Bhutan<br>Year=2003<br>No. of cases=%{marker.size}<br>No. of deaths=%{y}<extra></extra>",
           "hovertext": [
            "Bhutan"
           ],
           "ids": [
            "Bhutan"
           ],
           "legendgroup": "Bhutan",
           "marker": {
            "color": "#EF553B",
            "size": [
             3806
            ],
            "sizemode": "area",
            "sizeref": 689.4161983471074,
            "symbol": "circle"
           },
           "mode": "markers",
           "name": "Bhutan",
           "orientation": "v",
           "showlegend": true,
           "type": "scatter",
           "x": [
            3806
           ],
           "xaxis": "x",
           "y": [
            14
           ],
           "yaxis": "y"
          },
          {
           "hovertemplate": "<b>%{hovertext}</b><br><br>Country=India<br>Year=2003<br>No. of cases=%{marker.size}<br>No. of deaths=%{y}<extra></extra>",
           "hovertext": [
            "India"
           ],
           "ids": [
            "India"
           ],
           "legendgroup": "India",
           "marker": {
            "color": "#00cc96",
            "size": [
             1869403
            ],
            "sizemode": "area",
            "sizeref": 689.4161983471074,
            "symbol": "circle"
           },
           "mode": "markers",
           "name": "India",
           "orientation": "v",
           "showlegend": true,
           "type": "scatter",
           "x": [
            1869403
           ],
           "xaxis": "x",
           "y": [
            1006
           ],
           "yaxis": "y"
          },
          {
           "hovertemplate": "<b>%{hovertext}</b><br><br>Country=Indonesia<br>Year=2003<br>No. of cases=%{marker.size}<br>No. of deaths=%{y}<extra></extra>",
           "hovertext": [
            "Indonesia"
           ],
           "ids": [
            "Indonesia"
           ],
           "legendgroup": "Indonesia",
           "marker": {
            "color": "#ab63fa",
            "size": [
             223074
            ],
            "sizemode": "area",
            "sizeref": 689.4161983471074,
            "symbol": "circle"
           },
           "mode": "markers",
           "name": "Indonesia",
           "orientation": "v",
           "showlegend": true,
           "type": "scatter",
           "x": [
            223074
           ],
           "xaxis": "x",
           "y": [
            30
           ],
           "yaxis": "y"
          },
          {
           "hovertemplate": "<b>%{hovertext}</b><br><br>Country=Myanmar<br>Year=2003<br>No. of cases=%{marker.size}<br>No. of deaths=%{y}<extra></extra>",
           "hovertext": [
            "Myanmar"
           ],
           "ids": [
            "Myanmar"
           ],
           "legendgroup": "Myanmar",
           "marker": {
            "color": "#FFA15A",
            "size": [
             177530
            ],
            "sizemode": "area",
            "sizeref": 689.4161983471074,
            "symbol": "circle"
           },
           "mode": "markers",
           "name": "Myanmar",
           "orientation": "v",
           "showlegend": true,
           "type": "scatter",
           "x": [
            177530
           ],
           "xaxis": "x",
           "y": [
            2476
           ],
           "yaxis": "y"
          },
          {
           "hovertemplate": "<b>%{hovertext}</b><br><br>Country=Nepal<br>Year=2003<br>No. of cases=%{marker.size}<br>No. of deaths=%{y}<extra></extra>",
           "hovertext": [
            "Nepal"
           ],
           "ids": [
            "Nepal"
           ],
           "legendgroup": "Nepal",
           "marker": {
            "color": "#19d3f3",
            "size": [
             9506
            ],
            "sizemode": "area",
            "sizeref": 689.4161983471074,
            "symbol": "circle"
           },
           "mode": "markers",
           "name": "Nepal",
           "orientation": "v",
           "showlegend": true,
           "type": "scatter",
           "x": [
            9506
           ],
           "xaxis": "x",
           "y": [
            5
           ],
           "yaxis": "y"
          },
          {
           "hovertemplate": "<b>%{hovertext}</b><br><br>Country=Sri Lanka<br>Year=2003<br>No. of cases=%{marker.size}<br>No. of deaths=%{y}<extra></extra>",
           "hovertext": [
            "Sri Lanka"
           ],
           "ids": [
            "Sri Lanka"
           ],
           "legendgroup": "Sri Lanka",
           "marker": {
            "color": "#FF6692",
            "size": [
             10510
            ],
            "sizemode": "area",
            "sizeref": 689.4161983471074,
            "symbol": "circle"
           },
           "mode": "markers",
           "name": "Sri Lanka",
           "orientation": "v",
           "showlegend": true,
           "type": "scatter",
           "x": [
            10510
           ],
           "xaxis": "x",
           "y": [
            4
           ],
           "yaxis": "y"
          },
          {
           "hovertemplate": "<b>%{hovertext}</b><br><br>Country=Thailand<br>Year=2003<br>No. of cases=%{marker.size}<br>No. of deaths=%{y}<extra></extra>",
           "hovertext": [
            "Thailand"
           ],
           "ids": [
            "Thailand"
           ],
           "legendgroup": "Thailand",
           "marker": {
            "color": "#B6E880",
            "size": [
             37355
            ],
            "sizemode": "area",
            "sizeref": 689.4161983471074,
            "symbol": "circle"
           },
           "mode": "markers",
           "name": "Thailand",
           "orientation": "v",
           "showlegend": true,
           "type": "scatter",
           "x": [
            37355
           ],
           "xaxis": "x",
           "y": [
            204
           ],
           "yaxis": "y"
          },
          {
           "hovertemplate": "<b>%{hovertext}</b><br><br>Country=Timor-Leste<br>Year=2003<br>No. of cases=%{marker.size}<br>No. of deaths=%{y}<extra></extra>",
           "hovertext": [
            "Timor-Leste"
           ],
           "ids": [
            "Timor-Leste"
           ],
           "legendgroup": "Timor-Leste",
           "marker": {
            "color": "#FF97FF",
            "size": [
             33411
            ],
            "sizemode": "area",
            "sizeref": 689.4161983471074,
            "symbol": "circle"
           },
           "mode": "markers",
           "name": "Timor-Leste",
           "orientation": "v",
           "showlegend": true,
           "type": "scatter",
           "x": [
            33411
           ],
           "xaxis": "x",
           "y": [
            30
           ],
           "yaxis": "y"
          }
         ],
         "name": "2003"
        },
        {
         "data": [
          {
           "hovertemplate": "<b>%{hovertext}</b><br><br>Country=Bangladesh<br>Year=2004<br>No. of cases=%{marker.size}<br>No. of deaths=%{y}<extra></extra>",
           "hovertext": [
            "Bangladesh"
           ],
           "ids": [
            "Bangladesh"
           ],
           "legendgroup": "Bangladesh",
           "marker": {
            "color": "#636efa",
            "size": [
             58894
            ],
            "sizemode": "area",
            "sizeref": 689.4161983471074,
            "symbol": "circle"
           },
           "mode": "markers",
           "name": "Bangladesh",
           "orientation": "v",
           "showlegend": true,
           "type": "scatter",
           "x": [
            58894
           ],
           "xaxis": "x",
           "y": [
            505
           ],
           "yaxis": "y"
          },
          {
           "hovertemplate": "<b>%{hovertext}</b><br><br>Country=Bhutan<br>Year=2004<br>No. of cases=%{marker.size}<br>No. of deaths=%{y}<extra></extra>",
           "hovertext": [
            "Bhutan"
           ],
           "ids": [
            "Bhutan"
           ],
           "legendgroup": "Bhutan",
           "marker": {
            "color": "#EF553B",
            "size": [
             2670
            ],
            "sizemode": "area",
            "sizeref": 689.4161983471074,
            "symbol": "circle"
           },
           "mode": "markers",
           "name": "Bhutan",
           "orientation": "v",
           "showlegend": true,
           "type": "scatter",
           "x": [
            2670
           ],
           "xaxis": "x",
           "y": [
            7
           ],
           "yaxis": "y"
          },
          {
           "hovertemplate": "<b>%{hovertext}</b><br><br>Country=India<br>Year=2004<br>No. of cases=%{marker.size}<br>No. of deaths=%{y}<extra></extra>",
           "hovertext": [
            "India"
           ],
           "ids": [
            "India"
           ],
           "legendgroup": "India",
           "marker": {
            "color": "#00cc96",
            "size": [
             1915363
            ],
            "sizemode": "area",
            "sizeref": 689.4161983471074,
            "symbol": "circle"
           },
           "mode": "markers",
           "name": "India",
           "orientation": "v",
           "showlegend": true,
           "type": "scatter",
           "x": [
            1915363
           ],
           "xaxis": "x",
           "y": [
            949
           ],
           "yaxis": "y"
          },
          {
           "hovertemplate": "<b>%{hovertext}</b><br><br>Country=Indonesia<br>Year=2004<br>No. of cases=%{marker.size}<br>No. of deaths=%{y}<extra></extra>",
           "hovertext": [
            "Indonesia"
           ],
           "ids": [
            "Indonesia"
           ],
           "legendgroup": "Indonesia",
           "marker": {
            "color": "#ab63fa",
            "size": [
             304936
            ],
            "sizemode": "area",
            "sizeref": 689.4161983471074,
            "symbol": "circle"
           },
           "mode": "markers",
           "name": "Indonesia",
           "orientation": "v",
           "showlegend": true,
           "type": "scatter",
           "x": [
            304936
           ],
           "xaxis": "x",
           "y": [
            508
           ],
           "yaxis": "y"
          },
          {
           "hovertemplate": "<b>%{hovertext}</b><br><br>Country=Myanmar<br>Year=2004<br>No. of cases=%{marker.size}<br>No. of deaths=%{y}<extra></extra>",
           "hovertext": [
            "Myanmar"
           ],
           "ids": [
            "Myanmar"
           ],
           "legendgroup": "Myanmar",
           "marker": {
            "color": "#FFA15A",
            "size": [
             152070
            ],
            "sizemode": "area",
            "sizeref": 689.4161983471074,
            "symbol": "circle"
           },
           "mode": "markers",
           "name": "Myanmar",
           "orientation": "v",
           "showlegend": true,
           "type": "scatter",
           "x": [
            152070
           ],
           "xaxis": "x",
           "y": [
            1982
           ],
           "yaxis": "y"
          },
          {
           "hovertemplate": "<b>%{hovertext}</b><br><br>Country=Nepal<br>Year=2004<br>No. of cases=%{marker.size}<br>No. of deaths=%{y}<extra></extra>",
           "hovertext": [
            "Nepal"
           ],
           "ids": [
            "Nepal"
           ],
           "legendgroup": "Nepal",
           "marker": {
            "color": "#19d3f3",
            "size": [
             4895
            ],
            "sizemode": "area",
            "sizeref": 689.4161983471074,
            "symbol": "circle"
           },
           "mode": "markers",
           "name": "Nepal",
           "orientation": "v",
           "showlegend": true,
           "type": "scatter",
           "x": [
            4895
           ],
           "xaxis": "x",
           "y": [
            7
           ],
           "yaxis": "y"
          },
          {
           "hovertemplate": "<b>%{hovertext}</b><br><br>Country=Sri Lanka<br>Year=2004<br>No. of cases=%{marker.size}<br>No. of deaths=%{y}<extra></extra>",
           "hovertext": [
            "Sri Lanka"
           ],
           "ids": [
            "Sri Lanka"
           ],
           "legendgroup": "Sri Lanka",
           "marker": {
            "color": "#FF6692",
            "size": [
             3720
            ],
            "sizemode": "area",
            "sizeref": 689.4161983471074,
            "symbol": "circle"
           },
           "mode": "markers",
           "name": "Sri Lanka",
           "orientation": "v",
           "showlegend": true,
           "type": "scatter",
           "x": [
            3720
           ],
           "xaxis": "x",
           "y": [
            1
           ],
           "yaxis": "y"
          },
          {
           "hovertemplate": "<b>%{hovertext}</b><br><br>Country=Thailand<br>Year=2004<br>No. of cases=%{marker.size}<br>No. of deaths=%{y}<extra></extra>",
           "hovertext": [
            "Thailand"
           ],
           "ids": [
            "Thailand"
           ],
           "legendgroup": "Thailand",
           "marker": {
            "color": "#B6E880",
            "size": [
             26690
            ],
            "sizemode": "area",
            "sizeref": 689.4161983471074,
            "symbol": "circle"
           },
           "mode": "markers",
           "name": "Thailand",
           "orientation": "v",
           "showlegend": true,
           "type": "scatter",
           "x": [
            26690
           ],
           "xaxis": "x",
           "y": [
            230
           ],
           "yaxis": "y"
          },
          {
           "hovertemplate": "<b>%{hovertext}</b><br><br>Country=Timor-Leste<br>Year=2004<br>No. of cases=%{marker.size}<br>No. of deaths=%{y}<extra></extra>",
           "hovertext": [
            "Timor-Leste"
           ],
           "ids": [
            "Timor-Leste"
           ],
           "legendgroup": "Timor-Leste",
           "marker": {
            "color": "#FF97FF",
            "size": [
             39164
            ],
            "sizemode": "area",
            "sizeref": 689.4161983471074,
            "symbol": "circle"
           },
           "mode": "markers",
           "name": "Timor-Leste",
           "orientation": "v",
           "showlegend": true,
           "type": "scatter",
           "x": [
            39164
           ],
           "xaxis": "x",
           "y": [
            65
           ],
           "yaxis": "y"
          }
         ],
         "name": "2004"
        },
        {
         "data": [
          {
           "hovertemplate": "<b>%{hovertext}</b><br><br>Country=Bangladesh<br>Year=2005<br>No. of cases=%{marker.size}<br>No. of deaths=%{y}<extra></extra>",
           "hovertext": [
            "Bangladesh"
           ],
           "ids": [
            "Bangladesh"
           ],
           "legendgroup": "Bangladesh",
           "marker": {
            "color": "#636efa",
            "size": [
             48121
            ],
            "sizemode": "area",
            "sizeref": 689.4161983471074,
            "symbol": "circle"
           },
           "mode": "markers",
           "name": "Bangladesh",
           "orientation": "v",
           "showlegend": true,
           "type": "scatter",
           "x": [
            48121
           ],
           "xaxis": "x",
           "y": [
            501
           ],
           "yaxis": "y"
          },
          {
           "hovertemplate": "<b>%{hovertext}</b><br><br>Country=Bhutan<br>Year=2005<br>No. of cases=%{marker.size}<br>No. of deaths=%{y}<extra></extra>",
           "hovertext": [
            "Bhutan"
           ],
           "ids": [
            "Bhutan"
           ],
           "legendgroup": "Bhutan",
           "marker": {
            "color": "#EF553B",
            "size": [
             1825
            ],
            "sizemode": "area",
            "sizeref": 689.4161983471074,
            "symbol": "circle"
           },
           "mode": "markers",
           "name": "Bhutan",
           "orientation": "v",
           "showlegend": true,
           "type": "scatter",
           "x": [
            1825
           ],
           "xaxis": "x",
           "y": [
            5
           ],
           "yaxis": "y"
          },
          {
           "hovertemplate": "<b>%{hovertext}</b><br><br>Country=India<br>Year=2005<br>No. of cases=%{marker.size}<br>No. of deaths=%{y}<extra></extra>",
           "hovertext": [
            "India"
           ],
           "ids": [
            "India"
           ],
           "legendgroup": "India",
           "marker": {
            "color": "#00cc96",
            "size": [
             1816569
            ],
            "sizemode": "area",
            "sizeref": 689.4161983471074,
            "symbol": "circle"
           },
           "mode": "markers",
           "name": "India",
           "orientation": "v",
           "showlegend": true,
           "type": "scatter",
           "x": [
            1816569
           ],
           "xaxis": "x",
           "y": [
            963
           ],
           "yaxis": "y"
          },
          {
           "hovertemplate": "<b>%{hovertext}</b><br><br>Country=Indonesia<br>Year=2005<br>No. of cases=%{marker.size}<br>No. of deaths=%{y}<extra></extra>",
           "hovertext": [
            "Indonesia"
           ],
           "ids": [
            "Indonesia"
           ],
           "legendgroup": "Indonesia",
           "marker": {
            "color": "#ab63fa",
            "size": [
             437323
            ],
            "sizemode": "area",
            "sizeref": 689.4161983471074,
            "symbol": "circle"
           },
           "mode": "markers",
           "name": "Indonesia",
           "orientation": "v",
           "showlegend": true,
           "type": "scatter",
           "x": [
            437323
           ],
           "xaxis": "x",
           "y": [
            88
           ],
           "yaxis": "y"
          },
          {
           "hovertemplate": "<b>%{hovertext}</b><br><br>Country=Myanmar<br>Year=2005<br>No. of cases=%{marker.size}<br>No. of deaths=%{y}<extra></extra>",
           "hovertext": [
            "Myanmar"
           ],
           "ids": [
            "Myanmar"
           ],
           "legendgroup": "Myanmar",
           "marker": {
            "color": "#FFA15A",
            "size": [
             165737
            ],
            "sizemode": "area",
            "sizeref": 689.4161983471074,
            "symbol": "circle"
           },
           "mode": "markers",
           "name": "Myanmar",
           "orientation": "v",
           "showlegend": true,
           "type": "scatter",
           "x": [
            165737
           ],
           "xaxis": "x",
           "y": [
            1707
           ],
           "yaxis": "y"
          },
          {
           "hovertemplate": "<b>%{hovertext}</b><br><br>Country=Nepal<br>Year=2005<br>No. of cases=%{marker.size}<br>No. of deaths=%{y}<extra></extra>",
           "hovertext": [
            "Nepal"
           ],
           "ids": [
            "Nepal"
           ],
           "legendgroup": "Nepal",
           "marker": {
            "color": "#19d3f3",
            "size": [
             5050
            ],
            "sizemode": "area",
            "sizeref": 689.4161983471074,
            "symbol": "circle"
           },
           "mode": "markers",
           "name": "Nepal",
           "orientation": "v",
           "showlegend": true,
           "type": "scatter",
           "x": [
            5050
           ],
           "xaxis": "x",
           "y": [
            10
           ],
           "yaxis": "y"
          },
          {
           "hovertemplate": "<b>%{hovertext}</b><br><br>Country=Sri Lanka<br>Year=2005<br>No. of cases=%{marker.size}<br>No. of deaths=%{y}<extra></extra>",
           "hovertext": [
            "Sri Lanka"
           ],
           "ids": [
            "Sri Lanka"
           ],
           "legendgroup": "Sri Lanka",
           "marker": {
            "color": "#FF6692",
            "size": [
             1640
            ],
            "sizemode": "area",
            "sizeref": 689.4161983471074,
            "symbol": "circle"
           },
           "mode": "markers",
           "name": "Sri Lanka",
           "orientation": "v",
           "showlegend": true,
           "type": "scatter",
           "x": [
            1640
           ],
           "xaxis": "x",
           "y": [
            0
           ],
           "yaxis": "y"
          },
          {
           "hovertemplate": "<b>%{hovertext}</b><br><br>Country=Thailand<br>Year=2005<br>No. of cases=%{marker.size}<br>No. of deaths=%{y}<extra></extra>",
           "hovertext": [
            "Thailand"
           ],
           "ids": [
            "Thailand"
           ],
           "legendgroup": "Thailand",
           "marker": {
            "color": "#B6E880",
            "size": [
             29782
            ],
            "sizemode": "area",
            "sizeref": 689.4161983471074,
            "symbol": "circle"
           },
           "mode": "markers",
           "name": "Thailand",
           "orientation": "v",
           "showlegend": true,
           "type": "scatter",
           "x": [
            29782
           ],
           "xaxis": "x",
           "y": [
            161
           ],
           "yaxis": "y"
          },
          {
           "hovertemplate": "<b>%{hovertext}</b><br><br>Country=Timor-Leste<br>Year=2005<br>No. of cases=%{marker.size}<br>No. of deaths=%{y}<extra></extra>",
           "hovertext": [
            "Timor-Leste"
           ],
           "ids": [
            "Timor-Leste"
           ],
           "legendgroup": "Timor-Leste",
           "marker": {
            "color": "#FF97FF",
            "size": [
             43093
            ],
            "sizemode": "area",
            "sizeref": 689.4161983471074,
            "symbol": "circle"
           },
           "mode": "markers",
           "name": "Timor-Leste",
           "orientation": "v",
           "showlegend": true,
           "type": "scatter",
           "x": [
            43093
           ],
           "xaxis": "x",
           "y": [
            71
           ],
           "yaxis": "y"
          }
         ],
         "name": "2005"
        },
        {
         "data": [
          {
           "hovertemplate": "<b>%{hovertext}</b><br><br>Country=Bangladesh<br>Year=2006<br>No. of cases=%{marker.size}<br>No. of deaths=%{y}<extra></extra>",
           "hovertext": [
            "Bangladesh"
           ],
           "ids": [
            "Bangladesh"
           ],
           "legendgroup": "Bangladesh",
           "marker": {
            "color": "#636efa",
            "size": [
             32857
            ],
            "sizemode": "area",
            "sizeref": 689.4161983471074,
            "symbol": "circle"
           },
           "mode": "markers",
           "name": "Bangladesh",
           "orientation": "v",
           "showlegend": true,
           "type": "scatter",
           "x": [
            32857
           ],
           "xaxis": "x",
           "y": [
            508
           ],
           "yaxis": "y"
          },
          {
           "hovertemplate": "<b>%{hovertext}</b><br><br>Country=Bhutan<br>Year=2006<br>No. of cases=%{marker.size}<br>No. of deaths=%{y}<extra></extra>",
           "hovertext": [
            "Bhutan"
           ],
           "ids": [
            "Bhutan"
           ],
           "legendgroup": "Bhutan",
           "marker": {
            "color": "#EF553B",
            "size": [
             1868
            ],
            "sizemode": "area",
            "sizeref": 689.4161983471074,
            "symbol": "circle"
           },
           "mode": "markers",
           "name": "Bhutan",
           "orientation": "v",
           "showlegend": true,
           "type": "scatter",
           "x": [
            1868
           ],
           "xaxis": "x",
           "y": [
            7
           ],
           "yaxis": "y"
          },
          {
           "hovertemplate": "<b>%{hovertext}</b><br><br>Country=India<br>Year=2006<br>No. of cases=%{marker.size}<br>No. of deaths=%{y}<extra></extra>",
           "hovertext": [
            "India"
           ],
           "ids": [
            "India"
           ],
           "legendgroup": "India",
           "marker": {
            "color": "#00cc96",
            "size": [
             1785109
            ],
            "sizemode": "area",
            "sizeref": 689.4161983471074,
            "symbol": "circle"
           },
           "mode": "markers",
           "name": "India",
           "orientation": "v",
           "showlegend": true,
           "type": "scatter",
           "x": [
            1785109
           ],
           "xaxis": "x",
           "y": [
            1708
           ],
           "yaxis": "y"
          },
          {
           "hovertemplate": "<b>%{hovertext}</b><br><br>Country=Indonesia<br>Year=2006<br>No. of cases=%{marker.size}<br>No. of deaths=%{y}<extra></extra>",
           "hovertext": [
            "Indonesia"
           ],
           "ids": [
            "Indonesia"
           ],
           "legendgroup": "Indonesia",
           "marker": {
            "color": "#ab63fa",
            "size": [
             347597
            ],
            "sizemode": "area",
            "sizeref": 689.4161983471074,
            "symbol": "circle"
           },
           "mode": "markers",
           "name": "Indonesia",
           "orientation": "v",
           "showlegend": true,
           "type": "scatter",
           "x": [
            347597
           ],
           "xaxis": "x",
           "y": [
            494
           ],
           "yaxis": "y"
          },
          {
           "hovertemplate": "<b>%{hovertext}</b><br><br>Country=Myanmar<br>Year=2006<br>No. of cases=%{marker.size}<br>No. of deaths=%{y}<extra></extra>",
           "hovertext": [
            "Myanmar"
           ],
           "ids": [
            "Myanmar"
           ],
           "legendgroup": "Myanmar",
           "marker": {
            "color": "#FFA15A",
            "size": [
             203071
            ],
            "sizemode": "area",
            "sizeref": 689.4161983471074,
            "symbol": "circle"
           },
           "mode": "markers",
           "name": "Myanmar",
           "orientation": "v",
           "showlegend": true,
           "type": "scatter",
           "x": [
            203071
           ],
           "xaxis": "x",
           "y": [
            1647
           ],
           "yaxis": "y"
          },
          {
           "hovertemplate": "<b>%{hovertext}</b><br><br>Country=Nepal<br>Year=2006<br>No. of cases=%{marker.size}<br>No. of deaths=%{y}<extra></extra>",
           "hovertext": [
            "Nepal"
           ],
           "ids": [
            "Nepal"
           ],
           "legendgroup": "Nepal",
           "marker": {
            "color": "#19d3f3",
            "size": [
             4969
            ],
            "sizemode": "area",
            "sizeref": 689.4161983471074,
            "symbol": "circle"
           },
           "mode": "markers",
           "name": "Nepal",
           "orientation": "v",
           "showlegend": true,
           "type": "scatter",
           "x": [
            4969
           ],
           "xaxis": "x",
           "y": [
            42
           ],
           "yaxis": "y"
          },
          {
           "hovertemplate": "<b>%{hovertext}</b><br><br>Country=Sri Lanka<br>Year=2006<br>No. of cases=%{marker.size}<br>No. of deaths=%{y}<extra></extra>",
           "hovertext": [
            "Sri Lanka"
           ],
           "ids": [
            "Sri Lanka"
           ],
           "legendgroup": "Sri Lanka",
           "marker": {
            "color": "#FF6692",
            "size": [
             591
            ],
            "sizemode": "area",
            "sizeref": 689.4161983471074,
            "symbol": "circle"
           },
           "mode": "markers",
           "name": "Sri Lanka",
           "orientation": "v",
           "showlegend": true,
           "type": "scatter",
           "x": [
            591
           ],
           "xaxis": "x",
           "y": [
            1
           ],
           "yaxis": "y"
          },
          {
           "hovertemplate": "<b>%{hovertext}</b><br><br>Country=Thailand<br>Year=2006<br>No. of cases=%{marker.size}<br>No. of deaths=%{y}<extra></extra>",
           "hovertext": [
            "Thailand"
           ],
           "ids": [
            "Thailand"
           ],
           "legendgroup": "Thailand",
           "marker": {
            "color": "#B6E880",
            "size": [
             30294
            ],
            "sizemode": "area",
            "sizeref": 689.4161983471074,
            "symbol": "circle"
           },
           "mode": "markers",
           "name": "Thailand",
           "orientation": "v",
           "showlegend": true,
           "type": "scatter",
           "x": [
            30294
           ],
           "xaxis": "x",
           "y": [
            113
           ],
           "yaxis": "y"
          },
          {
           "hovertemplate": "<b>%{hovertext}</b><br><br>Country=Timor-Leste<br>Year=2006<br>No. of cases=%{marker.size}<br>No. of deaths=%{y}<extra></extra>",
           "hovertext": [
            "Timor-Leste"
           ],
           "ids": [
            "Timor-Leste"
           ],
           "legendgroup": "Timor-Leste",
           "marker": {
            "color": "#FF97FF",
            "size": [
             37896
            ],
            "sizemode": "area",
            "sizeref": 689.4161983471074,
            "symbol": "circle"
           },
           "mode": "markers",
           "name": "Timor-Leste",
           "orientation": "v",
           "showlegend": true,
           "type": "scatter",
           "x": [
            37896
           ],
           "xaxis": "x",
           "y": [
            68
           ],
           "yaxis": "y"
          }
         ],
         "name": "2006"
        },
        {
         "data": [
          {
           "hovertemplate": "<b>%{hovertext}</b><br><br>Country=Bangladesh<br>Year=2007<br>No. of cases=%{marker.size}<br>No. of deaths=%{y}<extra></extra>",
           "hovertext": [
            "Bangladesh"
           ],
           "ids": [
            "Bangladesh"
           ],
           "legendgroup": "Bangladesh",
           "marker": {
            "color": "#636efa",
            "size": [
             59866
            ],
            "sizemode": "area",
            "sizeref": 689.4161983471074,
            "symbol": "circle"
           },
           "mode": "markers",
           "name": "Bangladesh",
           "orientation": "v",
           "showlegend": true,
           "type": "scatter",
           "x": [
            59866
           ],
           "xaxis": "x",
           "y": [
            228
           ],
           "yaxis": "y"
          },
          {
           "hovertemplate": "<b>%{hovertext}</b><br><br>Country=Bhutan<br>Year=2007<br>No. of cases=%{marker.size}<br>No. of deaths=%{y}<extra></extra>",
           "hovertext": [
            "Bhutan"
           ],
           "ids": [
            "Bhutan"
           ],
           "legendgroup": "Bhutan",
           "marker": {
            "color": "#EF553B",
            "size": [
             793
            ],
            "sizemode": "area",
            "sizeref": 689.4161983471074,
            "symbol": "circle"
           },
           "mode": "markers",
           "name": "Bhutan",
           "orientation": "v",
           "showlegend": true,
           "type": "scatter",
           "x": [
            793
           ],
           "xaxis": "x",
           "y": [
            2
           ],
           "yaxis": "y"
          },
          {
           "hovertemplate": "<b>%{hovertext}</b><br><br>Country=India<br>Year=2007<br>No. of cases=%{marker.size}<br>No. of deaths=%{y}<extra></extra>",
           "hovertext": [
            "India"
           ],
           "ids": [
            "India"
           ],
           "legendgroup": "India",
           "marker": {
            "color": "#00cc96",
            "size": [
             1508927
            ],
            "sizemode": "area",
            "sizeref": 689.4161983471074,
            "symbol": "circle"
           },
           "mode": "markers",
           "name": "India",
           "orientation": "v",
           "showlegend": true,
           "type": "scatter",
           "x": [
            1508927
           ],
           "xaxis": "x",
           "y": [
            1311
           ],
           "yaxis": "y"
          },
          {
           "hovertemplate": "<b>%{hovertext}</b><br><br>Country=Indonesia<br>Year=2007<br>No. of cases=%{marker.size}<br>No. of deaths=%{y}<extra></extra>",
           "hovertext": [
            "Indonesia"
           ],
           "ids": [
            "Indonesia"
           ],
           "legendgroup": "Indonesia",
           "marker": {
            "color": "#ab63fa",
            "size": [
             311789
            ],
            "sizemode": "area",
            "sizeref": 689.4161983471074,
            "symbol": "circle"
           },
           "mode": "markers",
           "name": "Indonesia",
           "orientation": "v",
           "showlegend": true,
           "type": "scatter",
           "x": [
            311789
           ],
           "xaxis": "x",
           "y": [
            30
           ],
           "yaxis": "y"
          },
          {
           "hovertemplate": "<b>%{hovertext}</b><br><br>Country=Myanmar<br>Year=2007<br>No. of cases=%{marker.size}<br>No. of deaths=%{y}<extra></extra>",
           "hovertext": [
            "Myanmar"
           ],
           "ids": [
            "Myanmar"
           ],
           "legendgroup": "Myanmar",
           "marker": {
            "color": "#FFA15A",
            "size": [
             373958
            ],
            "sizemode": "area",
            "sizeref": 689.4161983471074,
            "symbol": "circle"
           },
           "mode": "markers",
           "name": "Myanmar",
           "orientation": "v",
           "showlegend": true,
           "type": "scatter",
           "x": [
            373958
           ],
           "xaxis": "x",
           "y": [
            1261
           ],
           "yaxis": "y"
          },
          {
           "hovertemplate": "<b>%{hovertext}</b><br><br>Country=Nepal<br>Year=2007<br>No. of cases=%{marker.size}<br>No. of deaths=%{y}<extra></extra>",
           "hovertext": [
            "Nepal"
           ],
           "ids": [
            "Nepal"
           ],
           "legendgroup": "Nepal",
           "marker": {
            "color": "#19d3f3",
            "size": [
             5621
            ],
            "sizemode": "area",
            "sizeref": 689.4161983471074,
            "symbol": "circle"
           },
           "mode": "markers",
           "name": "Nepal",
           "orientation": "v",
           "showlegend": true,
           "type": "scatter",
           "x": [
            5621
           ],
           "xaxis": "x",
           "y": [
            3
           ],
           "yaxis": "y"
          },
          {
           "hovertemplate": "<b>%{hovertext}</b><br><br>Country=Sri Lanka<br>Year=2007<br>No. of cases=%{marker.size}<br>No. of deaths=%{y}<extra></extra>",
           "hovertext": [
            "Sri Lanka"
           ],
           "ids": [
            "Sri Lanka"
           ],
           "legendgroup": "Sri Lanka",
           "marker": {
            "color": "#FF6692",
            "size": [
             198
            ],
            "sizemode": "area",
            "sizeref": 689.4161983471074,
            "symbol": "circle"
           },
           "mode": "markers",
           "name": "Sri Lanka",
           "orientation": "v",
           "showlegend": true,
           "type": "scatter",
           "x": [
            198
           ],
           "xaxis": "x",
           "y": [
            1
           ],
           "yaxis": "y"
          },
          {
           "hovertemplate": "<b>%{hovertext}</b><br><br>Country=Thailand<br>Year=2007<br>No. of cases=%{marker.size}<br>No. of deaths=%{y}<extra></extra>",
           "hovertext": [
            "Thailand"
           ],
           "ids": [
            "Thailand"
           ],
           "legendgroup": "Thailand",
           "marker": {
            "color": "#B6E880",
            "size": [
             33178
            ],
            "sizemode": "area",
            "sizeref": 689.4161983471074,
            "symbol": "circle"
           },
           "mode": "markers",
           "name": "Thailand",
           "orientation": "v",
           "showlegend": true,
           "type": "scatter",
           "x": [
            33178
           ],
           "xaxis": "x",
           "y": [
            97
           ],
           "yaxis": "y"
          },
          {
           "hovertemplate": "<b>%{hovertext}</b><br><br>Country=Timor-Leste<br>Year=2007<br>No. of cases=%{marker.size}<br>No. of deaths=%{y}<extra></extra>",
           "hovertext": [
            "Timor-Leste"
           ],
           "ids": [
            "Timor-Leste"
           ],
           "legendgroup": "Timor-Leste",
           "marker": {
            "color": "#FF97FF",
            "size": [
             52813
            ],
            "sizemode": "area",
            "sizeref": 689.4161983471074,
            "symbol": "circle"
           },
           "mode": "markers",
           "name": "Timor-Leste",
           "orientation": "v",
           "showlegend": true,
           "type": "scatter",
           "x": [
            52813
           ],
           "xaxis": "x",
           "y": [
            60
           ],
           "yaxis": "y"
          }
         ],
         "name": "2007"
        },
        {
         "data": [
          {
           "hovertemplate": "<b>%{hovertext}</b><br><br>Country=Bangladesh<br>Year=2008<br>No. of cases=%{marker.size}<br>No. of deaths=%{y}<extra></extra>",
           "hovertext": [
            "Bangladesh"
           ],
           "ids": [
            "Bangladesh"
           ],
           "legendgroup": "Bangladesh",
           "marker": {
            "color": "#636efa",
            "size": [
             84690
            ],
            "sizemode": "area",
            "sizeref": 689.4161983471074,
            "symbol": "circle"
           },
           "mode": "markers",
           "name": "Bangladesh",
           "orientation": "v",
           "showlegend": true,
           "type": "scatter",
           "x": [
            84690
           ],
           "xaxis": "x",
           "y": [
            154
           ],
           "yaxis": "y"
          },
          {
           "hovertemplate": "<b>%{hovertext}</b><br><br>Country=Bhutan<br>Year=2008<br>No. of cases=%{marker.size}<br>No. of deaths=%{y}<extra></extra>",
           "hovertext": [
            "Bhutan"
           ],
           "ids": [
            "Bhutan"
           ],
           "legendgroup": "Bhutan",
           "marker": {
            "color": "#EF553B",
            "size": [
             329
            ],
            "sizemode": "area",
            "sizeref": 689.4161983471074,
            "symbol": "circle"
           },
           "mode": "markers",
           "name": "Bhutan",
           "orientation": "v",
           "showlegend": true,
           "type": "scatter",
           "x": [
            329
           ],
           "xaxis": "x",
           "y": [
            2
           ],
           "yaxis": "y"
          },
          {
           "hovertemplate": "<b>%{hovertext}</b><br><br>Country=India<br>Year=2008<br>No. of cases=%{marker.size}<br>No. of deaths=%{y}<extra></extra>",
           "hovertext": [
            "India"
           ],
           "ids": [
            "India"
           ],
           "legendgroup": "India",
           "marker": {
            "color": "#00cc96",
            "size": [
             1532497
            ],
            "sizemode": "area",
            "sizeref": 689.4161983471074,
            "symbol": "circle"
           },
           "mode": "markers",
           "name": "India",
           "orientation": "v",
           "showlegend": true,
           "type": "scatter",
           "x": [
            1532497
           ],
           "xaxis": "x",
           "y": [
            1055
           ],
           "yaxis": "y"
          },
          {
           "hovertemplate": "<b>%{hovertext}</b><br><br>Country=Indonesia<br>Year=2008<br>No. of cases=%{marker.size}<br>No. of deaths=%{y}<extra></extra>",
           "hovertext": [
            "Indonesia"
           ],
           "ids": [
            "Indonesia"
           ],
           "legendgroup": "Indonesia",
           "marker": {
            "color": "#ab63fa",
            "size": [
             349231
            ],
            "sizemode": "area",
            "sizeref": 689.4161983471074,
            "symbol": "circle"
           },
           "mode": "markers",
           "name": "Indonesia",
           "orientation": "v",
           "showlegend": true,
           "type": "scatter",
           "x": [
            349231
           ],
           "xaxis": "x",
           "y": [
            669
           ],
           "yaxis": "y"
          },
          {
           "hovertemplate": "<b>%{hovertext}</b><br><br>Country=Myanmar<br>Year=2008<br>No. of cases=%{marker.size}<br>No. of deaths=%{y}<extra></extra>",
           "hovertext": [
            "Myanmar"
           ],
           "ids": [
            "Myanmar"
           ],
           "legendgroup": "Myanmar",
           "marker": {
            "color": "#FFA15A",
            "size": [
             447073
            ],
            "sizemode": "area",
            "sizeref": 689.4161983471074,
            "symbol": "circle"
           },
           "mode": "markers",
           "name": "Myanmar",
           "orientation": "v",
           "showlegend": true,
           "type": "scatter",
           "x": [
            447073
           ],
           "xaxis": "x",
           "y": [
            1087
           ],
           "yaxis": "y"
          },
          {
           "hovertemplate": "<b>%{hovertext}</b><br><br>Country=Nepal<br>Year=2008<br>No. of cases=%{marker.size}<br>No. of deaths=%{y}<extra></extra>",
           "hovertext": [
            "Nepal"
           ],
           "ids": [
            "Nepal"
           ],
           "legendgroup": "Nepal",
           "marker": {
            "color": "#19d3f3",
            "size": [
             3888
            ],
            "sizemode": "area",
            "sizeref": 689.4161983471074,
            "symbol": "circle"
           },
           "mode": "markers",
           "name": "Nepal",
           "orientation": "v",
           "showlegend": true,
           "type": "scatter",
           "x": [
            3888
           ],
           "xaxis": "x",
           "y": [
            30
           ],
           "yaxis": "y"
          },
          {
           "hovertemplate": "<b>%{hovertext}</b><br><br>Country=Sri Lanka<br>Year=2008<br>No. of cases=%{marker.size}<br>No. of deaths=%{y}<extra></extra>",
           "hovertext": [
            "Sri Lanka"
           ],
           "ids": [
            "Sri Lanka"
           ],
           "legendgroup": "Sri Lanka",
           "marker": {
            "color": "#FF6692",
            "size": [
             649
            ],
            "sizemode": "area",
            "sizeref": 689.4161983471074,
            "symbol": "circle"
           },
           "mode": "markers",
           "name": "Sri Lanka",
           "orientation": "v",
           "showlegend": true,
           "type": "scatter",
           "x": [
            649
           ],
           "xaxis": "x",
           "y": [
            0
           ],
           "yaxis": "y"
          },
          {
           "hovertemplate": "<b>%{hovertext}</b><br><br>Country=Thailand<br>Year=2008<br>No. of cases=%{marker.size}<br>No. of deaths=%{y}<extra></extra>",
           "hovertext": [
            "Thailand"
           ],
           "ids": [
            "Thailand"
           ],
           "legendgroup": "Thailand",
           "marker": {
            "color": "#B6E880",
            "size": [
             28569
            ],
            "sizemode": "area",
            "sizeref": 689.4161983471074,
            "symbol": "circle"
           },
           "mode": "markers",
           "name": "Thailand",
           "orientation": "v",
           "showlegend": true,
           "type": "scatter",
           "x": [
            28569
           ],
           "xaxis": "x",
           "y": [
            101
           ],
           "yaxis": "y"
          },
          {
           "hovertemplate": "<b>%{hovertext}</b><br><br>Country=Timor-Leste<br>Year=2008<br>No. of cases=%{marker.size}<br>No. of deaths=%{y}<extra></extra>",
           "hovertext": [
            "Timor-Leste"
           ],
           "ids": [
            "Timor-Leste"
           ],
           "legendgroup": "Timor-Leste",
           "marker": {
            "color": "#FF97FF",
            "size": [
             51260
            ],
            "sizemode": "area",
            "sizeref": 689.4161983471074,
            "symbol": "circle"
           },
           "mode": "markers",
           "name": "Timor-Leste",
           "orientation": "v",
           "showlegend": true,
           "type": "scatter",
           "x": [
            51260
           ],
           "xaxis": "x",
           "y": [
            33
           ],
           "yaxis": "y"
          }
         ],
         "name": "2008"
        },
        {
         "data": [
          {
           "hovertemplate": "<b>%{hovertext}</b><br><br>Country=Bangladesh<br>Year=2010<br>No. of cases=%{marker.size}<br>No. of deaths=%{y}<extra></extra>",
           "hovertext": [
            "Bangladesh"
           ],
           "ids": [
            "Bangladesh"
           ],
           "legendgroup": "Bangladesh",
           "marker": {
            "color": "#636efa",
            "size": [
             55873
            ],
            "sizemode": "area",
            "sizeref": 689.4161983471074,
            "symbol": "circle"
           },
           "mode": "markers",
           "name": "Bangladesh",
           "orientation": "v",
           "showlegend": true,
           "type": "scatter",
           "x": [
            55873
           ],
           "xaxis": "x",
           "y": [
            37
           ],
           "yaxis": "y"
          },
          {
           "hovertemplate": "<b>%{hovertext}</b><br><br>Country=Bhutan<br>Year=2010<br>No. of cases=%{marker.size}<br>No. of deaths=%{y}<extra></extra>",
           "hovertext": [
            "Bhutan"
           ],
           "ids": [
            "Bhutan"
           ],
           "legendgroup": "Bhutan",
           "marker": {
            "color": "#EF553B",
            "size": [
             436
            ],
            "sizemode": "area",
            "sizeref": 689.4161983471074,
            "symbol": "circle"
           },
           "mode": "markers",
           "name": "Bhutan",
           "orientation": "v",
           "showlegend": true,
           "type": "scatter",
           "x": [
            436
           ],
           "xaxis": "x",
           "y": [
            2
           ],
           "yaxis": "y"
          },
          {
           "hovertemplate": "<b>%{hovertext}</b><br><br>Country=India<br>Year=2010<br>No. of cases=%{marker.size}<br>No. of deaths=%{y}<extra></extra>",
           "hovertext": [
            "India"
           ],
           "ids": [
            "India"
           ],
           "legendgroup": "India",
           "marker": {
            "color": "#00cc96",
            "size": [
             1599986
            ],
            "sizemode": "area",
            "sizeref": 689.4161983471074,
            "symbol": "circle"
           },
           "mode": "markers",
           "name": "India",
           "orientation": "v",
           "showlegend": true,
           "type": "scatter",
           "x": [
            1599986
           ],
           "xaxis": "x",
           "y": [
            1018
           ],
           "yaxis": "y"
          },
          {
           "hovertemplate": "<b>%{hovertext}</b><br><br>Country=Indonesia<br>Year=2010<br>No. of cases=%{marker.size}<br>No. of deaths=%{y}<extra></extra>",
           "hovertext": [
            "Indonesia"
           ],
           "ids": [
            "Indonesia"
           ],
           "legendgroup": "Indonesia",
           "marker": {
            "color": "#ab63fa",
            "size": [
             465764
            ],
            "sizemode": "area",
            "sizeref": 689.4161983471074,
            "symbol": "circle"
           },
           "mode": "markers",
           "name": "Indonesia",
           "orientation": "v",
           "showlegend": true,
           "type": "scatter",
           "x": [
            465764
           ],
           "xaxis": "x",
           "y": [
            432
           ],
           "yaxis": "y"
          },
          {
           "hovertemplate": "<b>%{hovertext}</b><br><br>Country=Myanmar<br>Year=2010<br>No. of cases=%{marker.size}<br>No. of deaths=%{y}<extra></extra>",
           "hovertext": [
            "Myanmar"
           ],
           "ids": [
            "Myanmar"
           ],
           "legendgroup": "Myanmar",
           "marker": {
            "color": "#FFA15A",
            "size": [
             420808
            ],
            "sizemode": "area",
            "sizeref": 689.4161983471074,
            "symbol": "circle"
           },
           "mode": "markers",
           "name": "Myanmar",
           "orientation": "v",
           "showlegend": true,
           "type": "scatter",
           "x": [
            420808
           ],
           "xaxis": "x",
           "y": [
            788
           ],
           "yaxis": "y"
          },
          {
           "hovertemplate": "<b>%{hovertext}</b><br><br>Country=Nepal<br>Year=2010<br>No. of cases=%{marker.size}<br>No. of deaths=%{y}<extra></extra>",
           "hovertext": [
            "Nepal"
           ],
           "ids": [
            "Nepal"
           ],
           "legendgroup": "Nepal",
           "marker": {
            "color": "#19d3f3",
            "size": [
             3894
            ],
            "sizemode": "area",
            "sizeref": 689.4161983471074,
            "symbol": "circle"
           },
           "mode": "markers",
           "name": "Nepal",
           "orientation": "v",
           "showlegend": true,
           "type": "scatter",
           "x": [
            3894
           ],
           "xaxis": "x",
           "y": [
            6
           ],
           "yaxis": "y"
          },
          {
           "hovertemplate": "<b>%{hovertext}</b><br><br>Country=Sri Lanka<br>Year=2010<br>No. of cases=%{marker.size}<br>No. of deaths=%{y}<extra></extra>",
           "hovertext": [
            "Sri Lanka"
           ],
           "ids": [
            "Sri Lanka"
           ],
           "legendgroup": "Sri Lanka",
           "marker": {
            "color": "#FF6692",
            "size": [
             684
            ],
            "sizemode": "area",
            "sizeref": 689.4161983471074,
            "symbol": "circle"
           },
           "mode": "markers",
           "name": "Sri Lanka",
           "orientation": "v",
           "showlegend": true,
           "type": "scatter",
           "x": [
            684
           ],
           "xaxis": "x",
           "y": [
            0
           ],
           "yaxis": "y"
          },
          {
           "hovertemplate": "<b>%{hovertext}</b><br><br>Country=Thailand<br>Year=2010<br>No. of cases=%{marker.size}<br>No. of deaths=%{y}<extra></extra>",
           "hovertext": [
            "Thailand"
           ],
           "ids": [
            "Thailand"
           ],
           "legendgroup": "Thailand",
           "marker": {
            "color": "#B6E880",
            "size": [
             32480
            ],
            "sizemode": "area",
            "sizeref": 689.4161983471074,
            "symbol": "circle"
           },
           "mode": "markers",
           "name": "Thailand",
           "orientation": "v",
           "showlegend": true,
           "type": "scatter",
           "x": [
            32480
           ],
           "xaxis": "x",
           "y": [
            80
           ],
           "yaxis": "y"
          },
          {
           "hovertemplate": "<b>%{hovertext}</b><br><br>Country=Timor-Leste<br>Year=2010<br>No. of cases=%{marker.size}<br>No. of deaths=%{y}<extra></extra>",
           "hovertext": [
            "Timor-Leste"
           ],
           "ids": [
            "Timor-Leste"
           ],
           "legendgroup": "Timor-Leste",
           "marker": {
            "color": "#FF97FF",
            "size": [
             48137
            ],
            "sizemode": "area",
            "sizeref": 689.4161983471074,
            "symbol": "circle"
           },
           "mode": "markers",
           "name": "Timor-Leste",
           "orientation": "v",
           "showlegend": true,
           "type": "scatter",
           "x": [
            48137
           ],
           "xaxis": "x",
           "y": [
            58
           ],
           "yaxis": "y"
          }
         ],
         "name": "2010"
        },
        {
         "data": [
          {
           "hovertemplate": "<b>%{hovertext}</b><br><br>Country=Bangladesh<br>Year=2000<br>No. of cases=%{marker.size}<br>No. of deaths=%{y}<extra></extra>",
           "hovertext": [
            "Bangladesh"
           ],
           "ids": [
            "Bangladesh"
           ],
           "legendgroup": "Bangladesh",
           "marker": {
            "color": "#636efa",
            "size": [
             55599
            ],
            "sizemode": "area",
            "sizeref": 689.4161983471074,
            "symbol": "circle"
           },
           "mode": "markers",
           "name": "Bangladesh",
           "orientation": "v",
           "showlegend": true,
           "type": "scatter",
           "x": [
            55599
           ],
           "xaxis": "x",
           "y": [
            484
           ],
           "yaxis": "y"
          },
          {
           "hovertemplate": "<b>%{hovertext}</b><br><br>Country=Bhutan<br>Year=2000<br>No. of cases=%{marker.size}<br>No. of deaths=%{y}<extra></extra>",
           "hovertext": [
            "Bhutan"
           ],
           "ids": [
            "Bhutan"
           ],
           "legendgroup": "Bhutan",
           "marker": {
            "color": "#EF553B",
            "size": [
             5935
            ],
            "sizemode": "area",
            "sizeref": 689.4161983471074,
            "symbol": "circle"
           },
           "mode": "markers",
           "name": "Bhutan",
           "orientation": "v",
           "showlegend": true,
           "type": "scatter",
           "x": [
            5935
           ],
           "xaxis": "x",
           "y": [
            15
           ],
           "yaxis": "y"
          },
          {
           "hovertemplate": "<b>%{hovertext}</b><br><br>Country=India<br>Year=2000<br>No. of cases=%{marker.size}<br>No. of deaths=%{y}<extra></extra>",
           "hovertext": [
            "India"
           ],
           "ids": [
            "India"
           ],
           "legendgroup": "India",
           "marker": {
            "color": "#00cc96",
            "size": [
             2031790
            ],
            "sizemode": "area",
            "sizeref": 689.4161983471074,
            "symbol": "circle"
           },
           "mode": "markers",
           "name": "India",
           "orientation": "v",
           "showlegend": true,
           "type": "scatter",
           "x": [
            2031790
           ],
           "xaxis": "x",
           "y": [
            892
           ],
           "yaxis": "y"
          },
          {
           "hovertemplate": "<b>%{hovertext}</b><br><br>Country=Indonesia<br>Year=2000<br>No. of cases=%{marker.size}<br>No. of deaths=%{y}<extra></extra>",
           "hovertext": [
            "Indonesia"
           ],
           "ids": [
            "Indonesia"
           ],
           "legendgroup": "Indonesia",
           "marker": {
            "color": "#ab63fa",
            "size": [
             245612
            ],
            "sizemode": "area",
            "sizeref": 689.4161983471074,
            "symbol": "circle"
           },
           "mode": "markers",
           "name": "Indonesia",
           "orientation": "v",
           "showlegend": true,
           "type": "scatter",
           "x": [
            245612
           ],
           "xaxis": "x",
           "y": [
            833
           ],
           "yaxis": "y"
          },
          {
           "hovertemplate": "<b>%{hovertext}</b><br><br>Country=Myanmar<br>Year=2000<br>No. of cases=%{marker.size}<br>No. of deaths=%{y}<extra></extra>",
           "hovertext": [
            "Myanmar"
           ],
           "ids": [
            "Myanmar"
           ],
           "legendgroup": "Myanmar",
           "marker": {
            "color": "#FFA15A",
            "size": [
             120083
            ],
            "sizemode": "area",
            "sizeref": 689.4161983471074,
            "symbol": "circle"
           },
           "mode": "markers",
           "name": "Myanmar",
           "orientation": "v",
           "showlegend": true,
           "type": "scatter",
           "x": [
            120083
           ],
           "xaxis": "x",
           "y": [
            2556
           ],
           "yaxis": "y"
          },
          {
           "hovertemplate": "<b>%{hovertext}</b><br><br>Country=Nepal<br>Year=2000<br>No. of cases=%{marker.size}<br>No. of deaths=%{y}<extra></extra>",
           "hovertext": [
            "Nepal"
           ],
           "ids": [
            "Nepal"
           ],
           "legendgroup": "Nepal",
           "marker": {
            "color": "#19d3f3",
            "size": [
             7981
            ],
            "sizemode": "area",
            "sizeref": 689.4161983471074,
            "symbol": "circle"
           },
           "mode": "markers",
           "name": "Nepal",
           "orientation": "v",
           "showlegend": true,
           "type": "scatter",
           "x": [
            7981
           ],
           "xaxis": "x",
           "y": [
            30
           ],
           "yaxis": "y"
          },
          {
           "hovertemplate": "<b>%{hovertext}</b><br><br>Country=Sri Lanka<br>Year=2000<br>No. of cases=%{marker.size}<br>No. of deaths=%{y}<extra></extra>",
           "hovertext": [
            "Sri Lanka"
           ],
           "ids": [
            "Sri Lanka"
           ],
           "legendgroup": "Sri Lanka",
           "marker": {
            "color": "#FF6692",
            "size": [
             210039
            ],
            "sizemode": "area",
            "sizeref": 689.4161983471074,
            "symbol": "circle"
           },
           "mode": "markers",
           "name": "Sri Lanka",
           "orientation": "v",
           "showlegend": true,
           "type": "scatter",
           "x": [
            210039
           ],
           "xaxis": "x",
           "y": [
            77
           ],
           "yaxis": "y"
          },
          {
           "hovertemplate": "<b>%{hovertext}</b><br><br>Country=Thailand<br>Year=2000<br>No. of cases=%{marker.size}<br>No. of deaths=%{y}<extra></extra>",
           "hovertext": [
            "Thailand"
           ],
           "ids": [
            "Thailand"
           ],
           "legendgroup": "Thailand",
           "marker": {
            "color": "#B6E880",
            "size": [
             78561
            ],
            "sizemode": "area",
            "sizeref": 689.4161983471074,
            "symbol": "circle"
           },
           "mode": "markers",
           "name": "Thailand",
           "orientation": "v",
           "showlegend": true,
           "type": "scatter",
           "x": [
            78561
           ],
           "xaxis": "x",
           "y": [
            625
           ],
           "yaxis": "y"
          },
          {
           "hovertemplate": "<b>%{hovertext}</b><br><br>Country=Timor-Leste<br>Year=2000<br>No. of cases=%{marker.size}<br>No. of deaths=%{y}<extra></extra>",
           "hovertext": [
            "Timor-Leste"
           ],
           "ids": [
            "Timor-Leste"
           ],
           "legendgroup": "Timor-Leste",
           "marker": {
            "color": "#FF97FF",
            "size": [
             15212
            ],
            "sizemode": "area",
            "sizeref": 689.4161983471074,
            "symbol": "circle"
           },
           "mode": "markers",
           "name": "Timor-Leste",
           "orientation": "v",
           "showlegend": true,
           "type": "scatter",
           "x": [
            15212
           ],
           "xaxis": "x",
           "y": [
            30
           ],
           "yaxis": "y"
          }
         ],
         "name": "2000"
        },
        {
         "data": [
          {
           "hovertemplate": "<b>%{hovertext}</b><br><br>Country=Bangladesh<br>Year=2011<br>No. of cases=%{marker.size}<br>No. of deaths=%{y}<extra></extra>",
           "hovertext": [
            "Bangladesh"
           ],
           "ids": [
            "Bangladesh"
           ],
           "legendgroup": "Bangladesh",
           "marker": {
            "color": "#636efa",
            "size": [
             51773
            ],
            "sizemode": "area",
            "sizeref": 689.4161983471074,
            "symbol": "circle"
           },
           "mode": "markers",
           "name": "Bangladesh",
           "orientation": "v",
           "showlegend": true,
           "type": "scatter",
           "x": [
            51773
           ],
           "xaxis": "x",
           "y": [
            36
           ],
           "yaxis": "y"
          },
          {
           "hovertemplate": "<b>%{hovertext}</b><br><br>Country=Bhutan<br>Year=2011<br>No. of cases=%{marker.size}<br>No. of deaths=%{y}<extra></extra>",
           "hovertext": [
            "Bhutan"
           ],
           "ids": [
            "Bhutan"
           ],
           "legendgroup": "Bhutan",
           "marker": {
            "color": "#EF553B",
            "size": [
             194
            ],
            "sizemode": "area",
            "sizeref": 689.4161983471074,
            "symbol": "circle"
           },
           "mode": "markers",
           "name": "Bhutan",
           "orientation": "v",
           "showlegend": true,
           "type": "scatter",
           "x": [
            194
           ],
           "xaxis": "x",
           "y": [
            1
           ],
           "yaxis": "y"
          },
          {
           "hovertemplate": "<b>%{hovertext}</b><br><br>Country=India<br>Year=2011<br>No. of cases=%{marker.size}<br>No. of deaths=%{y}<extra></extra>",
           "hovertext": [
            "India"
           ],
           "ids": [
            "India"
           ],
           "legendgroup": "India",
           "marker": {
            "color": "#00cc96",
            "size": [
             1310656
            ],
            "sizemode": "area",
            "sizeref": 689.4161983471074,
            "symbol": "circle"
           },
           "mode": "markers",
           "name": "India",
           "orientation": "v",
           "showlegend": true,
           "type": "scatter",
           "x": [
            1310656
           ],
           "xaxis": "x",
           "y": [
            754
           ],
           "yaxis": "y"
          },
          {
           "hovertemplate": "<b>%{hovertext}</b><br><br>Country=Indonesia<br>Year=2011<br>No. of cases=%{marker.size}<br>No. of deaths=%{y}<extra></extra>",
           "hovertext": [
            "Indonesia"
           ],
           "ids": [
            "Indonesia"
           ],
           "legendgroup": "Indonesia",
           "marker": {
            "color": "#ab63fa",
            "size": [
             422447
            ],
            "sizemode": "area",
            "sizeref": 689.4161983471074,
            "symbol": "circle"
           },
           "mode": "markers",
           "name": "Indonesia",
           "orientation": "v",
           "showlegend": true,
           "type": "scatter",
           "x": [
            422447
           ],
           "xaxis": "x",
           "y": [
            388
           ],
           "yaxis": "y"
          },
          {
           "hovertemplate": "<b>%{hovertext}</b><br><br>Country=Myanmar<br>Year=2011<br>No. of cases=%{marker.size}<br>No. of deaths=%{y}<extra></extra>",
           "hovertext": [
            "Myanmar"
           ],
           "ids": [
            "Myanmar"
           ],
           "legendgroup": "Myanmar",
           "marker": {
            "color": "#FFA15A",
            "size": [
             465294
            ],
            "sizemode": "area",
            "sizeref": 689.4161983471074,
            "symbol": "circle"
           },
           "mode": "markers",
           "name": "Myanmar",
           "orientation": "v",
           "showlegend": true,
           "type": "scatter",
           "x": [
            465294
           ],
           "xaxis": "x",
           "y": [
            581
           ],
           "yaxis": "y"
          },
          {
           "hovertemplate": "<b>%{hovertext}</b><br><br>Country=Nepal<br>Year=2011<br>No. of cases=%{marker.size}<br>No. of deaths=%{y}<extra></extra>",
           "hovertext": [
            "Nepal"
           ],
           "ids": [
            "Nepal"
           ],
           "legendgroup": "Nepal",
           "marker": {
            "color": "#19d3f3",
            "size": [
             3414
            ],
            "sizemode": "area",
            "sizeref": 689.4161983471074,
            "symbol": "circle"
           },
           "mode": "markers",
           "name": "Nepal",
           "orientation": "v",
           "showlegend": true,
           "type": "scatter",
           "x": [
            3414
           ],
           "xaxis": "x",
           "y": [
            2
           ],
           "yaxis": "y"
          },
          {
           "hovertemplate": "<b>%{hovertext}</b><br><br>Country=Sri Lanka<br>Year=2011<br>No. of cases=%{marker.size}<br>No. of deaths=%{y}<extra></extra>",
           "hovertext": [
            "Sri Lanka"
           ],
           "ids": [
            "Sri Lanka"
           ],
           "legendgroup": "Sri Lanka",
           "marker": {
            "color": "#FF6692",
            "size": [
             124
            ],
            "sizemode": "area",
            "sizeref": 689.4161983471074,
            "symbol": "circle"
           },
           "mode": "markers",
           "name": "Sri Lanka",
           "orientation": "v",
           "showlegend": true,
           "type": "scatter",
           "x": [
            124
           ],
           "xaxis": "x",
           "y": [
            0
           ],
           "yaxis": "y"
          },
          {
           "hovertemplate": "<b>%{hovertext}</b><br><br>Country=Thailand<br>Year=2011<br>No. of cases=%{marker.size}<br>No. of deaths=%{y}<extra></extra>",
           "hovertext": [
            "Thailand"
           ],
           "ids": [
            "Thailand"
           ],
           "legendgroup": "Thailand",
           "marker": {
            "color": "#B6E880",
            "size": [
             24897
            ],
            "sizemode": "area",
            "sizeref": 689.4161983471074,
            "symbol": "circle"
           },
           "mode": "markers",
           "name": "Thailand",
           "orientation": "v",
           "showlegend": true,
           "type": "scatter",
           "x": [
            24897
           ],
           "xaxis": "x",
           "y": [
            43
           ],
           "yaxis": "y"
          },
          {
           "hovertemplate": "<b>%{hovertext}</b><br><br>Country=Timor-Leste<br>Year=2011<br>No. of cases=%{marker.size}<br>No. of deaths=%{y}<extra></extra>",
           "hovertext": [
            "Timor-Leste"
           ],
           "ids": [
            "Timor-Leste"
           ],
           "legendgroup": "Timor-Leste",
           "marker": {
            "color": "#FF97FF",
            "size": [
             19739
            ],
            "sizemode": "area",
            "sizeref": 689.4161983471074,
            "symbol": "circle"
           },
           "mode": "markers",
           "name": "Timor-Leste",
           "orientation": "v",
           "showlegend": true,
           "type": "scatter",
           "x": [
            19739
           ],
           "xaxis": "x",
           "y": [
            16
           ],
           "yaxis": "y"
          }
         ],
         "name": "2011"
        },
        {
         "data": [
          {
           "hovertemplate": "<b>%{hovertext}</b><br><br>Country=Bangladesh<br>Year=2012<br>No. of cases=%{marker.size}<br>No. of deaths=%{y}<extra></extra>",
           "hovertext": [
            "Bangladesh"
           ],
           "ids": [
            "Bangladesh"
           ],
           "legendgroup": "Bangladesh",
           "marker": {
            "color": "#636efa",
            "size": [
             9901
            ],
            "sizemode": "area",
            "sizeref": 689.4161983471074,
            "symbol": "circle"
           },
           "mode": "markers",
           "name": "Bangladesh",
           "orientation": "v",
           "showlegend": true,
           "type": "scatter",
           "x": [
            9901
           ],
           "xaxis": "x",
           "y": [
            11
           ],
           "yaxis": "y"
          },
          {
           "hovertemplate": "<b>%{hovertext}</b><br><br>Country=Bhutan<br>Year=2012<br>No. of cases=%{marker.size}<br>No. of deaths=%{y}<extra></extra>",
           "hovertext": [
            "Bhutan"
           ],
           "ids": [
            "Bhutan"
           ],
           "legendgroup": "Bhutan",
           "marker": {
            "color": "#EF553B",
            "size": [
             14792
            ],
            "sizemode": "area",
            "sizeref": 689.4161983471074,
            "symbol": "circle"
           },
           "mode": "markers",
           "name": "Bhutan",
           "orientation": "v",
           "showlegend": true,
           "type": "scatter",
           "x": [
            14792
           ],
           "xaxis": "x",
           "y": [
            1
           ],
           "yaxis": "y"
          },
          {
           "hovertemplate": "<b>%{hovertext}</b><br><br>Country=India<br>Year=2012<br>No. of cases=%{marker.size}<br>No. of deaths=%{y}<extra></extra>",
           "hovertext": [
            "India"
           ],
           "ids": [
            "India"
           ],
           "legendgroup": "India",
           "marker": {
            "color": "#00cc96",
            "size": [
             1067824
            ],
            "sizemode": "area",
            "sizeref": 689.4161983471074,
            "symbol": "circle"
           },
           "mode": "markers",
           "name": "India",
           "orientation": "v",
           "showlegend": true,
           "type": "scatter",
           "x": [
            1067824
           ],
           "xaxis": "x",
           "y": [
            519
           ],
           "yaxis": "y"
          },
          {
           "hovertemplate": "<b>%{hovertext}</b><br><br>Country=Indonesia<br>Year=2012<br>No. of cases=%{marker.size}<br>No. of deaths=%{y}<extra></extra>",
           "hovertext": [
            "Indonesia"
           ],
           "ids": [
            "Indonesia"
           ],
           "legendgroup": "Indonesia",
           "marker": {
            "color": "#ab63fa",
            "size": [
             417819
            ],
            "sizemode": "area",
            "sizeref": 689.4161983471074,
            "symbol": "circle"
           },
           "mode": "markers",
           "name": "Indonesia",
           "orientation": "v",
           "showlegend": true,
           "type": "scatter",
           "x": [
            417819
           ],
           "xaxis": "x",
           "y": [
            252
           ],
           "yaxis": "y"
          },
          {
           "hovertemplate": "<b>%{hovertext}</b><br><br>Country=Myanmar<br>Year=2012<br>No. of cases=%{marker.size}<br>No. of deaths=%{y}<extra></extra>",
           "hovertext": [
            "Myanmar"
           ],
           "ids": [
            "Myanmar"
           ],
           "legendgroup": "Myanmar",
           "marker": {
            "color": "#FFA15A",
            "size": [
             480586
            ],
            "sizemode": "area",
            "sizeref": 689.4161983471074,
            "symbol": "circle"
           },
           "mode": "markers",
           "name": "Myanmar",
           "orientation": "v",
           "showlegend": true,
           "type": "scatter",
           "x": [
            480586
           ],
           "xaxis": "x",
           "y": [
            403
           ],
           "yaxis": "y"
          },
          {
           "hovertemplate": "<b>%{hovertext}</b><br><br>Country=Nepal<br>Year=2012<br>No. of cases=%{marker.size}<br>No. of deaths=%{y}<extra></extra>",
           "hovertext": [
            "Nepal"
           ],
           "ids": [
            "Nepal"
           ],
           "legendgroup": "Nepal",
           "marker": {
            "color": "#19d3f3",
            "size": [
             2092
            ],
            "sizemode": "area",
            "sizeref": 689.4161983471074,
            "symbol": "circle"
           },
           "mode": "markers",
           "name": "Nepal",
           "orientation": "v",
           "showlegend": true,
           "type": "scatter",
           "x": [
            2092
           ],
           "xaxis": "x",
           "y": [
            0
           ],
           "yaxis": "y"
          },
          {
           "hovertemplate": "<b>%{hovertext}</b><br><br>Country=Sri Lanka<br>Year=2012<br>No. of cases=%{marker.size}<br>No. of deaths=%{y}<extra></extra>",
           "hovertext": [
            "Sri Lanka"
           ],
           "ids": [
            "Sri Lanka"
           ],
           "legendgroup": "Sri Lanka",
           "marker": {
            "color": "#FF6692",
            "size": [
             23
            ],
            "sizemode": "area",
            "sizeref": 689.4161983471074,
            "symbol": "circle"
           },
           "mode": "markers",
           "name": "Sri Lanka",
           "orientation": "v",
           "showlegend": true,
           "type": "scatter",
           "x": [
            23
           ],
           "xaxis": "x",
           "y": [
            0
           ],
           "yaxis": "y"
          },
          {
           "hovertemplate": "<b>%{hovertext}</b><br><br>Country=Thailand<br>Year=2012<br>No. of cases=%{marker.size}<br>No. of deaths=%{y}<extra></extra>",
           "hovertext": [
            "Thailand"
           ],
           "ids": [
            "Thailand"
           ],
           "legendgroup": "Thailand",
           "marker": {
            "color": "#B6E880",
            "size": [
             32569
            ],
            "sizemode": "area",
            "sizeref": 689.4161983471074,
            "symbol": "circle"
           },
           "mode": "markers",
           "name": "Thailand",
           "orientation": "v",
           "showlegend": true,
           "type": "scatter",
           "x": [
            32569
           ],
           "xaxis": "x",
           "y": [
            37
           ],
           "yaxis": "y"
          },
          {
           "hovertemplate": "<b>%{hovertext}</b><br><br>Country=Timor-Leste<br>Year=2012<br>No. of cases=%{marker.size}<br>No. of deaths=%{y}<extra></extra>",
           "hovertext": [
            "Timor-Leste"
           ],
           "ids": [
            "Timor-Leste"
           ],
           "legendgroup": "Timor-Leste",
           "marker": {
            "color": "#FF97FF",
            "size": [
             5211
            ],
            "sizemode": "area",
            "sizeref": 689.4161983471074,
            "symbol": "circle"
           },
           "mode": "markers",
           "name": "Timor-Leste",
           "orientation": "v",
           "showlegend": true,
           "type": "scatter",
           "x": [
            5211
           ],
           "xaxis": "x",
           "y": [
            3
           ],
           "yaxis": "y"
          }
         ],
         "name": "2012"
        },
        {
         "data": [
          {
           "hovertemplate": "<b>%{hovertext}</b><br><br>Country=Bangladesh<br>Year=2013<br>No. of cases=%{marker.size}<br>No. of deaths=%{y}<extra></extra>",
           "hovertext": [
            "Bangladesh"
           ],
           "ids": [
            "Bangladesh"
           ],
           "legendgroup": "Bangladesh",
           "marker": {
            "color": "#636efa",
            "size": [
             3864
            ],
            "sizemode": "area",
            "sizeref": 689.4161983471074,
            "symbol": "circle"
           },
           "mode": "markers",
           "name": "Bangladesh",
           "orientation": "v",
           "showlegend": true,
           "type": "scatter",
           "x": [
            3864
           ],
           "xaxis": "x",
           "y": [
            15
           ],
           "yaxis": "y"
          },
          {
           "hovertemplate": "<b>%{hovertext}</b><br><br>Country=Bhutan<br>Year=2013<br>No. of cases=%{marker.size}<br>No. of deaths=%{y}<extra></extra>",
           "hovertext": [
            "Bhutan"
           ],
           "ids": [
            "Bhutan"
           ],
           "legendgroup": "Bhutan",
           "marker": {
            "color": "#EF553B",
            "size": [
             15
            ],
            "sizemode": "area",
            "sizeref": 689.4161983471074,
            "symbol": "circle"
           },
           "mode": "markers",
           "name": "Bhutan",
           "orientation": "v",
           "showlegend": true,
           "type": "scatter",
           "x": [
            15
           ],
           "xaxis": "x",
           "y": [
            0
           ],
           "yaxis": "y"
          },
          {
           "hovertemplate": "<b>%{hovertext}</b><br><br>Country=India<br>Year=2013<br>No. of cases=%{marker.size}<br>No. of deaths=%{y}<extra></extra>",
           "hovertext": [
            "India"
           ],
           "ids": [
            "India"
           ],
           "legendgroup": "India",
           "marker": {
            "color": "#00cc96",
            "size": [
             881730
            ],
            "sizemode": "area",
            "sizeref": 689.4161983471074,
            "symbol": "circle"
           },
           "mode": "markers",
           "name": "India",
           "orientation": "v",
           "showlegend": true,
           "type": "scatter",
           "x": [
            881730
           ],
           "xaxis": "x",
           "y": [
            440
           ],
           "yaxis": "y"
          },
          {
           "hovertemplate": "<b>%{hovertext}</b><br><br>Country=Indonesia<br>Year=2013<br>No. of cases=%{marker.size}<br>No. of deaths=%{y}<extra></extra>",
           "hovertext": [
            "Indonesia"
           ],
           "ids": [
            "Indonesia"
           ],
           "legendgroup": "Indonesia",
           "marker": {
            "color": "#ab63fa",
            "size": [
             343527
            ],
            "sizemode": "area",
            "sizeref": 689.4161983471074,
            "symbol": "circle"
           },
           "mode": "markers",
           "name": "Indonesia",
           "orientation": "v",
           "showlegend": true,
           "type": "scatter",
           "x": [
            343527
           ],
           "xaxis": "x",
           "y": [
            385
           ],
           "yaxis": "y"
          },
          {
           "hovertemplate": "<b>%{hovertext}</b><br><br>Country=Myanmar<br>Year=2013<br>No. of cases=%{marker.size}<br>No. of deaths=%{y}<extra></extra>",
           "hovertext": [
            "Myanmar"
           ],
           "ids": [
            "Myanmar"
           ],
           "legendgroup": "Myanmar",
           "marker": {
            "color": "#FFA15A",
            "size": [
             333871
            ],
            "sizemode": "area",
            "sizeref": 689.4161983471074,
            "symbol": "circle"
           },
           "mode": "markers",
           "name": "Myanmar",
           "orientation": "v",
           "showlegend": true,
           "type": "scatter",
           "x": [
            333871
           ],
           "xaxis": "x",
           "y": [
            236
           ],
           "yaxis": "y"
          },
          {
           "hovertemplate": "<b>%{hovertext}</b><br><br>Country=Nepal<br>Year=2013<br>No. of cases=%{marker.size}<br>No. of deaths=%{y}<extra></extra>",
           "hovertext": [
            "Nepal"
           ],
           "ids": [
            "Nepal"
           ],
           "legendgroup": "Nepal",
           "marker": {
            "color": "#19d3f3",
            "size": [
             1974
            ],
            "sizemode": "area",
            "sizeref": 689.4161983471074,
            "symbol": "circle"
           },
           "mode": "markers",
           "name": "Nepal",
           "orientation": "v",
           "showlegend": true,
           "type": "scatter",
           "x": [
            1974
           ],
           "xaxis": "x",
           "y": [
            0
           ],
           "yaxis": "y"
          },
          {
           "hovertemplate": "<b>%{hovertext}</b><br><br>Country=Sri Lanka<br>Year=2013<br>No. of cases=%{marker.size}<br>No. of deaths=%{y}<extra></extra>",
           "hovertext": [
            "Sri Lanka"
           ],
           "ids": [
            "Sri Lanka"
           ],
           "legendgroup": "Sri Lanka",
           "marker": {
            "color": "#FF6692",
            "size": [
             0
            ],
            "sizemode": "area",
            "sizeref": 689.4161983471074,
            "symbol": "circle"
           },
           "mode": "markers",
           "name": "Sri Lanka",
           "orientation": "v",
           "showlegend": true,
           "type": "scatter",
           "x": [
            0
           ],
           "xaxis": "x",
           "y": [
            0
           ],
           "yaxis": "y"
          },
          {
           "hovertemplate": "<b>%{hovertext}</b><br><br>Country=Thailand<br>Year=2013<br>No. of cases=%{marker.size}<br>No. of deaths=%{y}<extra></extra>",
           "hovertext": [
            "Thailand"
           ],
           "ids": [
            "Thailand"
           ],
           "legendgroup": "Thailand",
           "marker": {
            "color": "#B6E880",
            "size": [
             33302
            ],
            "sizemode": "area",
            "sizeref": 689.4161983471074,
            "symbol": "circle"
           },
           "mode": "markers",
           "name": "Thailand",
           "orientation": "v",
           "showlegend": true,
           "type": "scatter",
           "x": [
            33302
           ],
           "xaxis": "x",
           "y": [
            47
           ],
           "yaxis": "y"
          },
          {
           "hovertemplate": "<b>%{hovertext}</b><br><br>Country=Timor-Leste<br>Year=2013<br>No. of cases=%{marker.size}<br>No. of deaths=%{y}<extra></extra>",
           "hovertext": [
            "Timor-Leste"
           ],
           "ids": [
            "Timor-Leste"
           ],
           "legendgroup": "Timor-Leste",
           "marker": {
            "color": "#FF97FF",
            "size": [
             1025
            ],
            "sizemode": "area",
            "sizeref": 689.4161983471074,
            "symbol": "circle"
           },
           "mode": "markers",
           "name": "Timor-Leste",
           "orientation": "v",
           "showlegend": true,
           "type": "scatter",
           "x": [
            1025
           ],
           "xaxis": "x",
           "y": [
            3
           ],
           "yaxis": "y"
          }
         ],
         "name": "2013"
        },
        {
         "data": [
          {
           "hovertemplate": "<b>%{hovertext}</b><br><br>Country=Bangladesh<br>Year=2014<br>No. of cases=%{marker.size}<br>No. of deaths=%{y}<extra></extra>",
           "hovertext": [
            "Bangladesh"
           ],
           "ids": [
            "Bangladesh"
           ],
           "legendgroup": "Bangladesh",
           "marker": {
            "color": "#636efa",
            "size": [
             10216
            ],
            "sizemode": "area",
            "sizeref": 689.4161983471074,
            "symbol": "circle"
           },
           "mode": "markers",
           "name": "Bangladesh",
           "orientation": "v",
           "showlegend": true,
           "type": "scatter",
           "x": [
            10216
           ],
           "xaxis": "x",
           "y": [
            45
           ],
           "yaxis": "y"
          },
          {
           "hovertemplate": "<b>%{hovertext}</b><br><br>Country=Bhutan<br>Year=2014<br>No. of cases=%{marker.size}<br>No. of deaths=%{y}<extra></extra>",
           "hovertext": [
            "Bhutan"
           ],
           "ids": [
            "Bhutan"
           ],
           "legendgroup": "Bhutan",
           "marker": {
            "color": "#EF553B",
            "size": [
             19
            ],
            "sizemode": "area",
            "sizeref": 689.4161983471074,
            "symbol": "circle"
           },
           "mode": "markers",
           "name": "Bhutan",
           "orientation": "v",
           "showlegend": true,
           "type": "scatter",
           "x": [
            19
           ],
           "xaxis": "x",
           "y": [
            0
           ],
           "yaxis": "y"
          },
          {
           "hovertemplate": "<b>%{hovertext}</b><br><br>Country=India<br>Year=2014<br>No. of cases=%{marker.size}<br>No. of deaths=%{y}<extra></extra>",
           "hovertext": [
            "India"
           ],
           "ids": [
            "India"
           ],
           "legendgroup": "India",
           "marker": {
            "color": "#00cc96",
            "size": [
             1102205
            ],
            "sizemode": "area",
            "sizeref": 689.4161983471074,
            "symbol": "circle"
           },
           "mode": "markers",
           "name": "India",
           "orientation": "v",
           "showlegend": true,
           "type": "scatter",
           "x": [
            1102205
           ],
           "xaxis": "x",
           "y": [
            562
           ],
           "yaxis": "y"
          },
          {
           "hovertemplate": "<b>%{hovertext}</b><br><br>Country=Indonesia<br>Year=2014<br>No. of cases=%{marker.size}<br>No. of deaths=%{y}<extra></extra>",
           "hovertext": [
            "Indonesia"
           ],
           "ids": [
            "Indonesia"
           ],
           "legendgroup": "Indonesia",
           "marker": {
            "color": "#ab63fa",
            "size": [
             252027
            ],
            "sizemode": "area",
            "sizeref": 689.4161983471074,
            "symbol": "circle"
           },
           "mode": "markers",
           "name": "Indonesia",
           "orientation": "v",
           "showlegend": true,
           "type": "scatter",
           "x": [
            252027
           ],
           "xaxis": "x",
           "y": [
            217
           ],
           "yaxis": "y"
          },
          {
           "hovertemplate": "<b>%{hovertext}</b><br><br>Country=Myanmar<br>Year=2014<br>No. of cases=%{marker.size}<br>No. of deaths=%{y}<extra></extra>",
           "hovertext": [
            "Myanmar"
           ],
           "ids": [
            "Myanmar"
           ],
           "legendgroup": "Myanmar",
           "marker": {
            "color": "#FFA15A",
            "size": [
             205658
            ],
            "sizemode": "area",
            "sizeref": 689.4161983471074,
            "symbol": "circle"
           },
           "mode": "markers",
           "name": "Myanmar",
           "orientation": "v",
           "showlegend": true,
           "type": "scatter",
           "x": [
            205658
           ],
           "xaxis": "x",
           "y": [
            92
           ],
           "yaxis": "y"
          },
          {
           "hovertemplate": "<b>%{hovertext}</b><br><br>Country=Nepal<br>Year=2014<br>No. of cases=%{marker.size}<br>No. of deaths=%{y}<extra></extra>",
           "hovertext": [
            "Nepal"
           ],
           "ids": [
            "Nepal"
           ],
           "legendgroup": "Nepal",
           "marker": {
            "color": "#19d3f3",
            "size": [
             832
            ],
            "sizemode": "area",
            "sizeref": 689.4161983471074,
            "symbol": "circle"
           },
           "mode": "markers",
           "name": "Nepal",
           "orientation": "v",
           "showlegend": true,
           "type": "scatter",
           "x": [
            832
           ],
           "xaxis": "x",
           "y": [
            0
           ],
           "yaxis": "y"
          },
          {
           "hovertemplate": "<b>%{hovertext}</b><br><br>Country=Sri Lanka<br>Year=2014<br>No. of cases=%{marker.size}<br>No. of deaths=%{y}<extra></extra>",
           "hovertext": [
            "Sri Lanka"
           ],
           "ids": [
            "Sri Lanka"
           ],
           "legendgroup": "Sri Lanka",
           "marker": {
            "color": "#FF6692",
            "size": [
             0
            ],
            "sizemode": "area",
            "sizeref": 689.4161983471074,
            "symbol": "circle"
           },
           "mode": "markers",
           "name": "Sri Lanka",
           "orientation": "v",
           "showlegend": true,
           "type": "scatter",
           "x": [
            0
           ],
           "xaxis": "x",
           "y": [
            0
           ],
           "yaxis": "y"
          },
          {
           "hovertemplate": "<b>%{hovertext}</b><br><br>Country=Thailand<br>Year=2014<br>No. of cases=%{marker.size}<br>No. of deaths=%{y}<extra></extra>",
           "hovertext": [
            "Thailand"
           ],
           "ids": [
            "Thailand"
           ],
           "legendgroup": "Thailand",
           "marker": {
            "color": "#B6E880",
            "size": [
             37921
            ],
            "sizemode": "area",
            "sizeref": 689.4161983471074,
            "symbol": "circle"
           },
           "mode": "markers",
           "name": "Thailand",
           "orientation": "v",
           "showlegend": true,
           "type": "scatter",
           "x": [
            37921
           ],
           "xaxis": "x",
           "y": [
            38
           ],
           "yaxis": "y"
          },
          {
           "hovertemplate": "<b>%{hovertext}</b><br><br>Country=Timor-Leste<br>Year=2014<br>No. of cases=%{marker.size}<br>No. of deaths=%{y}<extra></extra>",
           "hovertext": [
            "Timor-Leste"
           ],
           "ids": [
            "Timor-Leste"
           ],
           "legendgroup": "Timor-Leste",
           "marker": {
            "color": "#FF97FF",
            "size": [
             342
            ],
            "sizemode": "area",
            "sizeref": 689.4161983471074,
            "symbol": "circle"
           },
           "mode": "markers",
           "name": "Timor-Leste",
           "orientation": "v",
           "showlegend": true,
           "type": "scatter",
           "x": [
            342
           ],
           "xaxis": "x",
           "y": [
            1
           ],
           "yaxis": "y"
          }
         ],
         "name": "2014"
        },
        {
         "data": [
          {
           "hovertemplate": "<b>%{hovertext}</b><br><br>Country=Bangladesh<br>Year=2015<br>No. of cases=%{marker.size}<br>No. of deaths=%{y}<extra></extra>",
           "hovertext": [
            "Bangladesh"
           ],
           "ids": [
            "Bangladesh"
           ],
           "legendgroup": "Bangladesh",
           "marker": {
            "color": "#636efa",
            "size": [
             6608
            ],
            "sizemode": "area",
            "sizeref": 689.4161983471074,
            "symbol": "circle"
           },
           "mode": "markers",
           "name": "Bangladesh",
           "orientation": "v",
           "showlegend": true,
           "type": "scatter",
           "x": [
            6608
           ],
           "xaxis": "x",
           "y": [
            9
           ],
           "yaxis": "y"
          },
          {
           "hovertemplate": "<b>%{hovertext}</b><br><br>Country=Bhutan<br>Year=2015<br>No. of cases=%{marker.size}<br>No. of deaths=%{y}<extra></extra>",
           "hovertext": [
            "Bhutan"
           ],
           "ids": [
            "Bhutan"
           ],
           "legendgroup": "Bhutan",
           "marker": {
            "color": "#EF553B",
            "size": [
             34
            ],
            "sizemode": "area",
            "sizeref": 689.4161983471074,
            "symbol": "circle"
           },
           "mode": "markers",
           "name": "Bhutan",
           "orientation": "v",
           "showlegend": true,
           "type": "scatter",
           "x": [
            34
           ],
           "xaxis": "x",
           "y": [
            0
           ],
           "yaxis": "y"
          },
          {
           "hovertemplate": "<b>%{hovertext}</b><br><br>Country=India<br>Year=2015<br>No. of cases=%{marker.size}<br>No. of deaths=%{y}<extra></extra>",
           "hovertext": [
            "India"
           ],
           "ids": [
            "India"
           ],
           "legendgroup": "India",
           "marker": {
            "color": "#00cc96",
            "size": [
             1169261
            ],
            "sizemode": "area",
            "sizeref": 689.4161983471074,
            "symbol": "circle"
           },
           "mode": "markers",
           "name": "India",
           "orientation": "v",
           "showlegend": true,
           "type": "scatter",
           "x": [
            1169261
           ],
           "xaxis": "x",
           "y": [
            384
           ],
           "yaxis": "y"
          },
          {
           "hovertemplate": "<b>%{hovertext}</b><br><br>Country=Indonesia<br>Year=2015<br>No. of cases=%{marker.size}<br>No. of deaths=%{y}<extra></extra>",
           "hovertext": [
            "Indonesia"
           ],
           "ids": [
            "Indonesia"
           ],
           "legendgroup": "Indonesia",
           "marker": {
            "color": "#ab63fa",
            "size": [
             217025
            ],
            "sizemode": "area",
            "sizeref": 689.4161983471074,
            "symbol": "circle"
           },
           "mode": "markers",
           "name": "Indonesia",
           "orientation": "v",
           "showlegend": true,
           "type": "scatter",
           "x": [
            217025
           ],
           "xaxis": "x",
           "y": [
            157
           ],
           "yaxis": "y"
          },
          {
           "hovertemplate": "<b>%{hovertext}</b><br><br>Country=Myanmar<br>Year=2015<br>No. of cases=%{marker.size}<br>No. of deaths=%{y}<extra></extra>",
           "hovertext": [
            "Myanmar"
           ],
           "ids": [
            "Myanmar"
           ],
           "legendgroup": "Myanmar",
           "marker": {
            "color": "#FFA15A",
            "size": [
             182768
            ],
            "sizemode": "area",
            "sizeref": 689.4161983471074,
            "symbol": "circle"
           },
           "mode": "markers",
           "name": "Myanmar",
           "orientation": "v",
           "showlegend": true,
           "type": "scatter",
           "x": [
            182768
           ],
           "xaxis": "x",
           "y": [
            37
           ],
           "yaxis": "y"
          },
          {
           "hovertemplate": "<b>%{hovertext}</b><br><br>Country=Nepal<br>Year=2015<br>No. of cases=%{marker.size}<br>No. of deaths=%{y}<extra></extra>",
           "hovertext": [
            "Nepal"
           ],
           "ids": [
            "Nepal"
           ],
           "legendgroup": "Nepal",
           "marker": {
            "color": "#19d3f3",
            "size": [
             591
            ],
            "sizemode": "area",
            "sizeref": 689.4161983471074,
            "symbol": "circle"
           },
           "mode": "markers",
           "name": "Nepal",
           "orientation": "v",
           "showlegend": true,
           "type": "scatter",
           "x": [
            591
           ],
           "xaxis": "x",
           "y": [
            0
           ],
           "yaxis": "y"
          },
          {
           "hovertemplate": "<b>%{hovertext}</b><br><br>Country=Sri Lanka<br>Year=2015<br>No. of cases=%{marker.size}<br>No. of deaths=%{y}<extra></extra>",
           "hovertext": [
            "Sri Lanka"
           ],
           "ids": [
            "Sri Lanka"
           ],
           "legendgroup": "Sri Lanka",
           "marker": {
            "color": "#FF6692",
            "size": [
             0
            ],
            "sizemode": "area",
            "sizeref": 689.4161983471074,
            "symbol": "circle"
           },
           "mode": "markers",
           "name": "Sri Lanka",
           "orientation": "v",
           "showlegend": true,
           "type": "scatter",
           "x": [
            0
           ],
           "xaxis": "x",
           "y": [
            0
           ],
           "yaxis": "y"
          },
          {
           "hovertemplate": "<b>%{hovertext}</b><br><br>Country=Thailand<br>Year=2015<br>No. of cases=%{marker.size}<br>No. of deaths=%{y}<extra></extra>",
           "hovertext": [
            "Thailand"
           ],
           "ids": [
            "Thailand"
           ],
           "legendgroup": "Thailand",
           "marker": {
            "color": "#B6E880",
            "size": [
             8022
            ],
            "sizemode": "area",
            "sizeref": 689.4161983471074,
            "symbol": "circle"
           },
           "mode": "markers",
           "name": "Thailand",
           "orientation": "v",
           "showlegend": true,
           "type": "scatter",
           "x": [
            8022
           ],
           "xaxis": "x",
           "y": [
            33
           ],
           "yaxis": "y"
          },
          {
           "hovertemplate": "<b>%{hovertext}</b><br><br>Country=Timor-Leste<br>Year=2015<br>No. of cases=%{marker.size}<br>No. of deaths=%{y}<extra></extra>",
           "hovertext": [
            "Timor-Leste"
           ],
           "ids": [
            "Timor-Leste"
           ],
           "legendgroup": "Timor-Leste",
           "marker": {
            "color": "#FF97FF",
            "size": [
             80
            ],
            "sizemode": "area",
            "sizeref": 689.4161983471074,
            "symbol": "circle"
           },
           "mode": "markers",
           "name": "Timor-Leste",
           "orientation": "v",
           "showlegend": true,
           "type": "scatter",
           "x": [
            80
           ],
           "xaxis": "x",
           "y": [
            0
           ],
           "yaxis": "y"
          }
         ],
         "name": "2015"
        },
        {
         "data": [
          {
           "hovertemplate": "<b>%{hovertext}</b><br><br>Country=Bangladesh<br>Year=2009<br>No. of cases=%{marker.size}<br>No. of deaths=%{y}<extra></extra>",
           "hovertext": [
            "Bangladesh"
           ],
           "ids": [
            "Bangladesh"
           ],
           "legendgroup": "Bangladesh",
           "marker": {
            "color": "#636efa",
            "size": [
             63873
            ],
            "sizemode": "area",
            "sizeref": 689.4161983471074,
            "symbol": "circle"
           },
           "mode": "markers",
           "name": "Bangladesh",
           "orientation": "v",
           "showlegend": true,
           "type": "scatter",
           "x": [
            63873
           ],
           "xaxis": "x",
           "y": [
            47
           ],
           "yaxis": "y"
          },
          {
           "hovertemplate": "<b>%{hovertext}</b><br><br>Country=Bhutan<br>Year=2009<br>No. of cases=%{marker.size}<br>No. of deaths=%{y}<extra></extra>",
           "hovertext": [
            "Bhutan"
           ],
           "ids": [
            "Bhutan"
           ],
           "legendgroup": "Bhutan",
           "marker": {
            "color": "#EF553B",
            "size": [
             972
            ],
            "sizemode": "area",
            "sizeref": 689.4161983471074,
            "symbol": "circle"
           },
           "mode": "markers",
           "name": "Bhutan",
           "orientation": "v",
           "showlegend": true,
           "type": "scatter",
           "x": [
            972
           ],
           "xaxis": "x",
           "y": [
            4
           ],
           "yaxis": "y"
          },
          {
           "hovertemplate": "<b>%{hovertext}</b><br><br>Country=India<br>Year=2009<br>No. of cases=%{marker.size}<br>No. of deaths=%{y}<extra></extra>",
           "hovertext": [
            "India"
           ],
           "ids": [
            "India"
           ],
           "legendgroup": "India",
           "marker": {
            "color": "#00cc96",
            "size": [
             1563574
            ],
            "sizemode": "area",
            "sizeref": 689.4161983471074,
            "symbol": "circle"
           },
           "mode": "markers",
           "name": "India",
           "orientation": "v",
           "showlegend": true,
           "type": "scatter",
           "x": [
            1563574
           ],
           "xaxis": "x",
           "y": [
            1144
           ],
           "yaxis": "y"
          },
          {
           "hovertemplate": "<b>%{hovertext}</b><br><br>Country=Indonesia<br>Year=2009<br>No. of cases=%{marker.size}<br>No. of deaths=%{y}<extra></extra>",
           "hovertext": [
            "Indonesia"
           ],
           "ids": [
            "Indonesia"
           ],
           "legendgroup": "Indonesia",
           "marker": {
            "color": "#ab63fa",
            "size": [
             272491
            ],
            "sizemode": "area",
            "sizeref": 689.4161983471074,
            "symbol": "circle"
           },
           "mode": "markers",
           "name": "Indonesia",
           "orientation": "v",
           "showlegend": true,
           "type": "scatter",
           "x": [
            272491
           ],
           "xaxis": "x",
           "y": [
            900
           ],
           "yaxis": "y"
          },
          {
           "hovertemplate": "<b>%{hovertext}</b><br><br>Country=Myanmar<br>Year=2009<br>No. of cases=%{marker.size}<br>No. of deaths=%{y}<extra></extra>",
           "hovertext": [
            "Myanmar"
           ],
           "ids": [
            "Myanmar"
           ],
           "legendgroup": "Myanmar",
           "marker": {
            "color": "#FFA15A",
            "size": [
             436068
            ],
            "sizemode": "area",
            "sizeref": 689.4161983471074,
            "symbol": "circle"
           },
           "mode": "markers",
           "name": "Myanmar",
           "orientation": "v",
           "showlegend": true,
           "type": "scatter",
           "x": [
            436068
           ],
           "xaxis": "x",
           "y": [
            972
           ],
           "yaxis": "y"
          },
          {
           "hovertemplate": "<b>%{hovertext}</b><br><br>Country=Nepal<br>Year=2009<br>No. of cases=%{marker.size}<br>No. of deaths=%{y}<extra></extra>",
           "hovertext": [
            "Nepal"
           ],
           "ids": [
            "Nepal"
           ],
           "legendgroup": "Nepal",
           "marker": {
            "color": "#19d3f3",
            "size": [
             3335
            ],
            "sizemode": "area",
            "sizeref": 689.4161983471074,
            "symbol": "circle"
           },
           "mode": "markers",
           "name": "Nepal",
           "orientation": "v",
           "showlegend": true,
           "type": "scatter",
           "x": [
            3335
           ],
           "xaxis": "x",
           "y": [
            8
           ],
           "yaxis": "y"
          },
          {
           "hovertemplate": "<b>%{hovertext}</b><br><br>Country=Sri Lanka<br>Year=2009<br>No. of cases=%{marker.size}<br>No. of deaths=%{y}<extra></extra>",
           "hovertext": [
            "Sri Lanka"
           ],
           "ids": [
            "Sri Lanka"
           ],
           "legendgroup": "Sri Lanka",
           "marker": {
            "color": "#FF6692",
            "size": [
             531
            ],
            "sizemode": "area",
            "sizeref": 689.4161983471074,
            "symbol": "circle"
           },
           "mode": "markers",
           "name": "Sri Lanka",
           "orientation": "v",
           "showlegend": true,
           "type": "scatter",
           "x": [
            531
           ],
           "xaxis": "x",
           "y": [
            0
           ],
           "yaxis": "y"
          },
          {
           "hovertemplate": "<b>%{hovertext}</b><br><br>Country=Thailand<br>Year=2009<br>No. of cases=%{marker.size}<br>No. of deaths=%{y}<extra></extra>",
           "hovertext": [
            "Thailand"
           ],
           "ids": [
            "Thailand"
           ],
           "legendgroup": "Thailand",
           "marker": {
            "color": "#B6E880",
            "size": [
             29462
            ],
            "sizemode": "area",
            "sizeref": 689.4161983471074,
            "symbol": "circle"
           },
           "mode": "markers",
           "name": "Thailand",
           "orientation": "v",
           "showlegend": true,
           "type": "scatter",
           "x": [
            29462
           ],
           "xaxis": "x",
           "y": [
            70
           ],
           "yaxis": "y"
          },
          {
           "hovertemplate": "<b>%{hovertext}</b><br><br>Country=Timor-Leste<br>Year=2009<br>No. of cases=%{marker.size}<br>No. of deaths=%{y}<extra></extra>",
           "hovertext": [
            "Timor-Leste"
           ],
           "ids": [
            "Timor-Leste"
           ],
           "legendgroup": "Timor-Leste",
           "marker": {
            "color": "#FF97FF",
            "size": [
             47527
            ],
            "sizemode": "area",
            "sizeref": 689.4161983471074,
            "symbol": "circle"
           },
           "mode": "markers",
           "name": "Timor-Leste",
           "orientation": "v",
           "showlegend": true,
           "type": "scatter",
           "x": [
            47527
           ],
           "xaxis": "x",
           "y": [
            53
           ],
           "yaxis": "y"
          }
         ],
         "name": "2009"
        },
        {
         "data": [
          {
           "hovertemplate": "<b>%{hovertext}</b><br><br>Country=Bangladesh<br>Year=2001<br>No. of cases=%{marker.size}<br>No. of deaths=%{y}<extra></extra>",
           "hovertext": [
            "Bangladesh"
           ],
           "ids": [
            "Bangladesh"
           ],
           "legendgroup": "Bangladesh",
           "marker": {
            "color": "#636efa",
            "size": [
             54216
            ],
            "sizemode": "area",
            "sizeref": 689.4161983471074,
            "symbol": "circle"
           },
           "mode": "markers",
           "name": "Bangladesh",
           "orientation": "v",
           "showlegend": true,
           "type": "scatter",
           "x": [
            54216
           ],
           "xaxis": "x",
           "y": [
            470
           ],
           "yaxis": "y"
          },
          {
           "hovertemplate": "<b>%{hovertext}</b><br><br>Country=Bhutan<br>Year=2001<br>No. of cases=%{marker.size}<br>No. of deaths=%{y}<extra></extra>",
           "hovertext": [
            "Bhutan"
           ],
           "ids": [
            "Bhutan"
           ],
           "legendgroup": "Bhutan",
           "marker": {
            "color": "#EF553B",
            "size": [
             5982
            ],
            "sizemode": "area",
            "sizeref": 689.4161983471074,
            "symbol": "circle"
           },
           "mode": "markers",
           "name": "Bhutan",
           "orientation": "v",
           "showlegend": true,
           "type": "scatter",
           "x": [
            5982
           ],
           "xaxis": "x",
           "y": [
            14
           ],
           "yaxis": "y"
          },
          {
           "hovertemplate": "<b>%{hovertext}</b><br><br>Country=India<br>Year=2001<br>No. of cases=%{marker.size}<br>No. of deaths=%{y}<extra></extra>",
           "hovertext": [
            "India"
           ],
           "ids": [
            "India"
           ],
           "legendgroup": "India",
           "marker": {
            "color": "#00cc96",
            "size": [
             2085484
            ],
            "sizemode": "area",
            "sizeref": 689.4161983471074,
            "symbol": "circle"
           },
           "mode": "markers",
           "name": "India",
           "orientation": "v",
           "showlegend": true,
           "type": "scatter",
           "x": [
            2085484
           ],
           "xaxis": "x",
           "y": [
            1015
           ],
           "yaxis": "y"
          },
          {
           "hovertemplate": "<b>%{hovertext}</b><br><br>Country=Indonesia<br>Year=2001<br>No. of cases=%{marker.size}<br>No. of deaths=%{y}<extra></extra>",
           "hovertext": [
            "Indonesia"
           ],
           "ids": [
            "Indonesia"
           ],
           "legendgroup": "Indonesia",
           "marker": {
            "color": "#ab63fa",
            "size": [
             267592
            ],
            "sizemode": "area",
            "sizeref": 689.4161983471074,
            "symbol": "circle"
           },
           "mode": "markers",
           "name": "Indonesia",
           "orientation": "v",
           "showlegend": true,
           "type": "scatter",
           "x": [
            267592
           ],
           "xaxis": "x",
           "y": [
            30
           ],
           "yaxis": "y"
          },
          {
           "hovertemplate": "<b>%{hovertext}</b><br><br>Country=Myanmar<br>Year=2001<br>No. of cases=%{marker.size}<br>No. of deaths=%{y}<extra></extra>",
           "hovertext": [
            "Myanmar"
           ],
           "ids": [
            "Myanmar"
           ],
           "legendgroup": "Myanmar",
           "marker": {
            "color": "#FFA15A",
            "size": [
             170502
            ],
            "sizemode": "area",
            "sizeref": 689.4161983471074,
            "symbol": "circle"
           },
           "mode": "markers",
           "name": "Myanmar",
           "orientation": "v",
           "showlegend": true,
           "type": "scatter",
           "x": [
            170502
           ],
           "xaxis": "x",
           "y": [
            2814
           ],
           "yaxis": "y"
          },
          {
           "hovertemplate": "<b>%{hovertext}</b><br><br>Country=Nepal<br>Year=2001<br>No. of cases=%{marker.size}<br>No. of deaths=%{y}<extra></extra>",
           "hovertext": [
            "Nepal"
           ],
           "ids": [
            "Nepal"
           ],
           "legendgroup": "Nepal",
           "marker": {
            "color": "#19d3f3",
            "size": [
             6396
            ],
            "sizemode": "area",
            "sizeref": 689.4161983471074,
            "symbol": "circle"
           },
           "mode": "markers",
           "name": "Nepal",
           "orientation": "v",
           "showlegend": true,
           "type": "scatter",
           "x": [
            6396
           ],
           "xaxis": "x",
           "y": [
            1
           ],
           "yaxis": "y"
          },
          {
           "hovertemplate": "<b>%{hovertext}</b><br><br>Country=Sri Lanka<br>Year=2001<br>No. of cases=%{marker.size}<br>No. of deaths=%{y}<extra></extra>",
           "hovertext": [
            "Sri Lanka"
           ],
           "ids": [
            "Sri Lanka"
           ],
           "legendgroup": "Sri Lanka",
           "marker": {
            "color": "#FF6692",
            "size": [
             66522
            ],
            "sizemode": "area",
            "sizeref": 689.4161983471074,
            "symbol": "circle"
           },
           "mode": "markers",
           "name": "Sri Lanka",
           "orientation": "v",
           "showlegend": true,
           "type": "scatter",
           "x": [
            66522
           ],
           "xaxis": "x",
           "y": [
            52
           ],
           "yaxis": "y"
          },
          {
           "hovertemplate": "<b>%{hovertext}</b><br><br>Country=Thailand<br>Year=2001<br>No. of cases=%{marker.size}<br>No. of deaths=%{y}<extra></extra>",
           "hovertext": [
            "Thailand"
           ],
           "ids": [
            "Thailand"
           ],
           "legendgroup": "Thailand",
           "marker": {
            "color": "#B6E880",
            "size": [
             63528
            ],
            "sizemode": "area",
            "sizeref": 689.4161983471074,
            "symbol": "circle"
           },
           "mode": "markers",
           "name": "Thailand",
           "orientation": "v",
           "showlegend": true,
           "type": "scatter",
           "x": [
            63528
           ],
           "xaxis": "x",
           "y": [
            424
           ],
           "yaxis": "y"
          },
          {
           "hovertemplate": "<b>%{hovertext}</b><br><br>Country=Timor-Leste<br>Year=2001<br>No. of cases=%{marker.size}<br>No. of deaths=%{y}<extra></extra>",
           "hovertext": [
            "Timor-Leste"
           ],
           "ids": [
            "Timor-Leste"
           ],
           "legendgroup": "Timor-Leste",
           "marker": {
            "color": "#FF97FF",
            "size": [
             14792
            ],
            "sizemode": "area",
            "sizeref": 689.4161983471074,
            "symbol": "circle"
           },
           "mode": "markers",
           "name": "Timor-Leste",
           "orientation": "v",
           "showlegend": true,
           "type": "scatter",
           "x": [
            14792
           ],
           "xaxis": "x",
           "y": [
            30
           ],
           "yaxis": "y"
          }
         ],
         "name": "2001"
        },
        {
         "data": [
          {
           "hovertemplate": "<b>%{hovertext}</b><br><br>Country=Bangladesh<br>Year=2016<br>No. of cases=%{marker.size}<br>No. of deaths=%{y}<extra></extra>",
           "hovertext": [
            "Bangladesh"
           ],
           "ids": [
            "Bangladesh"
           ],
           "legendgroup": "Bangladesh",
           "marker": {
            "color": "#636efa",
            "size": [
             4787
            ],
            "sizemode": "area",
            "sizeref": 689.4161983471074,
            "symbol": "circle"
           },
           "mode": "markers",
           "name": "Bangladesh",
           "orientation": "v",
           "showlegend": true,
           "type": "scatter",
           "x": [
            4787
           ],
           "xaxis": "x",
           "y": [
            17
           ],
           "yaxis": "y"
          },
          {
           "hovertemplate": "<b>%{hovertext}</b><br><br>Country=Bhutan<br>Year=2016<br>No. of cases=%{marker.size}<br>No. of deaths=%{y}<extra></extra>",
           "hovertext": [
            "Bhutan"
           ],
           "ids": [
            "Bhutan"
           ],
           "legendgroup": "Bhutan",
           "marker": {
            "color": "#EF553B",
            "size": [
             15
            ],
            "sizemode": "area",
            "sizeref": 689.4161983471074,
            "symbol": "circle"
           },
           "mode": "markers",
           "name": "Bhutan",
           "orientation": "v",
           "showlegend": true,
           "type": "scatter",
           "x": [
            15
           ],
           "xaxis": "x",
           "y": [
            0
           ],
           "yaxis": "y"
          },
          {
           "hovertemplate": "<b>%{hovertext}</b><br><br>Country=India<br>Year=2016<br>No. of cases=%{marker.size}<br>No. of deaths=%{y}<extra></extra>",
           "hovertext": [
            "India"
           ],
           "ids": [
            "India"
           ],
           "legendgroup": "India",
           "marker": {
            "color": "#00cc96",
            "size": [
             1087285
            ],
            "sizemode": "area",
            "sizeref": 689.4161983471074,
            "symbol": "circle"
           },
           "mode": "markers",
           "name": "India",
           "orientation": "v",
           "showlegend": true,
           "type": "scatter",
           "x": [
            1087285
           ],
           "xaxis": "x",
           "y": [
            331
           ],
           "yaxis": "y"
          },
          {
           "hovertemplate": "<b>%{hovertext}</b><br><br>Country=Indonesia<br>Year=2016<br>No. of cases=%{marker.size}<br>No. of deaths=%{y}<extra></extra>",
           "hovertext": [
            "Indonesia"
           ],
           "ids": [
            "Indonesia"
           ],
           "legendgroup": "Indonesia",
           "marker": {
            "color": "#ab63fa",
            "size": [
             218450
            ],
            "sizemode": "area",
            "sizeref": 689.4161983471074,
            "symbol": "circle"
           },
           "mode": "markers",
           "name": "Indonesia",
           "orientation": "v",
           "showlegend": true,
           "type": "scatter",
           "x": [
            218450
           ],
           "xaxis": "x",
           "y": [
            161
           ],
           "yaxis": "y"
          },
          {
           "hovertemplate": "<b>%{hovertext}</b><br><br>Country=Myanmar<br>Year=2016<br>No. of cases=%{marker.size}<br>No. of deaths=%{y}<extra></extra>",
           "hovertext": [
            "Myanmar"
           ],
           "ids": [
            "Myanmar"
           ],
           "legendgroup": "Myanmar",
           "marker": {
            "color": "#FFA15A",
            "size": [
             110146
            ],
            "sizemode": "area",
            "sizeref": 689.4161983471074,
            "symbol": "circle"
           },
           "mode": "markers",
           "name": "Myanmar",
           "orientation": "v",
           "showlegend": true,
           "type": "scatter",
           "x": [
            110146
           ],
           "xaxis": "x",
           "y": [
            21
           ],
           "yaxis": "y"
          },
          {
           "hovertemplate": "<b>%{hovertext}</b><br><br>Country=Nepal<br>Year=2016<br>No. of cases=%{marker.size}<br>No. of deaths=%{y}<extra></extra>",
           "hovertext": [
            "Nepal"
           ],
           "ids": [
            "Nepal"
           ],
           "legendgroup": "Nepal",
           "marker": {
            "color": "#19d3f3",
            "size": [
             507
            ],
            "sizemode": "area",
            "sizeref": 689.4161983471074,
            "symbol": "circle"
           },
           "mode": "markers",
           "name": "Nepal",
           "orientation": "v",
           "showlegend": true,
           "type": "scatter",
           "x": [
            507
           ],
           "xaxis": "x",
           "y": [
            3
           ],
           "yaxis": "y"
          },
          {
           "hovertemplate": "<b>%{hovertext}</b><br><br>Country=Sri Lanka<br>Year=2016<br>No. of cases=%{marker.size}<br>No. of deaths=%{y}<extra></extra>",
           "hovertext": [
            "Sri Lanka"
           ],
           "ids": [
            "Sri Lanka"
           ],
           "legendgroup": "Sri Lanka",
           "marker": {
            "color": "#FF6692",
            "size": [
             0
            ],
            "sizemode": "area",
            "sizeref": 689.4161983471074,
            "symbol": "circle"
           },
           "mode": "markers",
           "name": "Sri Lanka",
           "orientation": "v",
           "showlegend": true,
           "type": "scatter",
           "x": [
            0
           ],
           "xaxis": "x",
           "y": [
            0
           ],
           "yaxis": "y"
          },
          {
           "hovertemplate": "<b>%{hovertext}</b><br><br>Country=Thailand<br>Year=2016<br>No. of cases=%{marker.size}<br>No. of deaths=%{y}<extra></extra>",
           "hovertext": [
            "Thailand"
           ],
           "ids": [
            "Thailand"
           ],
           "legendgroup": "Thailand",
           "marker": {
            "color": "#B6E880",
            "size": [
             11522
            ],
            "sizemode": "area",
            "sizeref": 689.4161983471074,
            "symbol": "circle"
           },
           "mode": "markers",
           "name": "Thailand",
           "orientation": "v",
           "showlegend": true,
           "type": "scatter",
           "x": [
            11522
           ],
           "xaxis": "x",
           "y": [
            27
           ],
           "yaxis": "y"
          },
          {
           "hovertemplate": "<b>%{hovertext}</b><br><br>Country=Timor-Leste<br>Year=2016<br>No. of cases=%{marker.size}<br>No. of deaths=%{y}<extra></extra>",
           "hovertext": [
            "Timor-Leste"
           ],
           "ids": [
            "Timor-Leste"
           ],
           "legendgroup": "Timor-Leste",
           "marker": {
            "color": "#FF97FF",
            "size": [
             94
            ],
            "sizemode": "area",
            "sizeref": 689.4161983471074,
            "symbol": "circle"
           },
           "mode": "markers",
           "name": "Timor-Leste",
           "orientation": "v",
           "showlegend": true,
           "type": "scatter",
           "x": [
            94
           ],
           "xaxis": "x",
           "y": [
            0
           ],
           "yaxis": "y"
          }
         ],
         "name": "2016"
        }
       ],
       "layout": {
        "legend": {
         "itemsizing": "constant",
         "title": {
          "text": "Country"
         },
         "tracegroupgap": 0
        },
        "margin": {
         "t": 60
        },
        "sliders": [
         {
          "active": 0,
          "currentvalue": {
           "prefix": "Year="
          },
          "len": 0.9,
          "pad": {
           "b": 10,
           "t": 60
          },
          "steps": [
           {
            "args": [
             [
              "2017"
             ],
             {
              "frame": {
               "duration": 0,
               "redraw": false
              },
              "fromcurrent": true,
              "mode": "immediate",
              "transition": {
               "duration": 0,
               "easing": "linear"
              }
             }
            ],
            "label": "2017",
            "method": "animate"
           },
           {
            "args": [
             [
              "2002"
             ],
             {
              "frame": {
               "duration": 0,
               "redraw": false
              },
              "fromcurrent": true,
              "mode": "immediate",
              "transition": {
               "duration": 0,
               "easing": "linear"
              }
             }
            ],
            "label": "2002",
            "method": "animate"
           },
           {
            "args": [
             [
              "2003"
             ],
             {
              "frame": {
               "duration": 0,
               "redraw": false
              },
              "fromcurrent": true,
              "mode": "immediate",
              "transition": {
               "duration": 0,
               "easing": "linear"
              }
             }
            ],
            "label": "2003",
            "method": "animate"
           },
           {
            "args": [
             [
              "2004"
             ],
             {
              "frame": {
               "duration": 0,
               "redraw": false
              },
              "fromcurrent": true,
              "mode": "immediate",
              "transition": {
               "duration": 0,
               "easing": "linear"
              }
             }
            ],
            "label": "2004",
            "method": "animate"
           },
           {
            "args": [
             [
              "2005"
             ],
             {
              "frame": {
               "duration": 0,
               "redraw": false
              },
              "fromcurrent": true,
              "mode": "immediate",
              "transition": {
               "duration": 0,
               "easing": "linear"
              }
             }
            ],
            "label": "2005",
            "method": "animate"
           },
           {
            "args": [
             [
              "2006"
             ],
             {
              "frame": {
               "duration": 0,
               "redraw": false
              },
              "fromcurrent": true,
              "mode": "immediate",
              "transition": {
               "duration": 0,
               "easing": "linear"
              }
             }
            ],
            "label": "2006",
            "method": "animate"
           },
           {
            "args": [
             [
              "2007"
             ],
             {
              "frame": {
               "duration": 0,
               "redraw": false
              },
              "fromcurrent": true,
              "mode": "immediate",
              "transition": {
               "duration": 0,
               "easing": "linear"
              }
             }
            ],
            "label": "2007",
            "method": "animate"
           },
           {
            "args": [
             [
              "2008"
             ],
             {
              "frame": {
               "duration": 0,
               "redraw": false
              },
              "fromcurrent": true,
              "mode": "immediate",
              "transition": {
               "duration": 0,
               "easing": "linear"
              }
             }
            ],
            "label": "2008",
            "method": "animate"
           },
           {
            "args": [
             [
              "2010"
             ],
             {
              "frame": {
               "duration": 0,
               "redraw": false
              },
              "fromcurrent": true,
              "mode": "immediate",
              "transition": {
               "duration": 0,
               "easing": "linear"
              }
             }
            ],
            "label": "2010",
            "method": "animate"
           },
           {
            "args": [
             [
              "2000"
             ],
             {
              "frame": {
               "duration": 0,
               "redraw": false
              },
              "fromcurrent": true,
              "mode": "immediate",
              "transition": {
               "duration": 0,
               "easing": "linear"
              }
             }
            ],
            "label": "2000",
            "method": "animate"
           },
           {
            "args": [
             [
              "2011"
             ],
             {
              "frame": {
               "duration": 0,
               "redraw": false
              },
              "fromcurrent": true,
              "mode": "immediate",
              "transition": {
               "duration": 0,
               "easing": "linear"
              }
             }
            ],
            "label": "2011",
            "method": "animate"
           },
           {
            "args": [
             [
              "2012"
             ],
             {
              "frame": {
               "duration": 0,
               "redraw": false
              },
              "fromcurrent": true,
              "mode": "immediate",
              "transition": {
               "duration": 0,
               "easing": "linear"
              }
             }
            ],
            "label": "2012",
            "method": "animate"
           },
           {
            "args": [
             [
              "2013"
             ],
             {
              "frame": {
               "duration": 0,
               "redraw": false
              },
              "fromcurrent": true,
              "mode": "immediate",
              "transition": {
               "duration": 0,
               "easing": "linear"
              }
             }
            ],
            "label": "2013",
            "method": "animate"
           },
           {
            "args": [
             [
              "2014"
             ],
             {
              "frame": {
               "duration": 0,
               "redraw": false
              },
              "fromcurrent": true,
              "mode": "immediate",
              "transition": {
               "duration": 0,
               "easing": "linear"
              }
             }
            ],
            "label": "2014",
            "method": "animate"
           },
           {
            "args": [
             [
              "2015"
             ],
             {
              "frame": {
               "duration": 0,
               "redraw": false
              },
              "fromcurrent": true,
              "mode": "immediate",
              "transition": {
               "duration": 0,
               "easing": "linear"
              }
             }
            ],
            "label": "2015",
            "method": "animate"
           },
           {
            "args": [
             [
              "2009"
             ],
             {
              "frame": {
               "duration": 0,
               "redraw": false
              },
              "fromcurrent": true,
              "mode": "immediate",
              "transition": {
               "duration": 0,
               "easing": "linear"
              }
             }
            ],
            "label": "2009",
            "method": "animate"
           },
           {
            "args": [
             [
              "2001"
             ],
             {
              "frame": {
               "duration": 0,
               "redraw": false
              },
              "fromcurrent": true,
              "mode": "immediate",
              "transition": {
               "duration": 0,
               "easing": "linear"
              }
             }
            ],
            "label": "2001",
            "method": "animate"
           },
           {
            "args": [
             [
              "2016"
             ],
             {
              "frame": {
               "duration": 0,
               "redraw": false
              },
              "fromcurrent": true,
              "mode": "immediate",
              "transition": {
               "duration": 0,
               "easing": "linear"
              }
             }
            ],
            "label": "2016",
            "method": "animate"
           }
          ],
          "x": 0.1,
          "xanchor": "left",
          "y": 0,
          "yanchor": "top"
         }
        ],
        "template": {
         "data": {
          "bar": [
           {
            "error_x": {
             "color": "#2a3f5f"
            },
            "error_y": {
             "color": "#2a3f5f"
            },
            "marker": {
             "line": {
              "color": "#E5ECF6",
              "width": 0.5
             },
             "pattern": {
              "fillmode": "overlay",
              "size": 10,
              "solidity": 0.2
             }
            },
            "type": "bar"
           }
          ],
          "barpolar": [
           {
            "marker": {
             "line": {
              "color": "#E5ECF6",
              "width": 0.5
             },
             "pattern": {
              "fillmode": "overlay",
              "size": 10,
              "solidity": 0.2
             }
            },
            "type": "barpolar"
           }
          ],
          "carpet": [
           {
            "aaxis": {
             "endlinecolor": "#2a3f5f",
             "gridcolor": "white",
             "linecolor": "white",
             "minorgridcolor": "white",
             "startlinecolor": "#2a3f5f"
            },
            "baxis": {
             "endlinecolor": "#2a3f5f",
             "gridcolor": "white",
             "linecolor": "white",
             "minorgridcolor": "white",
             "startlinecolor": "#2a3f5f"
            },
            "type": "carpet"
           }
          ],
          "choropleth": [
           {
            "colorbar": {
             "outlinewidth": 0,
             "ticks": ""
            },
            "type": "choropleth"
           }
          ],
          "contour": [
           {
            "colorbar": {
             "outlinewidth": 0,
             "ticks": ""
            },
            "colorscale": [
             [
              0,
              "#0d0887"
             ],
             [
              0.1111111111111111,
              "#46039f"
             ],
             [
              0.2222222222222222,
              "#7201a8"
             ],
             [
              0.3333333333333333,
              "#9c179e"
             ],
             [
              0.4444444444444444,
              "#bd3786"
             ],
             [
              0.5555555555555556,
              "#d8576b"
             ],
             [
              0.6666666666666666,
              "#ed7953"
             ],
             [
              0.7777777777777778,
              "#fb9f3a"
             ],
             [
              0.8888888888888888,
              "#fdca26"
             ],
             [
              1,
              "#f0f921"
             ]
            ],
            "type": "contour"
           }
          ],
          "contourcarpet": [
           {
            "colorbar": {
             "outlinewidth": 0,
             "ticks": ""
            },
            "type": "contourcarpet"
           }
          ],
          "heatmap": [
           {
            "colorbar": {
             "outlinewidth": 0,
             "ticks": ""
            },
            "colorscale": [
             [
              0,
              "#0d0887"
             ],
             [
              0.1111111111111111,
              "#46039f"
             ],
             [
              0.2222222222222222,
              "#7201a8"
             ],
             [
              0.3333333333333333,
              "#9c179e"
             ],
             [
              0.4444444444444444,
              "#bd3786"
             ],
             [
              0.5555555555555556,
              "#d8576b"
             ],
             [
              0.6666666666666666,
              "#ed7953"
             ],
             [
              0.7777777777777778,
              "#fb9f3a"
             ],
             [
              0.8888888888888888,
              "#fdca26"
             ],
             [
              1,
              "#f0f921"
             ]
            ],
            "type": "heatmap"
           }
          ],
          "heatmapgl": [
           {
            "colorbar": {
             "outlinewidth": 0,
             "ticks": ""
            },
            "colorscale": [
             [
              0,
              "#0d0887"
             ],
             [
              0.1111111111111111,
              "#46039f"
             ],
             [
              0.2222222222222222,
              "#7201a8"
             ],
             [
              0.3333333333333333,
              "#9c179e"
             ],
             [
              0.4444444444444444,
              "#bd3786"
             ],
             [
              0.5555555555555556,
              "#d8576b"
             ],
             [
              0.6666666666666666,
              "#ed7953"
             ],
             [
              0.7777777777777778,
              "#fb9f3a"
             ],
             [
              0.8888888888888888,
              "#fdca26"
             ],
             [
              1,
              "#f0f921"
             ]
            ],
            "type": "heatmapgl"
           }
          ],
          "histogram": [
           {
            "marker": {
             "pattern": {
              "fillmode": "overlay",
              "size": 10,
              "solidity": 0.2
             }
            },
            "type": "histogram"
           }
          ],
          "histogram2d": [
           {
            "colorbar": {
             "outlinewidth": 0,
             "ticks": ""
            },
            "colorscale": [
             [
              0,
              "#0d0887"
             ],
             [
              0.1111111111111111,
              "#46039f"
             ],
             [
              0.2222222222222222,
              "#7201a8"
             ],
             [
              0.3333333333333333,
              "#9c179e"
             ],
             [
              0.4444444444444444,
              "#bd3786"
             ],
             [
              0.5555555555555556,
              "#d8576b"
             ],
             [
              0.6666666666666666,
              "#ed7953"
             ],
             [
              0.7777777777777778,
              "#fb9f3a"
             ],
             [
              0.8888888888888888,
              "#fdca26"
             ],
             [
              1,
              "#f0f921"
             ]
            ],
            "type": "histogram2d"
           }
          ],
          "histogram2dcontour": [
           {
            "colorbar": {
             "outlinewidth": 0,
             "ticks": ""
            },
            "colorscale": [
             [
              0,
              "#0d0887"
             ],
             [
              0.1111111111111111,
              "#46039f"
             ],
             [
              0.2222222222222222,
              "#7201a8"
             ],
             [
              0.3333333333333333,
              "#9c179e"
             ],
             [
              0.4444444444444444,
              "#bd3786"
             ],
             [
              0.5555555555555556,
              "#d8576b"
             ],
             [
              0.6666666666666666,
              "#ed7953"
             ],
             [
              0.7777777777777778,
              "#fb9f3a"
             ],
             [
              0.8888888888888888,
              "#fdca26"
             ],
             [
              1,
              "#f0f921"
             ]
            ],
            "type": "histogram2dcontour"
           }
          ],
          "mesh3d": [
           {
            "colorbar": {
             "outlinewidth": 0,
             "ticks": ""
            },
            "type": "mesh3d"
           }
          ],
          "parcoords": [
           {
            "line": {
             "colorbar": {
              "outlinewidth": 0,
              "ticks": ""
             }
            },
            "type": "parcoords"
           }
          ],
          "pie": [
           {
            "automargin": true,
            "type": "pie"
           }
          ],
          "scatter": [
           {
            "fillpattern": {
             "fillmode": "overlay",
             "size": 10,
             "solidity": 0.2
            },
            "type": "scatter"
           }
          ],
          "scatter3d": [
           {
            "line": {
             "colorbar": {
              "outlinewidth": 0,
              "ticks": ""
             }
            },
            "marker": {
             "colorbar": {
              "outlinewidth": 0,
              "ticks": ""
             }
            },
            "type": "scatter3d"
           }
          ],
          "scattercarpet": [
           {
            "marker": {
             "colorbar": {
              "outlinewidth": 0,
              "ticks": ""
             }
            },
            "type": "scattercarpet"
           }
          ],
          "scattergeo": [
           {
            "marker": {
             "colorbar": {
              "outlinewidth": 0,
              "ticks": ""
             }
            },
            "type": "scattergeo"
           }
          ],
          "scattergl": [
           {
            "marker": {
             "colorbar": {
              "outlinewidth": 0,
              "ticks": ""
             }
            },
            "type": "scattergl"
           }
          ],
          "scattermapbox": [
           {
            "marker": {
             "colorbar": {
              "outlinewidth": 0,
              "ticks": ""
             }
            },
            "type": "scattermapbox"
           }
          ],
          "scatterpolar": [
           {
            "marker": {
             "colorbar": {
              "outlinewidth": 0,
              "ticks": ""
             }
            },
            "type": "scatterpolar"
           }
          ],
          "scatterpolargl": [
           {
            "marker": {
             "colorbar": {
              "outlinewidth": 0,
              "ticks": ""
             }
            },
            "type": "scatterpolargl"
           }
          ],
          "scatterternary": [
           {
            "marker": {
             "colorbar": {
              "outlinewidth": 0,
              "ticks": ""
             }
            },
            "type": "scatterternary"
           }
          ],
          "surface": [
           {
            "colorbar": {
             "outlinewidth": 0,
             "ticks": ""
            },
            "colorscale": [
             [
              0,
              "#0d0887"
             ],
             [
              0.1111111111111111,
              "#46039f"
             ],
             [
              0.2222222222222222,
              "#7201a8"
             ],
             [
              0.3333333333333333,
              "#9c179e"
             ],
             [
              0.4444444444444444,
              "#bd3786"
             ],
             [
              0.5555555555555556,
              "#d8576b"
             ],
             [
              0.6666666666666666,
              "#ed7953"
             ],
             [
              0.7777777777777778,
              "#fb9f3a"
             ],
             [
              0.8888888888888888,
              "#fdca26"
             ],
             [
              1,
              "#f0f921"
             ]
            ],
            "type": "surface"
           }
          ],
          "table": [
           {
            "cells": {
             "fill": {
              "color": "#EBF0F8"
             },
             "line": {
              "color": "white"
             }
            },
            "header": {
             "fill": {
              "color": "#C8D4E3"
             },
             "line": {
              "color": "white"
             }
            },
            "type": "table"
           }
          ]
         },
         "layout": {
          "annotationdefaults": {
           "arrowcolor": "#2a3f5f",
           "arrowhead": 0,
           "arrowwidth": 1
          },
          "autotypenumbers": "strict",
          "coloraxis": {
           "colorbar": {
            "outlinewidth": 0,
            "ticks": ""
           }
          },
          "colorscale": {
           "diverging": [
            [
             0,
             "#8e0152"
            ],
            [
             0.1,
             "#c51b7d"
            ],
            [
             0.2,
             "#de77ae"
            ],
            [
             0.3,
             "#f1b6da"
            ],
            [
             0.4,
             "#fde0ef"
            ],
            [
             0.5,
             "#f7f7f7"
            ],
            [
             0.6,
             "#e6f5d0"
            ],
            [
             0.7,
             "#b8e186"
            ],
            [
             0.8,
             "#7fbc41"
            ],
            [
             0.9,
             "#4d9221"
            ],
            [
             1,
             "#276419"
            ]
           ],
           "sequential": [
            [
             0,
             "#0d0887"
            ],
            [
             0.1111111111111111,
             "#46039f"
            ],
            [
             0.2222222222222222,
             "#7201a8"
            ],
            [
             0.3333333333333333,
             "#9c179e"
            ],
            [
             0.4444444444444444,
             "#bd3786"
            ],
            [
             0.5555555555555556,
             "#d8576b"
            ],
            [
             0.6666666666666666,
             "#ed7953"
            ],
            [
             0.7777777777777778,
             "#fb9f3a"
            ],
            [
             0.8888888888888888,
             "#fdca26"
            ],
            [
             1,
             "#f0f921"
            ]
           ],
           "sequentialminus": [
            [
             0,
             "#0d0887"
            ],
            [
             0.1111111111111111,
             "#46039f"
            ],
            [
             0.2222222222222222,
             "#7201a8"
            ],
            [
             0.3333333333333333,
             "#9c179e"
            ],
            [
             0.4444444444444444,
             "#bd3786"
            ],
            [
             0.5555555555555556,
             "#d8576b"
            ],
            [
             0.6666666666666666,
             "#ed7953"
            ],
            [
             0.7777777777777778,
             "#fb9f3a"
            ],
            [
             0.8888888888888888,
             "#fdca26"
            ],
            [
             1,
             "#f0f921"
            ]
           ]
          },
          "colorway": [
           "#636efa",
           "#EF553B",
           "#00cc96",
           "#ab63fa",
           "#FFA15A",
           "#19d3f3",
           "#FF6692",
           "#B6E880",
           "#FF97FF",
           "#FECB52"
          ],
          "font": {
           "color": "#2a3f5f"
          },
          "geo": {
           "bgcolor": "white",
           "lakecolor": "white",
           "landcolor": "#E5ECF6",
           "showlakes": true,
           "showland": true,
           "subunitcolor": "white"
          },
          "hoverlabel": {
           "align": "left"
          },
          "hovermode": "closest",
          "mapbox": {
           "style": "light"
          },
          "paper_bgcolor": "white",
          "plot_bgcolor": "#E5ECF6",
          "polar": {
           "angularaxis": {
            "gridcolor": "white",
            "linecolor": "white",
            "ticks": ""
           },
           "bgcolor": "#E5ECF6",
           "radialaxis": {
            "gridcolor": "white",
            "linecolor": "white",
            "ticks": ""
           }
          },
          "scene": {
           "xaxis": {
            "backgroundcolor": "#E5ECF6",
            "gridcolor": "white",
            "gridwidth": 2,
            "linecolor": "white",
            "showbackground": true,
            "ticks": "",
            "zerolinecolor": "white"
           },
           "yaxis": {
            "backgroundcolor": "#E5ECF6",
            "gridcolor": "white",
            "gridwidth": 2,
            "linecolor": "white",
            "showbackground": true,
            "ticks": "",
            "zerolinecolor": "white"
           },
           "zaxis": {
            "backgroundcolor": "#E5ECF6",
            "gridcolor": "white",
            "gridwidth": 2,
            "linecolor": "white",
            "showbackground": true,
            "ticks": "",
            "zerolinecolor": "white"
           }
          },
          "shapedefaults": {
           "line": {
            "color": "#2a3f5f"
           }
          },
          "ternary": {
           "aaxis": {
            "gridcolor": "white",
            "linecolor": "white",
            "ticks": ""
           },
           "baxis": {
            "gridcolor": "white",
            "linecolor": "white",
            "ticks": ""
           },
           "bgcolor": "#E5ECF6",
           "caxis": {
            "gridcolor": "white",
            "linecolor": "white",
            "ticks": ""
           }
          },
          "title": {
           "x": 0.05
          },
          "xaxis": {
           "automargin": true,
           "gridcolor": "white",
           "linecolor": "white",
           "ticks": "",
           "title": {
            "standoff": 15
           },
           "zerolinecolor": "white",
           "zerolinewidth": 2
          },
          "yaxis": {
           "automargin": true,
           "gridcolor": "white",
           "linecolor": "white",
           "ticks": "",
           "title": {
            "standoff": 15
           },
           "zerolinecolor": "white",
           "zerolinewidth": 2
          }
         }
        },
        "updatemenus": [
         {
          "buttons": [
           {
            "args": [
             null,
             {
              "frame": {
               "duration": 500,
               "redraw": false
              },
              "fromcurrent": true,
              "mode": "immediate",
              "transition": {
               "duration": 500,
               "easing": "linear"
              }
             }
            ],
            "label": "&#9654;",
            "method": "animate"
           },
           {
            "args": [
             [
              null
             ],
             {
              "frame": {
               "duration": 0,
               "redraw": false
              },
              "fromcurrent": true,
              "mode": "immediate",
              "transition": {
               "duration": 0,
               "easing": "linear"
              }
             }
            ],
            "label": "&#9724;",
            "method": "animate"
           }
          ],
          "direction": "left",
          "pad": {
           "r": 10,
           "t": 70
          },
          "showactive": false,
          "type": "buttons",
          "x": 0.1,
          "xanchor": "right",
          "y": 0,
          "yanchor": "top"
         }
        ],
        "xaxis": {
         "anchor": "y",
         "domain": [
          0,
          1
         ],
         "range": [
          2,
          5
         ],
         "title": {
          "text": "No. of cases"
         },
         "type": "log"
        },
        "yaxis": {
         "anchor": "x",
         "domain": [
          0,
          1
         ],
         "range": [
          25,
          90
         ],
         "title": {
          "text": "No. of deaths"
         }
        }
       }
      }
     },
     "metadata": {},
     "output_type": "display_data"
    }
   ],
   "source": [
    "import plotly.express as px\n",
    "px.scatter(df1, x=\"No. of cases\", y=\"No. of deaths\", animation_frame=\"Year\", animation_group=\"Country\",\n",
    "           size=\"No. of cases\", color=\"Country\", hover_name=\"Country\",\n",
    "           log_x=True, size_max=55, range_x=[100,100000], range_y=[25,90])"
   ]
  },
  {
   "cell_type": "code",
   "execution_count": 16,
   "metadata": {},
   "outputs": [
    {
     "data": {
      "text/html": [
       "<div>\n",
       "<style scoped>\n",
       "    .dataframe tbody tr th:only-of-type {\n",
       "        vertical-align: middle;\n",
       "    }\n",
       "\n",
       "    .dataframe tbody tr th {\n",
       "        vertical-align: top;\n",
       "    }\n",
       "\n",
       "    .dataframe thead th {\n",
       "        text-align: right;\n",
       "    }\n",
       "</style>\n",
       "<table border=\"1\" class=\"dataframe\">\n",
       "  <thead>\n",
       "    <tr style=\"text-align: right;\">\n",
       "      <th></th>\n",
       "      <th>Country</th>\n",
       "      <th>Year</th>\n",
       "      <th>No. of cases</th>\n",
       "      <th>No. of deaths</th>\n",
       "      <th>WHO Region</th>\n",
       "    </tr>\n",
       "  </thead>\n",
       "  <tbody>\n",
       "    <tr>\n",
       "      <th>0</th>\n",
       "      <td>Afghanistan</td>\n",
       "      <td>2017</td>\n",
       "      <td>161778.0</td>\n",
       "      <td>10.0</td>\n",
       "      <td>Eastern Mediterranean</td>\n",
       "    </tr>\n",
       "    <tr>\n",
       "      <th>1</th>\n",
       "      <td>Algeria</td>\n",
       "      <td>2017</td>\n",
       "      <td>0.0</td>\n",
       "      <td>0.0</td>\n",
       "      <td>Africa</td>\n",
       "    </tr>\n",
       "    <tr>\n",
       "      <th>2</th>\n",
       "      <td>Angola</td>\n",
       "      <td>2017</td>\n",
       "      <td>3874892.0</td>\n",
       "      <td>13967.0</td>\n",
       "      <td>Africa</td>\n",
       "    </tr>\n",
       "    <tr>\n",
       "      <th>3</th>\n",
       "      <td>Argentina</td>\n",
       "      <td>2017</td>\n",
       "      <td>0.0</td>\n",
       "      <td>1.0</td>\n",
       "      <td>Americas</td>\n",
       "    </tr>\n",
       "    <tr>\n",
       "      <th>4</th>\n",
       "      <td>Armenia</td>\n",
       "      <td>2017</td>\n",
       "      <td>0.0</td>\n",
       "      <td>30.0</td>\n",
       "      <td>Europe</td>\n",
       "    </tr>\n",
       "    <tr>\n",
       "      <th>...</th>\n",
       "      <td>...</td>\n",
       "      <td>...</td>\n",
       "      <td>...</td>\n",
       "      <td>...</td>\n",
       "      <td>...</td>\n",
       "    </tr>\n",
       "    <tr>\n",
       "      <th>1939</th>\n",
       "      <td>Venezuela (Bolivarian Republic of)</td>\n",
       "      <td>2000</td>\n",
       "      <td>29736.0</td>\n",
       "      <td>24.0</td>\n",
       "      <td>Americas</td>\n",
       "    </tr>\n",
       "    <tr>\n",
       "      <th>1940</th>\n",
       "      <td>Viet Nam</td>\n",
       "      <td>2000</td>\n",
       "      <td>74316.0</td>\n",
       "      <td>142.0</td>\n",
       "      <td>Western Pacific</td>\n",
       "    </tr>\n",
       "    <tr>\n",
       "      <th>1941</th>\n",
       "      <td>Yemen</td>\n",
       "      <td>2000</td>\n",
       "      <td>1394495.0</td>\n",
       "      <td>30.0</td>\n",
       "      <td>Eastern Mediterranean</td>\n",
       "    </tr>\n",
       "    <tr>\n",
       "      <th>1942</th>\n",
       "      <td>Zambia</td>\n",
       "      <td>2000</td>\n",
       "      <td>14792.0</td>\n",
       "      <td>30.0</td>\n",
       "      <td>Africa</td>\n",
       "    </tr>\n",
       "    <tr>\n",
       "      <th>1943</th>\n",
       "      <td>Zimbabwe</td>\n",
       "      <td>2000</td>\n",
       "      <td>14792.0</td>\n",
       "      <td>30.0</td>\n",
       "      <td>Africa</td>\n",
       "    </tr>\n",
       "  </tbody>\n",
       "</table>\n",
       "<p>1944 rows × 5 columns</p>\n",
       "</div>"
      ],
      "text/plain": [
       "                                 Country  Year  No. of cases  No. of deaths  \\\n",
       "0                            Afghanistan  2017      161778.0           10.0   \n",
       "1                                Algeria  2017           0.0            0.0   \n",
       "2                                 Angola  2017     3874892.0        13967.0   \n",
       "3                              Argentina  2017           0.0            1.0   \n",
       "4                                Armenia  2017           0.0           30.0   \n",
       "...                                  ...   ...           ...            ...   \n",
       "1939  Venezuela (Bolivarian Republic of)  2000       29736.0           24.0   \n",
       "1940                            Viet Nam  2000       74316.0          142.0   \n",
       "1941                               Yemen  2000     1394495.0           30.0   \n",
       "1942                              Zambia  2000       14792.0           30.0   \n",
       "1943                            Zimbabwe  2000       14792.0           30.0   \n",
       "\n",
       "                 WHO Region  \n",
       "0     Eastern Mediterranean  \n",
       "1                    Africa  \n",
       "2                    Africa  \n",
       "3                  Americas  \n",
       "4                    Europe  \n",
       "...                     ...  \n",
       "1939               Americas  \n",
       "1940        Western Pacific  \n",
       "1941  Eastern Mediterranean  \n",
       "1942                 Africa  \n",
       "1943                 Africa  \n",
       "\n",
       "[1944 rows x 5 columns]"
      ]
     },
     "execution_count": 16,
     "metadata": {},
     "output_type": "execute_result"
    }
   ],
   "source": [
    "df"
   ]
  },
  {
   "cell_type": "code",
   "execution_count": 29,
   "metadata": {},
   "outputs": [
    {
     "data": {
      "text/plain": [
       "array([['Afghanistan'],\n",
       "       ['Algeria'],\n",
       "       ['Angola'],\n",
       "       ['Argentina'],\n",
       "       ['Armenia'],\n",
       "       ['Azerbaijan'],\n",
       "       ['Bangladesh'],\n",
       "       ['Belize'],\n",
       "       ['Benin'],\n",
       "       ['Bhutan']], dtype=object)"
      ]
     },
     "execution_count": 29,
     "metadata": {},
     "output_type": "execute_result"
    }
   ],
   "source": [
    "val1 = df[['Country']].values[0:10]\n",
    "val1"
   ]
  },
  {
   "cell_type": "code",
   "execution_count": null,
   "metadata": {},
   "outputs": [],
   "source": []
  }
 ],
 "metadata": {
  "kernelspec": {
   "display_name": "Python 3.10.7 64-bit",
   "language": "python",
   "name": "python3"
  },
  "language_info": {
   "codemirror_mode": {
    "name": "ipython",
    "version": 3
   },
   "file_extension": ".py",
   "mimetype": "text/x-python",
   "name": "python",
   "nbconvert_exporter": "python",
   "pygments_lexer": "ipython3",
   "version": "3.10.7"
  },
  "orig_nbformat": 4,
  "vscode": {
   "interpreter": {
    "hash": "aee8b7b246df8f9039afb4144a1f6fd8d2ca17a180786b69acc140d282b71a49"
   }
  }
 },
 "nbformat": 4,
 "nbformat_minor": 2
}
